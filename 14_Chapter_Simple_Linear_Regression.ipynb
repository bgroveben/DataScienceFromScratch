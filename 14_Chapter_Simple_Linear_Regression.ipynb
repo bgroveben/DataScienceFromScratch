{
 "cells": [
  {
   "cell_type": "markdown",
   "metadata": {},
   "source": [
    "# Chapter 14. Simple Linear Regression"
   ]
  },
  {
   "cell_type": "code",
   "execution_count": 2,
   "metadata": {
    "collapsed": true
   },
   "outputs": [],
   "source": [
    "from __future__ import division\n",
    "from collections import Counter, defaultdict\n",
    "from linear_algebra import vector_subtract\n",
    "from statistics import mean, correlation, standard_deviation, de_mean\n",
    "from gradient_descent import minimize_stochastic\n",
    "import math, random"
   ]
  },
  {
   "cell_type": "markdown",
   "metadata": {},
   "source": [
    "In Chapter 5, we used the `correlation()` function to measure the strength of the linear relationship between two variables.  \n",
    "For most applications, knowing that such a linear relationship exists isn't enough.  \n",
    "We'll want to be able to understand the nature of the relationship.  \n",
    "This is where we'll use [simple linear regression](https://en.wikipedia.org/wiki/Simple_linear_regression)."
   ]
  },
  {
   "cell_type": "markdown",
   "metadata": {},
   "source": [
    "## The Model"
   ]
  },
  {
   "cell_type": "code",
   "execution_count": null,
   "metadata": {
    "collapsed": true
   },
   "outputs": [],
   "source": []
  }
 ],
 "metadata": {
  "kernelspec": {
   "display_name": "Python 2",
   "language": "python",
   "name": "python2"
  },
  "language_info": {
   "codemirror_mode": {
    "name": "ipython",
    "version": 2
   },
   "file_extension": ".py",
   "mimetype": "text/x-python",
   "name": "python",
   "nbconvert_exporter": "python",
   "pygments_lexer": "ipython2",
   "version": "2.7.12"
  }
 },
 "nbformat": 4,
 "nbformat_minor": 1
}
