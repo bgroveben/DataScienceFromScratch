{
 "cells": [
  {
   "cell_type": "markdown",
   "metadata": {},
   "source": [
    "# Chapter 11. Machine Learning"
   ]
  },
  {
   "cell_type": "markdown",
   "metadata": {},
   "source": [
    "## Modeling"
   ]
  },
  {
   "cell_type": "markdown",
   "metadata": {},
   "source": [
    "A model is a specification of a mathematical or probabilistic relationship that exists between different variables."
   ]
  },
  {
   "cell_type": "markdown",
   "metadata": {},
   "source": [
    "## What is Machine Learning?"
   ]
  },
  {
   "cell_type": "markdown",
   "metadata": {
    "collapsed": true
   },
   "source": [
    "This book defines [machine learning](https://en.wikipedia.org/wiki/Machine_learning) as creating and using models that are learned from data, which in other contexts might be referred to as [predictive modeling](https://en.wikipedia.org/wiki/Predictive_modelling) or [data mining](https://en.wikipedia.org/wiki/Data_mining).  \n",
    "Typically, our goal will be to use existing data to develop models that we can use to predict various outcomes for new (incoming) data, such as:  \n",
    "- Predicting whether an email message is spam or not.\n",
    "- Predicting whether a credit card transaction is fraudulent or not.\n",
    "- Predicting which advertisement a shopper is most likely to click on.\n",
    "- Predicting which football team is going to win the Super Bowl."
   ]
  },
  {
   "cell_type": "markdown",
   "metadata": {},
   "source": [
    "We will be looking at:  \n",
    "- Supervised Models in which there is a set of data labeled with the correct answers to learn from.\n",
    "- Unsupervised Models in which there are no such labels.  \n",
    "There are other types of machine learning, such as semisupervised and reinforcement, that will not be covered here.  \n",
    "There are many different machine learning models that might describe the particular problem we're trying to solve or relationship we're trying to find.  \n",
    "Throughout the rest of this book we'll be investigating different families of models that we can learn, so let's begin by better understanding the fundamentals of machine learning."
   ]
  },
  {
   "cell_type": "markdown",
   "metadata": {},
   "source": [
    "## Overfitting and Underfitting"
   ]
  },
  {
   "cell_type": "markdown",
   "metadata": {},
   "source": [
    "Overfitting happens when you create a model that performs well on the data you train it on but that generalizes poorly to new data.  \n",
    "Underfitting happens when you create a model that performs poorly on the training data as well."
   ]
  },
  {
   "cell_type": "code",
   "execution_count": null,
   "metadata": {
    "collapsed": true
   },
   "outputs": [],
   "source": []
  }
 ],
 "metadata": {
  "kernelspec": {
   "display_name": "Python 2",
   "language": "python",
   "name": "python2"
  },
  "language_info": {
   "codemirror_mode": {
    "name": "ipython",
    "version": 2
   },
   "file_extension": ".py",
   "mimetype": "text/x-python",
   "name": "python",
   "nbconvert_exporter": "python",
   "pygments_lexer": "ipython2",
   "version": "2.7.12"
  }
 },
 "nbformat": 4,
 "nbformat_minor": 1
}
