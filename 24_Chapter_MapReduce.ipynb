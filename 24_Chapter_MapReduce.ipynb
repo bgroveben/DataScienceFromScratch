{
 "cells": [
  {
   "cell_type": "markdown",
   "metadata": {},
   "source": [
    "# Chapter 24. MapReduce"
   ]
  },
  {
   "cell_type": "markdown",
   "metadata": {},
   "source": [
    "Note that MapReduce is designed to be used on very, very large datasets, so the examples here don't really show the best use cases or its true potential."
   ]
  },
  {
   "cell_type": "code",
   "execution_count": 90,
   "metadata": {
    "collapsed": true
   },
   "outputs": [],
   "source": [
    "from __future__ import division\n",
    "import math, random, re, datetime\n",
    "from collections import defaultdict, Counter\n",
    "from functools import partial\n",
    "from naive_bayes import tokenize"
   ]
  },
  {
   "cell_type": "markdown",
   "metadata": {},
   "source": [
    "[MapReduce](https://en.wikipedia.org/wiki/MapReduce) is a programming model for performing parallel processing on large data sets.  \n",
    "Imagine that we have a (very large) collection that we would like to process in some way.  \n",
    "For example, the items might be website logs, the texts of various books, image files, or anything else.  \n",
    "A basic version of the MapReduce algorithm consists of the following steps:\n",
    "1. Use a `mapper` function to turn each item into zero or more key-value pairs. This is often called the `map()` function, but Python already has a function called `map()`, and we don't want to confuse the two.\n",
    "2. Collect together all of the pairs with identical keys.\n",
    "3. Use a `reducer()` function on each collection of grouped values to produce output values for the corresponding key.  \n",
    "\n",
    "Let's examine this process more concretely using an example that involves counting words."
   ]
  },
  {
   "cell_type": "markdown",
   "metadata": {},
   "source": [
    "## Example: Word Count"
   ]
  },
  {
   "cell_type": "markdown",
   "metadata": {
    "collapsed": true
   },
   "source": [
    "DataSciencester has grown to millions to users!  \n",
    "This is great for your job security, but it makes routine analyses slightly more difficult.  \n",
    "For example, your VP of Content wants to know what sorts of things people are talking about in their status updates.  \n",
    "As a first attempt, you decide to count the words that appear, so that you can prepare a report on the most frequent ones.  \n",
    "When you only had a few hundred users this was simple to do:"
   ]
  },
  {
   "cell_type": "code",
   "execution_count": 91,
   "metadata": {
    "collapsed": true
   },
   "outputs": [],
   "source": [
    "def word_count_old(documents):\n",
    "    \"\"\" word count not using MapReduce \"\"\"\n",
    "    return Counter(word\n",
    "                   for document in documents\n",
    "                   for word in tokenize(document))"
   ]
  },
  {
   "cell_type": "code",
   "execution_count": 92,
   "metadata": {
    "collapsed": false
   },
   "outputs": [
    {
     "data": {
      "text/plain": [
       "Counter({'big': 1, 'data': 2, 'fiction': 1, 'science': 2})"
      ]
     },
     "execution_count": 92,
     "metadata": {},
     "output_type": "execute_result"
    }
   ],
   "source": [
    "documents = [\"data science\", \"big data\", \"science fiction\"]\n",
    "word_count_old(documents)"
   ]
  },
  {
   "cell_type": "markdown",
   "metadata": {},
   "source": [
    "With millions of users the set of `documents` (status updates) is now too big to fit on your computer.  \n",
    "If you can just fit this into the MapReduce model, you can use some \"big data\" infrastructure that your engineers have implemented.  \n",
    "First, we need a function that turns a document into a sequence of key-value pairs.  \n",
    "We'll want our output to be grouped by word, which means that the keys should be words.  \n",
    "For each word, we'll use the value 1 to indicate that this pair corresponds to one occurrence of the word:"
   ]
  },
  {
   "cell_type": "code",
   "execution_count": 93,
   "metadata": {
    "collapsed": false
   },
   "outputs": [
    {
     "data": {
      "text/plain": [
       "[('science', 1),\n",
       " ('data', 1),\n",
       " ('big', 1),\n",
       " ('data', 1),\n",
       " ('science', 1),\n",
       " ('fiction', 1)]"
      ]
     },
     "execution_count": 93,
     "metadata": {},
     "output_type": "execute_result"
    }
   ],
   "source": [
    "def wc_mapper(document):\n",
    "    \"\"\" for each word in the document, return (word,1) \"\"\"\n",
    "    for word in tokenize(document):\n",
    "        yield (word, 1)\n",
    "\n",
    "wc_mapper_results = [result\n",
    "                     for document in documents\n",
    "                     for result in wc_mapper(document)]\n",
    "\n",
    "wc_mapper_results"
   ]
  },
  {
   "cell_type": "markdown",
   "metadata": {},
   "source": [
    "Skipping the \"plumbing\" step 2 (collect together all the pairs with identical keys) for the moment, imagine that for some word we've collected a list of the corresponding counts we have emitted.  \n",
    "Then to produce the overall count for that word we can use:"
   ]
  },
  {
   "cell_type": "code",
   "execution_count": 94,
   "metadata": {
    "collapsed": true
   },
   "outputs": [],
   "source": [
    "def wc_reducer(word, counts):\n",
    "    \"\"\" sum up the counts for a word \"\"\"\n",
    "    yield (word, sum(counts))"
   ]
  },
  {
   "cell_type": "markdown",
   "metadata": {},
   "source": [
    "Now returning to step 2, we need to collect the results from `wc_mapper()` and feed them to `wc_reducer()`.  \n",
    "Let's think about how we can do this on just one computer:"
   ]
  },
  {
   "cell_type": "code",
   "execution_count": 95,
   "metadata": {
    "collapsed": true
   },
   "outputs": [],
   "source": [
    "def word_count(documents):\n",
    "    \"\"\" count the words in the input documents using MapReduce \"\"\"\n",
    "    # create a place to store the grouped values\n",
    "    collector = defaultdict(list)\n",
    "    \n",
    "    for document in documents:\n",
    "        for word, count in wc_mapper(document):\n",
    "            collector[word].append(count)\n",
    "       \n",
    "    return [output\n",
    "            for word, counts in collector.iteritems()\n",
    "            for output in wc_reducer(word, counts)]"
   ]
  },
  {
   "cell_type": "markdown",
   "metadata": {},
   "source": [
    "Now let's take our three documents:"
   ]
  },
  {
   "cell_type": "code",
   "execution_count": 96,
   "metadata": {
    "collapsed": true
   },
   "outputs": [],
   "source": [
    "documents = [\"data science\", \"big data\", \"science fiction\"]"
   ]
  },
  {
   "cell_type": "markdown",
   "metadata": {},
   "source": [
    "Then `wc_mapper` applied to the first document yields the two pairs `(\"data\", 1)` and `(\"science\", 1)`.  \n",
    "After we've gone through all three documents, the `collector` contains:"
   ]
  },
  {
   "cell_type": "raw",
   "metadata": {},
   "source": [
    "defaultdict(<type 'list'>, {'science': [1, 1], 'fiction': [1], 'data': [1, 1], 'big': [1]})"
   ]
  },
  {
   "cell_type": "markdown",
   "metadata": {},
   "source": [
    "Then `wc_reducer()` produces the count for each word:"
   ]
  },
  {
   "cell_type": "code",
   "execution_count": 97,
   "metadata": {
    "collapsed": false
   },
   "outputs": [
    {
     "data": {
      "text/plain": [
       "[('science', 2), ('fiction', 1), ('data', 2), ('big', 1)]"
      ]
     },
     "execution_count": 97,
     "metadata": {},
     "output_type": "execute_result"
    }
   ],
   "source": [
    "word_count(documents)"
   ]
  },
  {
   "cell_type": "markdown",
   "metadata": {},
   "source": [
    "## Why MapReduce?"
   ]
  },
  {
   "cell_type": "markdown",
   "metadata": {},
   "source": [
    "As mentioned earlier, the primary benefit of MapReduce is that it allows us to distribute computations by moving the processing to the data.  \n",
    "Imagine that we want to word-count across billions of documents.  \n",
    "Our original (non-MapReduce) approach requires the machine doing the processing to have access to every document.  \n",
    "This means that the documents all need to either live on that macine or else be transferred to it during processing.  \n",
    "More important, it means that the machine can only process one document at a time.  \n",
    "Granted, you can write code to use multiple processors, multiple cores on the processor, and so on, but the documents still have to get to that machine.  \n",
    "Now, imagine that our billions of documents are scattered across 100 machines.  \n",
    "With the right infrastructure (and glossing over some of the details), we can do the following:  \n",
    "- Have the machine run the mapper on its documents, producing lots of (key, value) pairs.\n",
    "- Distribute those (key, value) pairs to a number of \"reducing\" machines, making sure that the pairs corresponding to any given key all end up on the same machine.\n",
    "- Have each reducing machine group the pairs by key and then run the reduce on each set of values.\n",
    "- Return each (key, output) pair. "
   ]
  },
  {
   "cell_type": "markdown",
   "metadata": {},
   "source": [
    "What is amazing about this is that it scales horizontally.  \n",
    "If we double the number of machines, then (ignoring certain fixed costs of running a MapReduce system) our calculations will be executed approximately twice as fast.  \n",
    "Each mapper machine will only need to do half as much work, and (assuming that there are enough distinct keys to further distribute the reducer work) the same is true for the reducer machines."
   ]
  },
  {
   "cell_type": "markdown",
   "metadata": {},
   "source": [
    "## MapReduce More Generally"
   ]
  },
  {
   "cell_type": "markdown",
   "metadata": {},
   "source": [
    "If you think about it for a minute, all of the word-count-specific code in the previous example is contained in the `wc_mapper()` and `wc_reducer()` functions.  \n",
    "This means that with a couple of changes we have a much more general framework (that still runs on a single machine):"
   ]
  },
  {
   "cell_type": "code",
   "execution_count": 98,
   "metadata": {
    "collapsed": true
   },
   "outputs": [],
   "source": [
    "def map_reduce(inputs, mapper, reducer):\n",
    "    \"\"\" runs MapReduce on the inputs using mapper and reducer \"\"\"\n",
    "    \n",
    "    collector = defaultdict(list)\n",
    "    \n",
    "    for input in inputs:\n",
    "        for key, value in mapper(input):\n",
    "            collector[key].append(value)\n",
    "            \n",
    "    return [output\n",
    "            for key, values in collector.iteritems()\n",
    "            for output in reducer(key, values)]"
   ]
  },
  {
   "cell_type": "markdown",
   "metadata": {},
   "source": [
    "Now we can count words simply by using:"
   ]
  },
  {
   "cell_type": "code",
   "execution_count": 99,
   "metadata": {
    "collapsed": false
   },
   "outputs": [
    {
     "data": {
      "text/plain": [
       "[('science', 2), ('fiction', 1), ('data', 2), ('big', 1)]"
      ]
     },
     "execution_count": 99,
     "metadata": {},
     "output_type": "execute_result"
    }
   ],
   "source": [
    "word_counts = map_reduce(documents, wc_mapper, wc_reducer)\n",
    "word_counts"
   ]
  },
  {
   "cell_type": "markdown",
   "metadata": {},
   "source": [
    "This gives us the flexibility to solve a wide variety of problems."
   ]
  },
  {
   "cell_type": "markdown",
   "metadata": {},
   "source": [
    "Before we proceed, observe that `wc_reducer()` is just summing the values corresponding to each key.  \n",
    "This kind of aggregation is common enough that it's worth abstracting it out:"
   ]
  },
  {
   "cell_type": "code",
   "execution_count": 100,
   "metadata": {
    "collapsed": true
   },
   "outputs": [],
   "source": [
    "def reduce_values_using(aggregation_fn, key, values):\n",
    "    \"\"\" reduces a key-values pair by applying aggregation_fn to the values \"\"\"\n",
    "    yield (key, aggregation_fn(values))\n",
    "    \n",
    "def values_reducer(aggregation_fn):\n",
    "    \"\"\" turns a function (values -> ouput) into a reducer that maps (key, values) -> (key, output) \"\"\"\n",
    "    return partial(reduce_values_using, aggregation_fn)"
   ]
  },
  {
   "cell_type": "markdown",
   "metadata": {},
   "source": [
    "Now we can create:"
   ]
  },
  {
   "cell_type": "code",
   "execution_count": 101,
   "metadata": {
    "collapsed": false
   },
   "outputs": [],
   "source": [
    "# the following variables each create <functools.partial object at 0xxxxxxxxxx>\n",
    "sum_reducer = values_reducer(sum)\n",
    "max_reducer = values_reducer(max)\n",
    "min_reducer = values_reducer(min)\n",
    "count_distinct_reducer = values_reducer(lambda values: len(set(values)))"
   ]
  },
  {
   "cell_type": "markdown",
   "metadata": {},
   "source": [
    "and so on."
   ]
  },
  {
   "cell_type": "markdown",
   "metadata": {},
   "source": [
    "## Example: Analyzing Status Updates"
   ]
  },
  {
   "cell_type": "code",
   "execution_count": null,
   "metadata": {
    "collapsed": true
   },
   "outputs": [],
   "source": []
  }
 ],
 "metadata": {
  "kernelspec": {
   "display_name": "Python 2",
   "language": "python",
   "name": "python2"
  },
  "language_info": {
   "codemirror_mode": {
    "name": "ipython",
    "version": 2
   },
   "file_extension": ".py",
   "mimetype": "text/x-python",
   "name": "python",
   "nbconvert_exporter": "python",
   "pygments_lexer": "ipython2",
   "version": "2.7.12"
  }
 },
 "nbformat": 4,
 "nbformat_minor": 1
}
