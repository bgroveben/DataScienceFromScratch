{
 "cells": [
  {
   "cell_type": "markdown",
   "metadata": {},
   "source": [
    "# Chapter 19. Clustering"
   ]
  },
  {
   "cell_type": "code",
   "execution_count": 79,
   "metadata": {
    "collapsed": true
   },
   "outputs": [],
   "source": [
    "from __future__ import division\n",
    "from linear_algebra import squared_distance, vector_mean, distance\n",
    "import math, random\n",
    "import matplotlib.image as mpimg\n",
    "import matplotlib.pyplot as plt"
   ]
  },
  {
   "cell_type": "markdown",
   "metadata": {},
   "source": [
    "Most of the algorithms in this book are what's known as [supervised learning](https://en.wikipedia.org/wiki/Supervised_learning), meaning that they train with a set of labeled data and use that as the basis for making predictions about new, unlabeled data.  \n",
    "Clustering, however, is an example of [unsupervised learning](https://en.wikipedia.org/wiki/Unsupervised_learning), in which we work with completely unlabeled (or ignored/disregarded) data."
   ]
  },
  {
   "cell_type": "markdown",
   "metadata": {},
   "source": [
    "## The Idea"
   ]
  },
  {
   "cell_type": "markdown",
   "metadata": {},
   "source": [
    "Whenever you look at some sort of data, it's likely that the data will somehow form [clusters](https://en.wikipedia.org/wiki/Cluster_analysis).  \n",
    "A data set showing where millionaires live probably has clusters in places like San Francisco, Beverly Hills, and Manhattan.  \n",
    "A data set showing how many hours people work each week probably has a cluster around 40.  \n",
    "Unlike some of the problems that this book has examined, there is generally no 'correct' clustering.  \n",
    "An alternative clustering scheme might group \"bored retirees\" with \"avid golfers\" and others with \"RV owners\".  \n",
    "Neither scheme is necessarily more correct -- instead, each is likely more optimal with respect to it own \"how good are the clusters?\" metric.  \n",
    "Furthermore, clusters won't label themselves.  \n",
    "You will have to do that by looking at the data underlying each one."
   ]
  },
  {
   "cell_type": "markdown",
   "metadata": {},
   "source": [
    "## The Model"
   ]
  },
  {
   "cell_type": "markdown",
   "metadata": {},
   "source": [
    "For us, each `input` will be a vector in $d$-dimensional space (which, as usual, we will represent as a list of numbers).  \n",
    "Our goal will be to identify clusters of similar inputs and (sometimes) to find a representative value for each cluster.  \n",
    "For example, each input could be (a numeric vector that somehow represents) the title of a blog post, in which case the goal might be to find clusters of similar posts, perhaps in order to understand what our users our blogging about.  \n",
    "Or imagine that we have a picture containing thousands of (`red`, `green`, `blue`) colors and that we need to screen-print a 10-color version of it.  \n",
    "Clustering can help us choose 10 colors that will minimize the total \"color error.\""
   ]
  },
  {
   "cell_type": "markdown",
   "metadata": {},
   "source": [
    "One of the simplest clustering methods is [k-means](https://en.wikipedia.org/wiki/K-means_clustering), in which the number of clusters $k$ is chosen in advance, after which the goal is to partition the inputs into sets $S_1, S_2, \\ldots, S_k$ in a way that minimizes the total sum of squared distances from each point to the mean of the assigned cluster.  \n",
    "There are many ways to assign $n$ points to $k$ clusters, which means that finding an optimal clustering is a challenging problem.  \n",
    "For instructive purposes, we can settle for an iterative algorithm that usually finds a good clustering:\n",
    "1. Start with a set of $k-means$, which are points in a $d$-dimensional space.\n",
    "2. Assign each point to the mean to which it is closest.\n",
    "3. If no point's assignment has changed, stop and keep the clusters.\n",
    "4. If some point's assignment has changed, recompute the means and and return to step 2."
   ]
  },
  {
   "cell_type": "markdown",
   "metadata": {},
   "source": [
    "Using the `vector_mean` function from Chapter 4, we can create a class that does this:"
   ]
  },
  {
   "cell_type": "code",
   "execution_count": 80,
   "metadata": {
    "collapsed": true
   },
   "outputs": [],
   "source": [
    "class KMeans:\n",
    "    \"\"\" performs k-means clustering \"\"\"\n",
    "    def __init__(self, k):\n",
    "        self.k = k         # number of means\n",
    "        self.means = None  # means of the clusters\n",
    "        \n",
    "    def classify(self, input):\n",
    "        \"\"\" return the index of the cluster closest to the input \"\"\"\n",
    "        return min(range(self.k), key=lambda i: squared_distance(input, self.means[i]))\n",
    "    \n",
    "    def train(self, inputs):\n",
    "        # choose k random points as the initial means\n",
    "        self.means = random.sample(inputs, self.k)\n",
    "        assignments = None\n",
    "        \n",
    "        while True:\n",
    "            # find new assignments\n",
    "            new_assignments = map(self.classify, inputs)\n",
    "            # if no assignments have changed, we're done\n",
    "            if assignments == new_assignments:\n",
    "                return\n",
    "            # otherwise, keep the new assignments\n",
    "            assignments = new_assignments\n",
    "            # and calculate new means based on the new assignments\n",
    "            for i in range(self.k):\n",
    "                # find all of the points assigned to cluster i\n",
    "                i_points = [p for p, a in zip(inputs, assignments) if a == i]\n",
    "                # make sure i_points is not empty so we're not dividing by zero\n",
    "                if i_points:\n",
    "                    self.means[i] = vector_mean(i_points)"
   ]
  },
  {
   "cell_type": "markdown",
   "metadata": {},
   "source": [
    "Let's take a look at how this works."
   ]
  },
  {
   "cell_type": "markdown",
   "metadata": {},
   "source": [
    "## Example: Meetups"
   ]
  },
  {
   "cell_type": "markdown",
   "metadata": {
    "collapsed": true
   },
   "source": [
    "To celebrate DataSciencester's growth, your VP of User Rewards wants to organize some meetups for your hometown users.  \n",
    "You know the locations of all of your hometown users:"
   ]
  },
  {
   "cell_type": "code",
   "execution_count": 81,
   "metadata": {
    "collapsed": false
   },
   "outputs": [
    {
     "data": {
      "image/png": "[encoded data removed]",
      "text/plain": [
       "<matplotlib.figure.Figure at 0x111068b50>"
      ]
     },
     "metadata": {},
     "output_type": "display_data"
    }
   ],
   "source": [
    "inputs = [[-14,-5],[13,13],[20,23],[-19,-11],[-9,-16],[21,27],[-49,15],[26,13],[-46,5],[-34,-1],[11,15],[-49,0],\n",
    "[-22,-16],[19,28],[-12,-8],[-13,-19],[-41,8],[-11,-6],[-25,-9],[-18,-3]]\n",
    "\n",
    "# Make a plot of the users based on their location\n",
    "\n",
    "xs, ys = zip(*inputs)  # https://docs.python.org/2/library/functions.html#zip\n",
    "plt.scatter(xs, ys)\n",
    "plt.title(\"User Locations\")\n",
    "plt.xlabel(\"Blocks East of City Center\")\n",
    "plt.ylabel(\"Blocks North of City Center\")\n",
    "plt.show()"
   ]
  },
  {
   "cell_type": "markdown",
   "metadata": {},
   "source": [
    "and she would like you to choose meetup locations that make it convenient for everyone to attend.  \n",
    "Depending on how you look at the scatterplot above, you probably see two or three clusters.  \n",
    "This is fairly easy to do with only two dimensions -- more dimensions make seeing the clusters more difficult.  \n",
    "Now say that she has enough in her budget for three meetups, which means we can try:"
   ]
  },
  {
   "cell_type": "code",
   "execution_count": 82,
   "metadata": {
    "collapsed": false
   },
   "outputs": [
    {
     "name": "stdout",
     "output_type": "stream",
     "text": [
      "[[-43.800000000000004, 5.4], [-15.888888888888888, -10.333333333333332], [18.333333333333332, 19.833333333333332]]\n"
     ]
    }
   ],
   "source": [
    "random.seed(0)\n",
    "clusterer = KMeans(3)\n",
    "clusterer.train(inputs)\n",
    "print clusterer.means"
   ]
  },
  {
   "cell_type": "markdown",
   "metadata": {},
   "source": [
    "The results are three clusters centered at [-44, 5], [-16, -10], and [18, 20] (which will be plotted later in the chapter), so you can look for meetup venues near those locations.  \n",
    "You present your results tothe VP, who now tells you that she only has enough budget money for *two* meetups.  \n",
    "\"No problem,\" you say:"
   ]
  },
  {
   "cell_type": "code",
   "execution_count": 83,
   "metadata": {
    "collapsed": false
   },
   "outputs": [
    {
     "name": "stdout",
     "output_type": "stream",
     "text": [
      "[[-25.857142857142854, -4.714285714285714], [18.333333333333332, 19.833333333333332]]\n"
     ]
    }
   ],
   "source": [
    "random.seed(0)\n",
    "clusterer = KMeans(2)\n",
    "clusterer.train(inputs)\n",
    "print clusterer.means"
   ]
  },
  {
   "cell_type": "markdown",
   "metadata": {},
   "source": [
    "According to your new results (which, again, will be plotted later), one meetup should still be near [18, 20], but now the other one should be near [-26, -5]."
   ]
  },
  {
   "cell_type": "markdown",
   "metadata": {},
   "source": [
    "## Choosing k"
   ]
  },
  {
   "cell_type": "code",
   "execution_count": null,
   "metadata": {
    "collapsed": true
   },
   "outputs": [],
   "source": []
  }
 ],
 "metadata": {
  "kernelspec": {
   "display_name": "Python 2",
   "language": "python",
   "name": "python2"
  },
  "language_info": {
   "codemirror_mode": {
    "name": "ipython",
    "version": 2
   },
   "file_extension": ".py",
   "mimetype": "text/x-python",
   "name": "python",
   "nbconvert_exporter": "python",
   "pygments_lexer": "ipython2",
   "version": "2.7.12"
  }
 },
 "nbformat": 4,
 "nbformat_minor": 1
}
