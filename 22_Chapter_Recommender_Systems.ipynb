{
 "cells": [
  {
   "cell_type": "markdown",
   "metadata": {},
   "source": [
    "# Chapter 22. Recommender Systems"
   ]
  },
  {
   "cell_type": "code",
   "execution_count": 66,
   "metadata": {
    "collapsed": true
   },
   "outputs": [],
   "source": [
    "from __future__ import division\n",
    "import math, random\n",
    "from collections import defaultdict, Counter\n",
    "from linear_algebra import dot"
   ]
  },
  {
   "cell_type": "markdown",
   "metadata": {},
   "source": [
    "Another common data challenge is producing [recommendations](https://en.wikipedia.org/wiki/Recommender_system) of some sort.  \n",
    "Netflix recommends movies that you might want to watch, Amazon recommends products that you might want to buy, Twitter recommends followers, and so on.  \n",
    "In this chapter, we'll examine a few different ways to use data to make recommendations.  \n",
    "In particular, we'll look at the data set of `users_interests` that we've used before:"
   ]
  },
  {
   "cell_type": "code",
   "execution_count": 67,
   "metadata": {
    "collapsed": true
   },
   "outputs": [],
   "source": [
    "users_interests = [\n",
    "    [\"Hadoop\", \"Big Data\", \"HBase\", \"Java\", \"Spark\", \"Storm\", \"Cassandra\"],\n",
    "    [\"NoSQL\", \"MongoDB\", \"Cassandra\", \"HBase\", \"Postgres\"],\n",
    "    [\"Python\", \"scikit-learn\", \"scipy\", \"numpy\", \"statsmodels\", \"pandas\"],\n",
    "    [\"R\", \"Python\", \"statistics\", \"regression\", \"probability\"],\n",
    "    [\"machine learning\", \"regression\", \"decision trees\", \"libsvm\"],\n",
    "    [\"Python\", \"R\", \"Java\", \"C++\", \"Haskell\", \"programming languages\"],\n",
    "    [\"statistics\", \"probability\", \"mathematics\", \"theory\"],\n",
    "    [\"machine learning\", \"scikit-learn\", \"Mahout\", \"neural networks\"],\n",
    "    [\"neural networks\", \"deep learning\", \"Big Data\", \"artificial intelligence\"],\n",
    "    [\"Hadoop\", \"Java\", \"MapReduce\", \"Big Data\"],\n",
    "    [\"statistics\", \"R\", \"statsmodels\"],\n",
    "    [\"C++\", \"deep learning\", \"artificial intelligence\", \"probability\"],\n",
    "    [\"pandas\", \"R\", \"Python\"],\n",
    "    [\"databases\", \"HBase\", \"Postgres\", \"MySQL\", \"MongoDB\"],\n",
    "    [\"libsvm\", \"regression\", \"support vector machines\"]\n",
    "]"
   ]
  },
  {
   "cell_type": "markdown",
   "metadata": {},
   "source": [
    "We'll use this data to address the problem of recommending new interests to a user based on her currently specified interests."
   ]
  },
  {
   "cell_type": "markdown",
   "metadata": {},
   "source": [
    "## Manual Curation"
   ]
  },
  {
   "cell_type": "markdown",
   "metadata": {},
   "source": [
    "Given DataSciencester's limited number of users and interests, you could probably just spend an afternoon manually recommending interests for each user.  \n",
    "However, this method doesn't scale very well, and it's limited by your personal knowledge and imagination.  \n",
    "Intead, let's think about what we can do with our data."
   ]
  },
  {
   "cell_type": "markdown",
   "metadata": {},
   "source": [
    "## Recommending What's Popular"
   ]
  },
  {
   "cell_type": "markdown",
   "metadata": {},
   "source": [
    "One easy approach is to simply recommend what's popular:"
   ]
  },
  {
   "cell_type": "code",
   "execution_count": 68,
   "metadata": {
    "collapsed": false
   },
   "outputs": [
    {
     "data": {
      "text/plain": [
       "[('Python', 4),\n",
       " ('R', 4),\n",
       " ('Java', 3),\n",
       " ('regression', 3),\n",
       " ('statistics', 3),\n",
       " ('probability', 3),\n",
       " ('HBase', 3),\n",
       " ('Big Data', 3),\n",
       " ('neural networks', 2),\n",
       " ('Hadoop', 2),\n",
       " ('deep learning', 2),\n",
       " ('pandas', 2),\n",
       " ('artificial intelligence', 2),\n",
       " ('libsvm', 2),\n",
       " ('C++', 2),\n",
       " ('Postgres', 2),\n",
       " ('MongoDB', 2),\n",
       " ('scikit-learn', 2),\n",
       " ('machine learning', 2),\n",
       " ('statsmodels', 2),\n",
       " ('Cassandra', 2),\n",
       " ('NoSQL', 1),\n",
       " ('Mahout', 1),\n",
       " ('Storm', 1),\n",
       " ('MySQL', 1),\n",
       " ('programming languages', 1),\n",
       " ('Haskell', 1),\n",
       " ('mathematics', 1),\n",
       " ('Spark', 1),\n",
       " ('numpy', 1),\n",
       " ('theory', 1),\n",
       " ('decision trees', 1),\n",
       " ('MapReduce', 1),\n",
       " ('scipy', 1),\n",
       " ('databases', 1),\n",
       " ('support vector machines', 1)]"
      ]
     },
     "execution_count": 68,
     "metadata": {},
     "output_type": "execute_result"
    }
   ],
   "source": [
    "popular_interests = Counter(interest\n",
    "                            for user_interests in users_interests\n",
    "                            for interest in user_interests).most_common()\n",
    "\n",
    "popular_interests"
   ]
  },
  {
   "cell_type": "markdown",
   "metadata": {},
   "source": [
    "Having computed this, we can just suggest to a user the most popular interests that she hasn't already specified:"
   ]
  },
  {
   "cell_type": "code",
   "execution_count": 69,
   "metadata": {
    "collapsed": true
   },
   "outputs": [],
   "source": [
    "def most_popular_new_interests(user_interests, max_results=5):\n",
    "    suggestions = [(interest, frequency)\n",
    "                    for interest, frequency in popular_interests\n",
    "                    if interest not in user_interests]\n",
    "    return suggestions[:max_results]"
   ]
  },
  {
   "cell_type": "markdown",
   "metadata": {},
   "source": [
    "So, if you are user 1 and have the following interests:"
   ]
  },
  {
   "cell_type": "raw",
   "metadata": {},
   "source": [
    "[\"NoSQL\", \"MongoDB\", \"Cassandra\", \"HBase\", \"Postgres\"]"
   ]
  },
  {
   "cell_type": "markdown",
   "metadata": {},
   "source": [
    "then you would be recommended:"
   ]
  },
  {
   "cell_type": "code",
   "execution_count": 70,
   "metadata": {
    "collapsed": false
   },
   "outputs": [
    {
     "data": {
      "text/plain": [
       "[('Python', 4), ('R', 4), ('Java', 3), ('regression', 3), ('statistics', 3)]"
      ]
     },
     "execution_count": 70,
     "metadata": {},
     "output_type": "execute_result"
    }
   ],
   "source": [
    "most_popular_new_interests(users_interests[1], 5)"
   ]
  },
  {
   "cell_type": "markdown",
   "metadata": {},
   "source": [
    "If you are user 3, who has already specified many of those interests listed above, you would instead be recommended:"
   ]
  },
  {
   "cell_type": "code",
   "execution_count": 71,
   "metadata": {
    "collapsed": false
   },
   "outputs": [
    {
     "data": {
      "text/plain": [
       "[('Java', 3),\n",
       " ('HBase', 3),\n",
       " ('Big Data', 3),\n",
       " ('neural networks', 2),\n",
       " ('Hadoop', 2)]"
      ]
     },
     "execution_count": 71,
     "metadata": {},
     "output_type": "execute_result"
    }
   ],
   "source": [
    "most_popular_new_interests(users_interests[3], 5)"
   ]
  },
  {
   "cell_type": "markdown",
   "metadata": {},
   "source": [
    "While user 8, who has many interests in common with user 1: "
   ]
  },
  {
   "cell_type": "raw",
   "metadata": {},
   "source": [
    "[\"databases\", \"HBase\", \"Postgres\", \"MySQL\", \"MongoDB\"]"
   ]
  },
  {
   "cell_type": "markdown",
   "metadata": {},
   "source": [
    "gets the same 5 recommendations:"
   ]
  },
  {
   "cell_type": "code",
   "execution_count": 72,
   "metadata": {
    "collapsed": false
   },
   "outputs": [
    {
     "data": {
      "text/plain": [
       "[('Python', 4), ('R', 4), ('Java', 3), ('regression', 3), ('statistics', 3)]"
      ]
     },
     "execution_count": 72,
     "metadata": {},
     "output_type": "execute_result"
    }
   ],
   "source": [
    "most_popular_new_interests(users_interests[8], 5)"
   ]
  },
  {
   "cell_type": "markdown",
   "metadata": {},
   "source": [
    "This technique can be somewhat useful, but \"lots of people are interested in Python so you should be too\" is not the most compelling sales pitch.  \n",
    "However, if someone is brand new to our site and we know nothing about them, that might be the best we can do.  \n",
    "Let's see how we can do better by basing each user's recommendations on her particular interests."
   ]
  },
  {
   "cell_type": "markdown",
   "metadata": {},
   "source": [
    "## User-Based Collaborative Filtering"
   ]
  },
  {
   "cell_type": "code",
   "execution_count": null,
   "metadata": {
    "collapsed": true
   },
   "outputs": [],
   "source": []
  }
 ],
 "metadata": {
  "kernelspec": {
   "display_name": "Python 2",
   "language": "python",
   "name": "python2"
  },
  "language_info": {
   "codemirror_mode": {
    "name": "ipython",
    "version": 2
   },
   "file_extension": ".py",
   "mimetype": "text/x-python",
   "name": "python",
   "nbconvert_exporter": "python",
   "pygments_lexer": "ipython2",
   "version": "2.7.12"
  }
 },
 "nbformat": 4,
 "nbformat_minor": 1
}
