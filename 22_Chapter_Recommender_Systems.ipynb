{
 "cells": [
  {
   "cell_type": "markdown",
   "metadata": {},
   "source": [
    "# Chapter 22. Recommender Systems"
   ]
  },
  {
   "cell_type": "code",
   "execution_count": 57,
   "metadata": {
    "collapsed": true
   },
   "outputs": [],
   "source": [
    "from __future__ import division\n",
    "import math, random\n",
    "from collections import defaultdict, Counter\n",
    "from linear_algebra import dot"
   ]
  },
  {
   "cell_type": "markdown",
   "metadata": {},
   "source": [
    "Another common data challenge is producing [recommendations](https://en.wikipedia.org/wiki/Recommender_system) of some sort.  \n",
    "Netflix recommends movies that you might want to watch, Amazon recommends products that you might want to buy, Twitter recommends followers, and so on.  \n",
    "In this chapter, we'll examine a few different ways to use data to make recommendations.  \n",
    "In particular, we'll look at the data set of `users_interests` that we've used before:"
   ]
  },
  {
   "cell_type": "code",
   "execution_count": 58,
   "metadata": {
    "collapsed": true
   },
   "outputs": [],
   "source": [
    "users_interests = [\n",
    "    [\"Hadoop\", \"Big Data\", \"HBase\", \"Java\", \"Spark\", \"Storm\", \"Cassandra\"],\n",
    "    [\"NoSQL\", \"MongoDB\", \"Cassandra\", \"HBase\", \"Postgres\"],\n",
    "    [\"Python\", \"scikit-learn\", \"scipy\", \"numpy\", \"statsmodels\", \"pandas\"],\n",
    "    [\"R\", \"Python\", \"statistics\", \"regression\", \"probability\"],\n",
    "    [\"machine learning\", \"regression\", \"decision trees\", \"libsvm\"],\n",
    "    [\"Python\", \"R\", \"Java\", \"C++\", \"Haskell\", \"programming languages\"],\n",
    "    [\"statistics\", \"probability\", \"mathematics\", \"theory\"],\n",
    "    [\"machine learning\", \"scikit-learn\", \"Mahout\", \"neural networks\"],\n",
    "    [\"neural networks\", \"deep learning\", \"Big Data\", \"artificial intelligence\"],\n",
    "    [\"Hadoop\", \"Java\", \"MapReduce\", \"Big Data\"],\n",
    "    [\"statistics\", \"R\", \"statsmodels\"],\n",
    "    [\"C++\", \"deep learning\", \"artificial intelligence\", \"probability\"],\n",
    "    [\"pandas\", \"R\", \"Python\"],\n",
    "    [\"databases\", \"HBase\", \"Postgres\", \"MySQL\", \"MongoDB\"],\n",
    "    [\"libsvm\", \"regression\", \"support vector machines\"]\n",
    "]"
   ]
  },
  {
   "cell_type": "markdown",
   "metadata": {},
   "source": [
    "We'll use this data to address the problem of recommending new interests to a user based on her currently specified interests."
   ]
  },
  {
   "cell_type": "markdown",
   "metadata": {},
   "source": [
    "## Manual Curation"
   ]
  },
  {
   "cell_type": "markdown",
   "metadata": {},
   "source": [
    "Given DataSciencester's limited number of users and interests, you could probably just spend an afternoon manually recommending interests for each user.  \n",
    "However, this method doesn't scale very well, and it's limited by your personal knowledge and imagination.  \n",
    "Intead, let's think about what we can do with our data."
   ]
  },
  {
   "cell_type": "markdown",
   "metadata": {},
   "source": [
    "## Recommending What's Popular"
   ]
  },
  {
   "cell_type": "markdown",
   "metadata": {},
   "source": [
    "One easy approach is to simply recommend what's popular:"
   ]
  },
  {
   "cell_type": "code",
   "execution_count": 59,
   "metadata": {
    "collapsed": false
   },
   "outputs": [
    {
     "data": {
      "text/plain": [
       "[('Python', 4),\n",
       " ('R', 4),\n",
       " ('Java', 3),\n",
       " ('regression', 3),\n",
       " ('statistics', 3),\n",
       " ('probability', 3),\n",
       " ('HBase', 3),\n",
       " ('Big Data', 3),\n",
       " ('neural networks', 2),\n",
       " ('Hadoop', 2),\n",
       " ('deep learning', 2),\n",
       " ('pandas', 2),\n",
       " ('artificial intelligence', 2),\n",
       " ('libsvm', 2),\n",
       " ('C++', 2),\n",
       " ('Postgres', 2),\n",
       " ('MongoDB', 2),\n",
       " ('scikit-learn', 2),\n",
       " ('machine learning', 2),\n",
       " ('statsmodels', 2),\n",
       " ('Cassandra', 2),\n",
       " ('NoSQL', 1),\n",
       " ('Mahout', 1),\n",
       " ('Storm', 1),\n",
       " ('MySQL', 1),\n",
       " ('programming languages', 1),\n",
       " ('Haskell', 1),\n",
       " ('mathematics', 1),\n",
       " ('Spark', 1),\n",
       " ('numpy', 1),\n",
       " ('theory', 1),\n",
       " ('decision trees', 1),\n",
       " ('MapReduce', 1),\n",
       " ('scipy', 1),\n",
       " ('databases', 1),\n",
       " ('support vector machines', 1)]"
      ]
     },
     "execution_count": 59,
     "metadata": {},
     "output_type": "execute_result"
    }
   ],
   "source": [
    "popular_interests = Counter(interest\n",
    "                            for user_interests in users_interests\n",
    "                            for interest in user_interests).most_common()\n",
    "\n",
    "popular_interests"
   ]
  },
  {
   "cell_type": "markdown",
   "metadata": {},
   "source": [
    "Having computed this, we can just suggest to a user the most popular interests that she hasn't already specified:"
   ]
  },
  {
   "cell_type": "code",
   "execution_count": 60,
   "metadata": {
    "collapsed": true
   },
   "outputs": [],
   "source": [
    "def most_popular_new_interests(user_interests, max_results=5):\n",
    "    suggestions = [(interest, frequency)\n",
    "                    for interest, frequency in popular_interests\n",
    "                    if interest not in user_interests]\n",
    "    return suggestions[:max_results]"
   ]
  },
  {
   "cell_type": "markdown",
   "metadata": {},
   "source": [
    "So, if you are user 1 and have the following interests:"
   ]
  },
  {
   "cell_type": "raw",
   "metadata": {},
   "source": [
    "[\"NoSQL\", \"MongoDB\", \"Cassandra\", \"HBase\", \"Postgres\"]"
   ]
  },
  {
   "cell_type": "markdown",
   "metadata": {},
   "source": [
    "then you would be recommended:"
   ]
  },
  {
   "cell_type": "code",
   "execution_count": 61,
   "metadata": {
    "collapsed": false
   },
   "outputs": [
    {
     "data": {
      "text/plain": [
       "[('Python', 4), ('R', 4), ('Java', 3), ('regression', 3), ('statistics', 3)]"
      ]
     },
     "execution_count": 61,
     "metadata": {},
     "output_type": "execute_result"
    }
   ],
   "source": [
    "most_popular_new_interests(users_interests[1], 5)"
   ]
  },
  {
   "cell_type": "markdown",
   "metadata": {},
   "source": [
    "If you are user 3, who has already specified many of those interests listed above, you would instead be recommended:"
   ]
  },
  {
   "cell_type": "code",
   "execution_count": 62,
   "metadata": {
    "collapsed": false
   },
   "outputs": [
    {
     "data": {
      "text/plain": [
       "[('Java', 3),\n",
       " ('HBase', 3),\n",
       " ('Big Data', 3),\n",
       " ('neural networks', 2),\n",
       " ('Hadoop', 2)]"
      ]
     },
     "execution_count": 62,
     "metadata": {},
     "output_type": "execute_result"
    }
   ],
   "source": [
    "most_popular_new_interests(users_interests[3], 5)"
   ]
  },
  {
   "cell_type": "markdown",
   "metadata": {},
   "source": [
    "While user 8, who has many interests in common with user 1: "
   ]
  },
  {
   "cell_type": "raw",
   "metadata": {},
   "source": [
    "[\"databases\", \"HBase\", \"Postgres\", \"MySQL\", \"MongoDB\"]"
   ]
  },
  {
   "cell_type": "markdown",
   "metadata": {},
   "source": [
    "gets the same 5 recommendations:"
   ]
  },
  {
   "cell_type": "code",
   "execution_count": 63,
   "metadata": {
    "collapsed": false
   },
   "outputs": [
    {
     "data": {
      "text/plain": [
       "[('Python', 4), ('R', 4), ('Java', 3), ('regression', 3), ('statistics', 3)]"
      ]
     },
     "execution_count": 63,
     "metadata": {},
     "output_type": "execute_result"
    }
   ],
   "source": [
    "most_popular_new_interests(users_interests[8], 5)"
   ]
  },
  {
   "cell_type": "markdown",
   "metadata": {},
   "source": [
    "This technique can be somewhat useful, but \"lots of people are interested in Python so you should be too\" is not the most compelling sales pitch.  \n",
    "However, if someone is brand new to our site and we know nothing about them, that might be the best we can do.  \n",
    "Let's see how we can do better by basing each user's recommendations on her particular interests."
   ]
  },
  {
   "cell_type": "markdown",
   "metadata": {},
   "source": [
    "## User-Based Collaborative Filtering"
   ]
  },
  {
   "cell_type": "markdown",
   "metadata": {
    "collapsed": true
   },
   "source": [
    "One way of taking a user's interests into account is to look for users who are somehow similar to her, and then suggest the things that those users are interested in.  \n",
    "In order to do this, we'll need a way to measure how similar two users are.  \n",
    "Here we'll use a metric called [cosine similarity](https://en.wikipedia.org/wiki/Cosine_similarity).  \n",
    "Given two vectors, `v` and `w`, cosine similarity is defined as:"
   ]
  },
  {
   "cell_type": "code",
   "execution_count": 64,
   "metadata": {
    "collapsed": true
   },
   "outputs": [],
   "source": [
    "def cosine_similarity(v, w):\n",
    "    return dot(v, w) / math.sqrt(dot(v, v) * dot(w, w))"
   ]
  },
  {
   "cell_type": "markdown",
   "metadata": {},
   "source": [
    "Our function measures the \"angle\" between `v` and `w`.  \n",
    "If `v` and `w` point in the same direction, then the numerator and denominator are equal, and their cosine similarity equals 1.  \n",
    "If `v` and `w` point in opposite directions, then their cosine similarity equals -1.  \n",
    "If `v` is 0 whenever `w` is not (and vice versa) then `dot(v, w)` is 0 and so the cosine similarity will be 0.  \n",
    "We'll apply `cosine_similarity()` to vectors of 0s and 1s, with each vector `v` representing one user's interests.  \n",
    "`v[i]` will be 1 if the user has specified the $i$th interest, and 0 otherwise.  \n",
    "Accordingly, \"similar users\" will mean \"users whose interest vectors most nearly point in the same direction.\"  \n",
    "Users with identical interests will have a similarity of 1, and users with no common interests will have similarity 0.  \n",
    "Otherwise the similarity will fall in between, with numbers closer to 1 indicating \"more similar\" and numbers closer to 0 meaning \"less similar.\""
   ]
  },
  {
   "cell_type": "markdown",
   "metadata": {},
   "source": [
    "A good place to begin is by collecting the known interests and implicitly assigning indices to them.  \n",
    "We can do this by using a [set comprehension](https://python-3-patterns-idioms-test.readthedocs.io/en/latest/Comprehensions.html#set-comprehensions) to find the unique interests, putting them in a list, and then sorting them.  \n",
    "The first interest in the resulting list will be interest 0, and so on:"
   ]
  },
  {
   "cell_type": "code",
   "execution_count": 65,
   "metadata": {
    "collapsed": false
   },
   "outputs": [
    {
     "data": {
      "text/plain": [
       "['Big Data',\n",
       " 'C++',\n",
       " 'Cassandra',\n",
       " 'HBase',\n",
       " 'Hadoop',\n",
       " 'Haskell',\n",
       " 'Java',\n",
       " 'Mahout',\n",
       " 'MapReduce',\n",
       " 'MongoDB',\n",
       " 'MySQL',\n",
       " 'NoSQL',\n",
       " 'Postgres',\n",
       " 'Python',\n",
       " 'R',\n",
       " 'Spark',\n",
       " 'Storm',\n",
       " 'artificial intelligence',\n",
       " 'databases',\n",
       " 'decision trees',\n",
       " 'deep learning',\n",
       " 'libsvm',\n",
       " 'machine learning',\n",
       " 'mathematics',\n",
       " 'neural networks',\n",
       " 'numpy',\n",
       " 'pandas',\n",
       " 'probability',\n",
       " 'programming languages',\n",
       " 'regression',\n",
       " 'scikit-learn',\n",
       " 'scipy',\n",
       " 'statistics',\n",
       " 'statsmodels',\n",
       " 'support vector machines',\n",
       " 'theory']"
      ]
     },
     "execution_count": 65,
     "metadata": {},
     "output_type": "execute_result"
    }
   ],
   "source": [
    "unique_interests = sorted(list({ interest \n",
    "                                 for user_interests in users_interests \n",
    "                                 for interest in user_interests}))\n",
    "\n",
    "unique_interests"
   ]
  },
  {
   "cell_type": "markdown",
   "metadata": {},
   "source": [
    "Next we want to produce an \"interest\" vector of zeroes and ones for each user.  \n",
    "We just need to iterate over the `unique_interests` list, substituting a 1 if the user has that interest, and a 0 if not:"
   ]
  },
  {
   "cell_type": "code",
   "execution_count": 66,
   "metadata": {
    "collapsed": false
   },
   "outputs": [],
   "source": [
    "def make_user_interest_vector(user_interests):\n",
    "    \"\"\" given a list of interests, produce a vector whose ith element is 1 \"\"\"\n",
    "    \"\"\" if unique_interests[i] is in the list, 0 otherwise \"\"\"\n",
    "    return [1 if interest in user_interests\n",
    "            else 0 for interest in unique_interests]"
   ]
  },
  {
   "cell_type": "markdown",
   "metadata": {},
   "source": [
    "after which, we can create a matrix of user interests simply by `map`-ping this function against the list of lists of interests:"
   ]
  },
  {
   "cell_type": "code",
   "execution_count": 67,
   "metadata": {
    "collapsed": false
   },
   "outputs": [
    {
     "name": "stdout",
     "output_type": "stream",
     "text": [
      "[[1, 0, 1, 1, 1, 0, 1, 0, 0, 0, 0, 0, 0, 0, 0, 1, 1, 0, 0, 0, 0, 0, 0, 0, 0, 0, 0, 0, 0, 0, 0, 0, 0, 0, 0, 0], [0, 0, 1, 1, 0, 0, 0, 0, 0, 1, 0, 1, 1, 0, 0, 0, 0, 0, 0, 0, 0, 0, 0, 0, 0, 0, 0, 0, 0, 0, 0, 0, 0, 0, 0, 0], [0, 0, 0, 0, 0, 0, 0, 0, 0, 0, 0, 0, 0, 1, 0, 0, 0, 0, 0, 0, 0, 0, 0, 0, 0, 1, 1, 0, 0, 0, 1, 1, 0, 1, 0, 0], [0, 0, 0, 0, 0, 0, 0, 0, 0, 0, 0, 0, 0, 1, 1, 0, 0, 0, 0, 0, 0, 0, 0, 0, 0, 0, 0, 1, 0, 1, 0, 0, 1, 0, 0, 0], [0, 0, 0, 0, 0, 0, 0, 0, 0, 0, 0, 0, 0, 0, 0, 0, 0, 0, 0, 1, 0, 1, 1, 0, 0, 0, 0, 0, 0, 1, 0, 0, 0, 0, 0, 0], [0, 1, 0, 0, 0, 1, 1, 0, 0, 0, 0, 0, 0, 1, 1, 0, 0, 0, 0, 0, 0, 0, 0, 0, 0, 0, 0, 0, 1, 0, 0, 0, 0, 0, 0, 0], [0, 0, 0, 0, 0, 0, 0, 0, 0, 0, 0, 0, 0, 0, 0, 0, 0, 0, 0, 0, 0, 0, 0, 1, 0, 0, 0, 1, 0, 0, 0, 0, 1, 0, 0, 1], [0, 0, 0, 0, 0, 0, 0, 1, 0, 0, 0, 0, 0, 0, 0, 0, 0, 0, 0, 0, 0, 0, 1, 0, 1, 0, 0, 0, 0, 0, 1, 0, 0, 0, 0, 0], [1, 0, 0, 0, 0, 0, 0, 0, 0, 0, 0, 0, 0, 0, 0, 0, 0, 1, 0, 0, 1, 0, 0, 0, 1, 0, 0, 0, 0, 0, 0, 0, 0, 0, 0, 0], [1, 0, 0, 0, 1, 0, 1, 0, 1, 0, 0, 0, 0, 0, 0, 0, 0, 0, 0, 0, 0, 0, 0, 0, 0, 0, 0, 0, 0, 0, 0, 0, 0, 0, 0, 0], [0, 0, 0, 0, 0, 0, 0, 0, 0, 0, 0, 0, 0, 0, 1, 0, 0, 0, 0, 0, 0, 0, 0, 0, 0, 0, 0, 0, 0, 0, 0, 0, 1, 1, 0, 0], [0, 1, 0, 0, 0, 0, 0, 0, 0, 0, 0, 0, 0, 0, 0, 0, 0, 1, 0, 0, 1, 0, 0, 0, 0, 0, 0, 1, 0, 0, 0, 0, 0, 0, 0, 0], [0, 0, 0, 0, 0, 0, 0, 0, 0, 0, 0, 0, 0, 1, 1, 0, 0, 0, 0, 0, 0, 0, 0, 0, 0, 0, 1, 0, 0, 0, 0, 0, 0, 0, 0, 0], [0, 0, 0, 1, 0, 0, 0, 0, 0, 1, 1, 0, 1, 0, 0, 0, 0, 0, 1, 0, 0, 0, 0, 0, 0, 0, 0, 0, 0, 0, 0, 0, 0, 0, 0, 0], [0, 0, 0, 0, 0, 0, 0, 0, 0, 0, 0, 0, 0, 0, 0, 0, 0, 0, 0, 0, 0, 1, 0, 0, 0, 0, 0, 0, 0, 1, 0, 0, 0, 0, 1, 0]]\n"
     ]
    }
   ],
   "source": [
    "# this will create a list of nine vectors, one for each user\n",
    "# each vector will have a length of 36, corrsponding to each interest\n",
    "user_interest_matrix = map(make_user_interest_vector, users_interests)\n",
    "print user_interest_matrix"
   ]
  },
  {
   "cell_type": "markdown",
   "metadata": {},
   "source": [
    "Now `user_interest_matrix[i][j]` equals 1 if user $i$ specified interest $j$, 0 otherwise."
   ]
  },
  {
   "cell_type": "markdown",
   "metadata": {},
   "source": [
    "Since we are using a small data set, it's relatively simple to compute the pairwise similarities between all of our users:"
   ]
  },
  {
   "cell_type": "code",
   "execution_count": 68,
   "metadata": {
    "collapsed": false
   },
   "outputs": [
    {
     "name": "stdout",
     "output_type": "stream",
     "text": [
      "[[1.0, 0.3380617018914066, 0.0, 0.0, 0.0, 0.1543033499620919, 0.0, 0.0, 0.1889822365046136, 0.5669467095138409, 0.0, 0.0, 0.0, 0.1690308509457033, 0.0], [0.3380617018914066, 1.0, 0.0, 0.0, 0.0, 0.0, 0.0, 0.0, 0.0, 0.0, 0.0, 0.0, 0.0, 0.6, 0.0], [0.0, 0.0, 1.0, 0.18257418583505536, 0.0, 0.16666666666666666, 0.0, 0.20412414523193154, 0.0, 0.0, 0.23570226039551587, 0.0, 0.47140452079103173, 0.0, 0.0], [0.0, 0.0, 0.18257418583505536, 1.0, 0.22360679774997896, 0.3651483716701107, 0.4472135954999579, 0.0, 0.0, 0.0, 0.5163977794943222, 0.22360679774997896, 0.5163977794943222, 0.0, 0.2581988897471611], [0.0, 0.0, 0.0, 0.22360679774997896, 1.0, 0.0, 0.0, 0.25, 0.0, 0.0, 0.0, 0.0, 0.0, 0.0, 0.5773502691896258], [0.1543033499620919, 0.0, 0.16666666666666666, 0.3651483716701107, 0.0, 1.0, 0.0, 0.0, 0.0, 0.20412414523193154, 0.23570226039551587, 0.20412414523193154, 0.47140452079103173, 0.0, 0.0], [0.0, 0.0, 0.0, 0.4472135954999579, 0.0, 0.0, 1.0, 0.0, 0.0, 0.0, 0.2886751345948129, 0.25, 0.0, 0.0, 0.0], [0.0, 0.0, 0.20412414523193154, 0.0, 0.25, 0.0, 0.0, 1.0, 0.25, 0.0, 0.0, 0.0, 0.0, 0.0, 0.0], [0.1889822365046136, 0.0, 0.0, 0.0, 0.0, 0.0, 0.0, 0.25, 1.0, 0.25, 0.0, 0.5, 0.0, 0.0, 0.0], [0.5669467095138409, 0.0, 0.0, 0.0, 0.0, 0.20412414523193154, 0.0, 0.0, 0.25, 1.0, 0.0, 0.0, 0.0, 0.0, 0.0], [0.0, 0.0, 0.23570226039551587, 0.5163977794943222, 0.0, 0.23570226039551587, 0.2886751345948129, 0.0, 0.0, 0.0, 1.0, 0.0, 0.3333333333333333, 0.0, 0.0], [0.0, 0.0, 0.0, 0.22360679774997896, 0.0, 0.20412414523193154, 0.25, 0.0, 0.5, 0.0, 0.0, 1.0, 0.0, 0.0, 0.0], [0.0, 0.0, 0.47140452079103173, 0.5163977794943222, 0.0, 0.47140452079103173, 0.0, 0.0, 0.0, 0.0, 0.3333333333333333, 0.0, 1.0, 0.0, 0.0], [0.1690308509457033, 0.6, 0.0, 0.0, 0.0, 0.0, 0.0, 0.0, 0.0, 0.0, 0.0, 0.0, 0.0, 1.0, 0.0], [0.0, 0.0, 0.0, 0.2581988897471611, 0.5773502691896258, 0.0, 0.0, 0.0, 0.0, 0.0, 0.0, 0.0, 0.0, 0.0, 1.0]]\n"
     ]
    }
   ],
   "source": [
    "user_similarities = [[cosine_similarity(interest_vector_i, interest_vector_j)\n",
    "                      for interest_vector_j in user_interest_matrix]\n",
    "                      for interest_vector_i in user_interest_matrix]\n",
    "\n",
    "print user_similarities"
   ]
  },
  {
   "cell_type": "markdown",
   "metadata": {},
   "source": [
    "after which, `user_similarities[i][j]` gives us the similarity between users $i$ and $j$."
   ]
  },
  {
   "cell_type": "markdown",
   "metadata": {},
   "source": [
    "For example, `user_similarities[0][9]` is 0.57 because those two users share interests in Hadoop, Java, and Big Data.  \n",
    "On the other hand, `user_similarities[0][8]` is only 0.19 because those two users only share an interest in Big Data.  \n",
    "In particular, `user_similarities[i]` is the vector of user $i$'s similarities to every other user.  \n",
    "We can use this to write a function that finds the most similar users to a given user.  \n",
    "While doing so, we'll make sure *not* to include the user herself, nor any users with zero similarity.  \n",
    "The results will be sorted from most similar to least similar:"
   ]
  },
  {
   "cell_type": "code",
   "execution_count": 69,
   "metadata": {
    "collapsed": false
   },
   "outputs": [
    {
     "data": {
      "text/plain": [
       "[(9, 0.5669467095138409),\n",
       " (1, 0.3380617018914066),\n",
       " (8, 0.1889822365046136),\n",
       " (13, 0.1690308509457033),\n",
       " (5, 0.1543033499620919)]"
      ]
     },
     "execution_count": 69,
     "metadata": {},
     "output_type": "execute_result"
    }
   ],
   "source": [
    "def most_similar_users_to(user_id):\n",
    "    # find other users with nonzero similarity\n",
    "    pairs = [(other_user_id, similarity)\n",
    "              for other_user_id, similarity in enumerate(user_similarities[user_id])\n",
    "              if user_id != other_user_id and similarity > 0]\n",
    "    # sort them, most similar first\n",
    "    return sorted(pairs,\n",
    "                  key=lambda (_, similarity):\n",
    "                  similarity, reverse=True)\n",
    "\n",
    "most_similar_users_to(0)"
   ]
  },
  {
   "cell_type": "markdown",
   "metadata": {},
   "source": [
    "Now how can we use this to suggest new interests to a user?  \n",
    "For each interest, we can just add up the `user_similarities` of the users who share that interest:"
   ]
  },
  {
   "cell_type": "code",
   "execution_count": 70,
   "metadata": {
    "collapsed": false
   },
   "outputs": [
    {
     "data": {
      "text/plain": [
       "[('MapReduce', 0.5669467095138409),\n",
       " ('MongoDB', 0.50709255283711),\n",
       " ('Postgres', 0.50709255283711),\n",
       " ('NoSQL', 0.3380617018914066),\n",
       " ('neural networks', 0.1889822365046136),\n",
       " ('deep learning', 0.1889822365046136),\n",
       " ('artificial intelligence', 0.1889822365046136),\n",
       " ('databases', 0.1690308509457033),\n",
       " ('MySQL', 0.1690308509457033),\n",
       " ('programming languages', 0.1543033499620919),\n",
       " ('Python', 0.1543033499620919),\n",
       " ('Haskell', 0.1543033499620919),\n",
       " ('C++', 0.1543033499620919),\n",
       " ('R', 0.1543033499620919)]"
      ]
     },
     "execution_count": 70,
     "metadata": {},
     "output_type": "execute_result"
    }
   ],
   "source": [
    "def user_based_suggestions(user_id, include_current_interests=False):\n",
    "    # sum up the similarities\n",
    "    suggestions = defaultdict(float)\n",
    "    for other_user_id, similarity in most_similar_users_to(user_id):\n",
    "        for interest in users_interests[other_user_id]:\n",
    "            suggestions[interest] += similarity\n",
    "    # convert those suggestions to a sorted list \n",
    "    suggestions = sorted(suggestions.items(),\n",
    "                         key=lambda (_, weight): weight,\n",
    "                         reverse=True)\n",
    "    # and (if needed) exclude existing interests\n",
    "    if include_current_interests:\n",
    "        return suggestions\n",
    "    else:\n",
    "        return [(suggestion, weight)\n",
    "                 for suggestion, weight in suggestions\n",
    "                 if suggestion not in users_interests[user_id]]\n",
    "    \n",
    "user_based_suggestions(0)"
   ]
  },
  {
   "cell_type": "markdown",
   "metadata": {},
   "source": [
    "These seem like pretty decent suggestions for someone whose stated interests are \"Big Data\" and database-related topics.  \n",
    "The numbers assigned to the weights aren't intrinsically meaningful, we just use them for comparison and ordering.  \n",
    "This approach doesn't work as well when the number of items (interests, in our case) grows very large.  \n",
    "Recall the curse of dimensionality from Chapter 12 where in large-dimensional vector spaces most vectors are very far apart and, therefore, point in different directions, resulting in \"most similar interests\" that aren't very similar at all.  \n",
    "Imagine a site like Amazon.com and a customer named Jeff who has bought thousands of items over the course of the past couple of decades.  \n",
    "Amazon's recommender system could try to find similar users to Jeff based on buying patterns, but most likely there is no one else in the world who has an even remotely similar purchase history to Jeff.  \n",
    "Whoever Jeff's \"most similar\" shopper is, he probably isn't very similar at all and would almost certainly make for lousy recommendations.  \n",
    "Fortunately, there are other approaches."
   ]
  },
  {
   "cell_type": "markdown",
   "metadata": {},
   "source": [
    "## Item-Based Collaborative Filtering"
   ]
  },
  {
   "cell_type": "markdown",
   "metadata": {
    "collapsed": true
   },
   "source": [
    "An alternative approach is to calculate similarities between interests directly.  \n",
    "We can then generate suggestions for each user by aggregating interests that are similar to her current interests.  \n",
    "To start with, we'll want to [transpose](http://www.mathwords.com/t/transpose_of_a_matrix.htm) our user-interest matrix so that the rows correspond to interests and columns correspond to users: "
   ]
  },
  {
   "cell_type": "code",
   "execution_count": 71,
   "metadata": {
    "collapsed": false
   },
   "outputs": [
    {
     "name": "stdout",
     "output_type": "stream",
     "text": [
      "Big Data\n",
      "[1, 0, 0, 0, 0, 0, 0, 0, 1, 1, 0, 0, 0, 0, 0]\n"
     ]
    }
   ],
   "source": [
    "interest_user_matrix = [[user_interest_vector[j]\n",
    "                         for user_interest_vector in user_interest_matrix]\n",
    "                         for j, _ in enumerate(unique_interests)]\n",
    "\n",
    "print unique_interests[0]\n",
    "print interest_user_matrix[0]"
   ]
  },
  {
   "cell_type": "markdown",
   "metadata": {},
   "source": [
    "Row $j$ of interest_user_matrix is column $j$ of user_interest_matrix.  \n",
    "That is, it has 1 for each user with that interest and 0 for each user without that interest.  \n",
    "In the output above, we see that users 0, 8, and 9 have indicated interest in Big Data."
   ]
  },
  {
   "cell_type": "markdown",
   "metadata": {},
   "source": [
    "We can now use cosine similarity again.  \n",
    "If precisely the same users are interested in two topics, their similarity will be 1.  \n",
    "If no two users are interested in both topics, their similarity will be 0:"
   ]
  },
  {
   "cell_type": "code",
   "execution_count": 72,
   "metadata": {
    "collapsed": false
   },
   "outputs": [
    {
     "name": "stdout",
     "output_type": "stream",
     "text": [
      "[1.0, 0.0, 0.4082482904638631, 0.3333333333333333, 0.8164965809277261, 0.0, 0.6666666666666666, 0.0, 0.5773502691896258, 0.0, 0.0, 0.0, 0.0, 0.0, 0.0, 0.5773502691896258, 0.5773502691896258, 0.4082482904638631, 0.0, 0.0, 0.4082482904638631, 0.0, 0.0, 0.0, 0.4082482904638631, 0.0, 0.0, 0.0, 0.0, 0.0, 0.0, 0.0, 0.0, 0.0, 0.0, 0.0]\n"
     ]
    }
   ],
   "source": [
    "interest_similarities = [[cosine_similarity(user_vector_i, user_vector_j)\n",
    "                          for user_vector_j in interest_user_matrix]\n",
    "                          for user_vector_i in interest_user_matrix]\n",
    "\n",
    "print interest_similarities[0]"
   ]
  },
  {
   "cell_type": "markdown",
   "metadata": {},
   "source": [
    "For example, we can find the interests most similar to Big Data (interest 0) using:"
   ]
  },
  {
   "cell_type": "code",
   "execution_count": 73,
   "metadata": {
    "collapsed": false
   },
   "outputs": [
    {
     "data": {
      "text/plain": [
       "[('Hadoop', 0.8164965809277261),\n",
       " ('Java', 0.6666666666666666),\n",
       " ('MapReduce', 0.5773502691896258),\n",
       " ('Spark', 0.5773502691896258),\n",
       " ('Storm', 0.5773502691896258),\n",
       " ('Cassandra', 0.4082482904638631),\n",
       " ('artificial intelligence', 0.4082482904638631),\n",
       " ('deep learning', 0.4082482904638631),\n",
       " ('neural networks', 0.4082482904638631),\n",
       " ('HBase', 0.3333333333333333)]"
      ]
     },
     "execution_count": 73,
     "metadata": {},
     "output_type": "execute_result"
    }
   ],
   "source": [
    "def most_similar_interests_to(interest_id):\n",
    "    similarities = interest_similarities[interest_id]\n",
    "    pairs = [(unique_interests[other_interest_id], similarity)\n",
    "              for other_interest_id, similarity in enumerate(similarities)\n",
    "              if interest_id != other_interest_id and similarity > 0]\n",
    "    return sorted(pairs, key=lambda (_, similarity): similarity, reverse=True)\n",
    "\n",
    "most_similar_interests_to(0)"
   ]
  },
  {
   "cell_type": "markdown",
   "metadata": {},
   "source": [
    "Now we can create recommendations for a user by summoning up the similarities of the interests similar to hers:"
   ]
  },
  {
   "cell_type": "code",
   "execution_count": 74,
   "metadata": {
    "collapsed": false
   },
   "outputs": [
    {
     "data": {
      "text/plain": [
       "[('MapReduce', 1.861807319565799),\n",
       " ('Postgres', 1.3164965809277263),\n",
       " ('MongoDB', 1.3164965809277263),\n",
       " ('NoSQL', 1.2844570503761732),\n",
       " ('programming languages', 0.5773502691896258),\n",
       " ('MySQL', 0.5773502691896258),\n",
       " ('Haskell', 0.5773502691896258),\n",
       " ('databases', 0.5773502691896258),\n",
       " ('neural networks', 0.4082482904638631),\n",
       " ('deep learning', 0.4082482904638631),\n",
       " ('C++', 0.4082482904638631),\n",
       " ('artificial intelligence', 0.4082482904638631),\n",
       " ('Python', 0.2886751345948129),\n",
       " ('R', 0.2886751345948129)]"
      ]
     },
     "execution_count": 74,
     "metadata": {},
     "output_type": "execute_result"
    }
   ],
   "source": [
    "def item_based_suggestions(user_id, include_current_interests=False):\n",
    "    # add up the similar interests\n",
    "    suggestions = defaultdict(float)\n",
    "    user_interest_vector = user_interest_matrix[user_id]\n",
    "    for interest_id, is_interested in enumerate(user_interest_vector):\n",
    "        if is_interested == 1:\n",
    "            similar_interests = most_similar_interests_to(interest_id)\n",
    "            for interest, similarity in similar_interests:\n",
    "                suggestions[interest] += similarity\n",
    "    # sort them by weight \n",
    "    suggestions = sorted(suggestions.items(),\n",
    "                         key=lambda (_, similarity): similarity, reverse=True)\n",
    "    if include_current_interests:\n",
    "        return suggestions\n",
    "    else:\n",
    "        return [(suggestion, weight) for suggestion, weight in suggestions\n",
    "                if suggestion not in users_interests[user_id]]\n",
    "    \n",
    "item_based_suggestions(0)"
   ]
  },
  {
   "cell_type": "markdown",
   "metadata": {},
   "source": [
    "## For Further Exploration"
   ]
  },
  {
   "cell_type": "markdown",
   "metadata": {},
   "source": [
    "- [Crab](https://muricoca.github.io/crab/) is a framework for building recommender systems in Python.\n",
    "- Graphlab also has a [recommender toolkit](https://dato.com/products/create/docs/graphlab.toolkits.recommender.html).\n",
    "- The [Netflix Prize](http://www.netflixprize.com/) was a somewhat famous competition to build a better system of recommending movies to Netflix users."
   ]
  }
 ],
 "metadata": {
  "kernelspec": {
   "display_name": "Python 2",
   "language": "python",
   "name": "python2"
  },
  "language_info": {
   "codemirror_mode": {
    "name": "ipython",
    "version": 2
   },
   "file_extension": ".py",
   "mimetype": "text/x-python",
   "name": "python",
   "nbconvert_exporter": "python",
   "pygments_lexer": "ipython2",
   "version": "2.7.12"
  }
 },
 "nbformat": 4,
 "nbformat_minor": 1
}
