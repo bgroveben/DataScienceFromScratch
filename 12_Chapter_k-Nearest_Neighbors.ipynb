{
 "cells": [
  {
   "cell_type": "markdown",
   "metadata": {},
   "source": [
    "# Chapter 12. k-Nearest Neighbors"
   ]
  },
  {
   "cell_type": "code",
   "execution_count": 87,
   "metadata": {
    "collapsed": true
   },
   "outputs": [],
   "source": [
    "from __future__ import division\n",
    "from collections import Counter\n",
    "from linear_algebra import distance\n",
    "from statistics import mean\n",
    "import math, random\n",
    "import matplotlib.pyplot as plt"
   ]
  },
  {
   "cell_type": "markdown",
   "metadata": {},
   "source": [
    "Imagine that you're trying to predict how I'm going to vote in the next presidential election.  \n",
    "If you know nothing else about me, one sensible approach is to look at how my *neighbors* are planning to vote.  \n",
    "Now imagine that you know more about me than just geography -- my age, my income, marital status, and so on.  \n",
    "To the extent that my behavior is influenced (or characterized) by those things, looking just at my neighbors who are close to me among all of those dimensions seems likely to be an even better predictor than looking at all of my neighbors.  \n",
    "This is the idea behind [nearest neighbors classification](https://en.wikipedia.org/wiki/K-nearest_neighbors_algorithm)."
   ]
  },
  {
   "cell_type": "markdown",
   "metadata": {},
   "source": [
    "## The Model"
   ]
  },
  {
   "cell_type": "markdown",
   "metadata": {
    "collapsed": true
   },
   "source": [
    "Nearest neighbors requires:\n",
    "- Some notion of distance.\n",
    "- An assumption that points that are close to one another are similar. "
   ]
  },
  {
   "cell_type": "markdown",
   "metadata": {},
   "source": [
    "KNN deliberately neglects a lot of information, since the prediction for each new point depends only on the handful of points closest to it.  \n",
    "What's more, KNN is probably not going to help you understand the drivers of whatever phenomenon you're looking at.  \n",
    "In the general situation, we have some data points and a corresponding set of labels that can be binary (eg.T/F), categorical, or numeric.  "
   ]
  },
  {
   "cell_type": "markdown",
   "metadata": {},
   "source": [
    "For our example, the data points will be vectors, so we can use the `distance` function from Chapter 4.  \n",
    "Let's say we've picked a number `k` like 3 or 5.  \n",
    "When we want to classify some new data point, we find the `k` nearest labeled points and let them vote on the new output.  \n",
    "To do this, we need a function that counts votes:"
   ]
  },
  {
   "cell_type": "code",
   "execution_count": 88,
   "metadata": {
    "collapsed": true
   },
   "outputs": [],
   "source": [
    "def raw_majority_vote(labels):\n",
    "    votes = Counter(labels)\n",
    "    winner, _ = votes.most_common(1)[0]\n",
    "    return winner"
   ]
  },
  {
   "cell_type": "markdown",
   "metadata": {},
   "source": [
    "That's a good start, but what about tie votes?  \n",
    "We have several options:\n",
    "- Pick one of the winners at random.\n",
    "- Weight the votes by distance and pick the weighted winner.\n",
    "- Reduce `k` until we find a unique winner.  \n",
    "\n",
    "Let's implement the third option:"
   ]
  },
  {
   "cell_type": "code",
   "execution_count": 89,
   "metadata": {
    "collapsed": true
   },
   "outputs": [],
   "source": [
    "def majority_vote(labels):\n",
    "    \"\"\" assumes that labels are ordered from nearest to farthest \"\"\"\n",
    "    vote_counts = Counter(labels)\n",
    "    winner, winner_count = vote_counts.most_common(1)[0]\n",
    "    num_winners = len([count for count in vote_counts.values() if count == winner_count])\n",
    "    if num_winners == 1:\n",
    "        return winner   # unique winner, so return it\n",
    "    else:\n",
    "        return majority_vote(labels[:-1])   # try again without the furthest data point"
   ]
  },
  {
   "cell_type": "markdown",
   "metadata": {},
   "source": [
    "This approach will work eventually, since in the worst case we go all the way down to just one label, at which point that one label wins.  \n",
    "With this function, it's easy to create a classifier:"
   ]
  },
  {
   "cell_type": "code",
   "execution_count": 90,
   "metadata": {
    "collapsed": true
   },
   "outputs": [],
   "source": [
    "def knn_classify(k, labeled_points, new_point):\n",
    "    \"\"\" each labeled point should be a pair (point, label) \"\"\"\n",
    "    # order the labeled points from nearest to farthest\n",
    "    by_distance = sorted(labeled_points,\n",
    "                         key=lambda (point, _):\n",
    "                         distance(point, new_point))\n",
    "    # find the labels for the closest k\n",
    "    k_nearest_labels = [label for _, label in by_distance[:k]]\n",
    "    # and let them vote\n",
    "    return majority_vote(k_nearest_labels)"
   ]
  },
  {
   "cell_type": "markdown",
   "metadata": {},
   "source": [
    "Let's take a look at how this works."
   ]
  },
  {
   "cell_type": "markdown",
   "metadata": {},
   "source": [
    "## Example: Favorite Languages"
   ]
  },
  {
   "cell_type": "markdown",
   "metadata": {
    "collapsed": true
   },
   "source": [
    "The results of the DataSciencester user survey are back, and we have found the preferred programming languages of our users in a number of large cities:"
   ]
  },
  {
   "cell_type": "code",
   "execution_count": 91,
   "metadata": {
    "collapsed": true
   },
   "outputs": [],
   "source": [
    "# each entry is ([longitude, latitude], favorite_language)\n",
    "cities = [(-86.75,33.5666666666667,'Python'),\n",
    "          (-88.25,30.6833333333333,'Python'),\n",
    "          (-112.016666666667,33.4333333333333,'Java'),\n",
    "          (-110.933333333333,32.1166666666667,'Java'),\n",
    "          (-92.2333333333333,34.7333333333333,'R'),\n",
    "          (-121.95,37.7,'R'),\n",
    "          (-118.15,33.8166666666667,'Python'),\n",
    "          (-118.233333333333,34.05,'Java'),\n",
    "          (-122.316666666667,37.8166666666667,'R'),\n",
    "          (-117.6,34.05,'Python'),\n",
    "          (-116.533333333333,33.8166666666667,'Python'),\n",
    "          (-121.5,38.5166666666667,'R'),\n",
    "          (-117.166666666667,32.7333333333333,'R'),\n",
    "          (-122.383333333333,37.6166666666667,'R'),\n",
    "          (-121.933333333333,37.3666666666667,'R'),\n",
    "          (-122.016666666667,36.9833333333333,'Python'),\n",
    "          (-104.716666666667,38.8166666666667,'Python'),\n",
    "          (-104.866666666667,39.75,'Python'),\n",
    "          (-72.65,41.7333333333333,'R'),\n",
    "          (-75.6,39.6666666666667,'Python'),\n",
    "          (-77.0333333333333,38.85,'Python'),\n",
    "          (-80.2666666666667,25.8,'Java'),\n",
    "          (-81.3833333333333,28.55,'Java'),\n",
    "          (-82.5333333333333,27.9666666666667,'Java'),\n",
    "          (-84.4333333333333,33.65,'Python'),\n",
    "          (-116.216666666667,43.5666666666667,'Python'),\n",
    "          (-87.75,41.7833333333333,'Java'),\n",
    "          (-86.2833333333333,39.7333333333333,'Java'),\n",
    "          (-93.65,41.5333333333333,'Java'),\n",
    "          (-97.4166666666667,37.65,'Java'),\n",
    "          (-85.7333333333333,38.1833333333333,'Python'),\n",
    "          (-90.25,29.9833333333333,'Java'),\n",
    "          (-70.3166666666667,43.65,'R'),\n",
    "          (-76.6666666666667,39.1833333333333,'R'),\n",
    "          (-71.0333333333333,42.3666666666667,'R'),\n",
    "          (-72.5333333333333,42.2,'R'),\n",
    "          (-83.0166666666667,42.4166666666667,'Python'),\n",
    "          (-84.6,42.7833333333333,'Python'),\n",
    "          (-93.2166666666667,44.8833333333333,'Python'),\n",
    "          (-90.0833333333333,32.3166666666667,'Java'),\n",
    "          (-94.5833333333333,39.1166666666667,'Java'),\n",
    "          (-90.3833333333333,38.75,'Python'),\n",
    "          (-108.533333333333,45.8,'Python'),\n",
    "          (-95.9,41.3,'Python'),\n",
    "          (-115.166666666667,36.0833333333333,'Java'),\n",
    "          (-71.4333333333333,42.9333333333333,'R'),\n",
    "          (-74.1666666666667,40.7,'R'),\n",
    "          (-106.616666666667,35.05,'Python'),\n",
    "          (-78.7333333333333,42.9333333333333,'R'),\n",
    "          (-73.9666666666667,40.7833333333333,'R'),\n",
    "          (-80.9333333333333,35.2166666666667,'Python'),\n",
    "          (-78.7833333333333,35.8666666666667,'Python'),\n",
    "          (-100.75,46.7666666666667,'Java'),\n",
    "          (-84.5166666666667,39.15,'Java'),\n",
    "          (-81.85,41.4,'Java'),\n",
    "          (-82.8833333333333,40,'Java'),\n",
    "          (-97.6,35.4,'Python'),\n",
    "          (-122.666666666667,45.5333333333333,'Python'),\n",
    "          (-75.25,39.8833333333333,'Python'),\n",
    "          (-80.2166666666667,40.5,'Python'),\n",
    "          (-71.4333333333333,41.7333333333333,'R'),\n",
    "          (-81.1166666666667,33.95,'R'),\n",
    "          (-96.7333333333333,43.5666666666667,'Python'),\n",
    "          (-90,35.05,'R'),\n",
    "          (-86.6833333333333,36.1166666666667,'R'),\n",
    "          (-97.7,30.3,'Python'),(-96.85,32.85,'Java'),\n",
    "          (-95.35,29.9666666666667,'Java'),\n",
    "          (-98.4666666666667,29.5333333333333,'Java'),\n",
    "          (-111.966666666667,40.7666666666667,'Python'),\n",
    "          (-73.15,44.4666666666667,'R'),\n",
    "          (-77.3333333333333,37.5,'Python'),\n",
    "          (-122.3,47.5333333333333,'Python'),\n",
    "          (-89.3333333333333,43.1333333333333,'R'),\n",
    "          (-104.816666666667,41.15,'Java')]\n",
    "\n",
    "cities = [([longitude, latitude], language) for longitude, latitude, language in cities]\n",
    "def plot_state_borders(plt, color='0.8'):\n",
    "    # Plotting state borders requires a bit of homework, so I'm skipping that for now.\n",
    "    # http://matplotlib.org/basemap/users/geography.html\n",
    "    # http://matplotlib.org/basemap/users/examples.html\n",
    "    pass"
   ]
  },
  {
   "cell_type": "markdown",
   "metadata": {},
   "source": [
    "The VP of Community Engagement wants to know if we can use these results to predict the favorite programming languages for places that *weren't* part of the survey.  \n",
    "As usual, a good first step is plotting the data:"
   ]
  },
  {
   "cell_type": "code",
   "execution_count": 92,
   "metadata": {
    "collapsed": false
   },
   "outputs": [
    {
     "data": {
      "image/png": "[encoded data removed]",
      "text/plain": [
       "<matplotlib.figure.Figure at 0x112013fd0>"
      ]
     },
     "metadata": {},
     "output_type": "display_data"
    }
   ],
   "source": [
    "# key is language, value is pair (longitudes, latitudes)\n",
    "plots = { \"Java\" : ([], []), \"Python\" : ([], []), \"R\" : ([], []) }\n",
    "# we want each language to have a different marker and color \n",
    "markers = { \"Java\" : \"o\", \"Python\" : \"s\", \"R\" : \"^\" }\n",
    "colors  = { \"Java\" : \"r\", \"Python\" : \"b\", \"R\" : \"g\" }\n",
    "for (longitude, latitude), language in cities:\n",
    "    plots[language][0].append(longitude)\n",
    "    plots[language][1].append(latitude)\n",
    "# create a scatter series for each language\n",
    "for language, (x, y) in plots.iteritems():\n",
    "    plt.scatter(x, y, color=colors[language], marker=markers[language], label=language, zorder=10)\n",
    "plot_state_borders(plt)     # pretend we have a function that does this\n",
    "plt.legend(loc=0)           # let matplotlib choose the location\n",
    "plt.axis([-130,-60,20,75])  # set the axes\n",
    "plt.title(\"Favorite Programming Languages\")\n",
    "plt.show()"
   ]
  },
  {
   "cell_type": "markdown",
   "metadata": {
    "collapsed": true
   },
   "source": [
    "It looks like nearby places tend to like the same language, so KNN seems like a reasonable choice for a predictive model.  \n",
    "For starters, let's look at what happens if we try to predict each city's preferred language using its neighbors other than itself:"
   ]
  },
  {
   "cell_type": "code",
   "execution_count": 93,
   "metadata": {
    "collapsed": false
   },
   "outputs": [
    {
     "name": "stdout",
     "output_type": "stream",
     "text": [
      "1 neighbor[s]: 40 correct out of 75\n",
      "3 neighbor[s]: 44 correct out of 75\n",
      "5 neighbor[s]: 41 correct out of 75\n",
      "7 neighbor[s]: 35 correct out of 75\n"
     ]
    }
   ],
   "source": [
    "# try several different values for k\n",
    "for k in [1,3,5,7]:\n",
    "    num_correct = 0\n",
    "    for city in cities:\n",
    "        location, actual_language = city\n",
    "        other_cities = [other_city for other_city in cities if other_city != city]\n",
    "        predicted_language = knn_classify(k, other_cities, location)\n",
    "        if predicted_language == actual_language:\n",
    "            num_correct += 1\n",
    "    print k, \"neighbor[s]:\", num_correct, \"correct out of\", len(cities)"
   ]
  },
  {
   "cell_type": "markdown",
   "metadata": {},
   "source": [
    "It appears that 3-nearest neighbors performs the best, giving the correct result ~59% of the time.  \n",
    "Now we can look at what regions would get classified to which languages under each nearest neighbors scheme.  \n",
    "That can be done by classifying and entire grid worth of points, and then plotting them as we did the cities:"
   ]
  },
  {
   "cell_type": "code",
   "execution_count": 97,
   "metadata": {
    "collapsed": false
   },
   "outputs": [
    {
     "data": {
      "image/png": "[encoded data removed]",
      "text/plain": [
       "<matplotlib.figure.Figure at 0x112f0a190>"
      ]
     },
     "metadata": {},
     "output_type": "display_data"
    }
   ],
   "source": [
    "plots = { \"Java\" : ([], []), \"Python\" : ([], []), \"R\" : ([], []) }\n",
    "k = 1  # or 3, 5, 7, and so on\n",
    "for longitude in range(-130, -60):\n",
    "    for latitude in range(20, 55):\n",
    "        predicted_language = knn_classify(k, cities, [longitude, latitude])\n",
    "        plots[predicted_language][0].append(longitude)\n",
    "        plots[predicted_language][1].append(latitude)\n",
    "# create a scatter series for each language\n",
    "for language, (x, y) in plots.iteritems():\n",
    "    plt.scatter(x, y, color=colors[language], marker=markers[language], label=language, zorder=10)\n",
    "plot_state_borders(plt)     # pretend we have a function that does this\n",
    "plt.legend(loc=0)           # let matplotlib choose the location\n",
    "plt.axis([-130,-60,20,75])  # set the axes\n",
    "plt.title(\"3-Nearest Neighbor Programming Language Predictions\")\n",
    "plt.show()       "
   ]
  },
  {
   "cell_type": "markdown",
   "metadata": {},
   "source": [
    "As you change `k` in the plot above from 1 to 3, 3 to 5, and so on, you will notice that the boundaries between programming languages become smoother."
   ]
  },
  {
   "cell_type": "markdown",
   "metadata": {},
   "source": [
    "## The Curse of Dimensionality"
   ]
  },
  {
   "cell_type": "code",
   "execution_count": null,
   "metadata": {
    "collapsed": true
   },
   "outputs": [],
   "source": []
  }
 ],
 "metadata": {
  "kernelspec": {
   "display_name": "Python 2",
   "language": "python",
   "name": "python2"
  },
  "language_info": {
   "codemirror_mode": {
    "name": "ipython",
    "version": 2
   },
   "file_extension": ".py",
   "mimetype": "text/x-python",
   "name": "python",
   "nbconvert_exporter": "python",
   "pygments_lexer": "ipython2",
   "version": "2.7.12"
  }
 },
 "nbformat": 4,
 "nbformat_minor": 1
}
