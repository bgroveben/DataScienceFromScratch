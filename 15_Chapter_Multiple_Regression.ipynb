{
 "cells": [
  {
   "cell_type": "markdown",
   "metadata": {},
   "source": [
    "# Chapter 15. Multiple Regression"
   ]
  },
  {
   "cell_type": "code",
   "execution_count": 8,
   "metadata": {
    "collapsed": true
   },
   "outputs": [],
   "source": [
    "from __future__ import division\n",
    "from collections import Counter\n",
    "from functools import partial\n",
    "from linear_algebra import dot, vector_add\n",
    "from statistics import median, standard_deviation\n",
    "from probability import normal_cdf\n",
    "from gradient_descent import minimize_stochastic\n",
    "from simple_linear_regression import total_sum_of_squares\n",
    "import math, random"
   ]
  },
  {
   "cell_type": "markdown",
   "metadata": {},
   "source": [
    "The VP is impressed by your simple regression model, but you know you can do better.  \n",
    "You start by collecting more data: for each user you get data on how many hours he works each day and whether he has a PhD.  \n",
    "You can use this additional data to improve your model.  \n",
    "Accordingly, you hypothesize a linear model with more independent variables:  \n",
    "\n",
    "$\\normalsize \\text{minutes} = \\alpha + \\beta_1 \\text{friends} + \\beta_2 \\text{work hours} + \\beta_3 \\text{PhD} + \\epsilon$  \n",
    "\n",
    "For the PhD category we can use a dummy variable (see Chapter 11) that equals 1 for users *with* a PhD and 0 for users *without* a PhD."
   ]
  },
  {
   "cell_type": "markdown",
   "metadata": {},
   "source": [
    "## The Model"
   ]
  },
  {
   "cell_type": "markdown",
   "metadata": {},
   "source": [
    "Recall that in Chapter 14 we fit a model of the form:  \n",
    "\n",
    "$\\Large y_i = \\alpha + \\beta x_i + \\epsilon_i$  \n",
    "\n",
    "Now imagine that each input $\\normalsize x_i$ is not a single number, but is instead a vector of $\\normalsize k$ numbers $\\normalsize \\;{x_i}_1, {x_i}_2, \\ldots, {x_i}_k$.  \n",
    "The multiple regression model assumes that:  \n",
    "\n",
    "$\\Large y_i = \\alpha + \\beta_1{x_i}_1 + \\ldots + \\beta_k{x_i}_k + \\epsilon_i$"
   ]
  },
  {
   "cell_type": "markdown",
   "metadata": {},
   "source": [
    "In multiple regression the vector of parameters is usually called $\\normalsize \\beta$.  \n",
    "We'll want this to include the constant term as well, which we can achieve by adding a column of ones to our data:"
   ]
  },
  {
   "cell_type": "raw",
   "metadata": {},
   "source": [
    "beta = [alpha, beta_1, ..., beta_k]"
   ]
  },
  {
   "cell_type": "markdown",
   "metadata": {},
   "source": [
    "and:"
   ]
  },
  {
   "cell_type": "raw",
   "metadata": {},
   "source": [
    "x_i = [1, x_i1, ..., x_ik]"
   ]
  },
  {
   "cell_type": "markdown",
   "metadata": {},
   "source": [
    "Then our model is:"
   ]
  },
  {
   "cell_type": "code",
   "execution_count": 9,
   "metadata": {
    "collapsed": true
   },
   "outputs": [],
   "source": [
    "def predict(x_i, beta):\n",
    "    \"\"\" assumes that the first element of each x_i is 1 \"\"\"\n",
    "    return dot(x_i, beta)"
   ]
  },
  {
   "cell_type": "markdown",
   "metadata": {},
   "source": [
    "In this particular case, our independent variable `x` will be a list of vectors, each of which looks like this:"
   ]
  },
  {
   "cell_type": "raw",
   "metadata": {},
   "source": [
    "[1,   # constant term\n",
    " 49,  # number of friends\n",
    " 4,   # work hours per day\n",
    " 0]   # doesn't have a PhD"
   ]
  },
  {
   "cell_type": "markdown",
   "metadata": {},
   "source": [
    "## Further Assumptions of the Least Squares Model"
   ]
  },
  {
   "cell_type": "markdown",
   "metadata": {},
   "source": [
    "There are two further assumptions that are required for this model, as well as our solution, to work."
   ]
  },
  {
   "cell_type": "markdown",
   "metadata": {},
   "source": [
    "### Assumption the First"
   ]
  },
  {
   "cell_type": "markdown",
   "metadata": {},
   "source": [
    "The columns of $x$ are [linearly independent](https://en.wikipedia.org/wiki/Linear_independence), meaning that there is no way to write any one as a weighted sum of some of the others.  \n",
    "If this assumption fails, there is no reliable way to estimate `beta`.  \n",
    "To illustrate this in an extreme case, imagine that we have an extra field `num_acquaintances` in our data that, for every user, was exactly equal to `num_friends`.  \n",
    "Then, starting with `beta`, if we add *any* amount to the `num_friends` coefficient and subtract the same amount from the `num_acquaintances` coefficient, the model's predictions will remain unchanged.  \n",
    "This means that there is no way to find *the* coefficient for `num_friends`.  \n",
    "Usually violations of this assumption won't be so obvious."
   ]
  },
  {
   "cell_type": "markdown",
   "metadata": {},
   "source": [
    "### Assumption the Second"
   ]
  },
  {
   "cell_type": "markdown",
   "metadata": {},
   "source": [
    "The columns of $x$ are all uncorrelated with the errors of $\\normalsize \\epsilon$.  \n",
    "If this fails to be the case, our estimates of `beta` will be systematically wrong.  \n",
    "For example, in Chapter 14, we built a model that predicted that each additional friend was associated with an extra 0.90 daily minutes on the site.  \n",
    "Imagine that it's also the case that:  \n",
    "- people who work more hours spend less time on the site.\n",
    "- people with more friends tend to work more hours.\n",
    "In math terms, imagine that the \"actual\" model is:  \n",
    "\n",
    "$\\large \\text{minutes} = \\alpha + \\beta_1 \\text{friends} + \\beta_2 \\text{work hours} + \\epsilon$  \n",
    "\n",
    "and that work hours and friends are positively correlated.  \n",
    "In that case, when we minimize the errors of the single variable model:  \n",
    "\n",
    "$\\large \\text{minutes} = \\alpha + \\beta_1 \\text{friends} + \\epsilon$.  \n",
    "\n",
    "we will underestimate $\\beta_1$."
   ]
  },
  {
   "cell_type": "markdown",
   "metadata": {},
   "source": [
    "Think about what would happen if we made predictions using the single variable model with the \"actual\" value of $\\beta_1$ (the value that arises from minimizing the errors of what we called the \"actual\" model).  \n",
    "The predictions would tend to be too small for users who work many hours and too large for users who work few hours, because $\\beta_2 > 0$ and we failed to include it.  \n",
    "Because work hours is positively correlated with number of friends, this means that the predictions tend to be too small for users with many friends and too large for users with few friends.  \n",
    "The result of this is that we can reduce the errors (in the single-variable model) by decreasing our estimate of $\\beta_1$, which means that the error-minimizing $\\beta_1$ is smaller than the \"actual\" value.  \n",
    "That is, in this case the single-variable least-squares solution is biased to underestimate $\\beta_1$.  \n",
    "And, in general, whenever the independent variables are correlated with the errors like this, our least squares solution will give us a biased estimate of $\\beta$."
   ]
  },
  {
   "cell_type": "markdown",
   "metadata": {},
   "source": [
    "## Fitting the Model"
   ]
  },
  {
   "cell_type": "code",
   "execution_count": null,
   "metadata": {
    "collapsed": true
   },
   "outputs": [],
   "source": []
  }
 ],
 "metadata": {
  "kernelspec": {
   "display_name": "Python 2",
   "language": "python",
   "name": "python2"
  },
  "language_info": {
   "codemirror_mode": {
    "name": "ipython",
    "version": 2
   },
   "file_extension": ".py",
   "mimetype": "text/x-python",
   "name": "python",
   "nbconvert_exporter": "python",
   "pygments_lexer": "ipython2",
   "version": "2.7.12"
  }
 },
 "nbformat": 4,
 "nbformat_minor": 1
}
