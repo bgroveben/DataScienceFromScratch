{
 "cells": [
  {
   "cell_type": "markdown",
   "metadata": {},
   "source": [
    "# Chapter 23. Databases and SQL"
   ]
  },
  {
   "cell_type": "code",
   "execution_count": 1,
   "metadata": {
    "collapsed": true
   },
   "outputs": [],
   "source": [
    "from __future__ import division\n",
    "import math, random, re\n",
    "from collections import defaultdict"
   ]
  },
  {
   "cell_type": "markdown",
   "metadata": {},
   "source": [
    "The data that you will be working with will often live in [databases](https://en.wikipedia.org/wiki/Database), systems designed for efficiently storing and querying data.  \n",
    "The bulk of these are [relational databases](https://en.wikipedia.org/wiki/Relational_database) such as [Oracle](https://en.wikipedia.org/wiki/Oracle_Database), [MySQL](https://en.wikipedia.org/wiki/MySQL), and [SQL Server](https://en.wikipedia.org/wiki/Microsoft_SQL_Server), which store data in [tables](https://en.wikipedia.org/wiki/Table_%28database%29) and are typically queried using [Structured Query Language (SQL)](https://en.wikipedia.org/wiki/SQL), a [declarative language](https://en.wikipedia.org/wiki/SQL) for manipulating data.  \n",
    "SQL is an essential part of a data scientist's toolkit.  \n",
    "In this chapter, we'll create NotQuiteABase, a Python implementation of something that's not quite a database.  \n",
    "We'll also cover the basics of SQL while demonstrating how those principles work in NotQuiteABase.  \n",
    "Hopefully, solving problems in NotQuiteABase will give you a good sense of how you might solve the same problems using SQL."
   ]
  },
  {
   "cell_type": "markdown",
   "metadata": {},
   "source": [
    "## CREATE TABLE and INSERT"
   ]
  },
  {
   "cell_type": "markdown",
   "metadata": {},
   "source": [
    "A relational database is a collection of tables and the relationships among those tables.  \n",
    "A table is simply a collection of rows, not unlike the matrices we've been working with.  \n",
    "However, a table also has a fixed [database schema](https://en.wikipedia.org/wiki/Database_schema) consisting of column names and column types.  \n",
    "For example, imagine a `users` data set containing (for each user) her `user_id, name,` and `num_friends`:"
   ]
  },
  {
   "cell_type": "raw",
   "metadata": {},
   "source": [
    "users = [[0, \"Hero\", 0],\n",
    "         [1, \"Dunn\", 1],\n",
    "         [2, \"Sue\", 3],\n",
    "         [3, \"Chi\", 3]]"
   ]
  },
  {
   "cell_type": "markdown",
   "metadata": {},
   "source": [
    "In SQL, we might create this table with:"
   ]
  },
  {
   "cell_type": "raw",
   "metadata": {},
   "source": [
    "CREATE TABLE users (\n",
    "    user_id INT NOT NULL,\n",
    "    name VARCHAR(200),\n",
    "    num_friends INT);"
   ]
  },
  {
   "cell_type": "markdown",
   "metadata": {},
   "source": [
    "Notice that we specified that the `user_id` and `num_friends` must be integers (and that `user_id` can't be NULL, which indicates a missing value and is sort of like Python's `None`) and that the name should be a string of length 200 or less.  \n",
    "NotQuiteABase won't take types into account, but we'll behave as if it did.  \n",
    "Also SQL doesn't usually care about case (you don't have to capitalize SELECT or GROUP BY) or indentation, so the style you use here will probably be different than styles you encounter elsewhere."
   ]
  },
  {
   "cell_type": "markdown",
   "metadata": {},
   "source": [
    "You can insert the rows with INSERT statements:"
   ]
  },
  {
   "cell_type": "raw",
   "metadata": {},
   "source": [
    "INSERT INTO users (user_id, name, num_friends) VALUES\n",
    "(0, 'Hero', 0);"
   ]
  },
  {
   "cell_type": "markdown",
   "metadata": {},
   "source": [
    "Notice also that SQL statements need to end with semicolons, and that SQL requires single quotes for its strings.  \n",
    "In NotQuiteABase, you'll create a `Table` simply by specifying the names of its columns.  \n",
    "To insert a row, you'll use the table's `insert()` method, which takes a `list` of row values that need to be in the same order as the table's column names.  \n",
    "Behind the scenes, we'll store each row as a `dict` from column names to values.  \n",
    "A real database would never use such a space-wasting representation, but doing so will make NotQuiteABase much easier to work with:"
   ]
  },
  {
   "cell_type": "code",
   "execution_count": 2,
   "metadata": {
    "collapsed": false
   },
   "outputs": [],
   "source": [
    "# For reasons I haven't figured out yet, the notebook gives me attitude when I separate the function definition cells\n",
    "# from the cell that the class is defined in, so here is the entire class definition.\n",
    "# I will cover the function definitions and their descriptions/explanations below as the chapter progresses.\n",
    "\n",
    "class Table:\n",
    "\n",
    "\n",
    "    def __init__(self, columns):\n",
    "        self.columns = columns\n",
    "        self.rows = []\n",
    "\n",
    "\n",
    "    def __repr__(self):\n",
    "        \"\"\" pretty representation of the table: first columns then rows \"\"\"\n",
    "        return str(self.columns) + \"\\n\" + \"\\n\".join(map(str, self.rows))\n",
    "\n",
    "\n",
    "    def __getitem__(self, user):\n",
    "        \"\"\" return row for specified user: users[user] \"\"\"\n",
    "        return self.rows[user]\n",
    "\n",
    "\n",
    "    def insert(self, row_values):\n",
    "        if len(row_values) != len(self.columns):\n",
    "            raise TypeError(\"Wrong Number of Elements\")\n",
    "        row_dict = dict(zip(self.columns, row_values))\n",
    "        self.rows.append(row_dict)\n",
    "\n",
    "\n",
    "    def update(self, updates, predicate):\n",
    "        for row in self.rows:\n",
    "            if predicate(row):\n",
    "                for column, new_value in updates.iteritems():\n",
    "                    row[column] = new_value\n",
    "\n",
    "\n",
    "    def delete(self, predicate=lambda row: True):\n",
    "        \"\"\" delete all rows matching predicate or all rows if no predicate is given \"\"\"\n",
    "        self.rows = [row for row in self.rows if not(predicat(row))]\n",
    "\n",
    "\n",
    "    def select(self, keep_columns=None, additional_columns=None):\n",
    "        # if no columns are specified, return all columns\n",
    "        if keep_columns is None:\n",
    "            keep_columns = self.columns\n",
    "        if additional_columns is None:\n",
    "            additional_columns = {}\n",
    "\n",
    "        # create new table for results\n",
    "        result_table = Table(keep_columns + additional_columns.keys())\n",
    "\n",
    "        for row in self.rows:\n",
    "            new_row = [row[column] for column in keep_columns]\n",
    "            for column_name, calculation in additional_columns.iteritems():\n",
    "                new_row.append(calculation(row))\n",
    "            result_table.insert(new_row)\n",
    "\n",
    "        return result_table\n",
    "\n",
    "\n",
    "    def where(self, predicate=lambda row: True):\n",
    "        \"\"\" return only the rows that satisfy the supplied predicate \"\"\"\n",
    "        where_table = Table(self.columns)\n",
    "        where_table.rows = filter(predicate, self.rows)\n",
    "        return where_table\n",
    "\n",
    "\n",
    "    def limit(self, num_rows=None):\n",
    "        \"\"\" return only the first num_rows rows \"\"\"\n",
    "        limit_table = Table(self.columns)\n",
    "        limit_table.rows = (self.rows[:num_rows]\n",
    "                            if num_rows is not None\n",
    "                            else self.rows)\n",
    "        return limit_table\n",
    "\n",
    "\n",
    "    def group_by(self, group_by_columns, aggregates, having=None):\n",
    "\n",
    "        grouped_rows = defaultdict(list)\n",
    "\n",
    "        # populate groups\n",
    "        for row in self.rows:\n",
    "            key = tuple(row[column] for column in group_by_columns)\n",
    "            grouped_rows[key].append(row)\n",
    "            \n",
    "        # result table consists of group_by columns and aggregates\n",
    "        result_table = Table(group_by_columns + aggregates.keys())\n",
    "\n",
    "        for key, rows in grouped_rows.iteritems():\n",
    "            if having is None or having(rows):\n",
    "                new_row = list(key)\n",
    "                for aggregate_name, aggregate_fn in aggregates.iteritems():\n",
    "                    new_row.append(aggregate_fn(rows))\n",
    "                result_table.insert(new_row)\n",
    "\n",
    "        return result_table\n",
    "\n",
    "\n",
    "    def order_by(self, order):\n",
    "        # make a copy of the table\n",
    "        new_table = self.select()\n",
    "        new_table.rows.sort(key=order)\n",
    "        return new_table\n",
    "\n",
    "\n",
    "    def join(self, other_table, left_join=False):\n",
    "        # join on columns in both tables\n",
    "        join_on_columns = [c for c in self.columns\n",
    "                           if c in other_table.columns]\n",
    "        # join on columns only in right table\n",
    "        additional_columns = [c for c in other_table.columns\n",
    "                              if c not in join_on_columns]\n",
    "        # join all columns from left table + additional_columns from right table\n",
    "        join_table = Table(self.columns + additional_columns)\n",
    "\n",
    "        for row in self.rows:\n",
    "\n",
    "            def is_join(other_row):\n",
    "                return all(other_row[c] == row[c] for c in join_on_columns)\n",
    "\n",
    "            other_rows = other_table.where(is_join).rows\n",
    "\n",
    "            # each other row that matches this one produces a result row\n",
    "            for other_row in other_rows:\n",
    "                join_table.insert([row[c] for c in self.columns] +\n",
    "                                  [other_row[c] for c in additional_columns])\n",
    "            # if no rows match and it's a left join, output with Nones\n",
    "            if left_join and not other_rows:\n",
    "                join_table.insert([row[c] for c in self.columns] +\n",
    "                                  [None for c in additional_columns])\n",
    "\n",
    "        return join_table"
   ]
  },
  {
   "cell_type": "markdown",
   "metadata": {},
   "source": [
    "For example, we could set up:"
   ]
  },
  {
   "cell_type": "code",
   "execution_count": 3,
   "metadata": {
    "collapsed": true
   },
   "outputs": [],
   "source": [
    "    users = Table([\"user_id\", \"name\", \"num_friends\"])\n",
    "    users.insert([0, \"Hero\", 0])\n",
    "    users.insert([1, \"Dunn\", 2])\n",
    "    users.insert([2, \"Sue\", 3])\n",
    "    users.insert([3, \"Chi\", 3])\n",
    "    users.insert([4, \"Thor\", 3])\n",
    "    users.insert([5, \"Clive\", 2])\n",
    "    users.insert([6, \"Hicks\", 3])\n",
    "    users.insert([7, \"Devin\", 2])\n",
    "    users.insert([8, \"Kate\", 2])\n",
    "    users.insert([9, \"Klein\", 3])\n",
    "    users.insert([10, \"Jen\", 1])"
   ]
  },
  {
   "cell_type": "code",
   "execution_count": 4,
   "metadata": {
    "collapsed": false
   },
   "outputs": [
    {
     "name": "stdout",
     "output_type": "stream",
     "text": [
      "['user_id', 'name', 'num_friends']\n",
      "{'user_id': 0, 'name': 'Hero', 'num_friends': 0}\n",
      "{'user_id': 1, 'name': 'Dunn', 'num_friends': 2}\n",
      "{'user_id': 2, 'name': 'Sue', 'num_friends': 3}\n",
      "{'user_id': 3, 'name': 'Chi', 'num_friends': 3}\n",
      "{'user_id': 4, 'name': 'Thor', 'num_friends': 3}\n",
      "{'user_id': 5, 'name': 'Clive', 'num_friends': 2}\n",
      "{'user_id': 6, 'name': 'Hicks', 'num_friends': 3}\n",
      "{'user_id': 7, 'name': 'Devin', 'num_friends': 2}\n",
      "{'user_id': 8, 'name': 'Kate', 'num_friends': 2}\n",
      "{'user_id': 9, 'name': 'Klein', 'num_friends': 3}\n",
      "{'user_id': 10, 'name': 'Jen', 'num_friends': 1}\n"
     ]
    }
   ],
   "source": [
    "print users"
   ]
  },
  {
   "cell_type": "markdown",
   "metadata": {},
   "source": [
    "## UPDATE"
   ]
  },
  {
   "cell_type": "markdown",
   "metadata": {},
   "source": [
    "Sometimes you need to update the data that's already in the database.  \n",
    "For instance, if Dunn acquires another friend, you might need to do this:"
   ]
  },
  {
   "cell_type": "raw",
   "metadata": {},
   "source": [
    "UPDATE users\n",
    "SET num_friends = 3\n",
    "WHERE user_id = 1;"
   ]
  },
  {
   "cell_type": "markdown",
   "metadata": {},
   "source": [
    "The key features are:\n",
    "- What table to update \n",
    "- Which rows to update\n",
    "- Which fields to update\n",
    "- What their new values should be  \n",
    "\n",
    "We'll add a similar `update` method to NotQuiteABase.  \n",
    "Its first argument will be a `dict` whose keys are the columns to update and whose values are the new values for those fields.  \n",
    "Its second argument is a [predicate](https://en.wikipedia.org/wiki/Predicate_%28mathematical_logic%29) that returns `True` for rows that should be updated, `False` otherwise:"
   ]
  },
  {
   "cell_type": "code",
   "execution_count": 5,
   "metadata": {
    "collapsed": true
   },
   "outputs": [],
   "source": [
    "def update(self, updates, predicate):\n",
    "    for row in self.rows:\n",
    "        if predicate(row):\n",
    "            for column, new_value in updates.iteritems():\n",
    "                row[column] = new_value"
   ]
  },
  {
   "cell_type": "markdown",
   "metadata": {},
   "source": [
    "Now when Dunn makes a new friend and we want to update his information, we can do this:"
   ]
  },
  {
   "cell_type": "code",
   "execution_count": 6,
   "metadata": {
    "collapsed": false
   },
   "outputs": [
    {
     "data": {
      "text/plain": [
       "{'name': 'Dunn', 'num_friends': 3, 'user_id': 1}"
      ]
     },
     "execution_count": 6,
     "metadata": {},
     "output_type": "execute_result"
    }
   ],
   "source": [
    "# set num_friends = 3 in rows where user_id == 1\n",
    "users.update({'num_friends' : 3 }, lambda row: row['user_id'] == 1)\n",
    "users[1]"
   ]
  },
  {
   "cell_type": "markdown",
   "metadata": {},
   "source": [
    "## DELETE"
   ]
  },
  {
   "cell_type": "markdown",
   "metadata": {},
   "source": [
    "There are two ways to delete rows from a table in SQL.  \n",
    "The dangerous way deletes every row from a table:"
   ]
  },
  {
   "cell_type": "raw",
   "metadata": {},
   "source": [
    "DELETE FROM users;"
   ]
  },
  {
   "cell_type": "markdown",
   "metadata": {},
   "source": [
    "The less dangerous way adds a WHERE clause and only deletes rows that match a certain condition:"
   ]
  },
  {
   "cell_type": "raw",
   "metadata": {},
   "source": [
    "DELETE FROM users WHERE user_id = 1;"
   ]
  },
  {
   "cell_type": "markdown",
   "metadata": {},
   "source": [
    "Let's add this functionality to our `Table`:"
   ]
  },
  {
   "cell_type": "code",
   "execution_count": 7,
   "metadata": {
    "collapsed": true
   },
   "outputs": [],
   "source": [
    "def delete(self, predicate=lambda row: True):\n",
    "    \"\"\" deletes all rows matching the predicate or all rows if no predicate is specified \"\"\"\n",
    "    self.rows = [row for row in self.rows if not(predicate(row))]"
   ]
  },
  {
   "cell_type": "markdown",
   "metadata": {},
   "source": [
    "For example: "
   ]
  },
  {
   "cell_type": "raw",
   "metadata": {},
   "source": [
    "#!# delete row with user_id == 1\n",
    "users.delete(lambda row: row[\"user_id\"] == 1\n",
    "\n",
    "#!# delete every row\n",
    "users.delete()"
   ]
  },
  {
   "cell_type": "markdown",
   "metadata": {},
   "source": [
    "## SELECT"
   ]
  },
  {
   "cell_type": "markdown",
   "metadata": {},
   "source": [
    "Typically you don't inspect SQL tables directly.  \n",
    "Instead you query them with a SELECT statement:"
   ]
  },
  {
   "cell_type": "raw",
   "metadata": {},
   "source": [
    "## get the entire contents of a table\n",
    "SELECT * FROM users;\n",
    "\n",
    "## get the first two rows\n",
    "SELECT * FROM users LIMIT 2;\n",
    "\n",
    "## only get specific columns\n",
    "SELECT user_id FROM users;\n",
    "\n",
    "## only get specific rows\n",
    "SELECT user_id FROM users WHERE name = 'Dunn';"
   ]
  },
  {
   "cell_type": "markdown",
   "metadata": {},
   "source": [
    "You can also use SELECT statements to calculate fields:"
   ]
  },
  {
   "cell_type": "raw",
   "metadata": {},
   "source": [
    "SELECT LENGTH(name) AS name_length FROM users;"
   ]
  },
  {
   "cell_type": "markdown",
   "metadata": {},
   "source": [
    "We'll give our `Table` class a `select()` method that returns a new `Table`.  \n",
    "This method accepts two optional arguments:\n",
    "- `keep_columns` specifies the name of the columns that you want to keep in the result. If you don't supply it, the result contains all of the columns.\n",
    "- `additional_columns` is a `dict` whose keys are new column names and whose values are functions specifying how to compute the values of the new columns.  \n",
    "\n",
    "If you were to supply neither of those arguments, you would simply get back a copy of the table:"
   ]
  },
  {
   "cell_type": "code",
   "execution_count": 8,
   "metadata": {
    "collapsed": true
   },
   "outputs": [],
   "source": [
    "def select(self, keep_columns=None, additional_columns=None):\n",
    "    # if no columns are specified \n",
    "    if keep_columns is None:\n",
    "        # return all columns\n",
    "        keep_columns = self.columns \n",
    "    \n",
    "    if additional_columns is None:\n",
    "        additional_columns = {}\n",
    "    \n",
    "    # new table for results \n",
    "    result_table = Table(keep_columns + additional_columns.keys())\n",
    "    \n",
    "    for row in self.rows:\n",
    "        new_row = [row[column] for column in keep_columns]\n",
    "        for column_name, calculation in additional_columns.iteritems():\n",
    "            new_row.append(calculation(row))\n",
    "        result_table.insert(new_row)\n",
    "        \n",
    "    return result_table"
   ]
  },
  {
   "cell_type": "markdown",
   "metadata": {},
   "source": [
    "Our `select()` method returns a new `Table`, while the typical SQL `SELECT` just produces some sort of transient result set (unless you explicitly insert the results into a table)."
   ]
  },
  {
   "cell_type": "markdown",
   "metadata": {},
   "source": [
    "We're also going to need `where()` and `limit()` methods:"
   ]
  },
  {
   "cell_type": "code",
   "execution_count": 9,
   "metadata": {
    "collapsed": true
   },
   "outputs": [],
   "source": [
    "def where(self, predicate=lambda row: True):\n",
    "    \"\"\" return only those rows that satisfy the supplied predicate \"\"\"\n",
    "    where_table = Table(self.columns)\n",
    "    where_table.rows = filter(predicate, self.rows)\n",
    "    return where_table\n",
    "\n",
    "def limit(self, num_rows):\n",
    "    \"\"\" return only the first num_rows rows \"\"\"\n",
    "    limit_table = Table(self.columns)\n",
    "    limit_table.rows = self.rows[:num_rows]\n",
    "    return limit_table"
   ]
  },
  {
   "cell_type": "markdown",
   "metadata": {},
   "source": [
    "Now we can construct NotQuiteABase equivalents for the preceding SQL statements:"
   ]
  },
  {
   "cell_type": "code",
   "execution_count": 10,
   "metadata": {
    "collapsed": false
   },
   "outputs": [
    {
     "name": "stdout",
     "output_type": "stream",
     "text": [
      "SELECT * FROM users;\n",
      "['user_id', 'name', 'num_friends']\n",
      "{'user_id': 0, 'name': 'Hero', 'num_friends': 0}\n",
      "{'user_id': 1, 'name': 'Dunn', 'num_friends': 3}\n",
      "{'user_id': 2, 'name': 'Sue', 'num_friends': 3}\n",
      "{'user_id': 3, 'name': 'Chi', 'num_friends': 3}\n",
      "{'user_id': 4, 'name': 'Thor', 'num_friends': 3}\n",
      "{'user_id': 5, 'name': 'Clive', 'num_friends': 2}\n",
      "{'user_id': 6, 'name': 'Hicks', 'num_friends': 3}\n",
      "{'user_id': 7, 'name': 'Devin', 'num_friends': 2}\n",
      "{'user_id': 8, 'name': 'Kate', 'num_friends': 2}\n",
      "{'user_id': 9, 'name': 'Klein', 'num_friends': 3}\n",
      "{'user_id': 10, 'name': 'Jen', 'num_friends': 1}\n",
      "\n",
      "SELECT * FROM users LIMIT 2;\n",
      "['user_id', 'name', 'num_friends']\n",
      "{'user_id': 0, 'name': 'Hero', 'num_friends': 0}\n",
      "{'user_id': 1, 'name': 'Dunn', 'num_friends': 3}\n",
      "\n",
      "SELECT user_id FROM users;\n",
      "['user_id']\n",
      "{'user_id': 0}\n",
      "{'user_id': 1}\n",
      "{'user_id': 2}\n",
      "{'user_id': 3}\n",
      "{'user_id': 4}\n",
      "{'user_id': 5}\n",
      "{'user_id': 6}\n",
      "{'user_id': 7}\n",
      "{'user_id': 8}\n",
      "{'user_id': 9}\n",
      "{'user_id': 10}\n",
      "\n",
      "SELECT user_id FROM users WHERE name == 'Dunn';\n",
      "['user_id']\n",
      "{'user_id': 1}\n",
      "\n",
      "SELECT LENGTH(name) AS name_length FROM users;\n",
      "['name_length']\n",
      "{'name_length': 4}\n",
      "{'name_length': 4}\n",
      "{'name_length': 3}\n",
      "{'name_length': 3}\n",
      "{'name_length': 4}\n",
      "{'name_length': 5}\n",
      "{'name_length': 5}\n",
      "{'name_length': 5}\n",
      "{'name_length': 4}\n",
      "{'name_length': 5}\n",
      "{'name_length': 3}\n",
      "\n"
     ]
    }
   ],
   "source": [
    "print \"SELECT * FROM users;\"\n",
    "print users.select()\n",
    "print\n",
    "\n",
    "print \"SELECT * FROM users LIMIT 2;\"\n",
    "print users.limit(2)\n",
    "print\n",
    "\n",
    "print \"SELECT user_id FROM users;\"\n",
    "print users.select(keep_columns=[\"user_id\"])\n",
    "print\n",
    "\n",
    "print \"SELECT user_id FROM users WHERE name == 'Dunn';\"\n",
    "print users.where(lambda row: row[\"name\"] == \"Dunn\").select(keep_columns=[\"user_id\"])\n",
    "print\n",
    "\n",
    "print \"SELECT LENGTH(name) AS name_length FROM users;\"\n",
    "def name_length(row): return len(row[\"name\"])\n",
    "print users.select(keep_columns=[], additional_columns = { \"name_length\" : name_length })\n",
    "print"
   ]
  },
  {
   "cell_type": "markdown",
   "metadata": {},
   "source": [
    "# GROUP BY"
   ]
  },
  {
   "cell_type": "markdown",
   "metadata": {},
   "source": [
    "Anoither common SQL operation is GROUP BY, which groups together rows with identical values in specified columns and produces aggregate values like MIN, MAX, COUNT, and SUM.  \n",
    "This should remind you of the `group_by` function from \"Manipulating Data\" in Chapter 10.\n",
    "For example, you might want to find the number of users and the smallest `user_id` for each possible name length:"
   ]
  },
  {
   "cell_type": "raw",
   "metadata": {},
   "source": [
    "SELECT LENGTH(name) as name_length,\n",
    "  MIN(user_id) AS min_user_id,\n",
    "  COUNT(*) AS num_users\n",
    "FROM users\n",
    "GROUP BY LENGTH(name);"
   ]
  },
  {
   "cell_type": "markdown",
   "metadata": {},
   "source": [
    "Every field we SELECT needs to be either in the GROUP BY clause (which `name_length` is) or an aggregate computation (which `min_user_id` and `num_users` are).\n",
    "SQL supports a HAVING clause that behaves similarly to a WHERE clause except that its filter is applied to the aggregates, whereas a WHERE would filter out rows before aggregation even took place.  \n",
    "You might want to know the average number of friends for users whose names start with specific letters but only see the results for letters whose corresponding average is greater than 1.  \n",
    "I know, some of these examples are contrived, but they help with the learning process."
   ]
  },
  {
   "cell_type": "raw",
   "metadata": {},
   "source": [
    "SELECT SUBSTR(name, 1, 1) AS first_letter,\n",
    "  AVG(num_friends) AS avg_num_friends\n",
    "FROM users\n",
    "GROUP BY SUBSTR(name, 1, 1)\n",
    "HAVING AVG(num_friends) > 1;"
   ]
  },
  {
   "cell_type": "markdown",
   "metadata": {},
   "source": [
    "Note that functions for working with strings vary across SQL implementations; some databases might use SUBSTRING instead of SUBSTR, and so on.  \n",
    "You can also calculate overall aggregates.  \n",
    "In that case, you leave off the GROUP BY:"
   ]
  },
  {
   "cell_type": "raw",
   "metadata": {},
   "source": [
    "SELECT SUM(user_id) AS user_id_sum\n",
    "FROM users\n",
    "WHERE user_id > 1;"
   ]
  },
  {
   "cell_type": "markdown",
   "metadata": {},
   "source": [
    "Now, to add this functionality to NotQuiteABase `Tables`, we'll add a `group_by()` method.  \n",
    "This method takes the names of the columns that you want to group by, a dictionary of the aggregation functions that you want to run over each group, and an optional predicate `having` that operates on multiple rows.  \n",
    "Then `group_by()` does the following steps:\n",
    "1. Creates a `defaultdict` to map `tuples` (of the group-by-values) to rows (containing the group-by-values). Remember that you can't use lists as `dict` keys, you must use tuples instead.\n",
    "2. Iterates over the rows of the table, populating the `defaultdict`.\n",
    "3. Creates a new table with the correct output columns.\n",
    "4. Iterates over the `defaultdict` and populates the output table, applying the `having` filter (if any).  \n",
    "\n",
    "Note that an actual database does this in a (hopefully) much more efficient manner."
   ]
  },
  {
   "cell_type": "code",
   "execution_count": 11,
   "metadata": {
    "collapsed": true
   },
   "outputs": [],
   "source": [
    "def group_by(self, group_by_columns, aggregates, having=None):\n",
    "    grouped_rows = defaultdict(list)\n",
    "    # populate the groups\n",
    "    for row in self.rows:\n",
    "        key = tuple(row[column] for column in group_by_columns)\n",
    "        grouped_rows[key].append(row)\n",
    "    # result table consists of group_by columns and aggregates\n",
    "    result_table = Table(group_by_columns + aggregates.keys())\n",
    "    \n",
    "    for key, rows in grouped_rows.iteritems():\n",
    "        if having is None or having(rows):\n",
    "            new_row - list(key)\n",
    "            for aggregate_name, aggregate_fn in aggregates.iteritems():\n",
    "                new_row.append(aggregate_fn(rows))\n",
    "            result_table.insert(new_row)\n",
    "            \n",
    "    return result_table"
   ]
  },
  {
   "cell_type": "markdown",
   "metadata": {},
   "source": [
    "Now then, let's see how we would do the equivalent of the preceding SQL statements:"
   ]
  },
  {
   "cell_type": "code",
   "execution_count": 12,
   "metadata": {
    "collapsed": false
   },
   "outputs": [
    {
     "name": "stdout",
     "output_type": "stream",
     "text": [
      "SELECT LENGTH(name) as name_length,\n",
      " MIN(user_id) AS min_user_id,\n",
      " COUNT(*) AS num_users\n",
      "FROM users\n",
      "GROUP BY LENGTH(name);\n",
      "['name_length', 'num_users', 'min_user_id']\n",
      "{'num_users': 4, 'min_user_id': 5, 'name_length': 5}\n",
      "{'num_users': 3, 'min_user_id': 2, 'name_length': 3}\n",
      "{'num_users': 4, 'min_user_id': 0, 'name_length': 4}\n",
      "\n",
      "SELECT SUBSTR(name, 1, 1) AS first_letter,\n",
      " AVG(num_friends) AS avg_num_friends\n",
      "FROM users\n",
      "GROUP BY SUBSTR(name, 1, 1)\n",
      "HAVING AVG(num_friends) > 1;\n",
      "['first_letter', 'avg_num_friends']\n",
      "{'avg_num_friends': 3.0, 'first_letter': 'T'}\n",
      "{'avg_num_friends': 2.5, 'first_letter': 'C'}\n",
      "{'avg_num_friends': 1.5, 'first_letter': 'H'}\n",
      "{'avg_num_friends': 2.5, 'first_letter': 'K'}\n",
      "{'avg_num_friends': 2.5, 'first_letter': 'D'}\n",
      "{'avg_num_friends': 3.0, 'first_letter': 'S'}\n",
      "\n",
      "SELECT SUM(user_id) as user_id_sum\n",
      "FROM users\n",
      "WHERE user_id > 1;\n",
      "['user_id_sum']\n",
      "{'user_id_sum': 54}\n"
     ]
    }
   ],
   "source": [
    "print \"SELECT LENGTH(name) as name_length,\"\n",
    "print \" MIN(user_id) AS min_user_id,\"\n",
    "print \" COUNT(*) AS num_users\"\n",
    "print \"FROM users\"\n",
    "print \"GROUP BY LENGTH(name);\"\n",
    "\n",
    "def min_user_id(rows): return min(row[\"user_id\"] for row in rows)\n",
    "stats_by_length = users \\\n",
    "                  .select(additional_columns={\"name_length\" : name_length}) \\\n",
    "                  .group_by(group_by_columns=[\"name_length\"], \n",
    "                            aggregates={ \"min_user_id\" : min_user_id,\n",
    "                                         \"num_users\" : len })\n",
    "print stats_by_length\n",
    "print\n",
    "\n",
    "print \"SELECT SUBSTR(name, 1, 1) AS first_letter,\"\n",
    "print \" AVG(num_friends) AS avg_num_friends\"\n",
    "print \"FROM users\"\n",
    "print \"GROUP BY SUBSTR(name, 1, 1)\"\n",
    "print \"HAVING AVG(num_friends) > 1;\"\n",
    "\n",
    "def first_letter_of_name(row):\n",
    "    return row[\"name\"][0] if row[\"name\"] else \"\"\n",
    "\n",
    "def average_num_friends(rows):\n",
    "    return sum(row[\"num_friends\"] for row in rows) / len(rows)\n",
    "\n",
    "def enough_friends(rows):\n",
    "    return average_num_friends(rows) > 1\n",
    "    # This will exclude user 10 but not user 0\n",
    "    \n",
    "avg_friends_by_letter = users \\\n",
    "                        .select(additional_columns={'first_letter' : first_letter_of_name }) \\\n",
    "                        .group_by(group_by_columns=['first_letter'],\n",
    "                                  aggregates={ \"avg_num_friends\" : average_num_friends },\n",
    "                                  having=enough_friends)\n",
    "print avg_friends_by_letter\n",
    "print \n",
    "\n",
    "print \"SELECT SUM(user_id) as user_id_sum\"\n",
    "print \"FROM users\"\n",
    "print \"WHERE user_id > 1;\"\n",
    "\n",
    "def sum_user_ids(rows): return sum(row[\"user_id\"] for row in rows)\n",
    "\n",
    "user_id_sum = users \\\n",
    "              .where(lambda row: row[\"user_id\"] > 1) \\\n",
    "              .group_by(group_by_columns=[],\n",
    "                        aggregates={ \"user_id_sum\" : sum_user_ids })\n",
    "print user_id_sum"
   ]
  },
  {
   "cell_type": "markdown",
   "metadata": {},
   "source": [
    "## ORDER BY"
   ]
  },
  {
   "cell_type": "markdown",
   "metadata": {},
   "source": [
    "Frequently, you'll want to sort your results.  \n",
    "For example, you might want to know the (alphabetically) first two names of your users:"
   ]
  },
  {
   "cell_type": "raw",
   "metadata": {},
   "source": [
    "SELECT * FROM users\n",
    "ORDER BY name\n",
    "LIMIT 2;"
   ]
  },
  {
   "cell_type": "markdown",
   "metadata": {},
   "source": [
    "We can implement this by giving our `Table` an `order_by()` method that takes an `order` function:"
   ]
  },
  {
   "cell_type": "code",
   "execution_count": 13,
   "metadata": {
    "collapsed": true
   },
   "outputs": [],
   "source": [
    "def order_by(self, order):\n",
    "    \"\"\" makes a copy of the table and then sorts it \"\"\"\n",
    "    new_table = self.select()\n",
    "    new_table.rows.sort(key=order)\n",
    "    return new_table"
   ]
  },
  {
   "cell_type": "markdown",
   "metadata": {},
   "source": [
    "which we can use as follows:"
   ]
  },
  {
   "cell_type": "code",
   "execution_count": 14,
   "metadata": {
    "collapsed": false
   },
   "outputs": [
    {
     "name": "stdout",
     "output_type": "stream",
     "text": [
      "SELECT * FROM users\n",
      "ORDER BY name\n",
      "LIMIT 2;\n",
      "['first_letter', 'avg_num_friends']\n",
      "{'avg_num_friends': 3.0, 'first_letter': 'T'}\n",
      "{'avg_num_friends': 3.0, 'first_letter': 'S'}\n",
      "{'avg_num_friends': 2.5, 'first_letter': 'C'}\n",
      "{'avg_num_friends': 2.5, 'first_letter': 'K'}\n"
     ]
    }
   ],
   "source": [
    "print \"SELECT * FROM users\"\n",
    "print \"ORDER BY name\"\n",
    "print \"LIMIT 2;\"\n",
    "\n",
    "friendliest_letters = avg_friends_by_letter \\\n",
    "                      .order_by(lambda row: -row[\"avg_num_friends\"]) \\\n",
    "                      .limit(4)\n",
    "print friendliest_letters"
   ]
  },
  {
   "cell_type": "markdown",
   "metadata": {},
   "source": [
    "The SQL `ORDER BY` lets you specify ascending (ASC) or descending (DESC) for each sort field.  \n",
    "Here we have to bake that into our order function by using (or omitting) the minus operator."
   ]
  },
  {
   "cell_type": "markdown",
   "metadata": {},
   "source": [
    "## JOIN"
   ]
  },
  {
   "cell_type": "markdown",
   "metadata": {},
   "source": [
    "Relational database tables are often [normalized](https://en.wikipedia.org/wiki/Database_normalization), meaning that they're organized to minimize redundancy.  \n",
    "For example, when we work with our users' interests in Python we can just give each user a `list` containing her interests.  \n",
    "SQL tables can't usually contain lists, so the typical solution is to create a second table, like `user_interests`, containing the one-to-many relationship between `user_id`s and `user_interest`s.  \n",
    "In SQL you might do this:"
   ]
  },
  {
   "cell_type": "raw",
   "metadata": {},
   "source": [
    "CREATE TABLE user_interests (\n",
    "    user_id INT NOT NULL,\n",
    "    interest VARCHAR(100) NOT NULL\n",
    ");"
   ]
  },
  {
   "cell_type": "markdown",
   "metadata": {},
   "source": [
    "whereas in NotQuiteABase you would instead create a table like this:"
   ]
  },
  {
   "cell_type": "code",
   "execution_count": 15,
   "metadata": {
    "collapsed": true
   },
   "outputs": [],
   "source": [
    "user_interests = Table([\"user_id\", \"interest\"])\n",
    "user_interests.insert([0, \"SQL\"])\n",
    "user_interests.insert([0, \"NoSQL\"])\n",
    "user_interests.insert([2, \"SQL\"])\n",
    "user_interests.insert([2, \"MySQL\"])"
   ]
  },
  {
   "cell_type": "code",
   "execution_count": 16,
   "metadata": {
    "collapsed": false
   },
   "outputs": [
    {
     "data": {
      "text/plain": [
       "['user_id', 'interest']\n",
       "{'user_id': 0, 'interest': 'SQL'}\n",
       "{'user_id': 0, 'interest': 'NoSQL'}\n",
       "{'user_id': 2, 'interest': 'SQL'}\n",
       "{'user_id': 2, 'interest': 'MySQL'}"
      ]
     },
     "execution_count": 16,
     "metadata": {},
     "output_type": "execute_result"
    }
   ],
   "source": [
    "user_interests"
   ]
  },
  {
   "cell_type": "markdown",
   "metadata": {},
   "source": [
    "In our example, there's still plenty of redundancy -- the interest \"SQL\" is stored in two different places.  \n",
    "In a real database you might store `user_id` and `interest_id` in the `user_interests` table and then create a third table `interests` that maps `interest_id` to `interest` so that you could store the interest names only once.  \n",
    "However, that would make our examples more complicated than they need to be."
   ]
  },
  {
   "cell_type": "markdown",
   "metadata": {},
   "source": [
    "When our data lives across different tables, how do we analyze it?  \n",
    "Well, we can JOIN the tables together.  \n",
    "A JOIN combines rows in the left table with corresponding rows in the right table, where the meaning of \"corresponding\" is based on how we specify the join.  \n",
    "For example, to find the users interested in SQL you would query:"
   ]
  },
  {
   "cell_type": "raw",
   "metadata": {},
   "source": [
    "SELECT users.name\n",
    "FROM users\n",
    "JOIN user_interests\n",
    "ON users.user_id = user_interests.user_id\n",
    "WHERE user_interests.interest = 'SQL';"
   ]
  },
  {
   "cell_type": "markdown",
   "metadata": {},
   "source": [
    "The JOIN says that, for each row in users, we should look at the `user_id` and associate that row with every row in `user_interests` containing the same `user_id`.  \n",
    "Notice that we had to specify which tables to JOIN and also which columns to join ON.  \n",
    "This is an INNER JOIN, which returns the combinations of rows (and only the combinations of rows) that match according to the specified join criteria.  \n",
    "There is also a LEFT JOIN, which -- in addition to the combinations of matching rows -- returns a row for each left-table row with no matching rows (in which case, the fields that would have come from the right table are all NULL).  \n",
    "Using a LEFT JOIN, we can count the number of interests that each user has:"
   ]
  },
  {
   "cell_type": "raw",
   "metadata": {},
   "source": [
    "SELECT users.id, COUNT(user_interests.interest) AS num_interests\n",
    "FROM users\n",
    "LEFT JOIN user_interests\n",
    "ON users.user_id = user_interests.user_id;"
   ]
  },
  {
   "cell_type": "markdown",
   "metadata": {},
   "source": [
    "The LEFT JOIN ensures that users with no interests will still have rows in the joined data set (with NULL values for the fields coming from `user_interests`), and COUNT only counts values that are non-NULL."
   ]
  },
  {
   "cell_type": "markdown",
   "metadata": {},
   "source": [
    "The NotQuiteABase `join()` implementation will be more restrictive -- it simply joins two tables on whatever columns they have in common.  \n",
    "Even so, the implementation is a bit complicated:"
   ]
  },
  {
   "cell_type": "code",
   "execution_count": 17,
   "metadata": {
    "collapsed": true
   },
   "outputs": [],
   "source": [
    "def join(self, other_table, left_join=False):\n",
    "    # join on columns in both tables\n",
    "    join_on_columns = [c for c in self.columns\n",
    "                       if c in other_table.columns]\n",
    "    # join on columns only in right table\n",
    "    additional_columns = [c for c in other_table.columns\n",
    "                          if c not in join_on_columns]\n",
    "    # join all columns from left table + additional_columns from right table\n",
    "    join_table = Table(self.columns + additional_columns)\n",
    "    \n",
    "    for row in self.rows:\n",
    "        \n",
    "        def is_join(other_row):\n",
    "            return all(other_row[c] == row[c] for c in join_on_columns)\n",
    "        \n",
    "        other_rows = other_table.where(is_join).rows\n",
    "        \n",
    "        # each other row that matches this one produces a result row\n",
    "        for other_row in other_rows:\n",
    "            join_table.insert([row[c] for c in self.columns] +\n",
    "                              [other_row[c] for c in additional_columns])\n",
    "        # if no rows match and it's a left join, output with Nones\n",
    "        if left_join and not other_rows:\n",
    "            join_table.insert([row[c] for c in self.columns] +\n",
    "                              [None for c in additional_columns])\n",
    "            \n",
    "    return join_table"
   ]
  },
  {
   "cell_type": "markdown",
   "metadata": {},
   "source": [
    "Now we can find users interested in SQL with:"
   ]
  },
  {
   "cell_type": "raw",
   "metadata": {},
   "source": [
    "SELECT users.name\n",
    "FROM users\n",
    "JOIN user_interests\n",
    "ON users.user_id = user_interests.user_id\n",
    "WHERE user_interests.interest = 'SQL';"
   ]
  },
  {
   "cell_type": "code",
   "execution_count": 18,
   "metadata": {
    "collapsed": false
   },
   "outputs": [
    {
     "data": {
      "text/plain": [
       "['name']\n",
       "{'name': 'Hero'}\n",
       "{'name': 'Sue'}"
      ]
     },
     "execution_count": 18,
     "metadata": {},
     "output_type": "execute_result"
    }
   ],
   "source": [
    "sql_users = users \\\n",
    "            .join(user_interests) \\\n",
    "            .where(lambda row: row[\"interest\"] == \"SQL\") \\\n",
    "            .select(keep_columns=[\"name\"])\n",
    "\n",
    "sql_users"
   ]
  },
  {
   "cell_type": "markdown",
   "metadata": {},
   "source": [
    "And we can find the interest counts with:"
   ]
  },
  {
   "cell_type": "raw",
   "metadata": {},
   "source": [
    "SELECT users.id, COUNT(user_interests.interest) AS num_interests\n",
    "FROM users\n",
    "LEFT JOIN user_interests\n",
    "ON users.user_id = user_interests.user_id;"
   ]
  },
  {
   "cell_type": "code",
   "execution_count": 19,
   "metadata": {
    "collapsed": false
   },
   "outputs": [
    {
     "data": {
      "text/plain": [
       "['user_id', 'num_interests']\n",
       "{'user_id': 0, 'num_interests': 2}\n",
       "{'user_id': 1, 'num_interests': 0}\n",
       "{'user_id': 2, 'num_interests': 2}\n",
       "{'user_id': 8, 'num_interests': 0}\n",
       "{'user_id': 3, 'num_interests': 0}\n",
       "{'user_id': 9, 'num_interests': 0}\n",
       "{'user_id': 4, 'num_interests': 0}\n",
       "{'user_id': 10, 'num_interests': 0}\n",
       "{'user_id': 5, 'num_interests': 0}\n",
       "{'user_id': 6, 'num_interests': 0}\n",
       "{'user_id': 7, 'num_interests': 0}"
      ]
     },
     "execution_count": 19,
     "metadata": {},
     "output_type": "execute_result"
    }
   ],
   "source": [
    "def count_interests(rows):\n",
    "    \"\"\" counts how many rows have non-None interests \"\"\"\n",
    "    return len([row for row in rows if row[\"interest\"] is not None])\n",
    "\n",
    "user_interest_counts = users \\\n",
    "                       .join(user_interests, left_join=True) \\\n",
    "                       .group_by(group_by_columns=[\"user_id\"],\n",
    "                                 aggregates={\"num_interests\" : count_interests })\n",
    "        \n",
    "user_interest_counts"
   ]
  },
  {
   "cell_type": "markdown",
   "metadata": {},
   "source": [
    "In SQL, there is also a RIGHT JOIN, which keeps rows from the right table that have no matches, as well as a FULL OUTER JOIN, which keeps rows from both tables that have no matches.  \n",
    "We won't implement either of those."
   ]
  },
  {
   "cell_type": "markdown",
   "metadata": {},
   "source": [
    "## Subqueries"
   ]
  },
  {
   "cell_type": "markdown",
   "metadata": {
    "collapsed": true
   },
   "source": [
    "In SQL, you can SELECT from (and JOIN) the results of queries as if they were tables.  \n",
    "If you wanted to find the smallest `user_id` of anyone interested in SQL, you could use a subquery.  \n",
    "Granted, you could do the same operation using a JOIN, but then we wouldn't be demonstrating subqueries."
   ]
  },
  {
   "cell_type": "raw",
   "metadata": {},
   "source": [
    "SELECT MIN(user_id) AS min_user_id FROM\n",
    "(SELECT user_id FROM user_interests WHERE interest = 'SQL')\n",
    "sql_interests;"
   ]
  },
  {
   "cell_type": "markdown",
   "metadata": {},
   "source": [
    "Given the way we've designed NotQuiteABase, we get this for free, and our query results are actual tables:"
   ]
  },
  {
   "cell_type": "code",
   "execution_count": 20,
   "metadata": {
    "collapsed": false
   },
   "outputs": [
    {
     "data": {
      "text/plain": [
       "['min_user_id']\n",
       "{'min_user_id': 0}"
      ]
     },
     "execution_count": 20,
     "metadata": {},
     "output_type": "execute_result"
    }
   ],
   "source": [
    "likes_sql_user_ids = user_interests \\\n",
    "                     .where(lambda row: row[\"interest\"] == \"SQL\") \\\n",
    "                     .select(keep_columns=['user_id'])\n",
    "        \n",
    "likes_sql_user_ids.group_by(group_by_columns=[],\n",
    "                            aggregates={ \"min_user_id\" : min_user_id })"
   ]
  },
  {
   "cell_type": "markdown",
   "metadata": {},
   "source": [
    "## Indexes"
   ]
  },
  {
   "cell_type": "markdown",
   "metadata": {
    "collapsed": true
   },
   "source": [
    "To find rows containing a specific value (say, where `name` is \"Hero\"), NotQuiteABase has to inspect every row in the table.  \n",
    "If the table has a lot of rows, this can take a very long time.  \n",
    "Similarly, our `join` algorithm is extremely inefficient.  \n",
    "For each row in the left table, it inspects every row in the right table to see if it's a match.  \n",
    "With two large tables, this could take approximately forever.  "
   ]
  },
  {
   "cell_type": "markdown",
   "metadata": {},
   "source": [
    "Also, sometimes you want to apply constraints (search parameters) to some of your columns.  \n",
    "For example, in your `users` table you probably don't want to allow two different users to have the same `user_id`.  \n",
    "Indexes (indices?) solve those problems.  \n",
    "If the `user_interests` table had an index on `user_id`, a smart `join` algorithm could find matches directly rather than scanning the entire table.  \n",
    "If the `users` table had a 'unique' index on `user_id` (like [UUID or GUID](https://en.wikipedia.org/wiki/Universally_unique_identifier)), you would get an error if you tried to insert a duplicate.  "
   ]
  },
  {
   "cell_type": "markdown",
   "metadata": {},
   "source": [
    "Each table in a database can have one or more indexes, which allow you to quickly look up rows by key columns, efficiently join tables together, and enforce unique constraints on columns or combinations of columns.  \n",
    "Designing and using indexes well is somewhat of a black art which varies depending on the specific database, but if you end up doing a lot of database work, it's well worth learning about."
   ]
  },
  {
   "cell_type": "markdown",
   "metadata": {},
   "source": [
    "## Query Optimization"
   ]
  },
  {
   "cell_type": "markdown",
   "metadata": {
    "collapsed": true
   },
   "source": [
    "Recall the query we used to find all users who are interested in SQL:"
   ]
  },
  {
   "cell_type": "raw",
   "metadata": {},
   "source": [
    "SELECT users.name\n",
    "FROM users\n",
    "JOIN user_interests\n",
    "ON users.user_id = user_interests.user_id\n",
    "WHERE user_interests.interest = 'SQL'"
   ]
  },
  {
   "cell_type": "markdown",
   "metadata": {},
   "source": [
    "In NotQuiteABase there are (at least) two different ways to write this query.  \n",
    "You could filter the `user_interests` table before performing the join:"
   ]
  },
  {
   "cell_type": "code",
   "execution_count": 21,
   "metadata": {
    "collapsed": false
   },
   "outputs": [
    {
     "data": {
      "text/plain": [
       "['name']\n",
       "{'name': 'Hero'}\n",
       "{'name': 'Sue'}"
      ]
     },
     "execution_count": 21,
     "metadata": {},
     "output_type": "execute_result"
    }
   ],
   "source": [
    "user_interests \\\n",
    "    .where(lambda row: row[\"interest\"] == \"SQL\") \\\n",
    "    .join(users) \\\n",
    "    .select([\"name\"])"
   ]
  },
  {
   "cell_type": "markdown",
   "metadata": {},
   "source": [
    "You could also filter the results of the join:"
   ]
  },
  {
   "cell_type": "code",
   "execution_count": 22,
   "metadata": {
    "collapsed": false
   },
   "outputs": [
    {
     "data": {
      "text/plain": [
       "['name']\n",
       "{'name': 'Hero'}\n",
       "{'name': 'Sue'}"
      ]
     },
     "execution_count": 22,
     "metadata": {},
     "output_type": "execute_result"
    }
   ],
   "source": [
    "user_interests \\\n",
    "    .join(users) \\\n",
    "    .where(lambda row: row[\"interest\"] == \"SQL\") \\\n",
    "    .select([\"name\"])"
   ]
  },
  {
   "cell_type": "markdown",
   "metadata": {},
   "source": [
    "The results are the same either way, but filtering *before* the join (option 1) is almost certainly more efficient because `join` has many fewer rows to operate on than with option 2.  \n",
    "In SQL, you generally wouldn't worry about this.  \n",
    "You \"declare\" the results that you want and leave it up to the query engine to execute the commands (and use the indexes) as efficiently as possible."
   ]
  },
  {
   "cell_type": "markdown",
   "metadata": {},
   "source": [
    "## NoSQL"
   ]
  },
  {
   "cell_type": "markdown",
   "metadata": {
    "collapsed": true
   },
   "source": [
    "A recent trend in databases is toward nonrelational [NoSQL](https://en.wikipedia.org/wiki/NoSQL) databases, which don't represent data in tables.  \n",
    "For example, MongoDB is a popular schema-less database whose elements are arbitrarily complex JSON documents rather than rows.  \n",
    "There are:\n",
    "- columnar databases that store data in columns instead of rows, which are useful for data that has many columns but queries only require a few of them.\n",
    "- key-value stores that are optimized for retrieving single (complex) values by their keys (like a Python `dict`).\n",
    "- databases for storing and traversing graphs.\n",
    "- databases that are optimized to run across multiple datacenters.\n",
    "- databases that are designed to run in memory.\n",
    "- databases designed specifically for handling time-series data.\n",
    "- and many more.  \n",
    "\n",
    "Tomorrow's flavor of the day might not even exist now, so just know that NoSQL (and now [NewSQL](https://en.wikipedia.org/wiki/NewSQL) too) is a thing.  \n",
    "Now you know, good luck keeping up to date."
   ]
  }
 ],
 "metadata": {
  "kernelspec": {
   "display_name": "Python 2",
   "language": "python",
   "name": "python2"
  },
  "language_info": {
   "codemirror_mode": {
    "name": "ipython",
    "version": 2
   },
   "file_extension": ".py",
   "mimetype": "text/x-python",
   "name": "python",
   "nbconvert_exporter": "python",
   "pygments_lexer": "ipython2",
   "version": "2.7.12"
  }
 },
 "nbformat": 4,
 "nbformat_minor": 1
}
