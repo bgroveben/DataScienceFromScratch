{
 "cells": [
  {
   "cell_type": "markdown",
   "metadata": {},
   "source": [
    "# Chapter 23. Databases and SQL"
   ]
  },
  {
   "cell_type": "code",
   "execution_count": 289,
   "metadata": {
    "collapsed": true
   },
   "outputs": [],
   "source": [
    "from __future__ import division\n",
    "import math, random, re\n",
    "from collections import defaultdict"
   ]
  },
  {
   "cell_type": "markdown",
   "metadata": {},
   "source": [
    "The data that you will be working with will often live in [databases](https://en.wikipedia.org/wiki/Database), systems designed for efficiently storing and querying data.  \n",
    "The bulk of these are [relational databases](https://en.wikipedia.org/wiki/Relational_database) such as [Oracle](https://en.wikipedia.org/wiki/Oracle_Database), [MySQL](https://en.wikipedia.org/wiki/MySQL), and [SQL Server](https://en.wikipedia.org/wiki/Microsoft_SQL_Server), which store data in [tables](https://en.wikipedia.org/wiki/Table_%28database%29) and are typically queried using [Structured Query Language (SQL)](https://en.wikipedia.org/wiki/SQL), a [declarative language](https://en.wikipedia.org/wiki/SQL) for manipulating data.  \n",
    "SQL is an essential part of a data scientist's toolkit.  \n",
    "In this chapter, we'll create NotQuiteABase, a Python implementation of something that's not quite a database.  \n",
    "We'll also cover the basics of SQL while demonstrating how those principles work in NotQuiteABase.  \n",
    "Hopefully, solving problems in NotQuiteABase will give you a good sense of how you might solve the same problems using SQL."
   ]
  },
  {
   "cell_type": "markdown",
   "metadata": {},
   "source": [
    "## CREATE TABLE and INSERT"
   ]
  },
  {
   "cell_type": "markdown",
   "metadata": {},
   "source": [
    "A relational database is a collection of tables and the relationships among those tables.  \n",
    "A table is simply a collection of rows, not unlike the matrices we've been working with.  \n",
    "However, a table also has a fixed [database schema](https://en.wikipedia.org/wiki/Database_schema) consisting of column names and column types.  \n",
    "For example, imagine a `users` data set containing (for each user) her `user_id, name,` and `num_friends`:"
   ]
  },
  {
   "cell_type": "raw",
   "metadata": {},
   "source": [
    "users = [[0, \"Hero\", 0],\n",
    "         [1, \"Dunn\", 1],\n",
    "         [2, \"Sue\", 3],\n",
    "         [3, \"Chi\", 3]]"
   ]
  },
  {
   "cell_type": "markdown",
   "metadata": {},
   "source": [
    "In SQL, we might create this table with:"
   ]
  },
  {
   "cell_type": "raw",
   "metadata": {},
   "source": [
    "CREATE TABLE users (\n",
    "    user_id INT NOT NULL,\n",
    "    name VARCHAR(200),\n",
    "    num_friends INT);"
   ]
  },
  {
   "cell_type": "markdown",
   "metadata": {},
   "source": [
    "Notice that we specified that the `user_id` and `num_friends` must be integers (and that `user_id` can't be NULL, which indicates a missing value and is sort of like Python's `None`) and that the name should be a string of length 200 or less.  \n",
    "NotQuiteABase won't take types into account, but we'll behave as if it did.  \n",
    "Also SQL doesn't usually care about case (you don't have to capitalize SELECT or GROUP BY) or indentation, so the style you use here will probably be different than styles you encounter elsewhere."
   ]
  },
  {
   "cell_type": "markdown",
   "metadata": {},
   "source": [
    "You can insert the rows with INSERT statements:"
   ]
  },
  {
   "cell_type": "raw",
   "metadata": {},
   "source": [
    "INSERT INTO users (user_id, name, num_friends) VALUES\n",
    "(0, 'Hero', 0);"
   ]
  },
  {
   "cell_type": "markdown",
   "metadata": {},
   "source": [
    "Notice also that SQL statements need to end with semicolons, and that SQL requires single quotes for its strings.  \n",
    "In NotQuiteABase, you'll create a `Table` simply by specifying the names of its columns.  \n",
    "To insert a row, you'll use the table's `insert()` method, which takes a `list` of row values that need to be in the same order as the table's column names.  \n",
    "Behind the scenes, we'll store each row as a `dict` from column names to values.  \n",
    "A real database would never use such a space-wasting representation, but doing so will make NotQuiteABase much easier to work with:"
   ]
  },
  {
   "cell_type": "code",
   "execution_count": 290,
   "metadata": {
    "collapsed": false
   },
   "outputs": [],
   "source": [
    "class Table:\n",
    "    \n",
    "    def __init__(self, columns):\n",
    "        self.columns = columns\n",
    "        self.rows = []\n",
    "        \n",
    "    def __repr__(self):\n",
    "        \"\"\" pretty representation of the table: first columns then rows \"\"\"\n",
    "        return str(self.columns) + \"\\n\" + \"\\n\".join(map(str, self.rows))\n",
    "    \n",
    "    def __getitem__(self, i):\n",
    "        \"\"\" return row for specified user: users[i] \"\"\"\n",
    "        return self.rows[i]\n",
    "    \n",
    "    def insert(self, row_values):\n",
    "        if len(row_values) != len(self.columns):\n",
    "            raise TypeError(\"Wrong Number of Elements\")\n",
    "        row_dict = dict(zip(self.columns, row_values))\n",
    "        self.rows.append(row_dict)\n",
    "        \n",
    "    def update(self, updates, predicate):\n",
    "        for row in self.rows:\n",
    "            if predicate(row):\n",
    "                for column, new_value in updates.iteritems():\n",
    "                    row[column] = new_value"
   ]
  },
  {
   "cell_type": "markdown",
   "metadata": {},
   "source": [
    "For example, we could set up:"
   ]
  },
  {
   "cell_type": "code",
   "execution_count": 291,
   "metadata": {
    "collapsed": true
   },
   "outputs": [],
   "source": [
    "    users = Table([\"user_id\", \"name\", \"num_friends\"])\n",
    "    users.insert([0, \"Hero\", 0])\n",
    "    users.insert([1, \"Dunn\", 2])\n",
    "    users.insert([2, \"Sue\", 3])\n",
    "    users.insert([3, \"Chi\", 3])\n",
    "    users.insert([4, \"Thor\", 3])\n",
    "    users.insert([5, \"Clive\", 2])\n",
    "    users.insert([6, \"Hicks\", 3])\n",
    "    users.insert([7, \"Devin\", 2])\n",
    "    users.insert([8, \"Kate\", 2])\n",
    "    users.insert([9, \"Klein\", 3])\n",
    "    users.insert([10, \"Jen\", 1])"
   ]
  },
  {
   "cell_type": "code",
   "execution_count": 292,
   "metadata": {
    "collapsed": false
   },
   "outputs": [
    {
     "name": "stdout",
     "output_type": "stream",
     "text": [
      "['user_id', 'name', 'num_friends']\n",
      "{'user_id': 0, 'name': 'Hero', 'num_friends': 0}\n",
      "{'user_id': 1, 'name': 'Dunn', 'num_friends': 2}\n",
      "{'user_id': 2, 'name': 'Sue', 'num_friends': 3}\n",
      "{'user_id': 3, 'name': 'Chi', 'num_friends': 3}\n",
      "{'user_id': 4, 'name': 'Thor', 'num_friends': 3}\n",
      "{'user_id': 5, 'name': 'Clive', 'num_friends': 2}\n",
      "{'user_id': 6, 'name': 'Hicks', 'num_friends': 3}\n",
      "{'user_id': 7, 'name': 'Devin', 'num_friends': 2}\n",
      "{'user_id': 8, 'name': 'Kate', 'num_friends': 2}\n",
      "{'user_id': 9, 'name': 'Klein', 'num_friends': 3}\n",
      "{'user_id': 10, 'name': 'Jen', 'num_friends': 1}\n"
     ]
    }
   ],
   "source": [
    "print users"
   ]
  },
  {
   "cell_type": "markdown",
   "metadata": {},
   "source": [
    "## UPDATE"
   ]
  },
  {
   "cell_type": "markdown",
   "metadata": {},
   "source": [
    "Sometimes you need to update the data that's already in the database.  \n",
    "For instance, if Dunn acquires another friend, you might need to do this:"
   ]
  },
  {
   "cell_type": "raw",
   "metadata": {},
   "source": [
    "UPDATE users\n",
    "SET num_friends = 3\n",
    "WHERE user_id = 1;"
   ]
  },
  {
   "cell_type": "markdown",
   "metadata": {},
   "source": [
    "The key features are:\n",
    "- What table to update \n",
    "- Which rows to update\n",
    "- Which fields to update\n",
    "- What their new values should be  \n",
    "\n",
    "We'll add a similar `update` method to NotQuiteABase.  \n",
    "Its first argument will be a `dict` whose keys are the columns to update and whose values are the new values for those fields.  \n",
    "Its second argument is a [predicate](https://en.wikipedia.org/wiki/Predicate_%28mathematical_logic%29) that returns `True` for rows that should be updated, `False` otherwise:"
   ]
  },
  {
   "cell_type": "code",
   "execution_count": 293,
   "metadata": {
    "collapsed": true
   },
   "outputs": [],
   "source": [
    "def update(self, updates, predicate):\n",
    "    for row in self.rows:\n",
    "        if predicate(row):\n",
    "            for column, new_value in updates.iteritems():\n",
    "                row[column] = new_value"
   ]
  },
  {
   "cell_type": "markdown",
   "metadata": {},
   "source": [
    "Now when Dunn makes a new friend and we want to update his information, we can do this:"
   ]
  },
  {
   "cell_type": "code",
   "execution_count": 294,
   "metadata": {
    "collapsed": false
   },
   "outputs": [
    {
     "data": {
      "text/plain": [
       "{'name': 'Dunn', 'num_friends': 3, 'user_id': 1}"
      ]
     },
     "execution_count": 294,
     "metadata": {},
     "output_type": "execute_result"
    }
   ],
   "source": [
    "# set num_friends = 3 in rows where user_id == 1\n",
    "users.update({'num_friends' : 3 }, lambda row: row['user_id'] == 1)\n",
    "users[1]"
   ]
  },
  {
   "cell_type": "markdown",
   "metadata": {},
   "source": [
    "## DELETE"
   ]
  },
  {
   "cell_type": "code",
   "execution_count": null,
   "metadata": {
    "collapsed": true
   },
   "outputs": [],
   "source": []
  }
 ],
 "metadata": {
  "kernelspec": {
   "display_name": "Python 2",
   "language": "python",
   "name": "python2"
  },
  "language_info": {
   "codemirror_mode": {
    "name": "ipython",
    "version": 2
   },
   "file_extension": ".py",
   "mimetype": "text/x-python",
   "name": "python",
   "nbconvert_exporter": "python",
   "pygments_lexer": "ipython2",
   "version": "2.7.12"
  }
 },
 "nbformat": 4,
 "nbformat_minor": 1
}
