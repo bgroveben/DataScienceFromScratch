{
 "cells": [
  {
   "cell_type": "markdown",
   "metadata": {},
   "source": [
    "# Chapter 23. Databases and SQL"
   ]
  },
  {
   "cell_type": "code",
   "execution_count": 2,
   "metadata": {
    "collapsed": true
   },
   "outputs": [],
   "source": [
    "from __future__ import division\n",
    "import math, random, re\n",
    "from collections import defaultdict"
   ]
  },
  {
   "cell_type": "markdown",
   "metadata": {},
   "source": [
    "The data that you will be working with will often live in [databases](https://en.wikipedia.org/wiki/Database), systems designed for efficiently storing and querying data.  \n",
    "The bulk of these are [relational databases](https://en.wikipedia.org/wiki/Relational_database) such as [Oracle](https://en.wikipedia.org/wiki/Oracle_Database), [MySQL](https://en.wikipedia.org/wiki/MySQL), and [SQL Server](https://en.wikipedia.org/wiki/Microsoft_SQL_Server), which store data in [tables](https://en.wikipedia.org/wiki/Table_%28database%29) and are typically queried using [Structured Query Language (SQL)](https://en.wikipedia.org/wiki/SQL), a [declarative language](https://en.wikipedia.org/wiki/SQL) for manipulating data.  \n",
    "SQL is an essential part of a data scientist's toolkit.  \n",
    "In this chapter, we'll create NotQuiteABase, a Python implementation of something that's not quite a database.  \n",
    "We'll also cover the basics of SQL while demonstrating how those principles work in NotQuiteABase.  \n",
    "Hopefully, solving problems in NotQuiteABase will give you a good sense of how you might solve the same problems using SQL."
   ]
  },
  {
   "cell_type": "markdown",
   "metadata": {},
   "source": [
    "## CREATE TABLE and INSERT"
   ]
  },
  {
   "cell_type": "code",
   "execution_count": null,
   "metadata": {
    "collapsed": true
   },
   "outputs": [],
   "source": []
  }
 ],
 "metadata": {
  "kernelspec": {
   "display_name": "Python 2",
   "language": "python",
   "name": "python2"
  },
  "language_info": {
   "codemirror_mode": {
    "name": "ipython",
    "version": 2
   },
   "file_extension": ".py",
   "mimetype": "text/x-python",
   "name": "python",
   "nbconvert_exporter": "python",
   "pygments_lexer": "ipython2",
   "version": "2.7.12"
  }
 },
 "nbformat": 4,
 "nbformat_minor": 1
}
