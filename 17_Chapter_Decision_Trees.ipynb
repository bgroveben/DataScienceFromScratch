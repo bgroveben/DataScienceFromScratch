{
 "cells": [
  {
   "cell_type": "markdown",
   "metadata": {},
   "source": [
    "# Chapter 17. Decision Trees"
   ]
  },
  {
   "cell_type": "code",
   "execution_count": 19,
   "metadata": {
    "collapsed": false
   },
   "outputs": [],
   "source": [
    "from __future__ import division\n",
    "from collections import Counter, defaultdict\n",
    "from functools import partial\n",
    "import math, random\n",
    "import matplotlib.pyplot as plt\n",
    "import numpy as np"
   ]
  },
  {
   "cell_type": "markdown",
   "metadata": {},
   "source": [
    "DataSciencester's VP of Talent has interviewed a number of job candidates from the site, with varying degrees of success.  \n",
    "He's collected a data set consisting of several (qualitative) attributes of each candidate, as well as whether that candidate interviewed well or poorly.  \n",
    "Could you, he asks, use this data to build a model identifying which candidates will interview well, so that he doesn't have to waste time conducting interviews?  \n",
    "This task seems like a good fit for a [decision tree](https://en.wikipedia.org/wiki/Decision_tree), which is another predictive modeling tool in the data scientist's kit."
   ]
  },
  {
   "cell_type": "markdown",
   "metadata": {},
   "source": [
    "## What is a Decision Tree?"
   ]
  },
  {
   "cell_type": "markdown",
   "metadata": {},
   "source": [
    "A decision tree uses a tree structure to represent a number of possible [decision paths](http://scikit-learn.org/stable/auto_examples/tree/plot_unveil_tree_structure.html) and an outcome for each path.  \n",
    "If you have ever played the game [Twenty Questions](https://en.wikipedia.org/wiki/Twenty_Questions), then you are familiar with decision trees and how they work."
   ]
  },
  {
   "cell_type": "markdown",
   "metadata": {},
   "source": [
    "Decision trees have a lot to recommend them.  \n",
    "They are very easy to understand and interpret, and the process by which they reach a prediction is very transparent.  \n",
    "Decision trees can easily handle a mix of numeric and categorical attributes as well as classify data for which attributes are missing.  "
   ]
  },
  {
   "cell_type": "markdown",
   "metadata": {},
   "source": [
    "However, finding an \"optimal\" decision tree for a set of training data is computationally a very hard problem.  \n",
    "We will work around this problem by trying to build a good-enough tree rather than an optimal one, although for large data sets this can still be a lot of work.  \n",
    "More importantly, it is very easy (and very bad) to build decision trees that are [overfitted](https://en.wikipedia.org/wiki/Overfitting) to the training data, and that don't generalize well to unseen data.  \n",
    "We'll look at ways to address this."
   ]
  },
  {
   "cell_type": "markdown",
   "metadata": {},
   "source": [
    "Decision trees are often divided into [classification trees](http://www.stat.wisc.edu/~loh/treeprogs/guide/wires11.pdf), which produce categorical outputs, and [regression trees](http://www.stat.wisc.edu/~loh/treeprogs/guide/wires11.pdf), which produce numeric outputs.  \n",
    "In this chapter, we will focus on classification trees.  \n",
    "We'll work through the [ID3 algorithm](https://en.wikipedia.org/wiki/ID3_algorithm) for learning a decision tree from a set of labeled data, which should help us understand how decision trees actually work.  \n",
    "To make things simple, we'll restrict ourselves to problems with binary outputs like, \"Should I hire this candidate?\""
   ]
  },
  {
   "cell_type": "markdown",
   "metadata": {},
   "source": [
    "## Entropy"
   ]
  },
  {
   "cell_type": "markdown",
   "metadata": {
    "collapsed": true
   },
   "source": [
    "In order to build a decision tree, we will need to decide what questions to ask and in what order.  \n",
    "At each stage of the tree there are some possibilities that we have eliminated and some that we haven't.  \n",
    "After learning that an animal doesn't have more than five legs, we've eliminated the possibility that it's a grasshopper, but we haven't eliminated the possibility that it's a duck.  \n",
    "Every possible question partitions the remaining possibilities according to their answers.  \n",
    "Ideally, we would like to choose questions whose answers give a lot of information about what our tree should predict.  \n",
    "If there is a single yes/no question for which \"yes\" answers always correspond to `True` outputs and \"no\" answers to `False` outputs (or vice versa), this would be an awesome question to pick.\n",
    "We capture this notion of \"how much information\" with [entropy](https://en.wikipedia.org/wiki/Maximum_entropy_probability_distribution), a term that we will use to represent the uncertainty associated with data."
   ]
  },
  {
   "cell_type": "markdown",
   "metadata": {},
   "source": [
    "Imagine that we have a set $S$ of data, each member of which is labeled as belonging to one of a finite number of classes $C_1,\\;\\ldots,\\;C_n$.  \n",
    "If all of the data points belog to a single class, then there is no real uncertainty, which means we'd like there to be low entropy.  \n",
    "If the data points are evenly spread across the classes, then there is a lot of uncertainty, and we'd like there to be high entropy."
   ]
  },
  {
   "cell_type": "markdown",
   "metadata": {},
   "source": [
    "In math terms, if $p_i$ is the proportion of data labeled as class $C_i$, we define the entropy as:  \n",
    "\n",
    "$\\Large H(S) = -\\;p_1\\text{log}_2p_1 - \\;\\ldots\\; - p_n\\text{log}_2p_n$  \n",
    "\n",
    "with the (standard) convention that $0\\;\\text{log}\\;0 = 0$.  \n",
    "The following plot should aid your understanding:"
   ]
  },
  {
   "cell_type": "code",
   "execution_count": 20,
   "metadata": {
    "collapsed": false
   },
   "outputs": [
    {
     "data": {
      "image/png": "[encoded data removed]",
      "text/plain": [
       "<matplotlib.figure.Figure at 0x1084d1490>"
      ]
     },
     "metadata": {},
     "output_type": "display_data"
    }
   ],
   "source": [
    "xs = np.linspace(0.0001, 1.0, 1000)\n",
    "# xs = np.arange(0.001, 1.0, 0.001)  also works\n",
    "ys = -xs * np.log2(xs)\n",
    "plt.title(\"A Graph Showing -p log(p)\")\n",
    "plt.xlabel(\"p\")\n",
    "plt.ylabel(\"-p log(p)\")\n",
    "plt.plot(xs, ys)\n",
    "plt.show()"
   ]
  },
  {
   "cell_type": "markdown",
   "metadata": {},
   "source": [
    "Without worrying too much about the details, each term $-p_i\\text{log}_2p_i$ is non-negative and is close to zero precisely when $p_i$ is either close to zero or close to one.  \n",
    "This means that the entropy will be small when every $p_i$ is close to 0 or 1 (like when most of the data is in a single class), and it will be larger when many of the $p_i$'s are not too close to 0 (like when the data is spread across multiple classes).  \n",
    "This is exactly the behavior that we desire, and it is simple enough to roll all of this into a function:"
   ]
  },
  {
   "cell_type": "code",
   "execution_count": 21,
   "metadata": {
    "collapsed": false
   },
   "outputs": [],
   "source": [
    "def entropy(class_probabilities):\n",
    "    \"\"\" given a list of class probabilities, calculate the entropy \"\"\"\n",
    "    return sum(-p * math.log(p, 2) for p in class_probabilities if p)  # if p means ignore zero probabilities "
   ]
  },
  {
   "cell_type": "markdown",
   "metadata": {},
   "source": [
    "Our data will consist of pairs (`input`, `label`), which means that we will need to compute the class probabilities ourselves.  \n",
    "Observe that we don't actually care which label is associated with each probability, only what the probabilites are:"
   ]
  },
  {
   "cell_type": "code",
   "execution_count": 22,
   "metadata": {
    "collapsed": true
   },
   "outputs": [],
   "source": [
    "def class_probabilities(labels):\n",
    "    total_count = len(labels)\n",
    "    return [count / total_count for count in Counter(labels).values()]\n",
    "\n",
    "def data_entropy(labeled_data):\n",
    "    labels = [label for _, label in labeled_data]\n",
    "    probabilities = class_probabilities(labels)\n",
    "    return entropy(probabilities)"
   ]
  },
  {
   "cell_type": "markdown",
   "metadata": {},
   "source": [
    "## The Entropy of a Partition"
   ]
  },
  {
   "cell_type": "markdown",
   "metadata": {
    "collapsed": true
   },
   "source": [
    "What we have done so far is calculate the entropy (\"uncertainty\") of a single set of labeled data.  \n",
    "Each stage of a decision tree involves asking a question whose answer partitions data into one or (hopefully) more subsets.  \n",
    "As an example, our \"does it have more than five legs?\" question partitions animals into those that have more than 5 legs and those that don't.  \n",
    "We would also like some idea of the entropy that results from partitioning a set of data in a certain way.  \n",
    "We want a partition to have low entropy if it splits the data into subsets that themselves have low entropy (high certainty), and high entropy if the data contains subsets that are large and have low certainty."
   ]
  },
  {
   "cell_type": "markdown",
   "metadata": {},
   "source": [
    "Mathematically, if we partition our data $S$ into subsets $S_1,\\;\\ldots,\\;S_m$ containing proportions $q_1,\\;\\ldots,\\;q_m$ of the data, then we can calculate the entropy of the partition as a weighted sum:  \n",
    "\n",
    "$\\Large H = q_1H(S_1) + \\;\\ldots\\;+ q_mH(S_m)$  \n",
    "\n",
    "which can be implemented as:"
   ]
  },
  {
   "cell_type": "code",
   "execution_count": 23,
   "metadata": {
    "collapsed": true
   },
   "outputs": [],
   "source": [
    "def partition_entropy(subsets):\n",
    "    \"\"\" find the entropy from this partition of data into subsets \"\"\"\n",
    "    \"\"\" subsets is a list of lists of labeled data \"\"\"\n",
    "    total_count = sum(len(subset) for subset in subsets)\n",
    "    return sum(data_entropy(subset) * len(subset) / total_count for subset in subsets)"
   ]
  },
  {
   "cell_type": "markdown",
   "metadata": {},
   "source": [
    "**Note**  \n",
    "One problem with this approach is that partitioning by an attribute with many different values will result in a very low entropy due to overfitting.  \n",
    "For example, imagine that you work for a bank and you are trying to build a decision tree to predict which of your customers are likely to default on their mortgages, using some historical data as your training set.  \n",
    "This example data contains each customer's Social Security Number.  \n",
    "Partitioning on SSN will produce one-person subsets, each of which has zero entropy.  \n",
    "However, a model that relies on SSN will not generalize beyond the training set.  \n",
    "For this reason, try to avoid (or at least bucket, if appropriate) attributes with large numbers of possible values when creating decision trees."
   ]
  },
  {
   "cell_type": "markdown",
   "metadata": {},
   "source": [
    "## Creating a Decision Tree"
   ]
  },
  {
   "cell_type": "markdown",
   "metadata": {
    "collapsed": true
   },
   "source": [
    "The VP provides you with the interviewee data, consisting of pairs (`input`, `label`), where each `input` is a `dict` of candidate attributes, and each label is either `True` (the candidate interviewed well) or `False` (the candidate interviewed poorly).  \n",
    "In particular, you are provided with each candidate's level, her preferred language, whether she is active on Twitter, and whether she has a PhD:"
   ]
  },
  {
   "cell_type": "code",
   "execution_count": 24,
   "metadata": {
    "collapsed": true
   },
   "outputs": [],
   "source": [
    "inputs = [\n",
    "    ({'level':'Senior','lang':'Java','tweets':'no','phd':'no'},   False),\n",
    "    ({'level':'Senior','lang':'Java','tweets':'no','phd':'yes'},  False),\n",
    "    ({'level':'Mid','lang':'Python','tweets':'no','phd':'no'},     True),\n",
    "    ({'level':'Junior','lang':'Python','tweets':'no','phd':'no'},  True),\n",
    "    ({'level':'Junior','lang':'R','tweets':'yes','phd':'no'},      True),\n",
    "    ({'level':'Junior','lang':'R','tweets':'yes','phd':'yes'},    False),\n",
    "    ({'level':'Mid','lang':'R','tweets':'yes','phd':'yes'},        True),\n",
    "    ({'level':'Senior','lang':'Python','tweets':'no','phd':'no'}, False),\n",
    "    ({'level':'Senior','lang':'R','tweets':'yes','phd':'no'},      True),\n",
    "    ({'level':'Junior','lang':'Python','tweets':'yes','phd':'no'}, True),\n",
    "    ({'level':'Senior','lang':'Python','tweets':'yes','phd':'yes'},True),\n",
    "    ({'level':'Mid','lang':'Python','tweets':'no','phd':'yes'},    True),\n",
    "    ({'level':'Mid','lang':'Java','tweets':'yes','phd':'no'},      True),\n",
    "    ({'level':'Junior','lang':'Python','tweets':'no','phd':'yes'},False)\n",
    "]"
   ]
  },
  {
   "cell_type": "markdown",
   "metadata": {},
   "source": [
    "Our tree will consist of *decision nodes*, which ask us a question and direct us differently depending on the answer, and *leaf nodes*, which give us a prediction.  \n",
    "We will build it using the relatively simple [ID3 algorithm](https://en.wikipedia.org/wiki/ID3_algorithm) (yes, I linked it again), which operates in the following manner:"
   ]
  },
  {
   "cell_type": "markdown",
   "metadata": {},
   "source": [
    "Let's say that we're given some labeled data, and a list of attributes to consider branching on.  \n",
    "- If the data all have the same label, then create a leaf node that predicts that label and then stop.\n",
    "- If the list of attributes is empty (meaning there are no more possible questions to ask), then create a leaf node that predicts the most common label and stop.\n",
    "- Otherwise, try partitioning the data by each of the attributes.\n",
    "- Choose the partition with the lowest partition entropy.\n",
    "- Add a decision noode based on the chosen attribute.\n",
    "- Recur on each partitioned subset using the remaining attributes."
   ]
  },
  {
   "cell_type": "markdown",
   "metadata": {},
   "source": [
    "This is what's known as a [greedy algorithm](https://en.wikipedia.org/wiki/Greedy_algorithm), because at each step it makes the locally optimal choice (first best option).  \n",
    "Given a data set, there may be a better tree with a worse-looking first move.  \n",
    "If so, this algorithm won't find it.  \n",
    "Nonetheless, ID3 is relatively easy to understand and implement, which makes it a good place to begin exploring decision trees."
   ]
  },
  {
   "cell_type": "markdown",
   "metadata": {},
   "source": [
    "Let's manually go through these steps on the interviewee data set.  \n",
    "The data set has bot `True` and `False` labels, and we have four attributes that we can split on.  \n",
    "Our first step will be to find the partition with the least entropy.  \n",
    "We'll start by writing a function that does the partitioning:"
   ]
  },
  {
   "cell_type": "code",
   "execution_count": 25,
   "metadata": {
    "collapsed": true
   },
   "outputs": [],
   "source": [
    "def partition_by(inputs, attribute):\n",
    "    \"\"\" each input is a pair (attribute_dict, label) \"\"\"\n",
    "    \"\"\" returns a dict : attribute_value -> inputs \"\"\"\n",
    "    groups = defaultdict(list)\n",
    "    for input in inputs:\n",
    "        key = input[0][attribute]   # get the value of the specified attribute\n",
    "        groups[key].append(input)   # then add this input to the correct list\n",
    "    return groups"
   ]
  },
  {
   "cell_type": "markdown",
   "metadata": {},
   "source": [
    "as well as a function that uses it to calculate entropy:"
   ]
  },
  {
   "cell_type": "code",
   "execution_count": 26,
   "metadata": {
    "collapsed": true
   },
   "outputs": [],
   "source": [
    "def partition_entropy_by(inputs, attribute):\n",
    "    \"\"\" calculates the entropy corresponding to the given partition \"\"\"\n",
    "    partitions = partition_by(inputs, attribute)\n",
    "    return partition_entropy(partitions.values())"
   ]
  },
  {
   "cell_type": "markdown",
   "metadata": {},
   "source": [
    "Then we just need to find the minimum-entropy partition for the whole data set:"
   ]
  },
  {
   "cell_type": "code",
   "execution_count": 27,
   "metadata": {
    "collapsed": false
   },
   "outputs": [
    {
     "name": "stdout",
     "output_type": "stream",
     "text": [
      "level 0.693536138896\n",
      "lang 0.860131712855\n",
      "tweets 0.788450457308\n",
      "phd 0.892158928262\n"
     ]
    }
   ],
   "source": [
    "for key in ['level', 'lang', 'tweets', 'phd']:\n",
    "    print key, partition_entropy_by(inputs, key)"
   ]
  },
  {
   "cell_type": "markdown",
   "metadata": {},
   "source": [
    "The lowest entropy comes from splitting on `level`, so we'll need to make a subtree for each possible `level` value.  \n",
    "Every `Mid` candidate is labeled `True`, which means that the `Mid` subtree is simply a leaf node predicting `True`.  \n",
    "For `Senior` candidiates, we have a mix of `True`s and `False`s, so we need to split again:"
   ]
  },
  {
   "cell_type": "code",
   "execution_count": 28,
   "metadata": {
    "collapsed": false
   },
   "outputs": [
    {
     "name": "stdout",
     "output_type": "stream",
     "text": [
      "lang 0.4\n",
      "tweets 0.0\n",
      "phd 0.950977500433\n"
     ]
    }
   ],
   "source": [
    "senior_inputs = [(input, label) for input, label in inputs if input[\"level\"] == \"Senior\"]\n",
    "for key in ['lang', 'tweets', 'phd']:\n",
    "    print key, partition_entropy_by(senior_inputs, key)"
   ]
  },
  {
   "cell_type": "markdown",
   "metadata": {},
   "source": [
    "The results show us that our next split should be on `tweets`, which results in a zero-entropy partition.  \n",
    "For these Senior-level candidates, \"yes\" on `tweets` always result in `True`, while \"no\" on `tweets` always result in `False`.  \n",
    "Finally, if we do the same thing for the `Junior` candidates, we end up splitting on `phd`, after which we find that no PhD always results in `True` and (yes on) PhD always results in `False`.  \n",
    "The following easy-to-read visualization shows the complete decision tree:"
   ]
  },
  {
   "cell_type": "markdown",
   "metadata": {},
   "source": [
    "![decision_tree](img/decision_tree.png)"
   ]
  },
  {
   "cell_type": "markdown",
   "metadata": {},
   "source": [
    "## Putting It All Together"
   ]
  },
  {
   "cell_type": "markdown",
   "metadata": {
    "collapsed": true
   },
   "source": [
    "Now that we've seen how the algorithm works, we would like to implement it more generally.  \n",
    "This means that we need to decide how we want to represent trees.  \n",
    "Let's keep things simple and define *tree* as one of the following:  \n",
    "- `True`\n",
    "- `False`\n",
    "- a tuple (`attribute`, `subtree_dict`)  \n",
    "\n",
    "Here `True` represents a leaf node that returns `True` for any input, `False` represents a leaf node that returns `False` for any input, and a tuple represents a decision node that, for any input, finds it `attribute` value, and classifies the input using the corresponding subtree.  \n",
    "\n",
    "With this representation, our hiring tree would look like:"
   ]
  },
  {
   "cell_type": "raw",
   "metadata": {},
   "source": [
    "('level',\n",
    "  {'Junior': ('phd', {'no': True, 'yes': False}),\n",
    "   'Mid': True,\n",
    "   'Senior': ('tweets', {'no': False, 'yes': True})})"
   ]
  },
  {
   "cell_type": "markdown",
   "metadata": {},
   "source": [
    "There's still the question of what to do if we encounter an unexpected (or missing) attribute value.  \n",
    "What should our hiring tree do if it encounters a candidate whose `level` is \"Intern\"?  \n",
    "We can handle this case by adding a `None` key that predicts the most common label (although this is a bad idea if `None` is actually a that appears in the data).  \n",
    "Given such a representation, we can classify an input with:"
   ]
  },
  {
   "cell_type": "code",
   "execution_count": 29,
   "metadata": {
    "collapsed": true
   },
   "outputs": [],
   "source": [
    "def classify(tree, input):\n",
    "    \"\"\" classify the input using the given decision tree \"\"\"\n",
    "    # if this is a leaf node, return its value\n",
    "    if tree in [True, False]:\n",
    "        return tree\n",
    "    # otherwise this tree consists of an attribute to split on and a dictionary whose keys are \n",
    "    # values of that attribute and whose values are the subtrees to consider next\n",
    "    attribute, subtree_dict = tree\n",
    "    \n",
    "    subtree_key = input.get(attribute)   # None if input is missing the attribute\n",
    "    \n",
    "    if subtree_key not in subtree_dict:  # if there is no subtree for key,\n",
    "        subtree_key = None               # use the None subtree\n",
    "        \n",
    "    subtree = subtree_dict[subtree_key]  # choose the appropriate subtree,\n",
    "    return classify(subtree, input)      # and use it to classify the input"
   ]
  },
  {
   "cell_type": "markdown",
   "metadata": {},
   "source": [
    "Now we just have to build the tree representation from our training data:"
   ]
  },
  {
   "cell_type": "code",
   "execution_count": 30,
   "metadata": {
    "collapsed": true
   },
   "outputs": [],
   "source": [
    "def build_tree_id3(inputs, split_candidates=None):\n",
    "    # if this is our first pass, all keys of the first input are split_candidates\n",
    "    if split_candidates is None:\n",
    "        split_candidates = inputs[0][0].keys()\n",
    "        \n",
    "    # count Trues and Falses in the inputs\n",
    "    num_inputs = len(inputs)\n",
    "    num_trues = len([label for item, label in inputs if label])\n",
    "    num_falses = num_inputs - num_trues\n",
    "    \n",
    "    if num_trues == 0: return False     # if no 'Trues' then return a 'False' leaf\n",
    "    if num_falses == 0: return True     # if no 'Falses' then return a 'True' leaf\n",
    "    if not split_candidates:            # if there are no split candidates left\n",
    "        return num_trues >= num_falses  # return the majority leaf\n",
    "    \n",
    "    # otherwise, split on the best attribute\n",
    "    best_attribute = min(split_candidates, key=partial(partition_entropy_by, inputs))\n",
    "    partitions = partition_by(inputs, best_attribute)\n",
    "    new_candidates = [a for a in split_candidates if a != best_attribute]\n",
    "    \n",
    "    # and recursively build the subtrees\n",
    "    subtrees = { attribute_value : build_tree_id3(subset, new_candidates) \n",
    "                for attribute_value, subset in partitions.iteritems() }\n",
    "    subtrees[None] = num_trues > num_falses  # default case\n",
    "    \n",
    "    return (best_attribute, subtrees)"
   ]
  },
  {
   "cell_type": "markdown",
   "metadata": {},
   "source": [
    "In the tree that we built, every leaf consisted entirely of `True` inputs or entirely of `False` inputs.  \n",
    "This means that the tree predicts perfectly on the training data set:"
   ]
  },
  {
   "cell_type": "code",
   "execution_count": 31,
   "metadata": {
    "collapsed": false
   },
   "outputs": [
    {
     "data": {
      "text/plain": [
       "('level',\n",
       " {None: True,\n",
       "  'Junior': ('phd', {None: True, 'no': True, 'yes': False}),\n",
       "  'Mid': True,\n",
       "  'Senior': ('tweets', {None: False, 'no': False, 'yes': True})})"
      ]
     },
     "execution_count": 31,
     "metadata": {},
     "output_type": "execute_result"
    }
   ],
   "source": [
    "tree = build_tree_id3(inputs)\n",
    "tree"
   ]
  },
  {
   "cell_type": "markdown",
   "metadata": {},
   "source": [
    "However, we can also apply our model to new data that was not in the training set:"
   ]
  },
  {
   "cell_type": "code",
   "execution_count": 32,
   "metadata": {
    "collapsed": false
   },
   "outputs": [
    {
     "data": {
      "text/plain": [
       "True"
      ]
     },
     "execution_count": 32,
     "metadata": {},
     "output_type": "execute_result"
    }
   ],
   "source": [
    "classify(tree, { \"level\" : \"Junior\",\n",
    "                 \"lang\" : \"Java\",\n",
    "                 \"tweets\" : \"yes\",\n",
    "                 \"phd\" : \"no\"} )"
   ]
  },
  {
   "cell_type": "code",
   "execution_count": 33,
   "metadata": {
    "collapsed": false
   },
   "outputs": [
    {
     "data": {
      "text/plain": [
       "False"
      ]
     },
     "execution_count": 33,
     "metadata": {},
     "output_type": "execute_result"
    }
   ],
   "source": [
    "classify(tree, { \"level\" : \"Junior\",\n",
    "                 \"lang\" : \"Java\",\n",
    "                 \"tweets\" : \"yes\",\n",
    "                 \"phd\" : \"yes\"} )"
   ]
  },
  {
   "cell_type": "markdown",
   "metadata": {},
   "source": [
    "as well as data with missing or unexpected values:"
   ]
  },
  {
   "cell_type": "code",
   "execution_count": 34,
   "metadata": {
    "collapsed": false
   },
   "outputs": [
    {
     "data": {
      "text/plain": [
       "True"
      ]
     },
     "execution_count": 34,
     "metadata": {},
     "output_type": "execute_result"
    }
   ],
   "source": [
    "classify(tree, { \"level\" : \"Intern\" } )"
   ]
  },
  {
   "cell_type": "code",
   "execution_count": 35,
   "metadata": {
    "collapsed": false
   },
   "outputs": [
    {
     "data": {
      "text/plain": [
       "False"
      ]
     },
     "execution_count": 35,
     "metadata": {},
     "output_type": "execute_result"
    }
   ],
   "source": [
    "classify(tree, { \"level\" : \"Senior\" } )"
   ]
  },
  {
   "cell_type": "markdown",
   "metadata": {},
   "source": [
    "**Note**  \n",
    "Since our goal was mainly to demonstrate *how* to build a tree, we built the tree using the entire data set.  \n",
    "As always, if we were really trying to create a good model for something, we would have collected more data and split it into train/validation/test subsets."
   ]
  },
  {
   "cell_type": "markdown",
   "metadata": {},
   "source": [
    "## Random Forests"
   ]
  },
  {
   "cell_type": "markdown",
   "metadata": {},
   "source": [
    "Given how closely decision trees can fit themselves to their training data, it's not surprising that they have a tendency to overfit.  \n",
    "One way of avoiding this is a technique called [random forests](https://en.wikipedia.org/wiki/Random_forest), in which we build multiple decision trees and let them 'vote' on how to classify inputs:"
   ]
  },
  {
   "cell_type": "code",
   "execution_count": 36,
   "metadata": {
    "collapsed": true
   },
   "outputs": [],
   "source": [
    "def forest_classify(trees, input):\n",
    "    votes = [classify(tree, input) for tree in trees]\n",
    "    vote_counts = Counter(votes)\n",
    "    return vote_counts.most_common(1)[0][0]"
   ]
  },
  {
   "cell_type": "markdown",
   "metadata": {},
   "source": [
    "Our tree-building process was deterministic, so how do we get random trees?  \n",
    "One piece involves bootstrapping data (see [Digression: The Bootstrap](http://localhost:8888/notebooks/15_Chapter_Multiple_Regression.ipynb#Digression:-The-Bootstrap)).  \n",
    "Rather than training each tree on all of the `inputs` in the training set, we instead train each tree on the result of `bootstrap_sample(inputs)`.  \n",
    "Since each tree is built using different data, each tree will be different from every other tree.  \n",
    "One side benefit of this practice is that it's totally fair to use the nonsampled data to test each tree, which means that you can get away with using all of your data as the training set if you are careful (and clever) about how you measure performance.  \n",
    "This technique is known as [*bootstrap aggregating* or *bagging*](https://en.wikipedia.org/wiki/Bootstrap_aggregating)."
   ]
  },
  {
   "cell_type": "markdown",
   "metadata": {},
   "source": [
    "A second source of randomness involves changing the way we chose the `best_attribute` to split on.  \n",
    "Rather than looking at all of the remaining attributes, we first choose a random subset of them and then split on whichever of those is best:"
   ]
  },
  {
   "cell_type": "raw",
   "metadata": {},
   "source": [
    "# if there are few enough split candidates, look at all of them\n",
    "\n",
    "if len(split_candidates) <= self.num_split_candidates:\n",
    "    sampled_split_candidates = split_candidates\n",
    "    \n",
    "# otherwise pick a random sample\n",
    "\n",
    "else:\n",
    "    sampled_split_candidates = random.sample(split_candidates, self.num_split_candidates)\n",
    "\n",
    "# now choose the best attribute only from those candidates\n",
    "\n",
    "best_attribute = min(sampled_split_candidates, key=partial(partition_entropy_by, inputs))\n",
    "partitions = partition_by(inputs, best_attribute)"
   ]
  },
  {
   "cell_type": "markdown",
   "metadata": {},
   "source": [
    "This is an example of a broader technique called [ensemble learning](https://en.wikipedia.org/wiki/Ensemble_learning) in which we combine several [weak learners](https://stats.stackexchange.com/questions/82049/what-is-meant-by-weak-learner) (typically high-bias, low-variance models) in order to produce an overall strong model.  "
   ]
  },
  {
   "cell_type": "markdown",
   "metadata": {},
   "source": [
    "## For Further Exploration"
   ]
  },
  {
   "cell_type": "markdown",
   "metadata": {},
   "source": [
    "scikit-learn has many [Decision Tree models](http://scikit-learn.org/stable/modules/tree.html).  \n",
    "It also has an [ensemble module](http://scikit-learn.org/stable/modules/classes.html#module-sklearn.ensemble) that includes a `RandomForestClassifier` as well as other ensemble methods.  \n",
    "We barely scratched the surface of decision trees and their algorithms.  \n",
    "[Wikipedia](https://en.wikipedia.org/wiki/Decision_tree_learning) is a good starting point for further exploration."
   ]
  }
 ],
 "metadata": {
  "kernelspec": {
   "display_name": "Python 2",
   "language": "python",
   "name": "python2"
  },
  "language_info": {
   "codemirror_mode": {
    "name": "ipython",
    "version": 2
   },
   "file_extension": ".py",
   "mimetype": "text/x-python",
   "name": "python",
   "nbconvert_exporter": "python",
   "pygments_lexer": "ipython2",
   "version": "2.7.12"
  }
 },
 "nbformat": 4,
 "nbformat_minor": 1
}
