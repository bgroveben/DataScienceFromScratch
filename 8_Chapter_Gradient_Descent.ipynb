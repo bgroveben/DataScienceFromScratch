{
 "cells": [
  {
   "cell_type": "markdown",
   "metadata": {},
   "source": [
    "# Chapter 8. Gradient Descent"
   ]
  },
  {
   "cell_type": "code",
   "execution_count": 20,
   "metadata": {
    "collapsed": false
   },
   "outputs": [],
   "source": [
    "from __future__ import division\n",
    "from collections import Counter\n",
    "from functools import partial\n",
    "import math, random\n",
    "import matplotlib.pyplot as plt\n",
    "\n",
    "def vector_subtract(v, w):\n",
    "    \"\"\" subtracts corresponding elements \"\"\"\n",
    "    return [v_i - w_i for v_i, w_i in zip(v, w)]\n",
    "\n",
    "def scalar_multiply(c, v):\n",
    "    \"\"\" c is a number, v is a vector \"\"\"\n",
    "    return [c * v_i for v_i in v]\n",
    "\n",
    "def distance(v, w):\n",
    "    return magnitude(vector_subtract(v, w))"
   ]
  },
  {
   "cell_type": "markdown",
   "metadata": {},
   "source": [
    "## The Idea Behind Gradient Descent"
   ]
  },
  {
   "cell_type": "markdown",
   "metadata": {},
   "source": [
    "Suppose we have some function f that takes a sinput a vector of real numbers and outputs a single real number."
   ]
  },
  {
   "cell_type": "code",
   "execution_count": 21,
   "metadata": {
    "collapsed": true
   },
   "outputs": [],
   "source": [
    "def sum_of_squares(v):\n",
    "    \"\"\" computes the sum of squared elements in v \"\"\"\n",
    "    return sum(v_i ** 2 for v_i in v)"
   ]
  },
  {
   "cell_type": "markdown",
   "metadata": {},
   "source": [
    "We will frequently need to maximize or minimize such functions.  \n",
    "That is, we need to find the input v that produces the largest or smallest possible value.  \n",
    "For functions like ours, the [gradient](https://en.wikipedia.org/wiki/Gradient)(in calculus, this is the vector of partial derivatives) gives the input direction in which the function most quickly increases.  \n",
    "Accordingly, one approach to maximizing a function is to pick a random starting point, compute the gradient, take a small step in the direction of the gradient (the direction that causes the function to increase the most), and repeat with a new starting point.  \n",
    "Similarly, you can try to minimize a function by taking small steps in the *opposite* direction."
   ]
  },
  {
   "cell_type": "markdown",
   "metadata": {},
   "source": [
    "**Note**  \n",
    "If a function has a unique global minimum, this procedure is likely to find it.  \n",
    "If a function has multiple local minima, gradient descent might find the wrong one of them, in which case you might re-run the procedure from a variety of starting points.  \n",
    "If a function has no minimum, then i't possible the procedure might go on forever."
   ]
  },
  {
   "cell_type": "markdown",
   "metadata": {},
   "source": [
    "## Estimating the Gradient"
   ]
  },
  {
   "cell_type": "markdown",
   "metadata": {},
   "source": [
    "If f is a function of one variable, its derivative at a point x measures how f(x) changes when we make a very small change to x.  \n",
    "It is defined as the [limit](https://en.wikipedia.org/wiki/Limit_of_a_function) of the difference quotients:"
   ]
  },
  {
   "cell_type": "code",
   "execution_count": 22,
   "metadata": {
    "collapsed": true
   },
   "outputs": [],
   "source": [
    "def difference_quotient(f, x, h):\n",
    "    return (f(x + h) - f(x)) / h"
   ]
  },
  {
   "cell_type": "markdown",
   "metadata": {},
   "source": [
    "as h approaches zero."
   ]
  },
  {
   "cell_type": "markdown",
   "metadata": {},
   "source": [
    "The derivative is the slope of the tangent line at <code>(x, f(x))</code>, while the difference quotient is the slope of the not-quite-tangent line that runs through <code>(x + h, f(x + h))</code>.  \n",
    "As *h* gets smaller and smaller, the not-quite-tangent line gets closer to the tangent line."
   ]
  },
  {
   "cell_type": "markdown",
   "metadata": {},
   "source": [
    "For many functions, it is easy to calculate derivatives."
   ]
  },
  {
   "cell_type": "code",
   "execution_count": 23,
   "metadata": {
    "collapsed": true
   },
   "outputs": [],
   "source": [
    "# For example, the square function:\n",
    "def square(x):\n",
    "    return x * x\n",
    "\n",
    "# has the derivative: \n",
    "def derivative(x):\n",
    "    return 2 * x\n",
    "\n",
    "# which you can check by explicitly computing the difference quotient and taking the limit."
   ]
  },
  {
   "cell_type": "markdown",
   "metadata": {},
   "source": [
    "What if we couldn't (or didn't want to) find the gradient?  \n",
    "Although we can't take limits in Python, we can estimate derivatives by evaluating the difference quotient for a very small <code>e</code>."
   ]
  },
  {
   "cell_type": "code",
   "execution_count": 24,
   "metadata": {
    "collapsed": false
   },
   "outputs": [
    {
     "data": {
      "image/png": "[encoded data removed]",
      "text/plain": [
       "<matplotlib.figure.Figure at 0x105723d90>"
      ]
     },
     "metadata": {},
     "output_type": "display_data"
    }
   ],
   "source": [
    "derivative_estimate = partial(difference_quotient, square, h=0.00001)\n",
    "\n",
    "# plot to show that they are basically the same\n",
    "x = range(-10,10)\n",
    "plt.title(\"Actual Derivatives vs. Estimates\")\n",
    "plt.plot(x, map(derivative, x), 'rx', label='Actual')  # red x\n",
    "plt.plot(x, map(derivative_estimate, x), 'b+', label='Estimate')  # blue +\n",
    "plt.legend(loc=9)\n",
    "plt.show()"
   ]
  },
  {
   "cell_type": "markdown",
   "metadata": {},
   "source": [
    "When f is a function of many variables, it has multiple [partial derivatives](https://en.wikipedia.org/wiki/Partial_derivative), each indicating how f changes when we make small changes in just one of the input variables.  \n",
    "We calculate its *i*th partial derivative by treating it a s a function of just its *i*th variable, holding the other variables fixed:"
   ]
  },
  {
   "cell_type": "code",
   "execution_count": 25,
   "metadata": {
    "collapsed": true
   },
   "outputs": [],
   "source": [
    "def partial_difference_quotient(f, v, i, h):\n",
    "    \"\"\" compute the ith partial difference quotient of f at v \"\"\"\n",
    "    # add h to only the ith element of v\n",
    "    w = [v_j + (h if j == i else 0) for j, v_j in enumerate(v)]\n",
    "    return (f(w) - f(v)) / h"
   ]
  },
  {
   "cell_type": "markdown",
   "metadata": {},
   "source": [
    "after which we can estimate the gradient the same way:"
   ]
  },
  {
   "cell_type": "code",
   "execution_count": 26,
   "metadata": {
    "collapsed": true
   },
   "outputs": [],
   "source": [
    "def estimate_gradient(f, v, h=0.00001):\n",
    "    return [partial_difference_quotient(f, v, i, h) for i, _ in enumerate(v)]"
   ]
  },
  {
   "cell_type": "markdown",
   "metadata": {},
   "source": [
    "**Note**  \n",
    "A major drawback to this \"estimate using difference quotients\" approach is that it is computationally expensive.  \n",
    "If <code>v</code> has length <code>n</code>, <code>estimate_gradient</code> has to evaluate <code>f</code> on 2<code>n</code> different inputs.  \n",
    "If you are repeatedly estimating gradients, you are doing quite a bit of extra work."
   ]
  },
  {
   "cell_type": "markdown",
   "metadata": {},
   "source": [
    "## Using the Gradient"
   ]
  },
  {
   "cell_type": "code",
   "execution_count": null,
   "metadata": {
    "collapsed": true
   },
   "outputs": [],
   "source": []
  }
 ],
 "metadata": {
  "kernelspec": {
   "display_name": "Python 2",
   "language": "python",
   "name": "python2"
  },
  "language_info": {
   "codemirror_mode": {
    "name": "ipython",
    "version": 2
   },
   "file_extension": ".py",
   "mimetype": "text/x-python",
   "name": "python",
   "nbconvert_exporter": "python",
   "pygments_lexer": "ipython2",
   "version": "2.7.12"
  }
 },
 "nbformat": 4,
 "nbformat_minor": 1
}
