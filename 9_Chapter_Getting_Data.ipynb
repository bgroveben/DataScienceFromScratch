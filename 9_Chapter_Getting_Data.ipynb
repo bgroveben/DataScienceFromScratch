{
 "cells": [
  {
   "cell_type": "markdown",
   "metadata": {},
   "source": [
    "# Chapter 9. Getting Data"
   ]
  },
  {
   "cell_type": "code",
   "execution_count": 1,
   "metadata": {
    "collapsed": false
   },
   "outputs": [],
   "source": [
    "from __future__ import division\n",
    "from collections import Counter\n",
    "import math, random, csv, json\n",
    "from bs4 import BeautifulSoup\n",
    "import requests\n",
    "import re"
   ]
  },
  {
   "cell_type": "markdown",
   "metadata": {},
   "source": [
    "In order to be a data scientist you need data (yes, really).  \n",
    "In this chapter, we take a look at different ways of getting data into Python and into the right formats."
   ]
  },
  {
   "cell_type": "markdown",
   "metadata": {},
   "source": [
    "## stdin and stdout"
   ]
  },
  {
   "cell_type": "markdown",
   "metadata": {},
   "source": [
    "If you run your Python scripts at the command line, you can *pipe* data through them using <code>sys.stdin</code> and <code>sys.stdout</code>.  \n",
    "For example, here is a script that reads in lines of text and spits back out the ones that match a regular expression:"
   ]
  },
  {
   "cell_type": "raw",
   "metadata": {},
   "source": [
    "# egrep.py\n",
    "import sys, re\n",
    "\n",
    "# sys.argv is the list of command-line arguments\n",
    "# sys.argv[0] is the name of the program itself\n",
    "# sys.argv[1] will be the regex specified at the command line\n",
    "regex = sys.argv[1]\n",
    "\n",
    "# for every line passed into the script\n",
    "for line in sys.stdin:\n",
    "    # if it matches the regex, write it to stdout\n",
    "    if re.search(regex, line):\n",
    "        sys.stdout.write(line)"
   ]
  },
  {
   "cell_type": "markdown",
   "metadata": {},
   "source": [
    "Here's a program that counts the lines it receives and then writes out the count:"
   ]
  },
  {
   "cell_type": "raw",
   "metadata": {},
   "source": [
    "# line_count.py\n",
    "import sys\n",
    "\n",
    "count = 0\n",
    "for line in sys.stdin:\n",
    "    count += 1\n",
    "    \n",
    "# print goes to sys.stdout\n",
    "print count"
   ]
  },
  {
   "cell_type": "markdown",
   "metadata": {},
   "source": [
    "You could then use these to count how many lines of a file contain numbers.  \n",
    "In Windows, you would use:  \n",
    "\n",
    "<code>type SomeFile.txt | python egrep.py \"[0-9]\" | python line_count.py</code>  \n",
    "\n",
    "whereas in a Unix system you would use:  \n",
    "\n",
    "<code>cat SomeFile.txt | python egrep.py \"[0-9]\" | python line_count.py</code>  \n",
    "\n",
    "The | is the pipe character, which means \"use the output of the left command as the input of the right command\".  \n",
    "You can build some pretty elaborate data-processing pipelines this way."
   ]
  },
  {
   "cell_type": "markdown",
   "metadata": {},
   "source": [
    "Similarly, here is a script that counts the words in its input and writes out the most common ones:"
   ]
  },
  {
   "cell_type": "raw",
   "metadata": {},
   "source": [
    "# most_common_words.py  \n",
    "\n",
    "import sys \n",
    "from collections import Counter  \n",
    "\n",
    "# pass in number of words as the first argument\n",
    "\n",
    "try:\n",
    "    num_words = int(sys.argv[1])   \n",
    "except:\n",
    "    print \"usage: most_common_words.py num_words\"\n",
    "    sys.exit(1)   # non-zero exit code indicates error\n",
    "\n",
    "counter = Counter(word.lower()                      # lowercase words                  \n",
    "                  for line in sys.stdin   \n",
    "                  for word in line.strip().split()  #  split on spaces  \n",
    "                  if word)                          # skip empty 'words' (spaces)  \n",
    "                  \n",
    "for word, count in counter.most_common(num_words):\n",
    "    sys.stdout.write(str(count))\n",
    "    sys.stdout.write(\"\\t\")\n",
    "    sys.stdout.write(word)\n",
    "    sys.stdout.write(\"\\n\")"
   ]
  },
  {
   "cell_type": "code",
   "execution_count": 2,
   "metadata": {
    "collapsed": false
   },
   "outputs": [
    {
     "name": "stdout",
     "output_type": "stream",
     "text": [
      "7\teget\r\n",
      "7\tin\r\n",
      "6\tnon\r\n",
      "5\tsed\r\n",
      "5\tut\r\n",
      "4\tvel\r\n",
      "4\tet\r\n",
      "4\tnulla\r\n",
      "4\tneque\r\n",
      "4\tullamcorper\r\n"
     ]
    }
   ],
   "source": [
    "cat lorem_ipsum.txt | python most_common_words.py 10"
   ]
  },
  {
   "cell_type": "markdown",
   "metadata": {},
   "source": [
    "**Note**  \n",
    "There are plenty of Unix command-line tools that can also be used, such as <code>grep</code> and <code>egrep</code>, that are probably preferable to building your own from scratch."
   ]
  },
  {
   "cell_type": "markdown",
   "metadata": {},
   "source": [
    "## Reading Files"
   ]
  },
  {
   "cell_type": "markdown",
   "metadata": {
    "collapsed": true
   },
   "source": [
    "### The Basics of Text Files"
   ]
  },
  {
   "cell_type": "markdown",
   "metadata": {},
   "source": [
    "The first step in working with a text file is to obtain a *file object* using `open`:"
   ]
  },
  {
   "cell_type": "code",
   "execution_count": 3,
   "metadata": {
    "collapsed": true
   },
   "outputs": [],
   "source": [
    "# 'r' means read-only\n",
    "file_for_reading = open('reading_file.txt', 'r')\n",
    "\n",
    "# 'w' means write\n",
    "#!# This will destroy the file if it already exists!\n",
    "file_for_writing = open('writing_file.txt', 'w')\n",
    "\n",
    "# 'a' means append\n",
    "# for adding to the end of a file\n",
    "file_for_appending = open('appending_file.txt', 'a')\n",
    "\n",
    "#!# Don't forget to close your files when you're done!\n",
    "file_for_reading.close()\n",
    "file_for_writing.close()\n",
    "file_for_appending.close()"
   ]
  },
  {
   "cell_type": "markdown",
   "metadata": {},
   "source": [
    "Since it is easy to forget to close your files, you should always use them in a `with` block, at the end of which they will be closed automatically:"
   ]
  },
  {
   "cell_type": "raw",
   "metadata": {},
   "source": [
    "with open('reading_file.txt', 'r') as f:\n",
    "    data = function_that_gets_data_from(f)\n",
    "    \n",
    "# at this point f has already been closed, so don't try to use it\n",
    "\n",
    "process(data)"
   ]
  },
  {
   "cell_type": "markdown",
   "metadata": {},
   "source": [
    "If you need to read a whole text file, you can just iterate over the lines of the file using `for`:"
   ]
  },
  {
   "cell_type": "code",
   "execution_count": 4,
   "metadata": {
    "collapsed": false
   },
   "outputs": [
    {
     "data": {
      "text/plain": [
       "1"
      ]
     },
     "execution_count": 4,
     "metadata": {},
     "output_type": "execute_result"
    }
   ],
   "source": [
    "starts_with_hash = 0\n",
    "\n",
    "with open('lorem_ipsum.txt', 'r') as f:\n",
    "    for line in f:                 # look at each line in the file\n",
    "        if re.match(\"^#\",line):    # use a regex to see if it starts with '#'\n",
    "            starts_with_hash += 1  # if it does, add 1 to the count\n",
    "\n",
    "starts_with_hash"
   ]
  },
  {
   "cell_type": "markdown",
   "metadata": {},
   "source": [
    "Every line you get this way ends in a newline character (\\n), you you may want to `strip()` it before doing anything with it."
   ]
  },
  {
   "cell_type": "markdown",
   "metadata": {},
   "source": [
    "For example, imagine you have a file full of email addresses, one per line, and that you need to generate a histogram of the domains.  \n",
    "A good first approximation is to just take the parts of the email addresses that come after the @."
   ]
  },
  {
   "cell_type": "code",
   "execution_count": 5,
   "metadata": {
    "collapsed": true
   },
   "outputs": [],
   "source": [
    "def get_domain(email_address):\n",
    "    \"\"\" split on '@' and return the last piece \"\"\"\n",
    "    return email_address.lower().split(\"@\")[-1]\n",
    "\n",
    "with open('email_addresses.txt', 'r') as f:\n",
    "    domain_counts = Counter(get_domain(line.strip()) for line in f if \"@\" in line)"
   ]
  },
  {
   "cell_type": "markdown",
   "metadata": {},
   "source": [
    "### Delimited Files"
   ]
  },
  {
   "cell_type": "markdown",
   "metadata": {},
   "source": [
    "Frequently you will work with files that have lots of data on each line.  \n",
    "These files are often either *comma-separated* or *tab-separated*.  \n",
    "Don't try to parse them yourself -- use Python's `csv` module or the `pandas` library.  \n",
    "If the file has no headers, you can use `csv.reader` to iterate over the rows."
   ]
  },
  {
   "cell_type": "markdown",
   "metadata": {},
   "source": [
    "For example, if we had a tab-delimited file of stock prices, we could process them with:"
   ]
  },
  {
   "cell_type": "code",
   "execution_count": 6,
   "metadata": {
    "collapsed": false
   },
   "outputs": [
    {
     "name": "stdout",
     "output_type": "stream",
     "text": [
      "('6/20/2014', 'AAPL', 90.91)\n",
      "('6/20/2014', 'MSFT', 41.68)\n",
      "('6/20/2014', 'FB', 64.5)\n",
      "('6/19/2014', 'AAPL', 91.86)\n",
      "('6/19/2014', 'MSFT', 41.51)\n",
      "('6/19/2014', 'FB', 64.34)\n"
     ]
    }
   ],
   "source": [
    "import csv\n",
    "\n",
    "with open('tab_delimited_stock_prices.txt', 'r') as f:\n",
    "    reader = csv.reader(f, delimiter='\\t')\n",
    "    for row in reader:\n",
    "        date = row[0]\n",
    "        symbol = row[1]\n",
    "        closing_price = float(row[2])\n",
    "        print(date, symbol, closing_price)"
   ]
  },
  {
   "cell_type": "markdown",
   "metadata": {},
   "source": [
    "If your file has headers, you can either skip the header row (with an initial call to `reader.next()`), or get each row as a `dict`, with the headers as keys, by using `csv.DictReader`:"
   ]
  },
  {
   "cell_type": "code",
   "execution_count": 7,
   "metadata": {
    "collapsed": false
   },
   "outputs": [
    {
     "name": "stdout",
     "output_type": "stream",
     "text": [
      "('6/20/2014', 'AAPL', 90.91)\n",
      "('6/20/2014', 'MSFT', 41.68)\n",
      "('6/20/2014', 'FB', 64.5)\n"
     ]
    }
   ],
   "source": [
    "with open('colon_delimited_stock_prices.txt', 'r') as f:\n",
    "    reader = csv.DictReader(f, delimiter=':')\n",
    "    for row in reader:\n",
    "        date = row[\"date\"]\n",
    "        symbol = row[\"symbol\"]\n",
    "        closing_price = float(row[\"closing_price\"])\n",
    "        print(date, symbol, closing_price)"
   ]
  },
  {
   "cell_type": "markdown",
   "metadata": {},
   "source": [
    "Even if your file doesn't have headers you can still use `DictReader` by passing it the keys as a `fieldnames` parameter."
   ]
  },
  {
   "cell_type": "markdown",
   "metadata": {},
   "source": [
    "You can similarly write out delimited data using `csv.writer`:"
   ]
  },
  {
   "cell_type": "code",
   "execution_count": 8,
   "metadata": {
    "collapsed": false
   },
   "outputs": [],
   "source": [
    "today_prices = { 'AAPL' : 95.95, 'MSFT' : 43.34, 'FB' : 66.66 }\n",
    "\n",
    "with open('comma_delimited_stock_prices.txt', 'w') as f:\n",
    "    writer = csv.writer(f, delimiter=',')\n",
    "    for stock, price in today_prices.items():\n",
    "        writer.writerow([stock, price])"
   ]
  },
  {
   "cell_type": "markdown",
   "metadata": {},
   "source": [
    "`csv.writer()` will do the right thing if your fields themselves have commas in them.  \n",
    "Your own hand-rolled writer probably won't.  \n",
    "For example, if you attempt: "
   ]
  },
  {
   "cell_type": "code",
   "execution_count": 9,
   "metadata": {
    "collapsed": false
   },
   "outputs": [],
   "source": [
    "results = [[\"test1\", \"success\", \"Monday\"],\n",
    "           [\"test2\", \"success, kind of\", \"Tuesday\"],\n",
    "           [\"test3\", \"failure, kind of\", \"Wednesday\"],\n",
    "           [\"test4\", \"failure, utter\", \"Thursday\"]]\n",
    "\n",
    "#!# don't do this!\n",
    "with open('bad_csv.csv', 'w') as f:\n",
    "    for row in results:\n",
    "        f.write(\",\".join(map(str, row)))  # might have too many commas in it\n",
    "        f.write(\"\\n\")                     # row might have newlines as well"
   ]
  },
  {
   "cell_type": "markdown",
   "metadata": {},
   "source": [
    "You will end up with a `csv` file that looks like:"
   ]
  },
  {
   "cell_type": "code",
   "execution_count": 10,
   "metadata": {
    "collapsed": false
   },
   "outputs": [
    {
     "name": "stdout",
     "output_type": "stream",
     "text": [
      "['test1', 'success', 'Monday']\n",
      "['test2', 'success', ' kind of', 'Tuesday']\n",
      "['test3', 'failure', ' kind of', 'Wednesday']\n",
      "['test4', 'failure', ' utter', 'Thursday']\n"
     ]
    }
   ],
   "source": [
    "with open('bad_csv.csv', 'r') as f:\n",
    "    reader = csv.reader(f, delimiter=',')\n",
    "    for row in reader:\n",
    "        print(row)"
   ]
  },
  {
   "cell_type": "markdown",
   "metadata": {},
   "source": [
    "that will be very difficult to make sense of.  \n",
    "Open the `bad_csv.csv` file in a text editor and see for yourself."
   ]
  },
  {
   "cell_type": "markdown",
   "metadata": {},
   "source": [
    "## Scraping the Web"
   ]
  },
  {
   "cell_type": "markdown",
   "metadata": {
    "collapsed": true
   },
   "source": [
    "### HTML and the Parsing Thereof"
   ]
  },
  {
   "cell_type": "markdown",
   "metadata": {},
   "source": [
    "To get data out of HTML, we will use the [BeautifulSoup library](https://www.crummy.com/software/BeautifulSoup/), which builds a tree out of the various elements on a web page and provides a simple interface for accessing them.  \n",
    "We will also be using the [requests library](http://docs.python-requests.org/en/latest/), which is a much nicer way of making HTTP requests than anything that's built into Python.  \n",
    "Python's built-in HTML parser is not very lenient, meaning that it doesn't deal well with HTML that's not perfectly formed, so we will use [html5lib](https://github.com/html5lib/)."
   ]
  },
  {
   "cell_type": "markdown",
   "metadata": {},
   "source": [
    "To use Beautiful Soup, we need to pass some HTML into the `BeautifulSoup()` function.  \n",
    "In our examples, this will be the result of a call to `requests.get`:"
   ]
  },
  {
   "cell_type": "code",
   "execution_count": 11,
   "metadata": {
    "collapsed": false
   },
   "outputs": [],
   "source": [
    "from bs4 import BeautifulSoup\n",
    "import requests\n",
    "html = requests.get(\"http://www.example.com\").text\n",
    "soup = BeautifulSoup(html, 'html5lib')"
   ]
  },
  {
   "cell_type": "markdown",
   "metadata": {},
   "source": [
    "after which we can get pretty far using a few simple methods."
   ]
  },
  {
   "cell_type": "markdown",
   "metadata": {},
   "source": [
    "We will typically work with `Tag` objects, which correspond to the tags representing the structure of an HTML page.  \n",
    "For example, to find the first `<p>` tag (and its contents), you can use:"
   ]
  },
  {
   "cell_type": "code",
   "execution_count": 12,
   "metadata": {
    "collapsed": false
   },
   "outputs": [
    {
     "data": {
      "text/plain": [
       "<p>This domain is established to be used for illustrative examples in documents. You may use this\\n    domain in examples without prior coordination or asking for permission.</p>"
      ]
     },
     "execution_count": 12,
     "metadata": {},
     "output_type": "execute_result"
    }
   ],
   "source": [
    "first_paragraph = soup.find('p')  # or just soup.p -- see below\n",
    "first_paragraph"
   ]
  },
  {
   "cell_type": "code",
   "execution_count": 13,
   "metadata": {
    "collapsed": false
   },
   "outputs": [
    {
     "data": {
      "text/plain": [
       "<p>This domain is established to be used for illustrative examples in documents. You may use this\\n    domain in examples without prior coordination or asking for permission.</p>"
      ]
     },
     "execution_count": 13,
     "metadata": {},
     "output_type": "execute_result"
    }
   ],
   "source": [
    "also_first_paragraph = soup.p\n",
    "also_first_paragraph"
   ]
  },
  {
   "cell_type": "markdown",
   "metadata": {},
   "source": [
    "You can get the text contents of a `Tag` using its `text` property:"
   ]
  },
  {
   "cell_type": "code",
   "execution_count": 14,
   "metadata": {
    "collapsed": false
   },
   "outputs": [
    {
     "data": {
      "text/plain": [
       "u'This domain is established to be used for illustrative examples in documents. You may use this\\n    domain in examples without prior coordination or asking for permission.'"
      ]
     },
     "execution_count": 14,
     "metadata": {},
     "output_type": "execute_result"
    }
   ],
   "source": [
    "first_paragraph_text = soup.p.text\n",
    "first_paragraph_text"
   ]
  },
  {
   "cell_type": "code",
   "execution_count": 15,
   "metadata": {
    "collapsed": false
   },
   "outputs": [
    {
     "data": {
      "text/plain": [
       "[u'This',\n",
       " u'domain',\n",
       " u'is',\n",
       " u'established',\n",
       " u'to',\n",
       " u'be',\n",
       " u'used',\n",
       " u'for',\n",
       " u'illustrative',\n",
       " u'examples',\n",
       " u'in',\n",
       " u'documents.',\n",
       " u'You',\n",
       " u'may',\n",
       " u'use',\n",
       " u'this',\n",
       " u'domain',\n",
       " u'in',\n",
       " u'examples',\n",
       " u'without',\n",
       " u'prior',\n",
       " u'coordination',\n",
       " u'or',\n",
       " u'asking',\n",
       " u'for',\n",
       " u'permission.']"
      ]
     },
     "execution_count": 15,
     "metadata": {},
     "output_type": "execute_result"
    }
   ],
   "source": [
    "first_paragraph_words = soup.p.text.split()\n",
    "first_paragraph_words"
   ]
  },
  {
   "cell_type": "markdown",
   "metadata": {},
   "source": [
    "You can extract a tag's attributes by treating it like a `dict`:"
   ]
  },
  {
   "cell_type": "raw",
   "metadata": {},
   "source": [
    "first_paragraph_id = soup.p['id']  # raises KeyError if no 'id'\n",
    "first_paragraph_id"
   ]
  },
  {
   "cell_type": "code",
   "execution_count": 16,
   "metadata": {
    "collapsed": false
   },
   "outputs": [
    {
     "name": "stdout",
     "output_type": "stream",
     "text": [
      "None\n"
     ]
    }
   ],
   "source": [
    "first_paragraph_id2 = soup.p.get('id')  # returns None if no 'id'\n",
    "print(first_paragraph_id2)\n",
    "first_paragraph_id2"
   ]
  },
  {
   "cell_type": "markdown",
   "metadata": {},
   "source": [
    "You can get multiple tags at once:"
   ]
  },
  {
   "cell_type": "code",
   "execution_count": 17,
   "metadata": {
    "collapsed": false
   },
   "outputs": [
    {
     "data": {
      "text/plain": [
       "[<p>This domain is established to be used for illustrative examples in documents. You may use this\\n    domain in examples without prior coordination or asking for permission.</p>,\n",
       " <p><a href=\"http://www.iana.org/domains/example\">More information...</a></p>]"
      ]
     },
     "execution_count": 17,
     "metadata": {},
     "output_type": "execute_result"
    }
   ],
   "source": [
    "all_paragraphs = soup.find_all('p')  # or just soup('p')\n",
    "all_paragraphs"
   ]
  },
  {
   "cell_type": "code",
   "execution_count": 18,
   "metadata": {
    "collapsed": false
   },
   "outputs": [
    {
     "data": {
      "text/plain": [
       "[<p>This domain is established to be used for illustrative examples in documents. You may use this\\n    domain in examples without prior coordination or asking for permission.</p>,\n",
       " <p><a href=\"http://www.iana.org/domains/example\">More information...</a></p>]"
      ]
     },
     "execution_count": 18,
     "metadata": {},
     "output_type": "execute_result"
    }
   ],
   "source": [
    "also_all_paragraphs = soup('p')\n",
    "also_all_paragraphs"
   ]
  },
  {
   "cell_type": "code",
   "execution_count": 19,
   "metadata": {
    "collapsed": false
   },
   "outputs": [
    {
     "data": {
      "text/plain": [
       "[]"
      ]
     },
     "execution_count": 19,
     "metadata": {},
     "output_type": "execute_result"
    }
   ],
   "source": [
    "paragraphs_with_ids = [p for p in soup('p') if p.get('id')]\n",
    "paragraphs_with_ids"
   ]
  },
  {
   "cell_type": "markdown",
   "metadata": {},
   "source": [
    "Frequently you will want to find tags with a specific `class`:"
   ]
  },
  {
   "cell_type": "code",
   "execution_count": 20,
   "metadata": {
    "collapsed": false
   },
   "outputs": [
    {
     "data": {
      "text/plain": [
       "[]"
      ]
     },
     "execution_count": 20,
     "metadata": {},
     "output_type": "execute_result"
    }
   ],
   "source": [
    "important_paragraphs = soup('p', {'class' : 'important'})\n",
    "important_paragraphs"
   ]
  },
  {
   "cell_type": "code",
   "execution_count": 21,
   "metadata": {
    "collapsed": false
   },
   "outputs": [
    {
     "data": {
      "text/plain": [
       "[]"
      ]
     },
     "execution_count": 21,
     "metadata": {},
     "output_type": "execute_result"
    }
   ],
   "source": [
    "important_paragraphs2 = soup('p', 'important')\n",
    "important_paragraphs2"
   ]
  },
  {
   "cell_type": "code",
   "execution_count": 22,
   "metadata": {
    "collapsed": false
   },
   "outputs": [
    {
     "data": {
      "text/plain": [
       "[]"
      ]
     },
     "execution_count": 22,
     "metadata": {},
     "output_type": "execute_result"
    }
   ],
   "source": [
    "important_paragraphs3 = [p for p in soup('p') if 'important' in p.get('class', [])]\n",
    "important_paragraphs3"
   ]
  },
  {
   "cell_type": "markdown",
   "metadata": {},
   "source": [
    "You can combine methods to implement more elaborate logic.  \n",
    "For example, if you want to find every `<span>` element that is contained in a `<div>` element, you could do this:"
   ]
  },
  {
   "cell_type": "code",
   "execution_count": 23,
   "metadata": {
    "collapsed": false
   },
   "outputs": [
    {
     "data": {
      "text/plain": [
       "[]"
      ]
     },
     "execution_count": 23,
     "metadata": {},
     "output_type": "execute_result"
    }
   ],
   "source": [
    "# Warning -- this will return the same span multiple times if it lies within multiple divs\n",
    "# If that is the case, be more clever\n",
    "span_inside_divs = [span \n",
    "                    for div in soup('div')    # for each <div> on the page, \n",
    "                    for span in div('span')]  # find each <span> inside of it.\n",
    "span_inside_divs"
   ]
  },
  {
   "cell_type": "markdown",
   "metadata": {},
   "source": [
    "Good. Enough with the basics, let's look at an example."
   ]
  },
  {
   "cell_type": "markdown",
   "metadata": {},
   "source": [
    "### Example: O'Reilly Books About Data"
   ]
  },
  {
   "cell_type": "code",
   "execution_count": null,
   "metadata": {
    "collapsed": true
   },
   "outputs": [],
   "source": []
  }
 ],
 "metadata": {
  "kernelspec": {
   "display_name": "Python 2",
   "language": "python",
   "name": "python2"
  },
  "language_info": {
   "codemirror_mode": {
    "name": "ipython",
    "version": 2
   },
   "file_extension": ".py",
   "mimetype": "text/x-python",
   "name": "python",
   "nbconvert_exporter": "python",
   "pygments_lexer": "ipython2",
   "version": "2.7.12"
  }
 },
 "nbformat": 4,
 "nbformat_minor": 1
}
