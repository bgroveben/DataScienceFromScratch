{
 "cells": [
  {
   "cell_type": "markdown",
   "metadata": {},
   "source": [
    "### **If you choose to run this entire file, it will take ~15 minutes to complete due to the scraper's sleep timer.**"
   ]
  },
  {
   "cell_type": "markdown",
   "metadata": {},
   "source": [
    "# Chapter 9. Getting Data"
   ]
  },
  {
   "cell_type": "code",
   "execution_count": 66,
   "metadata": {
    "collapsed": false
   },
   "outputs": [],
   "source": [
    "from __future__ import division\n",
    "from collections import Counter\n",
    "import math, random, csv, json\n",
    "from bs4 import BeautifulSoup\n",
    "import requests\n",
    "import re"
   ]
  },
  {
   "cell_type": "markdown",
   "metadata": {},
   "source": [
    "In order to be a data scientist you need data (yes, really).  \n",
    "In this chapter, we take a look at different ways of getting data into Python and into the right formats."
   ]
  },
  {
   "cell_type": "markdown",
   "metadata": {},
   "source": [
    "## stdin and stdout"
   ]
  },
  {
   "cell_type": "markdown",
   "metadata": {},
   "source": [
    "If you run your Python scripts at the command line, you can *pipe* data through them using <code>sys.stdin</code> and <code>sys.stdout</code>.  \n",
    "For example, here is a script that reads in lines of text and spits back out the ones that match a regular expression:"
   ]
  },
  {
   "cell_type": "raw",
   "metadata": {},
   "source": [
    "# egrep.py\n",
    "import sys, re\n",
    "\n",
    "# sys.argv is the list of command-line arguments\n",
    "# sys.argv[0] is the name of the program itself\n",
    "# sys.argv[1] will be the regex specified at the command line\n",
    "regex = sys.argv[1]\n",
    "\n",
    "# for every line passed into the script\n",
    "for line in sys.stdin:\n",
    "    # if it matches the regex, write it to stdout\n",
    "    if re.search(regex, line):\n",
    "        sys.stdout.write(line)"
   ]
  },
  {
   "cell_type": "markdown",
   "metadata": {},
   "source": [
    "Here's a program that counts the lines it receives and then writes out the count:"
   ]
  },
  {
   "cell_type": "raw",
   "metadata": {},
   "source": [
    "# line_count.py\n",
    "import sys\n",
    "\n",
    "count = 0\n",
    "for line in sys.stdin:\n",
    "    count += 1\n",
    "    \n",
    "# print goes to sys.stdout\n",
    "print count"
   ]
  },
  {
   "cell_type": "markdown",
   "metadata": {},
   "source": [
    "You could then use these to count how many lines of a file contain numbers.  \n",
    "In Windows, you would use:  \n",
    "\n",
    "<code>type SomeFile.txt | python egrep.py \"[0-9]\" | python line_count.py</code>  \n",
    "\n",
    "whereas in a Unix system you would use:  \n",
    "\n",
    "<code>cat SomeFile.txt | python egrep.py \"[0-9]\" | python line_count.py</code>  \n",
    "\n",
    "The | is the pipe character, which means \"use the output of the left command as the input of the right command\".  \n",
    "You can build some pretty elaborate data-processing pipelines this way."
   ]
  },
  {
   "cell_type": "markdown",
   "metadata": {},
   "source": [
    "Similarly, here is a script that counts the words in its input and writes out the most common ones:"
   ]
  },
  {
   "cell_type": "raw",
   "metadata": {},
   "source": [
    "# most_common_words.py  \n",
    "\n",
    "import sys \n",
    "from collections import Counter  \n",
    "\n",
    "# pass in number of words as the first argument\n",
    "\n",
    "try:\n",
    "    num_words = int(sys.argv[1])   \n",
    "except:\n",
    "    print \"usage: most_common_words.py num_words\"\n",
    "    sys.exit(1)   # non-zero exit code indicates error\n",
    "\n",
    "counter = Counter(word.lower()                      # lowercase words                  \n",
    "                  for line in sys.stdin   \n",
    "                  for word in line.strip().split()  #  split on spaces  \n",
    "                  if word)                          # skip empty 'words' (spaces)  \n",
    "                  \n",
    "for word, count in counter.most_common(num_words):\n",
    "    sys.stdout.write(str(count))\n",
    "    sys.stdout.write(\"\\t\")\n",
    "    sys.stdout.write(word)\n",
    "    sys.stdout.write(\"\\n\")"
   ]
  },
  {
   "cell_type": "code",
   "execution_count": 67,
   "metadata": {
    "collapsed": false
   },
   "outputs": [
    {
     "name": "stdout",
     "output_type": "stream",
     "text": [
      "7\teget\r\n",
      "7\tin\r\n",
      "6\tnon\r\n",
      "5\tsed\r\n",
      "5\tut\r\n",
      "4\tvel\r\n",
      "4\tet\r\n",
      "4\tnulla\r\n",
      "4\tneque\r\n",
      "4\tullamcorper\r\n"
     ]
    }
   ],
   "source": [
    "cat lorem_ipsum.txt | python most_common_words.py 10"
   ]
  },
  {
   "cell_type": "markdown",
   "metadata": {},
   "source": [
    "**Note**  \n",
    "There are plenty of Unix command-line tools that can also be used, such as <code>grep</code> and <code>egrep</code>, that are probably preferable to building your own from scratch."
   ]
  },
  {
   "cell_type": "markdown",
   "metadata": {},
   "source": [
    "## Reading Files"
   ]
  },
  {
   "cell_type": "markdown",
   "metadata": {
    "collapsed": true
   },
   "source": [
    "### The Basics of Text Files"
   ]
  },
  {
   "cell_type": "markdown",
   "metadata": {},
   "source": [
    "The first step in working with a text file is to obtain a *file object* using `open`:"
   ]
  },
  {
   "cell_type": "code",
   "execution_count": 68,
   "metadata": {
    "collapsed": true
   },
   "outputs": [],
   "source": [
    "# 'r' means read-only\n",
    "file_for_reading = open('reading_file.txt', 'r')\n",
    "\n",
    "# 'w' means write\n",
    "#!# This will destroy the file if it already exists!\n",
    "file_for_writing = open('writing_file.txt', 'w')\n",
    "\n",
    "# 'a' means append\n",
    "# for adding to the end of a file\n",
    "file_for_appending = open('appending_file.txt', 'a')\n",
    "\n",
    "#!# Don't forget to close your files when you're done!\n",
    "file_for_reading.close()\n",
    "file_for_writing.close()\n",
    "file_for_appending.close()"
   ]
  },
  {
   "cell_type": "markdown",
   "metadata": {},
   "source": [
    "Since it is easy to forget to close your files, you should always use them in a `with` block, at the end of which they will be closed automatically:"
   ]
  },
  {
   "cell_type": "raw",
   "metadata": {},
   "source": [
    "with open('reading_file.txt', 'r') as f:\n",
    "    data = function_that_gets_data_from(f)\n",
    "    \n",
    "# at this point f has already been closed, so don't try to use it\n",
    "\n",
    "process(data)"
   ]
  },
  {
   "cell_type": "markdown",
   "metadata": {},
   "source": [
    "If you need to read a whole text file, you can just iterate over the lines of the file using `for`:"
   ]
  },
  {
   "cell_type": "code",
   "execution_count": 69,
   "metadata": {
    "collapsed": false
   },
   "outputs": [
    {
     "data": {
      "text/plain": [
       "1"
      ]
     },
     "execution_count": 69,
     "metadata": {},
     "output_type": "execute_result"
    }
   ],
   "source": [
    "starts_with_hash = 0\n",
    "\n",
    "with open('lorem_ipsum.txt', 'r') as f:\n",
    "    for line in f:                 # look at each line in the file\n",
    "        if re.match(\"^#\",line):    # use a regex to see if it starts with '#'\n",
    "            starts_with_hash += 1  # if it does, add 1 to the count\n",
    "\n",
    "starts_with_hash"
   ]
  },
  {
   "cell_type": "markdown",
   "metadata": {},
   "source": [
    "Every line you get this way ends in a newline character (\\n), you you may want to `strip()` it before doing anything with it."
   ]
  },
  {
   "cell_type": "markdown",
   "metadata": {},
   "source": [
    "For example, imagine you have a file full of email addresses, one per line, and that you need to generate a histogram of the domains.  \n",
    "A good first approximation is to just take the parts of the email addresses that come after the @."
   ]
  },
  {
   "cell_type": "code",
   "execution_count": 70,
   "metadata": {
    "collapsed": true
   },
   "outputs": [],
   "source": [
    "def get_domain(email_address):\n",
    "    \"\"\" split on '@' and return the last piece \"\"\"\n",
    "    return email_address.lower().split(\"@\")[-1]\n",
    "\n",
    "with open('email_addresses.txt', 'r') as f:\n",
    "    domain_counts = Counter(get_domain(line.strip()) for line in f if \"@\" in line)"
   ]
  },
  {
   "cell_type": "markdown",
   "metadata": {},
   "source": [
    "### Delimited Files"
   ]
  },
  {
   "cell_type": "markdown",
   "metadata": {},
   "source": [
    "Frequently you will work with files that have lots of data on each line.  \n",
    "These files are often either *comma-separated* or *tab-separated*.  \n",
    "Don't try to parse them yourself -- use Python's `csv` module or the `pandas` library.  \n",
    "If the file has no headers, you can use `csv.reader` to iterate over the rows."
   ]
  },
  {
   "cell_type": "markdown",
   "metadata": {},
   "source": [
    "For example, if we had a tab-delimited file of stock prices, we could process them with:"
   ]
  },
  {
   "cell_type": "code",
   "execution_count": 71,
   "metadata": {
    "collapsed": false
   },
   "outputs": [
    {
     "name": "stdout",
     "output_type": "stream",
     "text": [
      "('6/20/2014', 'AAPL', 90.91)\n",
      "('6/20/2014', 'MSFT', 41.68)\n",
      "('6/20/2014', 'FB', 64.5)\n",
      "('6/19/2014', 'AAPL', 91.86)\n",
      "('6/19/2014', 'MSFT', 41.51)\n",
      "('6/19/2014', 'FB', 64.34)\n"
     ]
    }
   ],
   "source": [
    "import csv\n",
    "\n",
    "with open('tab_delimited_stock_prices.txt', 'r') as f:\n",
    "    reader = csv.reader(f, delimiter='\\t')\n",
    "    for row in reader:\n",
    "        date = row[0]\n",
    "        symbol = row[1]\n",
    "        closing_price = float(row[2])\n",
    "        print(date, symbol, closing_price)"
   ]
  },
  {
   "cell_type": "markdown",
   "metadata": {},
   "source": [
    "If your file has headers, you can either skip the header row (with an initial call to `reader.next()`), or get each row as a `dict`, with the headers as keys, by using `csv.DictReader`:"
   ]
  },
  {
   "cell_type": "code",
   "execution_count": 72,
   "metadata": {
    "collapsed": false
   },
   "outputs": [
    {
     "name": "stdout",
     "output_type": "stream",
     "text": [
      "('6/20/2014', 'AAPL', 90.91)\n",
      "('6/20/2014', 'MSFT', 41.68)\n",
      "('6/20/2014', 'FB', 64.5)\n"
     ]
    }
   ],
   "source": [
    "with open('colon_delimited_stock_prices.txt', 'r') as f:\n",
    "    reader = csv.DictReader(f, delimiter=':')\n",
    "    for row in reader:\n",
    "        date = row[\"date\"]\n",
    "        symbol = row[\"symbol\"]\n",
    "        closing_price = float(row[\"closing_price\"])\n",
    "        print(date, symbol, closing_price)"
   ]
  },
  {
   "cell_type": "markdown",
   "metadata": {},
   "source": [
    "Even if your file doesn't have headers you can still use `DictReader` by passing it the keys as a `fieldnames` parameter."
   ]
  },
  {
   "cell_type": "markdown",
   "metadata": {},
   "source": [
    "You can similarly write out delimited data using `csv.writer`:"
   ]
  },
  {
   "cell_type": "code",
   "execution_count": 73,
   "metadata": {
    "collapsed": false
   },
   "outputs": [],
   "source": [
    "today_prices = { 'AAPL' : 95.95, 'MSFT' : 43.34, 'FB' : 66.66 }\n",
    "\n",
    "with open('comma_delimited_stock_prices.txt', 'w') as f:\n",
    "    writer = csv.writer(f, delimiter=',')\n",
    "    for stock, price in today_prices.items():\n",
    "        writer.writerow([stock, price])"
   ]
  },
  {
   "cell_type": "markdown",
   "metadata": {},
   "source": [
    "`csv.writer()` will do the right thing if your fields themselves have commas in them.  \n",
    "Your own hand-rolled writer probably won't.  \n",
    "For example, if you attempt: "
   ]
  },
  {
   "cell_type": "code",
   "execution_count": 74,
   "metadata": {
    "collapsed": false
   },
   "outputs": [],
   "source": [
    "results = [[\"test1\", \"success\", \"Monday\"],\n",
    "           [\"test2\", \"success, kind of\", \"Tuesday\"],\n",
    "           [\"test3\", \"failure, kind of\", \"Wednesday\"],\n",
    "           [\"test4\", \"failure, utter\", \"Thursday\"]]\n",
    "\n",
    "#!# don't do this!\n",
    "with open('bad_csv.csv', 'w') as f:\n",
    "    for row in results:\n",
    "        f.write(\",\".join(map(str, row)))  # might have too many commas in it\n",
    "        f.write(\"\\n\")                     # row might have newlines as well"
   ]
  },
  {
   "cell_type": "markdown",
   "metadata": {},
   "source": [
    "You will end up with a `csv` file that looks like:"
   ]
  },
  {
   "cell_type": "code",
   "execution_count": 75,
   "metadata": {
    "collapsed": false
   },
   "outputs": [
    {
     "name": "stdout",
     "output_type": "stream",
     "text": [
      "['test1', 'success', 'Monday']\n",
      "['test2', 'success', ' kind of', 'Tuesday']\n",
      "['test3', 'failure', ' kind of', 'Wednesday']\n",
      "['test4', 'failure', ' utter', 'Thursday']\n"
     ]
    }
   ],
   "source": [
    "with open('bad_csv.csv', 'r') as f:\n",
    "    reader = csv.reader(f, delimiter=',')\n",
    "    for row in reader:\n",
    "        print(row)"
   ]
  },
  {
   "cell_type": "markdown",
   "metadata": {},
   "source": [
    "that will be very difficult to make sense of.  \n",
    "Open the `bad_csv.csv` file in a text editor and see for yourself."
   ]
  },
  {
   "cell_type": "markdown",
   "metadata": {},
   "source": [
    "## Scraping the Web"
   ]
  },
  {
   "cell_type": "markdown",
   "metadata": {
    "collapsed": true
   },
   "source": [
    "### HTML and the Parsing Thereof"
   ]
  },
  {
   "cell_type": "markdown",
   "metadata": {},
   "source": [
    "To get data out of HTML, we will use the [BeautifulSoup library](https://www.crummy.com/software/BeautifulSoup/), which builds a tree out of the various elements on a web page and provides a simple interface for accessing them.  \n",
    "We will also be using the [requests library](http://docs.python-requests.org/en/latest/), which is a much nicer way of making HTTP requests than anything that's built into Python.  \n",
    "Python's built-in HTML parser is not very lenient, meaning that it doesn't deal well with HTML that's not perfectly formed, so we will use [html5lib](https://github.com/html5lib/)."
   ]
  },
  {
   "cell_type": "markdown",
   "metadata": {},
   "source": [
    "To use Beautiful Soup, we need to pass some HTML into the `BeautifulSoup()` function.  \n",
    "In our examples, this will be the result of a call to `requests.get`:"
   ]
  },
  {
   "cell_type": "code",
   "execution_count": 76,
   "metadata": {
    "collapsed": false
   },
   "outputs": [],
   "source": [
    "from bs4 import BeautifulSoup\n",
    "import requests\n",
    "html = requests.get(\"http://www.example.com\").text\n",
    "soup = BeautifulSoup(html, 'html5lib')"
   ]
  },
  {
   "cell_type": "markdown",
   "metadata": {},
   "source": [
    "after which we can get pretty far using a few simple methods."
   ]
  },
  {
   "cell_type": "markdown",
   "metadata": {},
   "source": [
    "We will typically work with `Tag` objects, which correspond to the tags representing the structure of an HTML page.  \n",
    "For example, to find the first `<p>` tag (and its contents), you can use:"
   ]
  },
  {
   "cell_type": "code",
   "execution_count": 77,
   "metadata": {
    "collapsed": false
   },
   "outputs": [
    {
     "data": {
      "text/plain": [
       "<p>This domain is established to be used for illustrative examples in documents. You may use this\\n    domain in examples without prior coordination or asking for permission.</p>"
      ]
     },
     "execution_count": 77,
     "metadata": {},
     "output_type": "execute_result"
    }
   ],
   "source": [
    "first_paragraph = soup.find('p')  # or just soup.p -- see below\n",
    "first_paragraph"
   ]
  },
  {
   "cell_type": "code",
   "execution_count": 78,
   "metadata": {
    "collapsed": false
   },
   "outputs": [
    {
     "data": {
      "text/plain": [
       "<p>This domain is established to be used for illustrative examples in documents. You may use this\\n    domain in examples without prior coordination or asking for permission.</p>"
      ]
     },
     "execution_count": 78,
     "metadata": {},
     "output_type": "execute_result"
    }
   ],
   "source": [
    "also_first_paragraph = soup.p\n",
    "also_first_paragraph"
   ]
  },
  {
   "cell_type": "markdown",
   "metadata": {},
   "source": [
    "You can get the text contents of a `Tag` using its `text` property:"
   ]
  },
  {
   "cell_type": "code",
   "execution_count": 79,
   "metadata": {
    "collapsed": false
   },
   "outputs": [
    {
     "data": {
      "text/plain": [
       "u'This domain is established to be used for illustrative examples in documents. You may use this\\n    domain in examples without prior coordination or asking for permission.'"
      ]
     },
     "execution_count": 79,
     "metadata": {},
     "output_type": "execute_result"
    }
   ],
   "source": [
    "first_paragraph_text = soup.p.text\n",
    "first_paragraph_text"
   ]
  },
  {
   "cell_type": "code",
   "execution_count": 80,
   "metadata": {
    "collapsed": false
   },
   "outputs": [
    {
     "data": {
      "text/plain": [
       "[u'This',\n",
       " u'domain',\n",
       " u'is',\n",
       " u'established',\n",
       " u'to',\n",
       " u'be',\n",
       " u'used',\n",
       " u'for',\n",
       " u'illustrative',\n",
       " u'examples',\n",
       " u'in',\n",
       " u'documents.',\n",
       " u'You',\n",
       " u'may',\n",
       " u'use',\n",
       " u'this',\n",
       " u'domain',\n",
       " u'in',\n",
       " u'examples',\n",
       " u'without',\n",
       " u'prior',\n",
       " u'coordination',\n",
       " u'or',\n",
       " u'asking',\n",
       " u'for',\n",
       " u'permission.']"
      ]
     },
     "execution_count": 80,
     "metadata": {},
     "output_type": "execute_result"
    }
   ],
   "source": [
    "first_paragraph_words = soup.p.text.split()\n",
    "first_paragraph_words"
   ]
  },
  {
   "cell_type": "markdown",
   "metadata": {},
   "source": [
    "You can extract a tag's attributes by treating it like a `dict`:"
   ]
  },
  {
   "cell_type": "raw",
   "metadata": {},
   "source": [
    "first_paragraph_id = soup.p['id']  # raises KeyError if no 'id'\n",
    "first_paragraph_id"
   ]
  },
  {
   "cell_type": "code",
   "execution_count": 81,
   "metadata": {
    "collapsed": false
   },
   "outputs": [
    {
     "name": "stdout",
     "output_type": "stream",
     "text": [
      "None\n"
     ]
    }
   ],
   "source": [
    "first_paragraph_id2 = soup.p.get('id')  # returns None if no 'id'\n",
    "print(first_paragraph_id2)\n",
    "first_paragraph_id2"
   ]
  },
  {
   "cell_type": "markdown",
   "metadata": {},
   "source": [
    "You can get multiple tags at once:"
   ]
  },
  {
   "cell_type": "code",
   "execution_count": 82,
   "metadata": {
    "collapsed": false
   },
   "outputs": [
    {
     "data": {
      "text/plain": [
       "[<p>This domain is established to be used for illustrative examples in documents. You may use this\\n    domain in examples without prior coordination or asking for permission.</p>,\n",
       " <p><a href=\"http://www.iana.org/domains/example\">More information...</a></p>]"
      ]
     },
     "execution_count": 82,
     "metadata": {},
     "output_type": "execute_result"
    }
   ],
   "source": [
    "all_paragraphs = soup.find_all('p')  # or just soup('p')\n",
    "all_paragraphs"
   ]
  },
  {
   "cell_type": "code",
   "execution_count": 83,
   "metadata": {
    "collapsed": false
   },
   "outputs": [
    {
     "data": {
      "text/plain": [
       "[<p>This domain is established to be used for illustrative examples in documents. You may use this\\n    domain in examples without prior coordination or asking for permission.</p>,\n",
       " <p><a href=\"http://www.iana.org/domains/example\">More information...</a></p>]"
      ]
     },
     "execution_count": 83,
     "metadata": {},
     "output_type": "execute_result"
    }
   ],
   "source": [
    "also_all_paragraphs = soup('p')\n",
    "also_all_paragraphs"
   ]
  },
  {
   "cell_type": "code",
   "execution_count": 84,
   "metadata": {
    "collapsed": false
   },
   "outputs": [
    {
     "data": {
      "text/plain": [
       "[]"
      ]
     },
     "execution_count": 84,
     "metadata": {},
     "output_type": "execute_result"
    }
   ],
   "source": [
    "paragraphs_with_ids = [p for p in soup('p') if p.get('id')]\n",
    "paragraphs_with_ids"
   ]
  },
  {
   "cell_type": "markdown",
   "metadata": {},
   "source": [
    "Frequently you will want to find tags with a specific `class`:"
   ]
  },
  {
   "cell_type": "code",
   "execution_count": 85,
   "metadata": {
    "collapsed": false
   },
   "outputs": [
    {
     "data": {
      "text/plain": [
       "[]"
      ]
     },
     "execution_count": 85,
     "metadata": {},
     "output_type": "execute_result"
    }
   ],
   "source": [
    "important_paragraphs = soup('p', {'class' : 'important'})\n",
    "important_paragraphs"
   ]
  },
  {
   "cell_type": "code",
   "execution_count": 86,
   "metadata": {
    "collapsed": false
   },
   "outputs": [
    {
     "data": {
      "text/plain": [
       "[]"
      ]
     },
     "execution_count": 86,
     "metadata": {},
     "output_type": "execute_result"
    }
   ],
   "source": [
    "important_paragraphs2 = soup('p', 'important')\n",
    "important_paragraphs2"
   ]
  },
  {
   "cell_type": "code",
   "execution_count": 87,
   "metadata": {
    "collapsed": false
   },
   "outputs": [
    {
     "data": {
      "text/plain": [
       "[]"
      ]
     },
     "execution_count": 87,
     "metadata": {},
     "output_type": "execute_result"
    }
   ],
   "source": [
    "important_paragraphs3 = [p for p in soup('p') if 'important' in p.get('class', [])]\n",
    "important_paragraphs3"
   ]
  },
  {
   "cell_type": "markdown",
   "metadata": {},
   "source": [
    "You can combine methods to implement more elaborate logic.  \n",
    "For example, if you want to find every `<span>` element that is contained in a `<div>` element, you could do this:"
   ]
  },
  {
   "cell_type": "code",
   "execution_count": 88,
   "metadata": {
    "collapsed": false
   },
   "outputs": [
    {
     "data": {
      "text/plain": [
       "[]"
      ]
     },
     "execution_count": 88,
     "metadata": {},
     "output_type": "execute_result"
    }
   ],
   "source": [
    "# Warning -- this will return the same span multiple times if it lies within multiple divs\n",
    "# If that is the case, be more clever\n",
    "span_inside_divs = [span \n",
    "                    for div in soup('div')    # for each <div> on the page, \n",
    "                    for span in div('span')]  # find each <span> inside of it.\n",
    "span_inside_divs"
   ]
  },
  {
   "cell_type": "markdown",
   "metadata": {},
   "source": [
    "Good. Enough with the basics, let's look at an example."
   ]
  },
  {
   "cell_type": "markdown",
   "metadata": {},
   "source": [
    "### Example: O'Reilly Books About Data"
   ]
  },
  {
   "cell_type": "markdown",
   "metadata": {
    "collapsed": true
   },
   "source": [
    "A potential investor in DataSciencester thinks data is just a fad.  \n",
    "To prove him wrong, you decide to examine how many data books O'Reilly has published over time.  \n",
    "Whenever you want to scrape data, check to see if there is some sort of access policy like the one at `http://oreilly.com/terms/`.  \n",
    "In order to be good citizens, we should also check for a `robots.txt` file that tells webcrawlers how to behave, which we can find at `http://shop.oreilly.com/robots.txt`."
   ]
  },
  {
   "cell_type": "raw",
   "metadata": {},
   "source": [
    "User-agent: * \n",
    "Crawl-delay: 30 \n",
    "Request-rate: 1/30 \n",
    "Disallow: /util/ \n",
    "Disallow: /account \n",
    "Disallow: /text/products/\n",
    "Disallow: /category/deals/\n",
    "Disallow: /*QuickView.do\n",
    "Disallow: /*ReviewSubmit.do*"
   ]
  },
  {
   "cell_type": "markdown",
   "metadata": {
    "collapsed": true
   },
   "source": [
    "`Crawl-delay: 30` tells us that we should wait 30 seconds between requests.  \n",
    "`Request-rate: 1/30` tells us that we should only request one page every 30 seconds.  \n",
    "The `Disallow` notifications tell us which directories *not* to scrape."
   ]
  },
  {
   "cell_type": "markdown",
   "metadata": {},
   "source": [
    "To figure out how to extract the data, let's download one of those pages and feed it to BeautifulSoup:"
   ]
  },
  {
   "cell_type": "raw",
   "metadata": {},
   "source": [
    "url = \"http://shop.oreilly.com/category/browse-subjects/data.do?sortby=publicationDate&page=1\"\n",
    "soup = BeautifulSoup(requests.get(url).text, 'html5lib')\n",
    "# Print first 20 lines parsed by BeautifulSoup, just to make sure I'm getting the correct info.\n",
    "# The output is the same stuff you will see when you open the browser's developer tools and view the HTML elements.\n",
    "result = soup.prettify().splitlines()\n",
    "print(result[:20])"
   ]
  },
  {
   "cell_type": "markdown",
   "metadata": {},
   "source": [
    "If you view the page source in your developer's tools, you will see that each book or video seems to be uniquely contained in a `<td>` table cell element with a `class` of `thumbtext` (`td.thumbtext`)."
   ]
  },
  {
   "cell_type": "raw",
   "metadata": {},
   "source": [
    "# Each book/video title on the page has a CSS class of 'thumbheader'\n",
    "titles = soup.select(\".thumbheader\")\n",
    "titles"
   ]
  },
  {
   "cell_type": "markdown",
   "metadata": {},
   "source": [
    "A good first step is to find all of the `td thumbtext` tag elements:"
   ]
  },
  {
   "cell_type": "raw",
   "metadata": {},
   "source": [
    "tds = soup('td', 'thumbtext')\n",
    "print len(tds)"
   ]
  },
  {
   "cell_type": "markdown",
   "metadata": {},
   "source": [
    "Next, we filter out the videos because the would-be investor is only impressed by books.  \n",
    "If we inspect the HTML further, we can see that each `td` contains one or more `span` elements whose `class` is `pricelabel` and whose text looks like `Ebook:`, `Video:`, or `Print:`.  \n",
    "It appears that the videos contain only one `pricelabel`, whose `text` begins with `Video` (after removing leading spaces).  \n",
    "This means we can test for videos with:"
   ]
  },
  {
   "cell_type": "raw",
   "metadata": {},
   "source": [
    "def is_video(td):\n",
    "    \"\"\" it's a video if it has exactly one pricelabel and \n",
    "        if the stripped text inside that pricelabel begins with 'Video\"\"\"\n",
    "    pricelabels = td('span', 'pricelabel')\n",
    "    return (len(pricelabels) == 1 and pricelabels[0].text.strip().startswith(\"Video\"))\n",
    "\n",
    "print len([td for td in tds if not is_video(td)])"
   ]
  },
  {
   "cell_type": "markdown",
   "metadata": {},
   "source": [
    "Now we're ready to start pulling data out of the `td` elements.  \n",
    "It looks like the book title is the text inside the `<a>` tag inside the `<div class=\"thumbheader\">`:"
   ]
  },
  {
   "cell_type": "raw",
   "metadata": {},
   "source": [
    "title = td.find(\"div\", \"thumbheader\").a.text\n",
    "title"
   ]
  },
  {
   "cell_type": "markdown",
   "metadata": {},
   "source": [
    "The author(s) are in the text of the `AuthorName <div>`.  \n",
    "They are prefaced by the word `By` (which we want to remove) and separated by commas (which we want to split out, after which we'll need to get rid of the spaces):"
   ]
  },
  {
   "cell_type": "raw",
   "metadata": {},
   "source": [
    "author_name = td.find('div', 'AuthorName').text\n",
    "authors = [x.strip() for x in re.sub(\"^By \", \"\", author_name).split(\",\")]\n",
    "authors"
   ]
  },
  {
   "cell_type": "markdown",
   "metadata": {},
   "source": [
    "The ISBN seems to be contained in the link that's in the `thumbheader <div>`: "
   ]
  },
  {
   "cell_type": "raw",
   "metadata": {},
   "source": [
    "isbn_link = td.find(\"div\", \"thumbheader\").a.get(\"href\")\n",
    "# re.match captures the part of the regex in parentheses\n",
    "isbn = re.match(\"/product/(.*)\\.do\", isbn_link).group(1)\n",
    "isbn"
   ]
  },
  {
   "cell_type": "markdown",
   "metadata": {},
   "source": [
    "And the date is just the contents of the `<span class=\"directorydate\">`:"
   ]
  },
  {
   "cell_type": "raw",
   "metadata": {},
   "source": [
    "date = td.find(\"span\", \"directorydate\").text.strip()\n",
    "date"
   ]
  },
  {
   "cell_type": "markdown",
   "metadata": {},
   "source": [
    "Now, let's put all of the above together into a function:"
   ]
  },
  {
   "cell_type": "code",
   "execution_count": 99,
   "metadata": {
    "collapsed": true
   },
   "outputs": [],
   "source": [
    "def book_info(td):\n",
    "    \"\"\" given a BeautifulSoup <td> tag representing a book,\n",
    "        extract the book's details and return a dict\"\"\"\n",
    "    title = td.find(\"div\", \"thumbheader\").a.text\n",
    "    by_author = td.find('div', 'AuthorName').text\n",
    "    authors = [x.strip() for x in re.sub(\"^By \", \"\", by_author).split(\",\")]\n",
    "    isbn_link = td.find(\"div\", \"thumbheader\").a.get(\"href\")\n",
    "    isbn = re.match(\"/product/(.*)\\.do\", isbn_link).groups()[0]\n",
    "    date = td.find(\"span\", \"directorydate\").text.strip()\n",
    "    return {\n",
    "        \"title\" : title,\n",
    "        \"authors\" : authors,\n",
    "        \"isbn\" : isbn,\n",
    "        \"date\" : date\n",
    "    }"
   ]
  },
  {
   "cell_type": "markdown",
   "metadata": {},
   "source": [
    "Include the `is_video` function:"
   ]
  },
  {
   "cell_type": "code",
   "execution_count": 105,
   "metadata": {
    "collapsed": true
   },
   "outputs": [],
   "source": [
    "def is_video(td):\n",
    "    \"\"\" it's a video if it has exactly one pricelabel and \n",
    "        if the stripped text inside that pricelabel begins with 'Video\"\"\"\n",
    "    pricelabels = td('span', 'pricelabel')\n",
    "    return (len(pricelabels) == 1 and pricelabels[0].text.strip().startswith(\"Video\"))"
   ]
  },
  {
   "cell_type": "markdown",
   "metadata": {},
   "source": [
    "And now, we're ready to scrape:"
   ]
  },
  {
   "cell_type": "code",
   "execution_count": 101,
   "metadata": {
    "collapsed": false
   },
   "outputs": [
    {
     "name": "stdout",
     "output_type": "stream",
     "text": [
      "Souping page 1 , 0 found so far.\n",
      "Souping page 2 , 20 found so far.\n",
      "Souping page 3 , 44 found so far.\n",
      "Souping page 4 , 72 found so far.\n",
      "Souping page 5 , 96 found so far.\n",
      "Souping page 6 , 117 found so far.\n",
      "Souping page 7 , 139 found so far.\n",
      "Souping page 8 , 164 found so far.\n",
      "Souping page 9 , 189 found so far.\n",
      "Souping page 10 , 211 found so far.\n",
      "Souping page 11 , 237 found so far.\n",
      "Souping page 12 , 258 found so far.\n",
      "Souping page 13 , 280 found so far.\n",
      "Souping page 14 , 307 found so far.\n",
      "Souping page 15 , 333 found so far.\n",
      "Souping page 16 , 359 found so far.\n",
      "Souping page 17 , 381 found so far.\n",
      "Souping page 18 , 406 found so far.\n",
      "Souping page 19 , 431 found so far.\n",
      "Souping page 20 , 453 found so far.\n",
      "Souping page 21 , 481 found so far.\n",
      "Souping page 22 , 507 found so far.\n",
      "Souping page 23 , 533 found so far.\n",
      "Souping page 24 , 559 found so far.\n",
      "Souping page 25 , 588 found so far.\n",
      "Souping page 26 , 616 found so far.\n",
      "Souping page 27 , 644 found so far.\n",
      "Souping page 28 , 669 found so far.\n",
      "Souping page 29 , 696 found so far.\n",
      "Souping page 30 , 725 found so far.\n",
      "Souping page 31 , 753 found so far.\n"
     ]
    }
   ],
   "source": [
    "from bs4 import BeautifulSoup\n",
    "import requests\n",
    "from time import sleep  # to accommodate the 30 second pause between requests in the robots.txt file\n",
    "\n",
    "base_url = \"http://shop.oreilly.com/category/browse-subjects/data.do?sortby=publicationDate&page=\"\n",
    "books = []\n",
    "NUM_PAGES = 31  # at the time the book was written, probably more by now\n",
    "\n",
    "for page_num in range(1, NUM_PAGES + 1):\n",
    "    print \"Souping page\", page_num, \",\", len(books), \"found so far.\"\n",
    "    url = base_url + str(page_num)\n",
    "    soup = BeautifulSoup(requests.get(url).text, 'html5lib')\n",
    "    for td in soup('td', 'thumbtext'):\n",
    "        if not is_video(td):\n",
    "            books.append(book_info(td))\n",
    "    # now be a good citizen and respect the robots.txt\n",
    "    sleep(30)"
   ]
  },
  {
   "cell_type": "markdown",
   "metadata": {},
   "source": [
    "**NOTE**  \n",
    "Extracting data from HTML like this is more data art than data science.  \n",
    "There are many other find-the-books and find-the-titles recipes that would have worked just as well."
   ]
  },
  {
   "cell_type": "markdown",
   "metadata": {},
   "source": [
    "Now that you have collected the data, we can plot the numbers of books published each year:"
   ]
  },
  {
   "cell_type": "code",
   "execution_count": 112,
   "metadata": {
    "collapsed": true
   },
   "outputs": [],
   "source": [
    "def get_year(book):\n",
    "    \"\"\" book[\"date] takes the format 'November 2014', so we need to split on the space and take the second piece \"\"\"\n",
    "    return int(book[\"date\"].split()[1])"
   ]
  },
  {
   "cell_type": "code",
   "execution_count": 143,
   "metadata": {
    "collapsed": false
   },
   "outputs": [
    {
     "data": {
      "image/png": "[encoded data removed]",
      "text/plain": [
       "<matplotlib.figure.Figure at 0x10d4ec050>"
      ]
     },
     "metadata": {},
     "output_type": "display_data"
    }
   ],
   "source": [
    "import matplotlib.pyplot as plt\n",
    "\n",
    "def plot_years(plt, books):\n",
    "    year_counts = Counter(get_year(book) for book in books\n",
    "                          if get_year(book) <= 2016)\n",
    "\n",
    "    years = sorted(year_counts)\n",
    "    book_counts = [year_counts[year] for year in years]\n",
    "    plt.plot(years, book_counts)\n",
    "    plt.xlabel(\"Year\")\n",
    "    plt.ylabel(\"Number of data books\")\n",
    "    plt.title(\"Data is Big!\")\n",
    "    plt.show()\n",
    "    \n",
    "plot_years(plt, books)"
   ]
  },
  {
   "cell_type": "markdown",
   "metadata": {},
   "source": [
    "## Using APIs"
   ]
  },
  {
   "cell_type": "code",
   "execution_count": null,
   "metadata": {
    "collapsed": true
   },
   "outputs": [],
   "source": []
  }
 ],
 "metadata": {
  "kernelspec": {
   "display_name": "Python 2",
   "language": "python",
   "name": "python2"
  },
  "language_info": {
   "codemirror_mode": {
    "name": "ipython",
    "version": 2
   },
   "file_extension": ".py",
   "mimetype": "text/x-python",
   "name": "python",
   "nbconvert_exporter": "python",
   "pygments_lexer": "ipython2",
   "version": "2.7.12"
  }
 },
 "nbformat": 4,
 "nbformat_minor": 1
}
