{
 "cells": [
  {
   "cell_type": "markdown",
   "metadata": {},
   "source": [
    "# Chapter 9. Getting Data"
   ]
  },
  {
   "cell_type": "code",
   "execution_count": 62,
   "metadata": {
    "collapsed": false
   },
   "outputs": [],
   "source": [
    "from __future__ import division\n",
    "from collections import Counter\n",
    "import math, random, csv, json\n",
    "from bs4 import BeautifulSoup\n",
    "import requests"
   ]
  },
  {
   "cell_type": "markdown",
   "metadata": {},
   "source": [
    "In order to be a data scientist you need data (yes, really).  \n",
    "In this chapter, we take a look at different ways of getting data into Python and into the right formats."
   ]
  },
  {
   "cell_type": "markdown",
   "metadata": {},
   "source": [
    "## stdin and stdout"
   ]
  },
  {
   "cell_type": "markdown",
   "metadata": {},
   "source": [
    "If you run your Python scripts at the command line, you can *pipe* data through them using <code>sys.stdin</code> and <code>sys.stdout</code>.  \n",
    "For example, here is a script that reads in lines of text and spits back out the ones that match a regular expression:"
   ]
  },
  {
   "cell_type": "raw",
   "metadata": {},
   "source": [
    "# egrep.py\n",
    "import sys, re\n",
    "\n",
    "# sys.argv is the list of command-line arguments\n",
    "# sys.argv[0] is the name of the program itself\n",
    "# sys.argv[1] will be the regex specified at the command line\n",
    "regex = sys.argv[1]\n",
    "\n",
    "# for every line passed into the script\n",
    "for line in sys.stdin:\n",
    "    # if it matches the regex, write it to stdout\n",
    "    if re.search(regex, line):\n",
    "        sys.stdout.write(line)"
   ]
  },
  {
   "cell_type": "markdown",
   "metadata": {},
   "source": [
    "Here's a program that counts the lines it receives and then writes out the count:"
   ]
  },
  {
   "cell_type": "raw",
   "metadata": {},
   "source": [
    "# line_count.py\n",
    "import sys\n",
    "\n",
    "count = 0\n",
    "for line in sys.stdin:\n",
    "    count += 1\n",
    "    \n",
    "# print goes to sys.stdout\n",
    "print count"
   ]
  },
  {
   "cell_type": "markdown",
   "metadata": {},
   "source": [
    "You could then use these to count how many lines of a file contain numbers.  \n",
    "In Windows, you would use:  \n",
    "\n",
    "<code>type SomeFile.txt | python egrep.py \"[0-9]\" | python line_count.py</code>  \n",
    "\n",
    "whereas in a Unix system you would use:  \n",
    "\n",
    "<code>cat SomeFile.txt | python egrep.py \"[0-9]\" | python line_count.py</code>  \n",
    "\n",
    "The | is the pipe character, which means \"use the output of the left command as the input of the right command\".  \n",
    "You can build some pretty elaborate data-processing pipelines this way."
   ]
  },
  {
   "cell_type": "markdown",
   "metadata": {},
   "source": [
    "Similarly, here is a script that counts the words in its input and writes out the most common ones:"
   ]
  },
  {
   "cell_type": "raw",
   "metadata": {},
   "source": [
    "# most_common_words.py  \n",
    "\n",
    "import sys \n",
    "from collections import Counter  \n",
    "\n",
    "# pass in number of words as the first argument\n",
    "\n",
    "try:\n",
    "    num_words = int(sys.argv[1])   \n",
    "except:\n",
    "    print \"usage: most_common_words.py num_words\"\n",
    "    sys.exit(1)   # non-zero exit code indicates error\n",
    "\n",
    "counter = Counter(word.lower()                      # lowercase words                  \n",
    "                  for line in sys.stdin   \n",
    "                  for word in line.strip().split()  #  split on spaces  \n",
    "                  if word)                          # skip empty 'words' (spaces)  \n",
    "                  \n",
    "for word, count in counter.most_common(num_words):\n",
    "    sys.stdout.write(str(count))\n",
    "    sys.stdout.write(\"\\t\")\n",
    "    sys.stdout.write(word)\n",
    "    sys.stdout.write(\"\\n\")"
   ]
  },
  {
   "cell_type": "code",
   "execution_count": 63,
   "metadata": {
    "collapsed": false
   },
   "outputs": [
    {
     "name": "stdout",
     "output_type": "stream",
     "text": [
      "7\teget\r\n",
      "6\tnon\r\n",
      "6\tin\r\n",
      "5\tsed\r\n",
      "5\tut\r\n",
      "4\tneque\r\n",
      "4\tvel\r\n",
      "4\tet\r\n",
      "4\tnulla\r\n",
      "4\tullamcorper\r\n"
     ]
    }
   ],
   "source": [
    "cat lorem_ipsum.txt | python most_common_words.py 10"
   ]
  },
  {
   "cell_type": "markdown",
   "metadata": {},
   "source": [
    "**Note**  \n",
    "There are plenty of Unix command-line tools that can also be used, such as <code>grep</code> and <code>egrep</code>, that are probably preferable to building your own from scratch."
   ]
  },
  {
   "cell_type": "markdown",
   "metadata": {},
   "source": [
    "## Reading Files"
   ]
  },
  {
   "cell_type": "code",
   "execution_count": null,
   "metadata": {
    "collapsed": true
   },
   "outputs": [],
   "source": []
  }
 ],
 "metadata": {
  "kernelspec": {
   "display_name": "Python 2",
   "language": "python",
   "name": "python2"
  },
  "language_info": {
   "codemirror_mode": {
    "name": "ipython",
    "version": 2
   },
   "file_extension": ".py",
   "mimetype": "text/x-python",
   "name": "python",
   "nbconvert_exporter": "python",
   "pygments_lexer": "ipython2",
   "version": "2.7.12"
  }
 },
 "nbformat": 4,
 "nbformat_minor": 1
}
