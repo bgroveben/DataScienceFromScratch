{
 "cells": [
  {
   "cell_type": "markdown",
   "metadata": {},
   "source": [
    "### **If you choose to run this entire file, it will take ~15 minutes to complete due to the scraper's sleep timer.**"
   ]
  },
  {
   "cell_type": "markdown",
   "metadata": {},
   "source": [
    "# Chapter 9. Getting Data"
   ]
  },
  {
   "cell_type": "code",
   "execution_count": 2,
   "metadata": {
    "collapsed": false
   },
   "outputs": [],
   "source": [
    "from __future__ import division\n",
    "from collections import Counter\n",
    "import math, random, csv, json\n",
    "from bs4 import BeautifulSoup\n",
    "import requests\n",
    "import re"
   ]
  },
  {
   "cell_type": "markdown",
   "metadata": {},
   "source": [
    "In order to be a data scientist you need data (yes, really).  \n",
    "In this chapter, we take a look at different ways of getting data into Python and into the right formats."
   ]
  },
  {
   "cell_type": "markdown",
   "metadata": {},
   "source": [
    "## stdin and stdout"
   ]
  },
  {
   "cell_type": "markdown",
   "metadata": {},
   "source": [
    "If you run your Python scripts at the command line, you can *pipe* data through them using <code>sys.stdin</code> and <code>sys.stdout</code>.  \n",
    "For example, here is a script that reads in lines of text and spits back out the ones that match a regular expression:"
   ]
  },
  {
   "cell_type": "raw",
   "metadata": {},
   "source": [
    "# egrep.py\n",
    "import sys, re\n",
    "\n",
    "# sys.argv is the list of command-line arguments\n",
    "# sys.argv[0] is the name of the program itself\n",
    "# sys.argv[1] will be the regex specified at the command line\n",
    "regex = sys.argv[1]\n",
    "\n",
    "# for every line passed into the script\n",
    "for line in sys.stdin:\n",
    "    # if it matches the regex, write it to stdout\n",
    "    if re.search(regex, line):\n",
    "        sys.stdout.write(line)"
   ]
  },
  {
   "cell_type": "markdown",
   "metadata": {},
   "source": [
    "Here's a program that counts the lines it receives and then writes out the count:"
   ]
  },
  {
   "cell_type": "raw",
   "metadata": {},
   "source": [
    "# line_count.py\n",
    "import sys\n",
    "\n",
    "count = 0\n",
    "for line in sys.stdin:\n",
    "    count += 1\n",
    "    \n",
    "# print goes to sys.stdout\n",
    "print count"
   ]
  },
  {
   "cell_type": "markdown",
   "metadata": {},
   "source": [
    "You could then use these to count how many lines of a file contain numbers.  \n",
    "In Windows, you would use:  \n",
    "\n",
    "<code>type SomeFile.txt | python egrep.py \"[0-9]\" | python line_count.py</code>  \n",
    "\n",
    "whereas in a Unix system you would use:  \n",
    "\n",
    "<code>cat SomeFile.txt | python egrep.py \"[0-9]\" | python line_count.py</code>  \n",
    "\n",
    "The | is the pipe character, which means \"use the output of the left command as the input of the right command\".  \n",
    "You can build some pretty elaborate data-processing pipelines this way."
   ]
  },
  {
   "cell_type": "markdown",
   "metadata": {},
   "source": [
    "Similarly, here is a script that counts the words in its input and writes out the most common ones:"
   ]
  },
  {
   "cell_type": "raw",
   "metadata": {},
   "source": [
    "# most_common_words.py  \n",
    "\n",
    "import sys \n",
    "from collections import Counter  \n",
    "\n",
    "# pass in number of words as the first argument\n",
    "\n",
    "try:\n",
    "    num_words = int(sys.argv[1])   \n",
    "except:\n",
    "    print \"usage: most_common_words.py num_words\"\n",
    "    sys.exit(1)   # non-zero exit code indicates error\n",
    "\n",
    "counter = Counter(word.lower()                      # lowercase words                  \n",
    "                  for line in sys.stdin   \n",
    "                  for word in line.strip().split()  #  split on spaces  \n",
    "                  if word)                          # skip empty 'words' (spaces)  \n",
    "                  \n",
    "for word, count in counter.most_common(num_words):\n",
    "    sys.stdout.write(str(count))\n",
    "    sys.stdout.write(\"\\t\")\n",
    "    sys.stdout.write(word)\n",
    "    sys.stdout.write(\"\\n\")"
   ]
  },
  {
   "cell_type": "code",
   "execution_count": 3,
   "metadata": {
    "collapsed": false
   },
   "outputs": [
    {
     "name": "stdout",
     "output_type": "stream",
     "text": [
      "7\teget\r\n",
      "7\tin\r\n",
      "6\tnon\r\n",
      "5\tsed\r\n",
      "5\tut\r\n",
      "4\tvel\r\n",
      "4\tet\r\n",
      "4\tnulla\r\n",
      "4\tneque\r\n",
      "4\tullamcorper\r\n"
     ]
    }
   ],
   "source": [
    "cat lorem_ipsum.txt | python most_common_words.py 10"
   ]
  },
  {
   "cell_type": "markdown",
   "metadata": {},
   "source": [
    "**Note**  \n",
    "There are plenty of Unix command-line tools that can also be used, such as <code>grep</code> and <code>egrep</code>, that are probably preferable to building your own from scratch."
   ]
  },
  {
   "cell_type": "markdown",
   "metadata": {},
   "source": [
    "## Reading Files"
   ]
  },
  {
   "cell_type": "markdown",
   "metadata": {
    "collapsed": true
   },
   "source": [
    "### The Basics of Text Files"
   ]
  },
  {
   "cell_type": "markdown",
   "metadata": {},
   "source": [
    "The first step in working with a text file is to obtain a *file object* using `open`:"
   ]
  },
  {
   "cell_type": "code",
   "execution_count": 4,
   "metadata": {
    "collapsed": true
   },
   "outputs": [],
   "source": [
    "# 'r' means read-only\n",
    "file_for_reading = open('reading_file.txt', 'r')\n",
    "\n",
    "# 'w' means write\n",
    "#!# This will destroy the file if it already exists!\n",
    "file_for_writing = open('writing_file.txt', 'w')\n",
    "\n",
    "# 'a' means append\n",
    "# for adding to the end of a file\n",
    "file_for_appending = open('appending_file.txt', 'a')\n",
    "\n",
    "#!# Don't forget to close your files when you're done!\n",
    "file_for_reading.close()\n",
    "file_for_writing.close()\n",
    "file_for_appending.close()"
   ]
  },
  {
   "cell_type": "markdown",
   "metadata": {},
   "source": [
    "Since it is easy to forget to close your files, you should always use them in a `with` block, at the end of which they will be closed automatically:"
   ]
  },
  {
   "cell_type": "raw",
   "metadata": {},
   "source": [
    "with open('reading_file.txt', 'r') as f:\n",
    "    data = function_that_gets_data_from(f)\n",
    "    \n",
    "# at this point f has already been closed, so don't try to use it\n",
    "\n",
    "process(data)"
   ]
  },
  {
   "cell_type": "markdown",
   "metadata": {},
   "source": [
    "If you need to read a whole text file, you can just iterate over the lines of the file using `for`:"
   ]
  },
  {
   "cell_type": "code",
   "execution_count": 5,
   "metadata": {
    "collapsed": false
   },
   "outputs": [
    {
     "data": {
      "text/plain": [
       "1"
      ]
     },
     "execution_count": 5,
     "metadata": {},
     "output_type": "execute_result"
    }
   ],
   "source": [
    "starts_with_hash = 0\n",
    "\n",
    "with open('lorem_ipsum.txt', 'r') as f:\n",
    "    for line in f:                 # look at each line in the file\n",
    "        if re.match(\"^#\",line):    # use a regex to see if it starts with '#'\n",
    "            starts_with_hash += 1  # if it does, add 1 to the count\n",
    "\n",
    "starts_with_hash"
   ]
  },
  {
   "cell_type": "markdown",
   "metadata": {},
   "source": [
    "Every line you get this way ends in a newline character (\\n), you you may want to `strip()` it before doing anything with it."
   ]
  },
  {
   "cell_type": "markdown",
   "metadata": {},
   "source": [
    "For example, imagine you have a file full of email addresses, one per line, and that you need to generate a histogram of the domains.  \n",
    "A good first approximation is to just take the parts of the email addresses that come after the @."
   ]
  },
  {
   "cell_type": "code",
   "execution_count": 6,
   "metadata": {
    "collapsed": true
   },
   "outputs": [],
   "source": [
    "def get_domain(email_address):\n",
    "    \"\"\" split on '@' and return the last piece \"\"\"\n",
    "    return email_address.lower().split(\"@\")[-1]\n",
    "\n",
    "with open('email_addresses.txt', 'r') as f:\n",
    "    domain_counts = Counter(get_domain(line.strip()) for line in f if \"@\" in line)"
   ]
  },
  {
   "cell_type": "markdown",
   "metadata": {},
   "source": [
    "### Delimited Files"
   ]
  },
  {
   "cell_type": "markdown",
   "metadata": {},
   "source": [
    "Frequently you will work with files that have lots of data on each line.  \n",
    "These files are often either *comma-separated* or *tab-separated*.  \n",
    "Don't try to parse them yourself -- use Python's `csv` module or the `pandas` library.  \n",
    "If the file has no headers, you can use `csv.reader` to iterate over the rows."
   ]
  },
  {
   "cell_type": "markdown",
   "metadata": {},
   "source": [
    "For example, if we had a tab-delimited file of stock prices, we could process them with:"
   ]
  },
  {
   "cell_type": "code",
   "execution_count": 7,
   "metadata": {
    "collapsed": false
   },
   "outputs": [
    {
     "name": "stdout",
     "output_type": "stream",
     "text": [
      "('6/20/2014', 'AAPL', 90.91)\n",
      "('6/20/2014', 'MSFT', 41.68)\n",
      "('6/20/2014', 'FB', 64.5)\n",
      "('6/19/2014', 'AAPL', 91.86)\n",
      "('6/19/2014', 'MSFT', 41.51)\n",
      "('6/19/2014', 'FB', 64.34)\n"
     ]
    }
   ],
   "source": [
    "import csv\n",
    "\n",
    "with open('tab_delimited_stock_prices.txt', 'r') as f:\n",
    "    reader = csv.reader(f, delimiter='\\t')\n",
    "    for row in reader:\n",
    "        date = row[0]\n",
    "        symbol = row[1]\n",
    "        closing_price = float(row[2])\n",
    "        print(date, symbol, closing_price)"
   ]
  },
  {
   "cell_type": "markdown",
   "metadata": {},
   "source": [
    "If your file has headers, you can either skip the header row (with an initial call to `reader.next()`), or get each row as a `dict`, with the headers as keys, by using `csv.DictReader`:"
   ]
  },
  {
   "cell_type": "code",
   "execution_count": 8,
   "metadata": {
    "collapsed": false
   },
   "outputs": [
    {
     "name": "stdout",
     "output_type": "stream",
     "text": [
      "('6/20/2014', 'AAPL', 90.91)\n",
      "('6/20/2014', 'MSFT', 41.68)\n",
      "('6/20/2014', 'FB', 64.5)\n"
     ]
    }
   ],
   "source": [
    "with open('colon_delimited_stock_prices.txt', 'r') as f:\n",
    "    reader = csv.DictReader(f, delimiter=':')\n",
    "    for row in reader:\n",
    "        date = row[\"date\"]\n",
    "        symbol = row[\"symbol\"]\n",
    "        closing_price = float(row[\"closing_price\"])\n",
    "        print(date, symbol, closing_price)"
   ]
  },
  {
   "cell_type": "markdown",
   "metadata": {},
   "source": [
    "Even if your file doesn't have headers you can still use `DictReader` by passing it the keys as a `fieldnames` parameter."
   ]
  },
  {
   "cell_type": "markdown",
   "metadata": {},
   "source": [
    "You can similarly write out delimited data using `csv.writer`:"
   ]
  },
  {
   "cell_type": "code",
   "execution_count": 9,
   "metadata": {
    "collapsed": false
   },
   "outputs": [],
   "source": [
    "today_prices = { 'AAPL' : 95.95, 'MSFT' : 43.34, 'FB' : 66.66 }\n",
    "\n",
    "with open('comma_delimited_stock_prices.txt', 'w') as f:\n",
    "    writer = csv.writer(f, delimiter=',')\n",
    "    for stock, price in today_prices.items():\n",
    "        writer.writerow([stock, price])"
   ]
  },
  {
   "cell_type": "markdown",
   "metadata": {},
   "source": [
    "`csv.writer()` will do the right thing if your fields themselves have commas in them.  \n",
    "Your own hand-rolled writer probably won't.  \n",
    "For example, if you attempt: "
   ]
  },
  {
   "cell_type": "code",
   "execution_count": 10,
   "metadata": {
    "collapsed": false
   },
   "outputs": [],
   "source": [
    "results = [[\"test1\", \"success\", \"Monday\"],\n",
    "           [\"test2\", \"success, kind of\", \"Tuesday\"],\n",
    "           [\"test3\", \"failure, kind of\", \"Wednesday\"],\n",
    "           [\"test4\", \"failure, utter\", \"Thursday\"]]\n",
    "\n",
    "#!# don't do this!\n",
    "with open('bad_csv.csv', 'w') as f:\n",
    "    for row in results:\n",
    "        f.write(\",\".join(map(str, row)))  # might have too many commas in it\n",
    "        f.write(\"\\n\")                     # row might have newlines as well"
   ]
  },
  {
   "cell_type": "markdown",
   "metadata": {},
   "source": [
    "You will end up with a `csv` file that looks like:"
   ]
  },
  {
   "cell_type": "code",
   "execution_count": 11,
   "metadata": {
    "collapsed": false
   },
   "outputs": [
    {
     "name": "stdout",
     "output_type": "stream",
     "text": [
      "['test1', 'success', 'Monday']\n",
      "['test2', 'success', ' kind of', 'Tuesday']\n",
      "['test3', 'failure', ' kind of', 'Wednesday']\n",
      "['test4', 'failure', ' utter', 'Thursday']\n"
     ]
    }
   ],
   "source": [
    "with open('bad_csv.csv', 'r') as f:\n",
    "    reader = csv.reader(f, delimiter=',')\n",
    "    for row in reader:\n",
    "        print(row)"
   ]
  },
  {
   "cell_type": "markdown",
   "metadata": {},
   "source": [
    "that will be very difficult to make sense of.  \n",
    "Open the `bad_csv.csv` file in a text editor and see for yourself."
   ]
  },
  {
   "cell_type": "markdown",
   "metadata": {},
   "source": [
    "## Scraping the Web"
   ]
  },
  {
   "cell_type": "markdown",
   "metadata": {
    "collapsed": true
   },
   "source": [
    "### HTML and the Parsing Thereof"
   ]
  },
  {
   "cell_type": "markdown",
   "metadata": {},
   "source": [
    "To get data out of HTML, we will use the [BeautifulSoup library](https://www.crummy.com/software/BeautifulSoup/), which builds a tree out of the various elements on a web page and provides a simple interface for accessing them.  \n",
    "We will also be using the [requests library](http://docs.python-requests.org/en/latest/), which is a much nicer way of making HTTP requests than anything that's built into Python.  \n",
    "Python's built-in HTML parser is not very lenient, meaning that it doesn't deal well with HTML that's not perfectly formed, so we will use [html5lib](https://github.com/html5lib/)."
   ]
  },
  {
   "cell_type": "markdown",
   "metadata": {},
   "source": [
    "To use Beautiful Soup, we need to pass some HTML into the `BeautifulSoup()` function.  \n",
    "In our examples, this will be the result of a call to `requests.get`:"
   ]
  },
  {
   "cell_type": "code",
   "execution_count": 12,
   "metadata": {
    "collapsed": false
   },
   "outputs": [],
   "source": [
    "from bs4 import BeautifulSoup\n",
    "import requests\n",
    "html = requests.get(\"http://www.example.com\").text\n",
    "soup = BeautifulSoup(html, 'html5lib')"
   ]
  },
  {
   "cell_type": "markdown",
   "metadata": {},
   "source": [
    "after which we can get pretty far using a few simple methods."
   ]
  },
  {
   "cell_type": "markdown",
   "metadata": {},
   "source": [
    "We will typically work with `Tag` objects, which correspond to the tags representing the structure of an HTML page.  \n",
    "For example, to find the first `<p>` tag (and its contents), you can use:"
   ]
  },
  {
   "cell_type": "code",
   "execution_count": 13,
   "metadata": {
    "collapsed": false
   },
   "outputs": [
    {
     "data": {
      "text/plain": [
       "<p>This domain is established to be used for illustrative examples in documents. You may use this\\n    domain in examples without prior coordination or asking for permission.</p>"
      ]
     },
     "execution_count": 13,
     "metadata": {},
     "output_type": "execute_result"
    }
   ],
   "source": [
    "first_paragraph = soup.find('p')  # or just soup.p -- see below\n",
    "first_paragraph"
   ]
  },
  {
   "cell_type": "code",
   "execution_count": 14,
   "metadata": {
    "collapsed": false
   },
   "outputs": [
    {
     "data": {
      "text/plain": [
       "<p>This domain is established to be used for illustrative examples in documents. You may use this\\n    domain in examples without prior coordination or asking for permission.</p>"
      ]
     },
     "execution_count": 14,
     "metadata": {},
     "output_type": "execute_result"
    }
   ],
   "source": [
    "also_first_paragraph = soup.p\n",
    "also_first_paragraph"
   ]
  },
  {
   "cell_type": "markdown",
   "metadata": {},
   "source": [
    "You can get the text contents of a `Tag` using its `text` property:"
   ]
  },
  {
   "cell_type": "code",
   "execution_count": 15,
   "metadata": {
    "collapsed": false
   },
   "outputs": [
    {
     "data": {
      "text/plain": [
       "u'This domain is established to be used for illustrative examples in documents. You may use this\\n    domain in examples without prior coordination or asking for permission.'"
      ]
     },
     "execution_count": 15,
     "metadata": {},
     "output_type": "execute_result"
    }
   ],
   "source": [
    "first_paragraph_text = soup.p.text\n",
    "first_paragraph_text"
   ]
  },
  {
   "cell_type": "code",
   "execution_count": 16,
   "metadata": {
    "collapsed": false
   },
   "outputs": [
    {
     "data": {
      "text/plain": [
       "[u'This',\n",
       " u'domain',\n",
       " u'is',\n",
       " u'established',\n",
       " u'to',\n",
       " u'be',\n",
       " u'used',\n",
       " u'for',\n",
       " u'illustrative',\n",
       " u'examples',\n",
       " u'in',\n",
       " u'documents.',\n",
       " u'You',\n",
       " u'may',\n",
       " u'use',\n",
       " u'this',\n",
       " u'domain',\n",
       " u'in',\n",
       " u'examples',\n",
       " u'without',\n",
       " u'prior',\n",
       " u'coordination',\n",
       " u'or',\n",
       " u'asking',\n",
       " u'for',\n",
       " u'permission.']"
      ]
     },
     "execution_count": 16,
     "metadata": {},
     "output_type": "execute_result"
    }
   ],
   "source": [
    "first_paragraph_words = soup.p.text.split()\n",
    "first_paragraph_words"
   ]
  },
  {
   "cell_type": "markdown",
   "metadata": {},
   "source": [
    "You can extract a tag's attributes by treating it like a `dict`:"
   ]
  },
  {
   "cell_type": "raw",
   "metadata": {},
   "source": [
    "first_paragraph_id = soup.p['id']  # raises KeyError if no 'id'\n",
    "first_paragraph_id"
   ]
  },
  {
   "cell_type": "code",
   "execution_count": 17,
   "metadata": {
    "collapsed": false
   },
   "outputs": [
    {
     "name": "stdout",
     "output_type": "stream",
     "text": [
      "None\n"
     ]
    }
   ],
   "source": [
    "first_paragraph_id2 = soup.p.get('id')  # returns None if no 'id'\n",
    "print(first_paragraph_id2)\n",
    "first_paragraph_id2"
   ]
  },
  {
   "cell_type": "markdown",
   "metadata": {},
   "source": [
    "You can get multiple tags at once:"
   ]
  },
  {
   "cell_type": "code",
   "execution_count": 18,
   "metadata": {
    "collapsed": false
   },
   "outputs": [
    {
     "data": {
      "text/plain": [
       "[<p>This domain is established to be used for illustrative examples in documents. You may use this\\n    domain in examples without prior coordination or asking for permission.</p>,\n",
       " <p><a href=\"http://www.iana.org/domains/example\">More information...</a></p>]"
      ]
     },
     "execution_count": 18,
     "metadata": {},
     "output_type": "execute_result"
    }
   ],
   "source": [
    "all_paragraphs = soup.find_all('p')  # or just soup('p')\n",
    "all_paragraphs"
   ]
  },
  {
   "cell_type": "code",
   "execution_count": 19,
   "metadata": {
    "collapsed": false
   },
   "outputs": [
    {
     "data": {
      "text/plain": [
       "[<p>This domain is established to be used for illustrative examples in documents. You may use this\\n    domain in examples without prior coordination or asking for permission.</p>,\n",
       " <p><a href=\"http://www.iana.org/domains/example\">More information...</a></p>]"
      ]
     },
     "execution_count": 19,
     "metadata": {},
     "output_type": "execute_result"
    }
   ],
   "source": [
    "also_all_paragraphs = soup('p')\n",
    "also_all_paragraphs"
   ]
  },
  {
   "cell_type": "code",
   "execution_count": 20,
   "metadata": {
    "collapsed": false
   },
   "outputs": [
    {
     "data": {
      "text/plain": [
       "[]"
      ]
     },
     "execution_count": 20,
     "metadata": {},
     "output_type": "execute_result"
    }
   ],
   "source": [
    "paragraphs_with_ids = [p for p in soup('p') if p.get('id')]\n",
    "paragraphs_with_ids"
   ]
  },
  {
   "cell_type": "markdown",
   "metadata": {},
   "source": [
    "Frequently you will want to find tags with a specific `class`:"
   ]
  },
  {
   "cell_type": "code",
   "execution_count": 21,
   "metadata": {
    "collapsed": false
   },
   "outputs": [
    {
     "data": {
      "text/plain": [
       "[]"
      ]
     },
     "execution_count": 21,
     "metadata": {},
     "output_type": "execute_result"
    }
   ],
   "source": [
    "important_paragraphs = soup('p', {'class' : 'important'})\n",
    "important_paragraphs"
   ]
  },
  {
   "cell_type": "code",
   "execution_count": 22,
   "metadata": {
    "collapsed": false
   },
   "outputs": [
    {
     "data": {
      "text/plain": [
       "[]"
      ]
     },
     "execution_count": 22,
     "metadata": {},
     "output_type": "execute_result"
    }
   ],
   "source": [
    "important_paragraphs2 = soup('p', 'important')\n",
    "important_paragraphs2"
   ]
  },
  {
   "cell_type": "code",
   "execution_count": 23,
   "metadata": {
    "collapsed": false
   },
   "outputs": [
    {
     "data": {
      "text/plain": [
       "[]"
      ]
     },
     "execution_count": 23,
     "metadata": {},
     "output_type": "execute_result"
    }
   ],
   "source": [
    "important_paragraphs3 = [p for p in soup('p') if 'important' in p.get('class', [])]\n",
    "important_paragraphs3"
   ]
  },
  {
   "cell_type": "markdown",
   "metadata": {},
   "source": [
    "You can combine methods to implement more elaborate logic.  \n",
    "For example, if you want to find every `<span>` element that is contained in a `<div>` element, you could do this:"
   ]
  },
  {
   "cell_type": "code",
   "execution_count": 24,
   "metadata": {
    "collapsed": false
   },
   "outputs": [
    {
     "data": {
      "text/plain": [
       "[]"
      ]
     },
     "execution_count": 24,
     "metadata": {},
     "output_type": "execute_result"
    }
   ],
   "source": [
    "# Warning -- this will return the same span multiple times if it lies within multiple divs\n",
    "# If that is the case, be more clever\n",
    "span_inside_divs = [span \n",
    "                    for div in soup('div')    # for each <div> on the page, \n",
    "                    for span in div('span')]  # find each <span> inside of it.\n",
    "span_inside_divs"
   ]
  },
  {
   "cell_type": "markdown",
   "metadata": {},
   "source": [
    "Good. Enough with the basics, let's look at an example."
   ]
  },
  {
   "cell_type": "markdown",
   "metadata": {},
   "source": [
    "### Example: O'Reilly Books About Data"
   ]
  },
  {
   "cell_type": "markdown",
   "metadata": {
    "collapsed": true
   },
   "source": [
    "A potential investor in DataSciencester thinks data is just a fad.  \n",
    "To prove him wrong, you decide to examine how many data books O'Reilly has published over time.  \n",
    "Whenever you want to scrape data, check to see if there is some sort of access policy like the one at `http://oreilly.com/terms/`.  \n",
    "In order to be good citizens, we should also check for a `robots.txt` file that tells webcrawlers how to behave, which we can find at `http://shop.oreilly.com/robots.txt`."
   ]
  },
  {
   "cell_type": "raw",
   "metadata": {},
   "source": [
    "User-agent: * \n",
    "Crawl-delay: 30 \n",
    "Request-rate: 1/30 \n",
    "Disallow: /util/ \n",
    "Disallow: /account \n",
    "Disallow: /text/products/\n",
    "Disallow: /category/deals/\n",
    "Disallow: /*QuickView.do\n",
    "Disallow: /*ReviewSubmit.do*"
   ]
  },
  {
   "cell_type": "markdown",
   "metadata": {
    "collapsed": true
   },
   "source": [
    "`Crawl-delay: 30` tells us that we should wait 30 seconds between requests.  \n",
    "`Request-rate: 1/30` tells us that we should only request one page every 30 seconds.  \n",
    "The `Disallow` notifications tell us which directories *not* to scrape."
   ]
  },
  {
   "cell_type": "markdown",
   "metadata": {},
   "source": [
    "To figure out how to extract the data, let's download one of those pages and feed it to BeautifulSoup:"
   ]
  },
  {
   "cell_type": "raw",
   "metadata": {},
   "source": [
    "url = \"http://shop.oreilly.com/category/browse-subjects/data.do?sortby=publicationDate&page=1\"\n",
    "soup = BeautifulSoup(requests.get(url).text, 'html5lib')\n",
    "# Print first 20 lines parsed by BeautifulSoup, just to make sure I'm getting the correct info.\n",
    "# The output is the same stuff you will see when you open the browser's developer tools and view the HTML elements.\n",
    "result = soup.prettify().splitlines()\n",
    "print(result[:20])"
   ]
  },
  {
   "cell_type": "markdown",
   "metadata": {},
   "source": [
    "If you view the page source in your developer's tools, you will see that each book or video seems to be uniquely contained in a `<td>` table cell element with a `class` of `thumbtext` (`td.thumbtext`)."
   ]
  },
  {
   "cell_type": "raw",
   "metadata": {},
   "source": [
    "# Each book/video title on the page has a CSS class of 'thumbheader'\n",
    "titles = soup.select(\".thumbheader\")\n",
    "titles"
   ]
  },
  {
   "cell_type": "markdown",
   "metadata": {},
   "source": [
    "A good first step is to find all of the `td thumbtext` tag elements:"
   ]
  },
  {
   "cell_type": "raw",
   "metadata": {},
   "source": [
    "tds = soup('td', 'thumbtext')\n",
    "print len(tds)"
   ]
  },
  {
   "cell_type": "markdown",
   "metadata": {},
   "source": [
    "Next, we filter out the videos because the would-be investor is only impressed by books.  \n",
    "If we inspect the HTML further, we can see that each `td` contains one or more `span` elements whose `class` is `pricelabel` and whose text looks like `Ebook:`, `Video:`, or `Print:`.  \n",
    "It appears that the videos contain only one `pricelabel`, whose `text` begins with `Video` (after removing leading spaces).  \n",
    "This means we can test for videos with:"
   ]
  },
  {
   "cell_type": "raw",
   "metadata": {},
   "source": [
    "def is_video(td):\n",
    "    \"\"\" it's a video if it has exactly one pricelabel and \n",
    "        if the stripped text inside that pricelabel begins with 'Video\"\"\"\n",
    "    pricelabels = td('span', 'pricelabel')\n",
    "    return (len(pricelabels) == 1 and pricelabels[0].text.strip().startswith(\"Video\"))\n",
    "\n",
    "print len([td for td in tds if not is_video(td)])"
   ]
  },
  {
   "cell_type": "markdown",
   "metadata": {},
   "source": [
    "Now we're ready to start pulling data out of the `td` elements.  \n",
    "It looks like the book title is the text inside the `<a>` tag inside the `<div class=\"thumbheader\">`:"
   ]
  },
  {
   "cell_type": "raw",
   "metadata": {},
   "source": [
    "title = td.find(\"div\", \"thumbheader\").a.text\n",
    "title"
   ]
  },
  {
   "cell_type": "markdown",
   "metadata": {},
   "source": [
    "The author(s) are in the text of the `AuthorName <div>`.  \n",
    "They are prefaced by the word `By` (which we want to remove) and separated by commas (which we want to split out, after which we'll need to get rid of the spaces):"
   ]
  },
  {
   "cell_type": "raw",
   "metadata": {},
   "source": [
    "author_name = td.find('div', 'AuthorName').text\n",
    "authors = [x.strip() for x in re.sub(\"^By \", \"\", author_name).split(\",\")]\n",
    "authors"
   ]
  },
  {
   "cell_type": "markdown",
   "metadata": {},
   "source": [
    "The ISBN seems to be contained in the link that's in the `thumbheader <div>`: "
   ]
  },
  {
   "cell_type": "raw",
   "metadata": {},
   "source": [
    "isbn_link = td.find(\"div\", \"thumbheader\").a.get(\"href\")\n",
    "# re.match captures the part of the regex in parentheses\n",
    "isbn = re.match(\"/product/(.*)\\.do\", isbn_link).group(1)\n",
    "isbn"
   ]
  },
  {
   "cell_type": "markdown",
   "metadata": {},
   "source": [
    "And the date is just the contents of the `<span class=\"directorydate\">`:"
   ]
  },
  {
   "cell_type": "raw",
   "metadata": {},
   "source": [
    "date = td.find(\"span\", \"directorydate\").text.strip()\n",
    "date"
   ]
  },
  {
   "cell_type": "markdown",
   "metadata": {},
   "source": [
    "Now, let's put all of the above together into a function:"
   ]
  },
  {
   "cell_type": "code",
   "execution_count": 25,
   "metadata": {
    "collapsed": true
   },
   "outputs": [],
   "source": [
    "def book_info(td):\n",
    "    \"\"\" given a BeautifulSoup <td> tag representing a book,\n",
    "        extract the book's details and return a dict\"\"\"\n",
    "    title = td.find(\"div\", \"thumbheader\").a.text\n",
    "    by_author = td.find('div', 'AuthorName').text\n",
    "    authors = [x.strip() for x in re.sub(\"^By \", \"\", by_author).split(\",\")]\n",
    "    isbn_link = td.find(\"div\", \"thumbheader\").a.get(\"href\")\n",
    "    isbn = re.match(\"/product/(.*)\\.do\", isbn_link).groups()[0]\n",
    "    date = td.find(\"span\", \"directorydate\").text.strip()\n",
    "    return {\n",
    "        \"title\" : title,\n",
    "        \"authors\" : authors,\n",
    "        \"isbn\" : isbn,\n",
    "        \"date\" : date\n",
    "    }"
   ]
  },
  {
   "cell_type": "markdown",
   "metadata": {},
   "source": [
    "Include the `is_video` function:"
   ]
  },
  {
   "cell_type": "code",
   "execution_count": 26,
   "metadata": {
    "collapsed": true
   },
   "outputs": [],
   "source": [
    "def is_video(td):\n",
    "    \"\"\" it's a video if it has exactly one pricelabel and \n",
    "        if the stripped text inside that pricelabel begins with 'Video\"\"\"\n",
    "    pricelabels = td('span', 'pricelabel')\n",
    "    return (len(pricelabels) == 1 and pricelabels[0].text.strip().startswith(\"Video\"))"
   ]
  },
  {
   "cell_type": "markdown",
   "metadata": {},
   "source": [
    "And now, we're ready to scrape:"
   ]
  },
  {
   "cell_type": "code",
   "execution_count": 27,
   "metadata": {
    "collapsed": false
   },
   "outputs": [
    {
     "name": "stdout",
     "output_type": "stream",
     "text": [
      "Souping page 1 , 0 found so far.\n",
      "Souping page 2 , 21 found so far.\n",
      "Souping page 3 , 46 found so far.\n",
      "Souping page 4 , 73 found so far.\n",
      "Souping page 5 , 97 found so far.\n",
      "Souping page 6 , 116 found so far.\n",
      "Souping page 7 , 139 found so far.\n",
      "Souping page 8 , 165 found so far.\n",
      "Souping page 9 , 189 found so far.\n",
      "Souping page 10 , 212 found so far.\n",
      "Souping page 11 , 238 found so far.\n",
      "Souping page 12 , 258 found so far.\n",
      "Souping page 13 , 280 found so far.\n",
      "Souping page 14 , 307 found so far.\n",
      "Souping page 15 , 333 found so far.\n",
      "Souping page 16 , 359 found so far.\n",
      "Souping page 17 , 381 found so far.\n",
      "Souping page 18 , 406 found so far.\n",
      "Souping page 19 , 406 found so far.\n",
      "Souping page 20 , 428 found so far.\n",
      "Souping page 21 , 455 found so far.\n",
      "Souping page 22 , 482 found so far.\n",
      "Souping page 23 , 507 found so far.\n",
      "Souping page 24 , 534 found so far.\n",
      "Souping page 25 , 563 found so far.\n",
      "Souping page 26 , 591 found so far.\n",
      "Souping page 27 , 619 found so far.\n",
      "Souping page 28 , 644 found so far.\n",
      "Souping page 29 , 673 found so far.\n",
      "Souping page 30 , 702 found so far.\n",
      "Souping page 31 , 730 found so far.\n"
     ]
    }
   ],
   "source": [
    "from bs4 import BeautifulSoup\n",
    "import requests\n",
    "from time import sleep  # to accommodate the 30 second pause between requests in the robots.txt file\n",
    "\n",
    "base_url = \"http://shop.oreilly.com/category/browse-subjects/data.do?sortby=publicationDate&page=\"\n",
    "books = []\n",
    "NUM_PAGES = 31  # at the time the book was written, probably more by now\n",
    "\n",
    "for page_num in range(1, NUM_PAGES + 1):\n",
    "    print \"Souping page\", page_num, \",\", len(books), \"found so far.\"\n",
    "    url = base_url + str(page_num)\n",
    "    soup = BeautifulSoup(requests.get(url).text, 'html5lib')\n",
    "    for td in soup('td', 'thumbtext'):\n",
    "        if not is_video(td):\n",
    "            books.append(book_info(td))\n",
    "    # now be a good citizen and respect the robots.txt\n",
    "    sleep(30)"
   ]
  },
  {
   "cell_type": "markdown",
   "metadata": {},
   "source": [
    "**NOTE**  \n",
    "Extracting data from HTML like this is more data art than data science.  \n",
    "There are many other find-the-books and find-the-titles recipes that would have worked just as well."
   ]
  },
  {
   "cell_type": "markdown",
   "metadata": {},
   "source": [
    "Now that you have collected the data, we can plot the numbers of books published each year:"
   ]
  },
  {
   "cell_type": "code",
   "execution_count": 28,
   "metadata": {
    "collapsed": true
   },
   "outputs": [],
   "source": [
    "def get_year(book):\n",
    "    \"\"\" book[\"date] takes the format 'November 2014', so we need to split on the space and take the second piece \"\"\"\n",
    "    return int(book[\"date\"].split()[1])"
   ]
  },
  {
   "cell_type": "code",
   "execution_count": 133,
   "metadata": {
    "collapsed": false
   },
   "outputs": [
    {
     "data": {
      "image/png": "[encoded data removed]",
      "text/plain": [
       "<matplotlib.figure.Figure at 0x10dcdbed0>"
      ]
     },
     "metadata": {},
     "output_type": "display_data"
    }
   ],
   "source": [
    "year_counts = Counter(get_year(book) for book in books\n",
    "                      if get_year(book) <= 2016)\n",
    "\n",
    "import matplotlib.pyplot as plt\n",
    "years = sorted(year_counts)\n",
    "book_counts = [year_counts[year] for year in years]\n",
    "# https://docs.python.org/2/library/functions.html#enumerate\n",
    "# plt.plot(years, book_counts) puts all data on the extreme right of the plot and \n",
    "# all years at the bottom of the y-axis\n",
    "years_on_x = [i for i, _ in enumerate(years)]\n",
    "plt.plot(years_on_x, book_counts)\n",
    "# this next line is needed to display the years on the x-axis\n",
    "plt.xticks([i for i, _ in enumerate(years)], years)\n",
    "plt.xlabel(\"Years\")\n",
    "plt.ylabel(\"Number of data books\")\n",
    "plt.title(\"Data is Big!\")\n",
    "plt.show()"
   ]
  },
  {
   "cell_type": "markdown",
   "metadata": {},
   "source": [
    "## Using APIs"
   ]
  },
  {
   "cell_type": "markdown",
   "metadata": {
    "collapsed": true
   },
   "source": [
    "Many websites and web services provide application programming interfaces (APIs) that allow the user to explicitly request data in a structured format.  \n",
    "This saves the user (you) the trouble of having to scrape them!"
   ]
  },
  {
   "cell_type": "markdown",
   "metadata": {},
   "source": [
    "### JSON and XML"
   ]
  },
  {
   "cell_type": "markdown",
   "metadata": {
    "collapsed": true
   },
   "source": [
    "HTTP is a protocol for transferring text, so the data you request through a web API needs to be [serialized](https://en.wikipedia.org/wiki/Serialization) into a string format.  \n",
    "Often this serialization uses JavaScript Object Notation (JSON):"
   ]
  },
  {
   "cell_type": "code",
   "execution_count": 1,
   "metadata": {
    "collapsed": false
   },
   "outputs": [
    {
     "data": {
      "text/plain": [
       "{'author': 'Joel Grus',\n",
       " 'publicationYear': 2014,\n",
       " 'title': 'Data Science Book',\n",
       " 'topics': ['data', 'science', 'data science']}"
      ]
     },
     "execution_count": 1,
     "metadata": {},
     "output_type": "execute_result"
    }
   ],
   "source": [
    "{ \"title\" : \"Data Science Book\",\n",
    "  \"author\" : \"Joel Grus\",\n",
    "  \"publicationYear\" : 2014,\n",
    "  \"topics\" : [ \"data\", \"science\", \"data science\"] }"
   ]
  },
  {
   "cell_type": "markdown",
   "metadata": {},
   "source": [
    "We can parse JSON using Python's `json` module.  \n",
    "In particular, we will use its `loads` function, which deserializes a string representing a JSON object into a Python object:"
   ]
  },
  {
   "cell_type": "code",
   "execution_count": 7,
   "metadata": {
    "collapsed": false
   },
   "outputs": [
    {
     "name": "stdout",
     "output_type": "stream",
     "text": [
      "{u'publicationYear': 2014, u'author': u'Joel Grus', u'topics': [u'data', u'science', u'data science'], u'title': u'Data Science Book'}\n"
     ]
    }
   ],
   "source": [
    "import json  \n",
    "\n",
    "# enclose the JSON in triple quotes or you will get a TypeError: expected string or buffer\n",
    "serialized = \"\"\"{ \"title\" : \"Data Science Book\",\n",
    "                  \"author\" : \"Joel Grus\",\n",
    "                  \"publicationYear\" : 2014,\n",
    "                  \"topics\" : [ \"data\", \"science\", \"data science\"] }\"\"\"\n",
    "\n",
    "# parse the JSON to create a Python dict\n",
    "deserialized = json.loads(serialized)\n",
    "if \"data science\" in deserialized[\"topics\"]:\n",
    "    print deserialized"
   ]
  },
  {
   "cell_type": "markdown",
   "metadata": {},
   "source": [
    "Sometimes an API provider hates you and only provides responses in XML:"
   ]
  },
  {
   "cell_type": "raw",
   "metadata": {},
   "source": [
    "<Book>\n",
    "  <Title>Data Science Book</Title>\n",
    "  <Author>Joel Grus</Author>\n",
    "  <PublicationYear>2014</PublicationYear>\n",
    "  <Topics>\n",
    "    <Topic>data</Topic>\n",
    "    <Topic>science</Topic>\n",
    "    <Topic>data science</Topic>\n",
    "  </Topics>\n",
    "</Book>"
   ]
  },
  {
   "cell_type": "markdown",
   "metadata": {},
   "source": [
    "You can use `BeautifulSoup` to get data from XML in much the same way as we used it to get data from HTML."
   ]
  },
  {
   "cell_type": "markdown",
   "metadata": {},
   "source": [
    "### Using an Unauthenticated API"
   ]
  },
  {
   "cell_type": "markdown",
   "metadata": {},
   "source": [
    "Most APIS these days require you to first authenticate yourself before using them.  \n",
    "Let's take a look at [GitHub's API](https://developer.github.com/v3/), which allows you to do a few simple things without authentication:"
   ]
  },
  {
   "cell_type": "code",
   "execution_count": 16,
   "metadata": {
    "collapsed": false
   },
   "outputs": [
    {
     "data": {
      "text/plain": [
       "{u'archive_url': u'https://api.github.com/repos/bgroveben/angularOverview/{archive_format}{/ref}',\n",
       " u'assignees_url': u'https://api.github.com/repos/bgroveben/angularOverview/assignees{/user}',\n",
       " u'blobs_url': u'https://api.github.com/repos/bgroveben/angularOverview/git/blobs{/sha}',\n",
       " u'branches_url': u'https://api.github.com/repos/bgroveben/angularOverview/branches{/branch}',\n",
       " u'clone_url': u'https://github.com/bgroveben/angularOverview.git',\n",
       " u'collaborators_url': u'https://api.github.com/repos/bgroveben/angularOverview/collaborators{/collaborator}',\n",
       " u'comments_url': u'https://api.github.com/repos/bgroveben/angularOverview/comments{/number}',\n",
       " u'commits_url': u'https://api.github.com/repos/bgroveben/angularOverview/commits{/sha}',\n",
       " u'compare_url': u'https://api.github.com/repos/bgroveben/angularOverview/compare/{base}...{head}',\n",
       " u'contents_url': u'https://api.github.com/repos/bgroveben/angularOverview/contents/{+path}',\n",
       " u'contributors_url': u'https://api.github.com/repos/bgroveben/angularOverview/contributors',\n",
       " u'created_at': u'2015-08-27T12:14:36Z',\n",
       " u'default_branch': u'master',\n",
       " u'deployments_url': u'https://api.github.com/repos/bgroveben/angularOverview/deployments',\n",
       " u'description': u'AngularJS Conceptual Overview',\n",
       " u'downloads_url': u'https://api.github.com/repos/bgroveben/angularOverview/downloads',\n",
       " u'events_url': u'https://api.github.com/repos/bgroveben/angularOverview/events',\n",
       " u'fork': False,\n",
       " u'forks': 0,\n",
       " u'forks_count': 0,\n",
       " u'forks_url': u'https://api.github.com/repos/bgroveben/angularOverview/forks',\n",
       " u'full_name': u'bgroveben/angularOverview',\n",
       " u'git_commits_url': u'https://api.github.com/repos/bgroveben/angularOverview/git/commits{/sha}',\n",
       " u'git_refs_url': u'https://api.github.com/repos/bgroveben/angularOverview/git/refs{/sha}',\n",
       " u'git_tags_url': u'https://api.github.com/repos/bgroveben/angularOverview/git/tags{/sha}',\n",
       " u'git_url': u'git://github.com/bgroveben/angularOverview.git',\n",
       " u'has_downloads': True,\n",
       " u'has_issues': True,\n",
       " u'has_pages': False,\n",
       " u'has_wiki': True,\n",
       " u'homepage': None,\n",
       " u'hooks_url': u'https://api.github.com/repos/bgroveben/angularOverview/hooks',\n",
       " u'html_url': u'https://github.com/bgroveben/angularOverview',\n",
       " u'id': 41484654,\n",
       " u'issue_comment_url': u'https://api.github.com/repos/bgroveben/angularOverview/issues/comments{/number}',\n",
       " u'issue_events_url': u'https://api.github.com/repos/bgroveben/angularOverview/issues/events{/number}',\n",
       " u'issues_url': u'https://api.github.com/repos/bgroveben/angularOverview/issues{/number}',\n",
       " u'keys_url': u'https://api.github.com/repos/bgroveben/angularOverview/keys{/key_id}',\n",
       " u'labels_url': u'https://api.github.com/repos/bgroveben/angularOverview/labels{/name}',\n",
       " u'language': u'JavaScript',\n",
       " u'languages_url': u'https://api.github.com/repos/bgroveben/angularOverview/languages',\n",
       " u'merges_url': u'https://api.github.com/repos/bgroveben/angularOverview/merges',\n",
       " u'milestones_url': u'https://api.github.com/repos/bgroveben/angularOverview/milestones{/number}',\n",
       " u'mirror_url': None,\n",
       " u'name': u'angularOverview',\n",
       " u'notifications_url': u'https://api.github.com/repos/bgroveben/angularOverview/notifications{?since,all,participating}',\n",
       " u'open_issues': 0,\n",
       " u'open_issues_count': 0,\n",
       " u'owner': {u'avatar_url': u'https://avatars.githubusercontent.com/u/2719094?v=3',\n",
       "  u'events_url': u'https://api.github.com/users/bgroveben/events{/privacy}',\n",
       "  u'followers_url': u'https://api.github.com/users/bgroveben/followers',\n",
       "  u'following_url': u'https://api.github.com/users/bgroveben/following{/other_user}',\n",
       "  u'gists_url': u'https://api.github.com/users/bgroveben/gists{/gist_id}',\n",
       "  u'gravatar_id': u'',\n",
       "  u'html_url': u'https://github.com/bgroveben',\n",
       "  u'id': 2719094,\n",
       "  u'login': u'bgroveben',\n",
       "  u'organizations_url': u'https://api.github.com/users/bgroveben/orgs',\n",
       "  u'received_events_url': u'https://api.github.com/users/bgroveben/received_events',\n",
       "  u'repos_url': u'https://api.github.com/users/bgroveben/repos',\n",
       "  u'site_admin': False,\n",
       "  u'starred_url': u'https://api.github.com/users/bgroveben/starred{/owner}{/repo}',\n",
       "  u'subscriptions_url': u'https://api.github.com/users/bgroveben/subscriptions',\n",
       "  u'type': u'User',\n",
       "  u'url': u'https://api.github.com/users/bgroveben'},\n",
       " u'private': False,\n",
       " u'pulls_url': u'https://api.github.com/repos/bgroveben/angularOverview/pulls{/number}',\n",
       " u'pushed_at': u'2015-08-27T12:15:22Z',\n",
       " u'releases_url': u'https://api.github.com/repos/bgroveben/angularOverview/releases{/id}',\n",
       " u'size': 108,\n",
       " u'ssh_url': u'git@github.com:bgroveben/angularOverview.git',\n",
       " u'stargazers_count': 0,\n",
       " u'stargazers_url': u'https://api.github.com/repos/bgroveben/angularOverview/stargazers',\n",
       " u'statuses_url': u'https://api.github.com/repos/bgroveben/angularOverview/statuses/{sha}',\n",
       " u'subscribers_url': u'https://api.github.com/repos/bgroveben/angularOverview/subscribers',\n",
       " u'subscription_url': u'https://api.github.com/repos/bgroveben/angularOverview/subscription',\n",
       " u'svn_url': u'https://github.com/bgroveben/angularOverview',\n",
       " u'tags_url': u'https://api.github.com/repos/bgroveben/angularOverview/tags',\n",
       " u'teams_url': u'https://api.github.com/repos/bgroveben/angularOverview/teams',\n",
       " u'trees_url': u'https://api.github.com/repos/bgroveben/angularOverview/git/trees{/sha}',\n",
       " u'updated_at': u'2015-08-27T12:15:22Z',\n",
       " u'url': u'https://api.github.com/repos/bgroveben/angularOverview',\n",
       " u'watchers': 0,\n",
       " u'watchers_count': 0}"
      ]
     },
     "execution_count": 16,
     "metadata": {},
     "output_type": "execute_result"
    }
   ],
   "source": [
    "import requests, json\n",
    "\n",
    "endpoint = \"https://api.github.com/users/bgroveben/repos\"\n",
    "repos = json.loads(requests.get(endpoint).text)\n",
    "repos[0]"
   ]
  },
  {
   "cell_type": "markdown",
   "metadata": {},
   "source": [
    "At this point `repos` is a `list` of Python `dicts`, each representing a public repositiory on my GitHub account.  \n",
    "We can use this data to figure out which months and days of the week I'm most likely to create a repository."
   ]
  },
  {
   "cell_type": "markdown",
   "metadata": {},
   "source": [
    "First, we need to deal with the the dates in the response, which are Unicode strings:  \n",
    "\n",
    "u'created_at': u'2015-08-27T12:14:36Z'  \n",
    "\n",
    "which can handled by installing `python-dateutil`."
   ]
  },
  {
   "cell_type": "code",
   "execution_count": 18,
   "metadata": {
    "collapsed": false
   },
   "outputs": [],
   "source": [
    "from collections import Counter\n",
    "from dateutil.parser import parse\n",
    "\n",
    "dates = [parse(repo[\"created_at\"]) for repo in repos]\n",
    "month_counts = Counter(date.month for date in dates)\n",
    "weekday_counts = Counter(date.weekday() for date in dates)"
   ]
  },
  {
   "cell_type": "code",
   "execution_count": 21,
   "metadata": {
    "collapsed": false
   },
   "outputs": [
    {
     "data": {
      "text/plain": [
       "[datetime.datetime(2015, 8, 27, 12, 14, 36, tzinfo=tzutc()),\n",
       " datetime.datetime(2016, 2, 8, 12, 25, 24, tzinfo=tzutc()),\n",
       " datetime.datetime(2015, 9, 10, 23, 57, 9, tzinfo=tzutc()),\n",
       " datetime.datetime(2013, 7, 25, 2, 18, 17, tzinfo=tzutc()),\n",
       " datetime.datetime(2013, 5, 23, 6, 58, 7, tzinfo=tzutc()),\n",
       " datetime.datetime(2013, 5, 21, 7, 16, 11, tzinfo=tzutc()),\n",
       " datetime.datetime(2015, 3, 19, 9, 28, 46, tzinfo=tzutc()),\n",
       " datetime.datetime(2016, 3, 19, 8, 26, 17, tzinfo=tzutc()),\n",
       " datetime.datetime(2016, 1, 15, 11, 19, 17, tzinfo=tzutc()),\n",
       " datetime.datetime(2016, 4, 20, 12, 22, 45, tzinfo=tzutc()),\n",
       " datetime.datetime(2015, 8, 6, 3, 42, 27, tzinfo=tzutc()),\n",
       " datetime.datetime(2014, 2, 26, 22, 23, 33, tzinfo=tzutc()),\n",
       " datetime.datetime(2016, 10, 5, 15, 11, 11, tzinfo=tzutc()),\n",
       " datetime.datetime(2016, 10, 31, 8, 35, 53, tzinfo=tzutc()),\n",
       " datetime.datetime(2014, 10, 10, 11, 34, 55, tzinfo=tzutc()),\n",
       " datetime.datetime(2016, 10, 19, 22, 15, 46, tzinfo=tzutc()),\n",
       " datetime.datetime(2014, 10, 10, 11, 45, 5, tzinfo=tzutc()),\n",
       " datetime.datetime(2013, 5, 12, 7, 7, 14, tzinfo=tzutc()),\n",
       " datetime.datetime(2016, 4, 22, 12, 40, 6, tzinfo=tzutc()),\n",
       " datetime.datetime(2016, 7, 25, 9, 6, 25, tzinfo=tzutc()),\n",
       " datetime.datetime(2015, 8, 27, 8, 54, 36, tzinfo=tzutc()),\n",
       " datetime.datetime(2015, 11, 17, 1, 32, 23, tzinfo=tzutc()),\n",
       " datetime.datetime(2015, 2, 19, 12, 11, 46, tzinfo=tzutc()),\n",
       " datetime.datetime(2015, 6, 12, 8, 16, 35, tzinfo=tzutc()),\n",
       " datetime.datetime(2014, 11, 30, 9, 26, 16, tzinfo=tzutc()),\n",
       " datetime.datetime(2013, 5, 11, 8, 41, 52, tzinfo=tzutc()),\n",
       " datetime.datetime(2014, 6, 1, 0, 7, 6, tzinfo=tzutc()),\n",
       " datetime.datetime(2015, 9, 14, 9, 6, 11, tzinfo=tzutc()),\n",
       " datetime.datetime(2013, 6, 27, 1, 33, 11, tzinfo=tzutc()),\n",
       " datetime.datetime(2015, 12, 16, 17, 59, 34, tzinfo=tzutc())]"
      ]
     },
     "execution_count": 21,
     "metadata": {},
     "output_type": "execute_result"
    }
   ],
   "source": [
    "dates"
   ]
  },
  {
   "cell_type": "code",
   "execution_count": 19,
   "metadata": {
    "collapsed": false
   },
   "outputs": [
    {
     "data": {
      "text/plain": [
       "Counter({1: 1,\n",
       "         2: 3,\n",
       "         3: 2,\n",
       "         4: 2,\n",
       "         5: 4,\n",
       "         6: 3,\n",
       "         7: 2,\n",
       "         8: 3,\n",
       "         9: 2,\n",
       "         10: 5,\n",
       "         11: 2,\n",
       "         12: 1})"
      ]
     },
     "execution_count": 19,
     "metadata": {},
     "output_type": "execute_result"
    }
   ],
   "source": [
    "month_counts"
   ]
  },
  {
   "cell_type": "code",
   "execution_count": 20,
   "metadata": {
    "collapsed": false
   },
   "outputs": [
    {
     "data": {
      "text/plain": [
       "Counter({0: 4, 1: 2, 2: 5, 3: 9, 4: 5, 5: 2, 6: 3})"
      ]
     },
     "execution_count": 20,
     "metadata": {},
     "output_type": "execute_result"
    }
   ],
   "source": [
    "weekday_counts"
   ]
  },
  {
   "cell_type": "markdown",
   "metadata": {},
   "source": [
    "Similarly, we can get the languages of my last five repositories:"
   ]
  },
  {
   "cell_type": "code",
   "execution_count": 22,
   "metadata": {
    "collapsed": false
   },
   "outputs": [
    {
     "data": {
      "text/plain": [
       "[{u'archive_url': u'https://api.github.com/repos/bgroveben/coursera_python_fundamentals/{archive_format}{/ref}',\n",
       "  u'assignees_url': u'https://api.github.com/repos/bgroveben/coursera_python_fundamentals/assignees{/user}',\n",
       "  u'blobs_url': u'https://api.github.com/repos/bgroveben/coursera_python_fundamentals/git/blobs{/sha}',\n",
       "  u'branches_url': u'https://api.github.com/repos/bgroveben/coursera_python_fundamentals/branches{/branch}',\n",
       "  u'clone_url': u'https://github.com/bgroveben/coursera_python_fundamentals.git',\n",
       "  u'collaborators_url': u'https://api.github.com/repos/bgroveben/coursera_python_fundamentals/collaborators{/collaborator}',\n",
       "  u'comments_url': u'https://api.github.com/repos/bgroveben/coursera_python_fundamentals/comments{/number}',\n",
       "  u'commits_url': u'https://api.github.com/repos/bgroveben/coursera_python_fundamentals/commits{/sha}',\n",
       "  u'compare_url': u'https://api.github.com/repos/bgroveben/coursera_python_fundamentals/compare/{base}...{head}',\n",
       "  u'contents_url': u'https://api.github.com/repos/bgroveben/coursera_python_fundamentals/contents/{+path}',\n",
       "  u'contributors_url': u'https://api.github.com/repos/bgroveben/coursera_python_fundamentals/contributors',\n",
       "  u'created_at': u'2016-10-31T08:35:53Z',\n",
       "  u'default_branch': u'master',\n",
       "  u'deployments_url': u'https://api.github.com/repos/bgroveben/coursera_python_fundamentals/deployments',\n",
       "  u'description': u'Introduction to Data Science in Python via Coursera and the University of Michigan',\n",
       "  u'downloads_url': u'https://api.github.com/repos/bgroveben/coursera_python_fundamentals/downloads',\n",
       "  u'events_url': u'https://api.github.com/repos/bgroveben/coursera_python_fundamentals/events',\n",
       "  u'fork': False,\n",
       "  u'forks': 0,\n",
       "  u'forks_count': 0,\n",
       "  u'forks_url': u'https://api.github.com/repos/bgroveben/coursera_python_fundamentals/forks',\n",
       "  u'full_name': u'bgroveben/coursera_python_fundamentals',\n",
       "  u'git_commits_url': u'https://api.github.com/repos/bgroveben/coursera_python_fundamentals/git/commits{/sha}',\n",
       "  u'git_refs_url': u'https://api.github.com/repos/bgroveben/coursera_python_fundamentals/git/refs{/sha}',\n",
       "  u'git_tags_url': u'https://api.github.com/repos/bgroveben/coursera_python_fundamentals/git/tags{/sha}',\n",
       "  u'git_url': u'git://github.com/bgroveben/coursera_python_fundamentals.git',\n",
       "  u'has_downloads': True,\n",
       "  u'has_issues': True,\n",
       "  u'has_pages': False,\n",
       "  u'has_wiki': True,\n",
       "  u'homepage': None,\n",
       "  u'hooks_url': u'https://api.github.com/repos/bgroveben/coursera_python_fundamentals/hooks',\n",
       "  u'html_url': u'https://github.com/bgroveben/coursera_python_fundamentals',\n",
       "  u'id': 72417691,\n",
       "  u'issue_comment_url': u'https://api.github.com/repos/bgroveben/coursera_python_fundamentals/issues/comments{/number}',\n",
       "  u'issue_events_url': u'https://api.github.com/repos/bgroveben/coursera_python_fundamentals/issues/events{/number}',\n",
       "  u'issues_url': u'https://api.github.com/repos/bgroveben/coursera_python_fundamentals/issues{/number}',\n",
       "  u'keys_url': u'https://api.github.com/repos/bgroveben/coursera_python_fundamentals/keys{/key_id}',\n",
       "  u'labels_url': u'https://api.github.com/repos/bgroveben/coursera_python_fundamentals/labels{/name}',\n",
       "  u'language': u'Jupyter Notebook',\n",
       "  u'languages_url': u'https://api.github.com/repos/bgroveben/coursera_python_fundamentals/languages',\n",
       "  u'merges_url': u'https://api.github.com/repos/bgroveben/coursera_python_fundamentals/merges',\n",
       "  u'milestones_url': u'https://api.github.com/repos/bgroveben/coursera_python_fundamentals/milestones{/number}',\n",
       "  u'mirror_url': None,\n",
       "  u'name': u'coursera_python_fundamentals',\n",
       "  u'notifications_url': u'https://api.github.com/repos/bgroveben/coursera_python_fundamentals/notifications{?since,all,participating}',\n",
       "  u'open_issues': 0,\n",
       "  u'open_issues_count': 0,\n",
       "  u'owner': {u'avatar_url': u'https://avatars.githubusercontent.com/u/2719094?v=3',\n",
       "   u'events_url': u'https://api.github.com/users/bgroveben/events{/privacy}',\n",
       "   u'followers_url': u'https://api.github.com/users/bgroveben/followers',\n",
       "   u'following_url': u'https://api.github.com/users/bgroveben/following{/other_user}',\n",
       "   u'gists_url': u'https://api.github.com/users/bgroveben/gists{/gist_id}',\n",
       "   u'gravatar_id': u'',\n",
       "   u'html_url': u'https://github.com/bgroveben',\n",
       "   u'id': 2719094,\n",
       "   u'login': u'bgroveben',\n",
       "   u'organizations_url': u'https://api.github.com/users/bgroveben/orgs',\n",
       "   u'received_events_url': u'https://api.github.com/users/bgroveben/received_events',\n",
       "   u'repos_url': u'https://api.github.com/users/bgroveben/repos',\n",
       "   u'site_admin': False,\n",
       "   u'starred_url': u'https://api.github.com/users/bgroveben/starred{/owner}{/repo}',\n",
       "   u'subscriptions_url': u'https://api.github.com/users/bgroveben/subscriptions',\n",
       "   u'type': u'User',\n",
       "   u'url': u'https://api.github.com/users/bgroveben'},\n",
       "  u'private': False,\n",
       "  u'pulls_url': u'https://api.github.com/repos/bgroveben/coursera_python_fundamentals/pulls{/number}',\n",
       "  u'pushed_at': u'2016-11-15T10:29:42Z',\n",
       "  u'releases_url': u'https://api.github.com/repos/bgroveben/coursera_python_fundamentals/releases{/id}',\n",
       "  u'size': 7605,\n",
       "  u'ssh_url': u'git@github.com:bgroveben/coursera_python_fundamentals.git',\n",
       "  u'stargazers_count': 0,\n",
       "  u'stargazers_url': u'https://api.github.com/repos/bgroveben/coursera_python_fundamentals/stargazers',\n",
       "  u'statuses_url': u'https://api.github.com/repos/bgroveben/coursera_python_fundamentals/statuses/{sha}',\n",
       "  u'subscribers_url': u'https://api.github.com/repos/bgroveben/coursera_python_fundamentals/subscribers',\n",
       "  u'subscription_url': u'https://api.github.com/repos/bgroveben/coursera_python_fundamentals/subscription',\n",
       "  u'svn_url': u'https://github.com/bgroveben/coursera_python_fundamentals',\n",
       "  u'tags_url': u'https://api.github.com/repos/bgroveben/coursera_python_fundamentals/tags',\n",
       "  u'teams_url': u'https://api.github.com/repos/bgroveben/coursera_python_fundamentals/teams',\n",
       "  u'trees_url': u'https://api.github.com/repos/bgroveben/coursera_python_fundamentals/git/trees{/sha}',\n",
       "  u'updated_at': u'2016-10-31T08:36:49Z',\n",
       "  u'url': u'https://api.github.com/repos/bgroveben/coursera_python_fundamentals',\n",
       "  u'watchers': 0,\n",
       "  u'watchers_count': 0},\n",
       " {u'archive_url': u'https://api.github.com/repos/bgroveben/DataScienceFromScratch/{archive_format}{/ref}',\n",
       "  u'assignees_url': u'https://api.github.com/repos/bgroveben/DataScienceFromScratch/assignees{/user}',\n",
       "  u'blobs_url': u'https://api.github.com/repos/bgroveben/DataScienceFromScratch/git/blobs{/sha}',\n",
       "  u'branches_url': u'https://api.github.com/repos/bgroveben/DataScienceFromScratch/branches{/branch}',\n",
       "  u'clone_url': u'https://github.com/bgroveben/DataScienceFromScratch.git',\n",
       "  u'collaborators_url': u'https://api.github.com/repos/bgroveben/DataScienceFromScratch/collaborators{/collaborator}',\n",
       "  u'comments_url': u'https://api.github.com/repos/bgroveben/DataScienceFromScratch/comments{/number}',\n",
       "  u'commits_url': u'https://api.github.com/repos/bgroveben/DataScienceFromScratch/commits{/sha}',\n",
       "  u'compare_url': u'https://api.github.com/repos/bgroveben/DataScienceFromScratch/compare/{base}...{head}',\n",
       "  u'contents_url': u'https://api.github.com/repos/bgroveben/DataScienceFromScratch/contents/{+path}',\n",
       "  u'contributors_url': u'https://api.github.com/repos/bgroveben/DataScienceFromScratch/contributors',\n",
       "  u'created_at': u'2016-10-19T22:15:46Z',\n",
       "  u'default_branch': u'master',\n",
       "  u'deployments_url': u'https://api.github.com/repos/bgroveben/DataScienceFromScratch/deployments',\n",
       "  u'description': u'Working my way through the book by Joel Grus.',\n",
       "  u'downloads_url': u'https://api.github.com/repos/bgroveben/DataScienceFromScratch/downloads',\n",
       "  u'events_url': u'https://api.github.com/repos/bgroveben/DataScienceFromScratch/events',\n",
       "  u'fork': False,\n",
       "  u'forks': 0,\n",
       "  u'forks_count': 0,\n",
       "  u'forks_url': u'https://api.github.com/repos/bgroveben/DataScienceFromScratch/forks',\n",
       "  u'full_name': u'bgroveben/DataScienceFromScratch',\n",
       "  u'git_commits_url': u'https://api.github.com/repos/bgroveben/DataScienceFromScratch/git/commits{/sha}',\n",
       "  u'git_refs_url': u'https://api.github.com/repos/bgroveben/DataScienceFromScratch/git/refs{/sha}',\n",
       "  u'git_tags_url': u'https://api.github.com/repos/bgroveben/DataScienceFromScratch/git/tags{/sha}',\n",
       "  u'git_url': u'git://github.com/bgroveben/DataScienceFromScratch.git',\n",
       "  u'has_downloads': True,\n",
       "  u'has_issues': True,\n",
       "  u'has_pages': False,\n",
       "  u'has_wiki': True,\n",
       "  u'homepage': None,\n",
       "  u'hooks_url': u'https://api.github.com/repos/bgroveben/DataScienceFromScratch/hooks',\n",
       "  u'html_url': u'https://github.com/bgroveben/DataScienceFromScratch',\n",
       "  u'id': 71403812,\n",
       "  u'issue_comment_url': u'https://api.github.com/repos/bgroveben/DataScienceFromScratch/issues/comments{/number}',\n",
       "  u'issue_events_url': u'https://api.github.com/repos/bgroveben/DataScienceFromScratch/issues/events{/number}',\n",
       "  u'issues_url': u'https://api.github.com/repos/bgroveben/DataScienceFromScratch/issues{/number}',\n",
       "  u'keys_url': u'https://api.github.com/repos/bgroveben/DataScienceFromScratch/keys{/key_id}',\n",
       "  u'labels_url': u'https://api.github.com/repos/bgroveben/DataScienceFromScratch/labels{/name}',\n",
       "  u'language': u'Jupyter Notebook',\n",
       "  u'languages_url': u'https://api.github.com/repos/bgroveben/DataScienceFromScratch/languages',\n",
       "  u'merges_url': u'https://api.github.com/repos/bgroveben/DataScienceFromScratch/merges',\n",
       "  u'milestones_url': u'https://api.github.com/repos/bgroveben/DataScienceFromScratch/milestones{/number}',\n",
       "  u'mirror_url': None,\n",
       "  u'name': u'DataScienceFromScratch',\n",
       "  u'notifications_url': u'https://api.github.com/repos/bgroveben/DataScienceFromScratch/notifications{?since,all,participating}',\n",
       "  u'open_issues': 0,\n",
       "  u'open_issues_count': 0,\n",
       "  u'owner': {u'avatar_url': u'https://avatars.githubusercontent.com/u/2719094?v=3',\n",
       "   u'events_url': u'https://api.github.com/users/bgroveben/events{/privacy}',\n",
       "   u'followers_url': u'https://api.github.com/users/bgroveben/followers',\n",
       "   u'following_url': u'https://api.github.com/users/bgroveben/following{/other_user}',\n",
       "   u'gists_url': u'https://api.github.com/users/bgroveben/gists{/gist_id}',\n",
       "   u'gravatar_id': u'',\n",
       "   u'html_url': u'https://github.com/bgroveben',\n",
       "   u'id': 2719094,\n",
       "   u'login': u'bgroveben',\n",
       "   u'organizations_url': u'https://api.github.com/users/bgroveben/orgs',\n",
       "   u'received_events_url': u'https://api.github.com/users/bgroveben/received_events',\n",
       "   u'repos_url': u'https://api.github.com/users/bgroveben/repos',\n",
       "   u'site_admin': False,\n",
       "   u'starred_url': u'https://api.github.com/users/bgroveben/starred{/owner}{/repo}',\n",
       "   u'subscriptions_url': u'https://api.github.com/users/bgroveben/subscriptions',\n",
       "   u'type': u'User',\n",
       "   u'url': u'https://api.github.com/users/bgroveben'},\n",
       "  u'private': False,\n",
       "  u'pulls_url': u'https://api.github.com/repos/bgroveben/DataScienceFromScratch/pulls{/number}',\n",
       "  u'pushed_at': u'2016-12-07T20:03:57Z',\n",
       "  u'releases_url': u'https://api.github.com/repos/bgroveben/DataScienceFromScratch/releases{/id}',\n",
       "  u'size': 736,\n",
       "  u'ssh_url': u'git@github.com:bgroveben/DataScienceFromScratch.git',\n",
       "  u'stargazers_count': 0,\n",
       "  u'stargazers_url': u'https://api.github.com/repos/bgroveben/DataScienceFromScratch/stargazers',\n",
       "  u'statuses_url': u'https://api.github.com/repos/bgroveben/DataScienceFromScratch/statuses/{sha}',\n",
       "  u'subscribers_url': u'https://api.github.com/repos/bgroveben/DataScienceFromScratch/subscribers',\n",
       "  u'subscription_url': u'https://api.github.com/repos/bgroveben/DataScienceFromScratch/subscription',\n",
       "  u'svn_url': u'https://github.com/bgroveben/DataScienceFromScratch',\n",
       "  u'tags_url': u'https://api.github.com/repos/bgroveben/DataScienceFromScratch/tags',\n",
       "  u'teams_url': u'https://api.github.com/repos/bgroveben/DataScienceFromScratch/teams',\n",
       "  u'trees_url': u'https://api.github.com/repos/bgroveben/DataScienceFromScratch/git/trees{/sha}',\n",
       "  u'updated_at': u'2016-11-15T19:28:30Z',\n",
       "  u'url': u'https://api.github.com/repos/bgroveben/DataScienceFromScratch',\n",
       "  u'watchers': 0,\n",
       "  u'watchers_count': 0},\n",
       " {u'archive_url': u'https://api.github.com/repos/bgroveben/coursera_LTP_TF/{archive_format}{/ref}',\n",
       "  u'assignees_url': u'https://api.github.com/repos/bgroveben/coursera_LTP_TF/assignees{/user}',\n",
       "  u'blobs_url': u'https://api.github.com/repos/bgroveben/coursera_LTP_TF/git/blobs{/sha}',\n",
       "  u'branches_url': u'https://api.github.com/repos/bgroveben/coursera_LTP_TF/branches{/branch}',\n",
       "  u'clone_url': u'https://github.com/bgroveben/coursera_LTP_TF.git',\n",
       "  u'collaborators_url': u'https://api.github.com/repos/bgroveben/coursera_LTP_TF/collaborators{/collaborator}',\n",
       "  u'comments_url': u'https://api.github.com/repos/bgroveben/coursera_LTP_TF/comments{/number}',\n",
       "  u'commits_url': u'https://api.github.com/repos/bgroveben/coursera_LTP_TF/commits{/sha}',\n",
       "  u'compare_url': u'https://api.github.com/repos/bgroveben/coursera_LTP_TF/compare/{base}...{head}',\n",
       "  u'contents_url': u'https://api.github.com/repos/bgroveben/coursera_LTP_TF/contents/{+path}',\n",
       "  u'contributors_url': u'https://api.github.com/repos/bgroveben/coursera_LTP_TF/contributors',\n",
       "  u'created_at': u'2016-10-05T15:11:11Z',\n",
       "  u'default_branch': u'master',\n",
       "  u'deployments_url': u'https://api.github.com/repos/bgroveben/coursera_LTP_TF/deployments',\n",
       "  u'description': u'Coursera class -- Learn To Program: The Fundamentals -- from the University of Toronto',\n",
       "  u'downloads_url': u'https://api.github.com/repos/bgroveben/coursera_LTP_TF/downloads',\n",
       "  u'events_url': u'https://api.github.com/repos/bgroveben/coursera_LTP_TF/events',\n",
       "  u'fork': False,\n",
       "  u'forks': 0,\n",
       "  u'forks_count': 0,\n",
       "  u'forks_url': u'https://api.github.com/repos/bgroveben/coursera_LTP_TF/forks',\n",
       "  u'full_name': u'bgroveben/coursera_LTP_TF',\n",
       "  u'git_commits_url': u'https://api.github.com/repos/bgroveben/coursera_LTP_TF/git/commits{/sha}',\n",
       "  u'git_refs_url': u'https://api.github.com/repos/bgroveben/coursera_LTP_TF/git/refs{/sha}',\n",
       "  u'git_tags_url': u'https://api.github.com/repos/bgroveben/coursera_LTP_TF/git/tags{/sha}',\n",
       "  u'git_url': u'git://github.com/bgroveben/coursera_LTP_TF.git',\n",
       "  u'has_downloads': True,\n",
       "  u'has_issues': True,\n",
       "  u'has_pages': False,\n",
       "  u'has_wiki': True,\n",
       "  u'homepage': None,\n",
       "  u'hooks_url': u'https://api.github.com/repos/bgroveben/coursera_LTP_TF/hooks',\n",
       "  u'html_url': u'https://github.com/bgroveben/coursera_LTP_TF',\n",
       "  u'id': 70072027,\n",
       "  u'issue_comment_url': u'https://api.github.com/repos/bgroveben/coursera_LTP_TF/issues/comments{/number}',\n",
       "  u'issue_events_url': u'https://api.github.com/repos/bgroveben/coursera_LTP_TF/issues/events{/number}',\n",
       "  u'issues_url': u'https://api.github.com/repos/bgroveben/coursera_LTP_TF/issues{/number}',\n",
       "  u'keys_url': u'https://api.github.com/repos/bgroveben/coursera_LTP_TF/keys{/key_id}',\n",
       "  u'labels_url': u'https://api.github.com/repos/bgroveben/coursera_LTP_TF/labels{/name}',\n",
       "  u'language': u'Python',\n",
       "  u'languages_url': u'https://api.github.com/repos/bgroveben/coursera_LTP_TF/languages',\n",
       "  u'merges_url': u'https://api.github.com/repos/bgroveben/coursera_LTP_TF/merges',\n",
       "  u'milestones_url': u'https://api.github.com/repos/bgroveben/coursera_LTP_TF/milestones{/number}',\n",
       "  u'mirror_url': None,\n",
       "  u'name': u'coursera_LTP_TF',\n",
       "  u'notifications_url': u'https://api.github.com/repos/bgroveben/coursera_LTP_TF/notifications{?since,all,participating}',\n",
       "  u'open_issues': 0,\n",
       "  u'open_issues_count': 0,\n",
       "  u'owner': {u'avatar_url': u'https://avatars.githubusercontent.com/u/2719094?v=3',\n",
       "   u'events_url': u'https://api.github.com/users/bgroveben/events{/privacy}',\n",
       "   u'followers_url': u'https://api.github.com/users/bgroveben/followers',\n",
       "   u'following_url': u'https://api.github.com/users/bgroveben/following{/other_user}',\n",
       "   u'gists_url': u'https://api.github.com/users/bgroveben/gists{/gist_id}',\n",
       "   u'gravatar_id': u'',\n",
       "   u'html_url': u'https://github.com/bgroveben',\n",
       "   u'id': 2719094,\n",
       "   u'login': u'bgroveben',\n",
       "   u'organizations_url': u'https://api.github.com/users/bgroveben/orgs',\n",
       "   u'received_events_url': u'https://api.github.com/users/bgroveben/received_events',\n",
       "   u'repos_url': u'https://api.github.com/users/bgroveben/repos',\n",
       "   u'site_admin': False,\n",
       "   u'starred_url': u'https://api.github.com/users/bgroveben/starred{/owner}{/repo}',\n",
       "   u'subscriptions_url': u'https://api.github.com/users/bgroveben/subscriptions',\n",
       "   u'type': u'User',\n",
       "   u'url': u'https://api.github.com/users/bgroveben'},\n",
       "  u'private': False,\n",
       "  u'pulls_url': u'https://api.github.com/repos/bgroveben/coursera_LTP_TF/pulls{/number}',\n",
       "  u'pushed_at': u'2016-10-18T09:33:54Z',\n",
       "  u'releases_url': u'https://api.github.com/repos/bgroveben/coursera_LTP_TF/releases{/id}',\n",
       "  u'size': 10,\n",
       "  u'ssh_url': u'git@github.com:bgroveben/coursera_LTP_TF.git',\n",
       "  u'stargazers_count': 0,\n",
       "  u'stargazers_url': u'https://api.github.com/repos/bgroveben/coursera_LTP_TF/stargazers',\n",
       "  u'statuses_url': u'https://api.github.com/repos/bgroveben/coursera_LTP_TF/statuses/{sha}',\n",
       "  u'subscribers_url': u'https://api.github.com/repos/bgroveben/coursera_LTP_TF/subscribers',\n",
       "  u'subscription_url': u'https://api.github.com/repos/bgroveben/coursera_LTP_TF/subscription',\n",
       "  u'svn_url': u'https://github.com/bgroveben/coursera_LTP_TF',\n",
       "  u'tags_url': u'https://api.github.com/repos/bgroveben/coursera_LTP_TF/tags',\n",
       "  u'teams_url': u'https://api.github.com/repos/bgroveben/coursera_LTP_TF/teams',\n",
       "  u'trees_url': u'https://api.github.com/repos/bgroveben/coursera_LTP_TF/git/trees{/sha}',\n",
       "  u'updated_at': u'2016-10-05T15:12:07Z',\n",
       "  u'url': u'https://api.github.com/repos/bgroveben/coursera_LTP_TF',\n",
       "  u'watchers': 0,\n",
       "  u'watchers_count': 0},\n",
       " {u'archive_url': u'https://api.github.com/repos/bgroveben/django-polls/{archive_format}{/ref}',\n",
       "  u'assignees_url': u'https://api.github.com/repos/bgroveben/django-polls/assignees{/user}',\n",
       "  u'blobs_url': u'https://api.github.com/repos/bgroveben/django-polls/git/blobs{/sha}',\n",
       "  u'branches_url': u'https://api.github.com/repos/bgroveben/django-polls/branches{/branch}',\n",
       "  u'clone_url': u'https://github.com/bgroveben/django-polls.git',\n",
       "  u'collaborators_url': u'https://api.github.com/repos/bgroveben/django-polls/collaborators{/collaborator}',\n",
       "  u'comments_url': u'https://api.github.com/repos/bgroveben/django-polls/comments{/number}',\n",
       "  u'commits_url': u'https://api.github.com/repos/bgroveben/django-polls/commits{/sha}',\n",
       "  u'compare_url': u'https://api.github.com/repos/bgroveben/django-polls/compare/{base}...{head}',\n",
       "  u'contents_url': u'https://api.github.com/repos/bgroveben/django-polls/contents/{+path}',\n",
       "  u'contributors_url': u'https://api.github.com/repos/bgroveben/django-polls/contributors',\n",
       "  u'created_at': u'2016-07-25T09:06:25Z',\n",
       "  u'default_branch': u'master',\n",
       "  u'deployments_url': u'https://api.github.com/repos/bgroveben/django-polls/deployments',\n",
       "  u'description': u'Packaging polling_app',\n",
       "  u'downloads_url': u'https://api.github.com/repos/bgroveben/django-polls/downloads',\n",
       "  u'events_url': u'https://api.github.com/repos/bgroveben/django-polls/events',\n",
       "  u'fork': False,\n",
       "  u'forks': 0,\n",
       "  u'forks_count': 0,\n",
       "  u'forks_url': u'https://api.github.com/repos/bgroveben/django-polls/forks',\n",
       "  u'full_name': u'bgroveben/django-polls',\n",
       "  u'git_commits_url': u'https://api.github.com/repos/bgroveben/django-polls/git/commits{/sha}',\n",
       "  u'git_refs_url': u'https://api.github.com/repos/bgroveben/django-polls/git/refs{/sha}',\n",
       "  u'git_tags_url': u'https://api.github.com/repos/bgroveben/django-polls/git/tags{/sha}',\n",
       "  u'git_url': u'git://github.com/bgroveben/django-polls.git',\n",
       "  u'has_downloads': True,\n",
       "  u'has_issues': True,\n",
       "  u'has_pages': False,\n",
       "  u'has_wiki': True,\n",
       "  u'homepage': None,\n",
       "  u'hooks_url': u'https://api.github.com/repos/bgroveben/django-polls/hooks',\n",
       "  u'html_url': u'https://github.com/bgroveben/django-polls',\n",
       "  u'id': 64120008,\n",
       "  u'issue_comment_url': u'https://api.github.com/repos/bgroveben/django-polls/issues/comments{/number}',\n",
       "  u'issue_events_url': u'https://api.github.com/repos/bgroveben/django-polls/issues/events{/number}',\n",
       "  u'issues_url': u'https://api.github.com/repos/bgroveben/django-polls/issues{/number}',\n",
       "  u'keys_url': u'https://api.github.com/repos/bgroveben/django-polls/keys{/key_id}',\n",
       "  u'labels_url': u'https://api.github.com/repos/bgroveben/django-polls/labels{/name}',\n",
       "  u'language': u'Python',\n",
       "  u'languages_url': u'https://api.github.com/repos/bgroveben/django-polls/languages',\n",
       "  u'merges_url': u'https://api.github.com/repos/bgroveben/django-polls/merges',\n",
       "  u'milestones_url': u'https://api.github.com/repos/bgroveben/django-polls/milestones{/number}',\n",
       "  u'mirror_url': None,\n",
       "  u'name': u'django-polls',\n",
       "  u'notifications_url': u'https://api.github.com/repos/bgroveben/django-polls/notifications{?since,all,participating}',\n",
       "  u'open_issues': 0,\n",
       "  u'open_issues_count': 0,\n",
       "  u'owner': {u'avatar_url': u'https://avatars.githubusercontent.com/u/2719094?v=3',\n",
       "   u'events_url': u'https://api.github.com/users/bgroveben/events{/privacy}',\n",
       "   u'followers_url': u'https://api.github.com/users/bgroveben/followers',\n",
       "   u'following_url': u'https://api.github.com/users/bgroveben/following{/other_user}',\n",
       "   u'gists_url': u'https://api.github.com/users/bgroveben/gists{/gist_id}',\n",
       "   u'gravatar_id': u'',\n",
       "   u'html_url': u'https://github.com/bgroveben',\n",
       "   u'id': 2719094,\n",
       "   u'login': u'bgroveben',\n",
       "   u'organizations_url': u'https://api.github.com/users/bgroveben/orgs',\n",
       "   u'received_events_url': u'https://api.github.com/users/bgroveben/received_events',\n",
       "   u'repos_url': u'https://api.github.com/users/bgroveben/repos',\n",
       "   u'site_admin': False,\n",
       "   u'starred_url': u'https://api.github.com/users/bgroveben/starred{/owner}{/repo}',\n",
       "   u'subscriptions_url': u'https://api.github.com/users/bgroveben/subscriptions',\n",
       "   u'type': u'User',\n",
       "   u'url': u'https://api.github.com/users/bgroveben'},\n",
       "  u'private': False,\n",
       "  u'pulls_url': u'https://api.github.com/repos/bgroveben/django-polls/pulls{/number}',\n",
       "  u'pushed_at': u'2016-07-25T10:17:25Z',\n",
       "  u'releases_url': u'https://api.github.com/repos/bgroveben/django-polls/releases{/id}',\n",
       "  u'size': 352,\n",
       "  u'ssh_url': u'git@github.com:bgroveben/django-polls.git',\n",
       "  u'stargazers_count': 0,\n",
       "  u'stargazers_url': u'https://api.github.com/repos/bgroveben/django-polls/stargazers',\n",
       "  u'statuses_url': u'https://api.github.com/repos/bgroveben/django-polls/statuses/{sha}',\n",
       "  u'subscribers_url': u'https://api.github.com/repos/bgroveben/django-polls/subscribers',\n",
       "  u'subscription_url': u'https://api.github.com/repos/bgroveben/django-polls/subscription',\n",
       "  u'svn_url': u'https://github.com/bgroveben/django-polls',\n",
       "  u'tags_url': u'https://api.github.com/repos/bgroveben/django-polls/tags',\n",
       "  u'teams_url': u'https://api.github.com/repos/bgroveben/django-polls/teams',\n",
       "  u'trees_url': u'https://api.github.com/repos/bgroveben/django-polls/git/trees{/sha}',\n",
       "  u'updated_at': u'2016-07-25T09:21:42Z',\n",
       "  u'url': u'https://api.github.com/repos/bgroveben/django-polls',\n",
       "  u'watchers': 0,\n",
       "  u'watchers_count': 0},\n",
       " {u'archive_url': u'https://api.github.com/repos/bgroveben/DEV208xjQuery/{archive_format}{/ref}',\n",
       "  u'assignees_url': u'https://api.github.com/repos/bgroveben/DEV208xjQuery/assignees{/user}',\n",
       "  u'blobs_url': u'https://api.github.com/repos/bgroveben/DEV208xjQuery/git/blobs{/sha}',\n",
       "  u'branches_url': u'https://api.github.com/repos/bgroveben/DEV208xjQuery/branches{/branch}',\n",
       "  u'clone_url': u'https://github.com/bgroveben/DEV208xjQuery.git',\n",
       "  u'collaborators_url': u'https://api.github.com/repos/bgroveben/DEV208xjQuery/collaborators{/collaborator}',\n",
       "  u'comments_url': u'https://api.github.com/repos/bgroveben/DEV208xjQuery/comments{/number}',\n",
       "  u'commits_url': u'https://api.github.com/repos/bgroveben/DEV208xjQuery/commits{/sha}',\n",
       "  u'compare_url': u'https://api.github.com/repos/bgroveben/DEV208xjQuery/compare/{base}...{head}',\n",
       "  u'contents_url': u'https://api.github.com/repos/bgroveben/DEV208xjQuery/contents/{+path}',\n",
       "  u'contributors_url': u'https://api.github.com/repos/bgroveben/DEV208xjQuery/contributors',\n",
       "  u'created_at': u'2016-04-22T12:40:06Z',\n",
       "  u'default_branch': u'master',\n",
       "  u'deployments_url': u'https://api.github.com/repos/bgroveben/DEV208xjQuery/deployments',\n",
       "  u'description': u'Introduction to jQuery courtesy of Microsoft and edX. ',\n",
       "  u'downloads_url': u'https://api.github.com/repos/bgroveben/DEV208xjQuery/downloads',\n",
       "  u'events_url': u'https://api.github.com/repos/bgroveben/DEV208xjQuery/events',\n",
       "  u'fork': False,\n",
       "  u'forks': 0,\n",
       "  u'forks_count': 0,\n",
       "  u'forks_url': u'https://api.github.com/repos/bgroveben/DEV208xjQuery/forks',\n",
       "  u'full_name': u'bgroveben/DEV208xjQuery',\n",
       "  u'git_commits_url': u'https://api.github.com/repos/bgroveben/DEV208xjQuery/git/commits{/sha}',\n",
       "  u'git_refs_url': u'https://api.github.com/repos/bgroveben/DEV208xjQuery/git/refs{/sha}',\n",
       "  u'git_tags_url': u'https://api.github.com/repos/bgroveben/DEV208xjQuery/git/tags{/sha}',\n",
       "  u'git_url': u'git://github.com/bgroveben/DEV208xjQuery.git',\n",
       "  u'has_downloads': True,\n",
       "  u'has_issues': True,\n",
       "  u'has_pages': False,\n",
       "  u'has_wiki': True,\n",
       "  u'homepage': None,\n",
       "  u'hooks_url': u'https://api.github.com/repos/bgroveben/DEV208xjQuery/hooks',\n",
       "  u'html_url': u'https://github.com/bgroveben/DEV208xjQuery',\n",
       "  u'id': 56854462,\n",
       "  u'issue_comment_url': u'https://api.github.com/repos/bgroveben/DEV208xjQuery/issues/comments{/number}',\n",
       "  u'issue_events_url': u'https://api.github.com/repos/bgroveben/DEV208xjQuery/issues/events{/number}',\n",
       "  u'issues_url': u'https://api.github.com/repos/bgroveben/DEV208xjQuery/issues{/number}',\n",
       "  u'keys_url': u'https://api.github.com/repos/bgroveben/DEV208xjQuery/keys{/key_id}',\n",
       "  u'labels_url': u'https://api.github.com/repos/bgroveben/DEV208xjQuery/labels{/name}',\n",
       "  u'language': u'HTML',\n",
       "  u'languages_url': u'https://api.github.com/repos/bgroveben/DEV208xjQuery/languages',\n",
       "  u'merges_url': u'https://api.github.com/repos/bgroveben/DEV208xjQuery/merges',\n",
       "  u'milestones_url': u'https://api.github.com/repos/bgroveben/DEV208xjQuery/milestones{/number}',\n",
       "  u'mirror_url': None,\n",
       "  u'name': u'DEV208xjQuery',\n",
       "  u'notifications_url': u'https://api.github.com/repos/bgroveben/DEV208xjQuery/notifications{?since,all,participating}',\n",
       "  u'open_issues': 0,\n",
       "  u'open_issues_count': 0,\n",
       "  u'owner': {u'avatar_url': u'https://avatars.githubusercontent.com/u/2719094?v=3',\n",
       "   u'events_url': u'https://api.github.com/users/bgroveben/events{/privacy}',\n",
       "   u'followers_url': u'https://api.github.com/users/bgroveben/followers',\n",
       "   u'following_url': u'https://api.github.com/users/bgroveben/following{/other_user}',\n",
       "   u'gists_url': u'https://api.github.com/users/bgroveben/gists{/gist_id}',\n",
       "   u'gravatar_id': u'',\n",
       "   u'html_url': u'https://github.com/bgroveben',\n",
       "   u'id': 2719094,\n",
       "   u'login': u'bgroveben',\n",
       "   u'organizations_url': u'https://api.github.com/users/bgroveben/orgs',\n",
       "   u'received_events_url': u'https://api.github.com/users/bgroveben/received_events',\n",
       "   u'repos_url': u'https://api.github.com/users/bgroveben/repos',\n",
       "   u'site_admin': False,\n",
       "   u'starred_url': u'https://api.github.com/users/bgroveben/starred{/owner}{/repo}',\n",
       "   u'subscriptions_url': u'https://api.github.com/users/bgroveben/subscriptions',\n",
       "   u'type': u'User',\n",
       "   u'url': u'https://api.github.com/users/bgroveben'},\n",
       "  u'private': False,\n",
       "  u'pulls_url': u'https://api.github.com/repos/bgroveben/DEV208xjQuery/pulls{/number}',\n",
       "  u'pushed_at': u'2016-05-19T06:43:21Z',\n",
       "  u'releases_url': u'https://api.github.com/repos/bgroveben/DEV208xjQuery/releases{/id}',\n",
       "  u'size': 92,\n",
       "  u'ssh_url': u'git@github.com:bgroveben/DEV208xjQuery.git',\n",
       "  u'stargazers_count': 0,\n",
       "  u'stargazers_url': u'https://api.github.com/repos/bgroveben/DEV208xjQuery/stargazers',\n",
       "  u'statuses_url': u'https://api.github.com/repos/bgroveben/DEV208xjQuery/statuses/{sha}',\n",
       "  u'subscribers_url': u'https://api.github.com/repos/bgroveben/DEV208xjQuery/subscribers',\n",
       "  u'subscription_url': u'https://api.github.com/repos/bgroveben/DEV208xjQuery/subscription',\n",
       "  u'svn_url': u'https://github.com/bgroveben/DEV208xjQuery',\n",
       "  u'tags_url': u'https://api.github.com/repos/bgroveben/DEV208xjQuery/tags',\n",
       "  u'teams_url': u'https://api.github.com/repos/bgroveben/DEV208xjQuery/teams',\n",
       "  u'trees_url': u'https://api.github.com/repos/bgroveben/DEV208xjQuery/git/trees{/sha}',\n",
       "  u'updated_at': u'2016-04-22T12:47:28Z',\n",
       "  u'url': u'https://api.github.com/repos/bgroveben/DEV208xjQuery',\n",
       "  u'watchers': 0,\n",
       "  u'watchers_count': 0}]"
      ]
     },
     "execution_count": 22,
     "metadata": {},
     "output_type": "execute_result"
    }
   ],
   "source": [
    "last_5_repos = sorted(repos, key=lambda r: r[\"created_at\"], reverse=True)[:5]\n",
    "last_5_repos"
   ]
  },
  {
   "cell_type": "code",
   "execution_count": 23,
   "metadata": {
    "collapsed": false
   },
   "outputs": [
    {
     "data": {
      "text/plain": [
       "[u'Jupyter Notebook', u'Jupyter Notebook', u'Python', u'Python', u'HTML']"
      ]
     },
     "execution_count": 23,
     "metadata": {},
     "output_type": "execute_result"
    }
   ],
   "source": [
    "last_5_languages = [repo[\"language\"] for repo in last_5_repos]\n",
    "last_5_languages"
   ]
  },
  {
   "cell_type": "markdown",
   "metadata": {},
   "source": [
    "It is unusual to have to work with APIs at such a low level, like making the requests and parsing the responses ourselves.  \n",
    "Someone else has (probably) already built a Python library for using pretty much any API you are interested in using.  \n",
    "Still, you will occasionally have to roll your own API access library, debug someone else's, or have to figure out how to deal with a poorly written one, so it is good to know the details of how APIs work."
   ]
  },
  {
   "cell_type": "markdown",
   "metadata": {},
   "source": [
    "### Finding APIs"
   ]
  },
  {
   "cell_type": "markdown",
   "metadata": {
    "collapsed": true
   },
   "source": [
    "If you are looking for lists of APIs that have Python wrappers you can use [Python for Beginners](http://www.pythonforbeginners.com/development/list-of-python-apis/).  \n",
    "A directory of web APIs that may or may not have Python wrappers can be found at [The Programmable Web](http://www.programmableweb.com/).\n",
    "You can always resort to a Google search for 'python whatever API' or, as a last resort, you can always scrape your data."
   ]
  },
  {
   "cell_type": "markdown",
   "metadata": {},
   "source": [
    "## Example: Using the Twitter APIs"
   ]
  },
  {
   "cell_type": "markdown",
   "metadata": {
    "collapsed": true
   },
   "source": [
    "To interact with Twitter's APIs we'll be using the [Twython](https://github.com/ryanmcgrath/twython) library."
   ]
  },
  {
   "cell_type": "code",
   "execution_count": null,
   "metadata": {
    "collapsed": true
   },
   "outputs": [],
   "source": []
  }
 ],
 "metadata": {
  "kernelspec": {
   "display_name": "Python 2",
   "language": "python",
   "name": "python2"
  },
  "language_info": {
   "codemirror_mode": {
    "name": "ipython",
    "version": 2
   },
   "file_extension": ".py",
   "mimetype": "text/x-python",
   "name": "python",
   "nbconvert_exporter": "python",
   "pygments_lexer": "ipython2",
   "version": "2.7.12"
  }
 },
 "nbformat": 4,
 "nbformat_minor": 1
}
