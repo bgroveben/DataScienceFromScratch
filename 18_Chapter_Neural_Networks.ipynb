{
 "cells": [
  {
   "cell_type": "markdown",
   "metadata": {},
   "source": [
    "# Chapter 18. Neural Networks"
   ]
  },
  {
   "cell_type": "code",
   "execution_count": 91,
   "metadata": {
    "collapsed": true
   },
   "outputs": [],
   "source": [
    "from __future__ import division\n",
    "from collections import Counter\n",
    "from functools import partial\n",
    "from linear_algebra import dot\n",
    "import math, random\n",
    "import matplotlib\n",
    "import matplotlib.pyplot as plt\n",
    "import numpy as np"
   ]
  },
  {
   "cell_type": "markdown",
   "metadata": {},
   "source": [
    "An [artificial neural network](https://en.wikipedia.org/wiki/Artificial_neural_network), also known as an [ANN](https://www.doc.ic.ac.uk/~nd/surprise_96/journal/vol4/cs11/report.html) is a predictive model motivated by the way (some scientists and scholars believe) the brain operates (in theory, anyway).  \n",
    "Think of the brain as a collection of neurons wired together.  \n",
    "Each neuron looks at the outputs of the other neurons that feed into it, does a calculation, and then either fires (if the calculation exceeds some threshold) or doesn't fire (if the threshold is not reached).  \n",
    "ANNs consist of artificial neurons which perform similar calculations over their inputs.  \n",
    "Neural networks can be used to solve a wide variety of problems including handwriting recognition and face identification, and are also widely used in [deep learning](https://en.wikipedia.org/wiki/Deep_learning).  \n",
    "Most neural networks are \"black boxes\", meaning that inspecting their details doesn't give you much understanding of *how* they are solving a problem.  \n",
    "Large ANNs can also be (very) difficult to train.  \n",
    "Keeping those caveats in mind, artificial neural networks can be used to do some [amazing stuff](https://gizmodo.com/these-are-the-incredible-day-dreams-of-artificial-neura-1712226908), so let's dive in."
   ]
  },
  {
   "cell_type": "markdown",
   "metadata": {},
   "source": [
    "## Perceptrons"
   ]
  },
  {
   "cell_type": "markdown",
   "metadata": {},
   "source": [
    "Pretty much the simplest neural network is the [perceptron](https://en.wikipedia.org/wiki/Perceptron), which approximates a single neuron with $n$ binary inputs.  \n",
    "It computes a weighted sum of its inputs and \"fires\" if that weighted sum is zero or greater:"
   ]
  },
  {
   "cell_type": "code",
   "execution_count": 92,
   "metadata": {
    "collapsed": true
   },
   "outputs": [],
   "source": [
    "def step_function(x):\n",
    "    return 1 if x >= 0 else 0\n",
    "\n",
    "def perceptron_output(weights, bias, x):\n",
    "    \"\"\" returns 1 if the perceptron 'fires', 0 if not \"\"\"\n",
    "    calculation = dot(weights, x) + bias\n",
    "    return step_function(calculation)"
   ]
  },
  {
   "cell_type": "markdown",
   "metadata": {},
   "source": [
    "The perceptron is simply distinguishing between the half spaces separated by the hyperplane of points x for which:"
   ]
  },
  {
   "cell_type": "raw",
   "metadata": {},
   "source": [
    "dot(weights, x) + bias == 0"
   ]
  },
  {
   "cell_type": "markdown",
   "metadata": {},
   "source": [
    "With properly chosen weights, perceptrons can solve a number of simple problems:"
   ]
  },
  {
   "cell_type": "code",
   "execution_count": 93,
   "metadata": {
    "collapsed": false
   },
   "outputs": [
    {
     "data": {
      "image/png": "[encoded data removed]",
      "text/plain": [
       "<matplotlib.figure.Figure at 0x10a3c48d0>"
      ]
     },
     "metadata": {},
     "output_type": "display_data"
    }
   ],
   "source": [
    "plt.scatter(0,1)\n",
    "plt.annotate('(0,1)', xy=(0.03,0.97))\n",
    "plt.scatter(1,0)\n",
    "plt.annotate('(1,0)', xy=(1.03,-0.03))\n",
    "plt.scatter(0,0)\n",
    "plt.annotate('(0,0)', xy=(0.03,-0.03))\n",
    "plt.scatter(1,1)\n",
    "plt.annotate('(1,1)', xy=(1.03,0.97))\n",
    "x1 = np.linspace(0, 1.5, 100)\n",
    "y1 = np.linspace(1.5, 0, 100)\n",
    "x2 = np.linspace(-1, 1.5, 100)\n",
    "y2 = np.linspace(1.5, -1, 100)\n",
    "plt.plot(x1,y1, label=\"AND boundary\")\n",
    "plt.plot(x2,y2, label=\"OR boundary\")\n",
    "plt.axis([-.5, 1.5, -.5, 1.5])\n",
    "plt.title(\"Decision Space for a Two-Input Perceptron\")\n",
    "plt.xlabel(\"Input 1\")\n",
    "plt.ylabel(\"Input 2\")\n",
    "plt.legend()\n",
    "plt.show()"
   ]
  },
  {
   "cell_type": "markdown",
   "metadata": {},
   "source": [
    "For example, we can create an [AND gate](https://en.wikipedia.org/wiki/AND_gate) (which returns 1 if both of its inputs are 1 but returns 0 if either or both of its inputs are 0) with:"
   ]
  },
  {
   "cell_type": "raw",
   "metadata": {},
   "source": [
    "weights = [2, 2]\n",
    "bias = -3"
   ]
  },
  {
   "cell_type": "code",
   "execution_count": 94,
   "metadata": {
    "collapsed": false
   },
   "outputs": [
    {
     "name": "stdout",
     "output_type": "stream",
     "text": [
      "1\n",
      "0\n",
      "0\n",
      "0\n"
     ]
    }
   ],
   "source": [
    "# If both inputs are 1, the `calculation` equals 2 + 2 - 3 = 1, and the output is 1:\n",
    "print perceptron_output([2,2],-3,[1,1])\n",
    "\n",
    "# If only one of the inputs is 1, the `calculation` equals 2 + 0 - 3 = -1, and the output is 0:\n",
    "print perceptron_output([2,2],-3,[1,0])\n",
    "print perceptron_output([2,2],-3,[0,1])\n",
    "\n",
    "# If both inputs are 0, the `calculation` equals 0 + 0 - 3 = -3, and the output is 0:\n",
    "print perceptron_output([2,2],-3,[0,0])"
   ]
  },
  {
   "cell_type": "markdown",
   "metadata": {},
   "source": [
    "Similarly, we can build an [OR gate](https://en.wikipedia.org/wiki/OR_gate) with:"
   ]
  },
  {
   "cell_type": "raw",
   "metadata": {},
   "source": [
    "weights = [2, 2]\n",
    "bias = -1"
   ]
  },
  {
   "cell_type": "markdown",
   "metadata": {},
   "source": [
    "We could also build a [NOT gate](https://en.wikipedia.org/wiki/Inverter_%28logic_gate%29) (which has one input and converts 1 to 0 and 0 to 1) with:"
   ]
  },
  {
   "cell_type": "raw",
   "metadata": {},
   "source": [
    "weights = [-2]\n",
    "bias = -1"
   ]
  },
  {
   "cell_type": "markdown",
   "metadata": {},
   "source": [
    "However, there are some problems that simply can't be solved by a a single perceptron.  \n",
    "For example, no matter how hard you try, you cannot use a perceptron to build an [XOR gate](https://en.wikipedia.org/wiki/XOR_gate) that outputs 1 if exactly one of its inputs is 1 and 0 otherwise.  \n",
    "This is where we start needing more sophisticated (and complicated) neural networks."
   ]
  },
  {
   "cell_type": "markdown",
   "metadata": {},
   "source": [
    "You don't need to approximate a neuron in order to build a logic gate:"
   ]
  },
  {
   "cell_type": "raw",
   "metadata": {},
   "source": [
    "and_gate = min()\n",
    "or_gate = max()\n",
    "xor_gate = lambda x, y: 0 if x == y else 1"
   ]
  },
  {
   "cell_type": "markdown",
   "metadata": {},
   "source": [
    "Like real neurons, artificial neurons become more interesting when you start connecting them together."
   ]
  },
  {
   "cell_type": "markdown",
   "metadata": {},
   "source": [
    "## Feed-Forward Neural Networks "
   ]
  },
  {
   "cell_type": "code",
   "execution_count": null,
   "metadata": {
    "collapsed": true
   },
   "outputs": [],
   "source": []
  }
 ],
 "metadata": {
  "kernelspec": {
   "display_name": "Python 2",
   "language": "python",
   "name": "python2"
  },
  "language_info": {
   "codemirror_mode": {
    "name": "ipython",
    "version": 2
   },
   "file_extension": ".py",
   "mimetype": "text/x-python",
   "name": "python",
   "nbconvert_exporter": "python",
   "pygments_lexer": "ipython2",
   "version": "2.7.12"
  }
 },
 "nbformat": 4,
 "nbformat_minor": 1
}
