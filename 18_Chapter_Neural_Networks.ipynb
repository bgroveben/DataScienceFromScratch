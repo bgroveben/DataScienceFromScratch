{
 "cells": [
  {
   "cell_type": "markdown",
   "metadata": {},
   "source": [
    "# Chapter 18. Neural Networks"
   ]
  },
  {
   "cell_type": "code",
   "execution_count": 126,
   "metadata": {
    "collapsed": true
   },
   "outputs": [],
   "source": [
    "from __future__ import division\n",
    "from collections import Counter\n",
    "from functools import partial\n",
    "from linear_algebra import dot\n",
    "import math, random\n",
    "import matplotlib\n",
    "import matplotlib.pyplot as plt\n",
    "import numpy as np"
   ]
  },
  {
   "cell_type": "markdown",
   "metadata": {},
   "source": [
    "An [artificial neural network](https://en.wikipedia.org/wiki/Artificial_neural_network), also known as an [ANN](https://www.doc.ic.ac.uk/~nd/surprise_96/journal/vol4/cs11/report.html) is a predictive model motivated by the way (some scientists and scholars believe) the brain operates (in theory, anyway).  \n",
    "Think of the brain as a collection of neurons wired together.  \n",
    "Each neuron looks at the outputs of the other neurons that feed into it, does a calculation, and then either fires (if the calculation exceeds some threshold) or doesn't fire (if the threshold is not reached).  \n",
    "ANNs consist of artificial neurons which perform similar calculations over their inputs.  \n",
    "Neural networks can be used to solve a wide variety of problems including handwriting recognition and face identification, and are also widely used in [deep learning](https://en.wikipedia.org/wiki/Deep_learning).  \n",
    "Most neural networks are \"black boxes\", meaning that inspecting their details doesn't give you much understanding of *how* they are solving a problem.  \n",
    "Large ANNs can also be (very) difficult to train.  \n",
    "Keeping those caveats in mind, artificial neural networks can be used to do some [amazing stuff](https://gizmodo.com/these-are-the-incredible-day-dreams-of-artificial-neura-1712226908), so let's dive in."
   ]
  },
  {
   "cell_type": "markdown",
   "metadata": {},
   "source": [
    "## Perceptrons"
   ]
  },
  {
   "cell_type": "markdown",
   "metadata": {},
   "source": [
    "Pretty much the simplest neural network is the [perceptron](https://en.wikipedia.org/wiki/Perceptron), which approximates a single neuron with $n$ binary inputs.  \n",
    "It computes a weighted sum of its inputs and \"fires\" if that weighted sum is zero or greater:"
   ]
  },
  {
   "cell_type": "code",
   "execution_count": 127,
   "metadata": {
    "collapsed": true
   },
   "outputs": [],
   "source": [
    "def step_function(x):\n",
    "    return 1 if x >= 0 else 0\n",
    "\n",
    "def perceptron_output(weights, bias, x):\n",
    "    \"\"\" returns 1 if the perceptron 'fires', 0 if not \"\"\"\n",
    "    calculation = dot(weights, x) + bias\n",
    "    return step_function(calculation)"
   ]
  },
  {
   "cell_type": "markdown",
   "metadata": {},
   "source": [
    "The perceptron is simply distinguishing between the half spaces separated by the hyperplane of points x for which:"
   ]
  },
  {
   "cell_type": "raw",
   "metadata": {},
   "source": [
    "dot(weights, x) + bias == 0"
   ]
  },
  {
   "cell_type": "markdown",
   "metadata": {},
   "source": [
    "With properly chosen weights, perceptrons can solve a number of simple problems:"
   ]
  },
  {
   "cell_type": "code",
   "execution_count": 128,
   "metadata": {
    "collapsed": false
   },
   "outputs": [
    {
     "data": {
      "image/png": "[encoded data removed]",
      "text/plain": [
       "<matplotlib.figure.Figure at 0x108dc95d0>"
      ]
     },
     "metadata": {},
     "output_type": "display_data"
    }
   ],
   "source": [
    "plt.scatter(0,1)\n",
    "plt.annotate('(0,1)', xy=(0.03,0.97))\n",
    "plt.scatter(1,0)\n",
    "plt.annotate('(1,0)', xy=(1.03,-0.03))\n",
    "plt.scatter(0,0)\n",
    "plt.annotate('(0,0)', xy=(0.03,-0.03))\n",
    "plt.scatter(1,1)\n",
    "plt.annotate('(1,1)', xy=(1.03,0.97))\n",
    "x1 = np.linspace(0, 1.5, 100)\n",
    "y1 = np.linspace(1.5, 0, 100)\n",
    "x2 = np.linspace(-1, 1.5, 100)\n",
    "y2 = np.linspace(1.5, -1, 100)\n",
    "plt.plot(x1,y1, label=\"AND boundary\")\n",
    "plt.plot(x2,y2, label=\"OR boundary\")\n",
    "plt.axis([-.5, 1.5, -.5, 1.5])\n",
    "plt.title(\"Decision Space for a Two-Input Perceptron\")\n",
    "plt.xlabel(\"Input 1\")\n",
    "plt.ylabel(\"Input 2\")\n",
    "plt.legend()\n",
    "plt.show()"
   ]
  },
  {
   "cell_type": "markdown",
   "metadata": {},
   "source": [
    "For example, we can create an [AND gate](https://en.wikipedia.org/wiki/AND_gate) (which returns 1 if both of its inputs are 1 but returns 0 if either or both of its inputs are 0) with:"
   ]
  },
  {
   "cell_type": "raw",
   "metadata": {},
   "source": [
    "weights = [2, 2]\n",
    "bias = -3"
   ]
  },
  {
   "cell_type": "code",
   "execution_count": 129,
   "metadata": {
    "collapsed": false
   },
   "outputs": [
    {
     "name": "stdout",
     "output_type": "stream",
     "text": [
      "1\n",
      "0\n",
      "0\n",
      "0\n"
     ]
    }
   ],
   "source": [
    "# If both inputs are 1, the `calculation` equals 2 + 2 - 3 = 1, and the output is 1:\n",
    "print perceptron_output([2,2],-3,[1,1])\n",
    "\n",
    "# If only one of the inputs is 1, the `calculation` equals 2 + 0 - 3 = -1, and the output is 0:\n",
    "print perceptron_output([2,2],-3,[1,0])\n",
    "print perceptron_output([2,2],-3,[0,1])\n",
    "\n",
    "# If both inputs are 0, the `calculation` equals 0 + 0 - 3 = -3, and the output is 0:\n",
    "print perceptron_output([2,2],-3,[0,0])"
   ]
  },
  {
   "cell_type": "markdown",
   "metadata": {},
   "source": [
    "Similarly, we can build an [OR gate](https://en.wikipedia.org/wiki/OR_gate) with:"
   ]
  },
  {
   "cell_type": "raw",
   "metadata": {},
   "source": [
    "weights = [2, 2]\n",
    "bias = -1"
   ]
  },
  {
   "cell_type": "markdown",
   "metadata": {},
   "source": [
    "We could also build a [NOT gate](https://en.wikipedia.org/wiki/Inverter_%28logic_gate%29) (which has one input and converts 1 to 0 and 0 to 1) with:"
   ]
  },
  {
   "cell_type": "raw",
   "metadata": {},
   "source": [
    "weights = [-2]\n",
    "bias = -1"
   ]
  },
  {
   "cell_type": "markdown",
   "metadata": {},
   "source": [
    "However, there are some problems that simply can't be solved by a a single perceptron.  \n",
    "For example, no matter how hard you try, you cannot use a perceptron to build an [XOR gate](https://en.wikipedia.org/wiki/XOR_gate) that outputs 1 if exactly one of its inputs is 1 and 0 otherwise.  \n",
    "This is where we start needing more sophisticated (and complicated) neural networks."
   ]
  },
  {
   "cell_type": "markdown",
   "metadata": {},
   "source": [
    "You don't need to approximate a neuron in order to build a logic gate:"
   ]
  },
  {
   "cell_type": "raw",
   "metadata": {},
   "source": [
    "and_gate = min()\n",
    "or_gate = max()\n",
    "xor_gate = lambda x, y: 0 if x == y else 1"
   ]
  },
  {
   "cell_type": "markdown",
   "metadata": {},
   "source": [
    "Like real neurons, artificial neurons become more interesting when you start connecting them together."
   ]
  },
  {
   "cell_type": "markdown",
   "metadata": {},
   "source": [
    "## Feed-Forward Neural Networks "
   ]
  },
  {
   "cell_type": "markdown",
   "metadata": {
    "collapsed": true
   },
   "source": [
    "The topology of the brain is enormously complicated, so it's common to approximate it with an idealized [feed-forward neural network](https://en.wikipedia.org/wiki/Feedforward_neural_network) that consists of discrete layers of neurons, each connected to the next.  \n",
    "This typically entails:\n",
    "- an input layer which receives inputs and feeds them forward unchanged, \n",
    "- one or more \"hidden layers\", each of which consists of neurons that take the outputs of the previous layer, performs some calculation, and passes the result to the next layer, \n",
    "- and an output layer which produces the final outputs."
   ]
  },
  {
   "cell_type": "markdown",
   "metadata": {},
   "source": [
    "Just like the perceptron, each (non-input) neuron has a weight corresponding to each of its inputs and a bias.  \n",
    "To make our representation simpler, we'll add the bias to the end of our weights vector and give each neuron a [bias input](https://stackoverflow.com/questions/2480650/role-of-bias-in-neural-networks) that always equals 1.  \n",
    "As with the perceptron, for each neuron we'll sum up the products of its inputs as well as its weights.  \n",
    "Here, however, rather than outputting the `step_function` applied to that product, we'll output a smooth approximation of the step function known as the [sigmoid function](https://en.wikipedia.org/wiki/Sigmoid_function):"
   ]
  },
  {
   "cell_type": "code",
   "execution_count": 130,
   "metadata": {
    "collapsed": false
   },
   "outputs": [
    {
     "data": {
      "image/png": "[encoded data removed]",
      "text/plain": [
       "<matplotlib.figure.Figure at 0x108c71350>"
      ]
     },
     "metadata": {},
     "output_type": "display_data"
    }
   ],
   "source": [
    "points = np.linspace(-10., 10., 100)\n",
    "sigmoid = [1 / (1 + math.exp(-point)) for point in points]\n",
    "step = [(1 if point >= 0 else 0) for point in points]\n",
    "plt.axis([-10, 10, -0.1, 1.1])\n",
    "plt.plot(points, sigmoid, lw=2, label=\"Sigmoid\")\n",
    "plt.plot(points, step, lw=2, ls='--', color='red', label=\"Step\")\n",
    "plt.title(\"Sigmoid Function vs Step Function\")\n",
    "plt.legend(loc=2)\n",
    "plt.show()"
   ]
  },
  {
   "cell_type": "code",
   "execution_count": 131,
   "metadata": {
    "collapsed": true
   },
   "outputs": [],
   "source": [
    "def sigmoid(t):\n",
    "    return 1 / (1 + math.exp(-t))"
   ]
  },
  {
   "cell_type": "markdown",
   "metadata": {},
   "source": [
    "Why use `sigmoid` instead of the simpler `step_function`?  \n",
    "In order to train a neural network, we'll need to use calculus, and in order to use calculus, we need *smooth* functions.  \n",
    "The step function isn't even continuous, and `sigmoid` is a good smooth approximation of it.  \n",
    "**Note**  \n",
    "You may remember `sigmoid` from Chapter 16, where it was called `logistic`.  \n",
    "Technically, 'sigmoid' refers to the *shape* of the function, and 'logistic' refers to that particular function, although the terms are often used interchangeably."
   ]
  },
  {
   "cell_type": "markdown",
   "metadata": {},
   "source": [
    "Now we can calculate the output as:"
   ]
  },
  {
   "cell_type": "code",
   "execution_count": 132,
   "metadata": {
    "collapsed": true
   },
   "outputs": [],
   "source": [
    "def neuron_output(weights, inputs):\n",
    "    return sigmoid(dot(weights, inputs))"
   ]
  },
  {
   "cell_type": "markdown",
   "metadata": {},
   "source": [
    "Given this function, we can represent a neuron simply as a list of weights whose length is one more than the number of inputs to that neuron (remember the bias weight).  \n",
    "Then we can represent a neural network as a list of (non-input) [layers](http://pages.cs.wisc.edu/~bolo/shipyard/neural/local.html), where each layer is just a list of neurons in that layer.  \n",
    "In other words, we are oing to represent a neural network as a list (layers) of lists (neurons) of lists (weights).  \n",
    "Given such a representation, using the neural network is quite simple:"
   ]
  },
  {
   "cell_type": "code",
   "execution_count": 133,
   "metadata": {
    "collapsed": true
   },
   "outputs": [],
   "source": [
    "def feed_forward(neural_network, input_vector):\n",
    "    \"\"\" takes in a neural network (represented as a list of lists of lists of weights) \"\"\"\n",
    "    \"\"\" and returns the output from forward-propagating the inputs \"\"\"\n",
    "    outputs = []\n",
    "    # process one layer at a time\n",
    "    for layer in neural_network:\n",
    "        # add a bias input\n",
    "        input_with_bias = input_vector + [1]\n",
    "        # compute the output for each neuron\n",
    "        output = [neuron_output(neuron, input_with_bias) for neuron in layer]\n",
    "        # and remember it\n",
    "        outputs.append(output)\n",
    "        # the input to the next layer is the output of this one\n",
    "        input_vector = output\n",
    "    return outputs"
   ]
  },
  {
   "cell_type": "markdown",
   "metadata": {},
   "source": [
    "Now we can build the XOR gate that we couldn't make with a single perceptron.  \n",
    "We just need to scale the weights up so that the `neuron_outputs` are either really close to 0 or really close to 1:"
   ]
  },
  {
   "cell_type": "code",
   "execution_count": 134,
   "metadata": {
    "collapsed": false
   },
   "outputs": [
    {
     "name": "stdout",
     "output_type": "stream",
     "text": [
      "0 0 [9.38314668300676e-14]\n",
      "0 1 [0.9999999999999059]\n",
      "1 0 [0.9999999999999059]\n",
      "1 1 [9.383146683006828e-14]\n"
     ]
    }
   ],
   "source": [
    "xor_network = [# hidden layer\n",
    "               [[20, 20, -30],    # 'and' neuron\n",
    "                [20, 20, -10]],   # 'or' neuron\n",
    "               # output layer\n",
    "               [[-60, 60, -30]]]  # '2nd input but not 1st input' neuron\n",
    "\n",
    "for x in [0, 1]:\n",
    "    for y in [0, 1]:\n",
    "        # feed_forward produces the outputs of every neuron\n",
    "        # feed_forward[-1] is the outputs of the output-layer neurons\n",
    "        print x, y, feed_forward(xor_network,[x, y])[-1]"
   ]
  },
  {
   "cell_type": "markdown",
   "metadata": {},
   "source": [
    "By using a hidden layer, we are able to feed the output of an 'and' neuron and the output of an 'or' neuron into a 'second input but not first input' neuron.  \n",
    "The result is a network that performs 'or, but *not* and,' which is precisely XOR."
   ]
  },
  {
   "cell_type": "markdown",
   "metadata": {},
   "source": [
    "![XOR_neural_network](img/XOR_neural_network.png)"
   ]
  },
  {
   "cell_type": "markdown",
   "metadata": {},
   "source": [
    "## Backpropagation"
   ]
  },
  {
   "cell_type": "markdown",
   "metadata": {
    "collapsed": true
   },
   "source": [
    "Neural networks aren't usually built by hand.  \n",
    "This is in part because they are used to solve much bigger problems, eg. an image recognition program that involves hundreds or even thousands of neurons.  \n",
    "This is also in part because the programmer won't usually be able to \"reason out\" what the neurons should be.  \n",
    "Instead we use data (the more data, the better) to train neural networks.  \n",
    "One popular approach is an algorithm called [backpropagation](https://en.wikipedia.org/wiki/Backpropagation) that is somewhat similar to the gradient descent algorithm covered in Chapter 8."
   ]
  },
  {
   "cell_type": "markdown",
   "metadata": {},
   "source": [
    "Imagine that we have a training set that consists of input vectors and corresponding target output vectors.  \n",
    "For example, in our previous `xor_network` example, the input vector [1, 0] corresponded to the target output [1].  \n",
    "Imagine also that our network has some set of weights.  \n",
    "Those weights are then adjusted using the following algorithm:\n",
    "1. Run `feed_forward` on an input vector to produce the outputs of all of the neurons in the network.\n",
    "2. This results in an error for each output neuron -- the difference between its output and its target.\n",
    "3. Compute the gradient of this error as a function of the neuron's weights, and adjust its weights in the direction that most decreases the error.\n",
    "4. [Propagate](https://www.merriam-webster.com/dictionary/propagate) these output errors backward to infer errors for the hidden layer.\n",
    "5. Compute the gradients of these errors and adjust the hidden layer's weights in the same manner."
   ]
  },
  {
   "cell_type": "markdown",
   "metadata": {},
   "source": [
    "Typically we run this algorithm many times for our entire training set until the network converges:"
   ]
  },
  {
   "cell_type": "code",
   "execution_count": 135,
   "metadata": {
    "collapsed": true
   },
   "outputs": [],
   "source": [
    "# The code in the book is different from the code on the GitHub master.\n",
    "\n",
    "def backpropagate(network, input_vector, targets):\n",
    "    hidden_outputs, outputs = feed_forward(network, input_vector)\n",
    "    # the output * (1 - output) is from the derivative of sigmoid\n",
    "    output_deltas = [output * (1 - output) * (output - target) for output, target in zip(outputs, targets)]\n",
    "    \n",
    "    # adjust weights for the output layer, one neuron at a time\n",
    "    for i, output_neuron in enumerate(network[-1]):\n",
    "        # focus on the ith output layer neuron\n",
    "        for j, hidden_output in enumerate(hidden_outputs + [1]):\n",
    "            # adjust the jth weight based on both this neuron's delta and its jth input\n",
    "            output_neuron[j] -= output_deltas[i] * hidden_output\n",
    "            \n",
    "    # back-propagate errors to the hidden layer\n",
    "    hidden_deltas = [hidden_output * (1 - hidden_output)\n",
    "                     * dot(output_deltas, [n[i] for n in output_layer])\n",
    "                     for i, hidden_output in enumerate(hidden_outputs)]\n",
    "    \n",
    "    # adjust weights for hidden layer, one neuron at a time\n",
    "    for i, hidden_neuron in enumerate(network[0]):\n",
    "        for j, input in enumerate(input_vector + [1]):\n",
    "            hidden_neuron[j] -= hidden_deltas[i] * input"
   ]
  },
  {
   "cell_type": "markdown",
   "metadata": {},
   "source": [
    "This is pretty much doing the same thing as if you explicitly wrote the squared error as a function of the weights and used the `minimize_stochastic` function that we built in Chapter 8.  \n",
    "In this case, explicitly writing out the gradient function turns out to be kind of a pain.  \n",
    "If you know [calculus and the chain rule](https://en.wikipedia.org/wiki/Chain_rule), the mathematical details are fairly straightforward, but keeping the notation straight (\"the partial derivative of the error function with respect to the weight that neuron $i$ assigns to the input coming from neuron $j$\") can be a bit of a headache."
   ]
  },
  {
   "cell_type": "markdown",
   "metadata": {},
   "source": [
    "## Example: Defeating a CAPTCHA"
   ]
  },
  {
   "cell_type": "markdown",
   "metadata": {
    "collapsed": true
   },
   "source": [
    "To make sure that people registering for DataSciencester are actually people, the VP of Product Management wants to implement a CAPTCHA as part of the registration process.  \n",
    "In particular, he would like to show users a picture of a digit and require them to input that digit to prove that they're human.  \n",
    "When you tell the VP that computers can easily solve this problem and he doesn't believe you, you decide to convince him by creating a program that can defeat CAPTCHAs."
   ]
  },
  {
   "cell_type": "markdown",
   "metadata": {},
   "source": [
    "Each digit (0-9 below) will be represented as a 5x5 image:"
   ]
  },
  {
   "cell_type": "raw",
   "metadata": {},
   "source": [
    "@@@@@  ..@..  @@@@@  @@@@@  @...@  @@@@@  @@@@@  @@@@@  @@@@@  @@@@@\n",
    "@...@  ..@..  ....@  ....@  @...@  @....  @....  ....@  @...@  @...@\n",
    "@...@  ..@..  @@@@@  @@@@@  @@@@@  @@@@@  @@@@@  ....@  @@@@@  @@@@@\n",
    "@...@  ..@..  @....  ....@  ....@  ....@  @...@  ....@  @...@  ....@\n",
    "@@@@@  ..@..  @@@@@  @@@@@  ....@  @@@@@  @@@@@  ....@  @@@@@  @@@@@"
   ]
  },
  {
   "cell_type": "markdown",
   "metadata": {},
   "source": [
    "Our neural network wants an input to be a vector of numbers, so we'll transform each image to a vector of length 25 whose elements are either 1 (this pixel is in the image) or 0 (this pixel is not in the image).  \n",
    "For example, the zero digit would be represented as:"
   ]
  },
  {
   "cell_type": "code",
   "execution_count": 136,
   "metadata": {
    "collapsed": true
   },
   "outputs": [],
   "source": [
    "zero_digit = [1,1,1,1,1,\n",
    "              1,0,0,0,1,\n",
    "              1,0,0,0,1,\n",
    "              1,0,0,0,1,\n",
    "              1,1,1,1,1]"
   ]
  },
  {
   "cell_type": "markdown",
   "metadata": {},
   "source": [
    "We want our output to indicate which digit the neural network *thinks* it is, so we'll need 10 outputs (0-9).  \n",
    "The correct output for digit 4, for instance, will be:"
   ]
  },
  {
   "cell_type": "raw",
   "metadata": {},
   "source": [
    "[0, 0, 0, 0, 1, 0, 0, 0, 0, 0]"
   ]
  },
  {
   "cell_type": "code",
   "execution_count": 137,
   "metadata": {
    "collapsed": true
   },
   "outputs": [],
   "source": [
    "# the zeros in raw_digits have been replaced with periods to make the numbers (slightly) easier for people to read\n",
    "raw_digits = [\n",
    "          \"\"\"11111\n",
    "             1...1\n",
    "             1...1\n",
    "             1...1\n",
    "             11111\"\"\",\n",
    "\n",
    "          \"\"\"..1..\n",
    "             ..1..\n",
    "             ..1..\n",
    "             ..1..\n",
    "             ..1..\"\"\",\n",
    "\n",
    "          \"\"\"11111\n",
    "             ....1\n",
    "             11111\n",
    "             1....\n",
    "             11111\"\"\",\n",
    "\n",
    "          \"\"\"11111\n",
    "             ....1\n",
    "             11111\n",
    "             ....1\n",
    "             11111\"\"\",\n",
    "\n",
    "          \"\"\"1...1\n",
    "             1...1\n",
    "             11111\n",
    "             ....1\n",
    "             ....1\"\"\",\n",
    "\n",
    "          \"\"\"11111\n",
    "             1....\n",
    "             11111\n",
    "             ....1\n",
    "             11111\"\"\",\n",
    "\n",
    "          \"\"\"11111\n",
    "             1....\n",
    "             11111\n",
    "             1...1\n",
    "             11111\"\"\",\n",
    "\n",
    "          \"\"\"11111\n",
    "             ....1\n",
    "             ....1\n",
    "             ....1\n",
    "             ....1\"\"\",\n",
    "\n",
    "          \"\"\"11111\n",
    "             1...1\n",
    "             11111\n",
    "             1...1\n",
    "             11111\"\"\",\n",
    "\n",
    "          \"\"\"11111\n",
    "             1...1\n",
    "             11111\n",
    "             ....1\n",
    "             11111\"\"\"]\n",
    "\n",
    "def make_digit(raw_digit):\n",
    "    return [1 if c == '1' else 0 for row in raw_digit.split(\"\\n\") for c in row.strip()]\n",
    "\n",
    "inputs = map(make_digit, raw_digits)"
   ]
  },
  {
   "cell_type": "markdown",
   "metadata": {},
   "source": [
    "Then, assuming that our `inputs` are correctly ordered from 0 to 9, out targets will be:"
   ]
  },
  {
   "cell_type": "code",
   "execution_count": 138,
   "metadata": {
    "collapsed": true
   },
   "outputs": [],
   "source": [
    "targets = [[1 if i == j else 0 for i in range(10)] for j in range(10)]"
   ]
  },
  {
   "cell_type": "markdown",
   "metadata": {},
   "source": [
    "At which point we're ready to build our neural network:"
   ]
  },
  {
   "cell_type": "code",
   "execution_count": 139,
   "metadata": {
    "collapsed": true
   },
   "outputs": [],
   "source": [
    "random.seed(0)\n",
    "input_size = 25  # each input is a vector of length 25\n",
    "num_hidden = 5   # 5 neurons in the hidden layer\n",
    "output_size = 10 # 10 outputs for each input\n",
    "\n",
    "# each hidden neuron has one weight per input, plus a bias weight\n",
    "hidden_layer = [[random.random() for __ in range(input_size + 1)] for __ in range(num_hidden)]\n",
    "\n",
    "# each output neuron has one weight per hidden neuron, plus a bias weight\n",
    "output_layer = [[random.random() for __ in range(num_hidden + 1)] for __ in range(output_size)]\n",
    "\n",
    "# the network starts out with random weights\n",
    "network = [hidden_layer, output_layer]"
   ]
  },
  {
   "cell_type": "markdown",
   "metadata": {},
   "source": [
    "Now we can train our ANN using the backpropagation algorithm:"
   ]
  },
  {
   "cell_type": "code",
   "execution_count": 140,
   "metadata": {
    "collapsed": false
   },
   "outputs": [],
   "source": [
    "# 10,000 iterations seems enough to converge\n",
    "for __ in range(10000):\n",
    "    for input_vector, target_vector in zip(inputs, targets):\n",
    "        backpropagate(network, input_vector, target_vector)"
   ]
  },
  {
   "cell_type": "markdown",
   "metadata": {},
   "source": [
    "It works well on the training set, obviously:"
   ]
  },
  {
   "cell_type": "code",
   "execution_count": 141,
   "metadata": {
    "collapsed": false
   },
   "outputs": [
    {
     "data": {
      "text/plain": [
       "[0.025, 0.0, 0.0, 0.018, 0.001, 0.0, 0.0, 0.967, 0.0, 0.0]"
      ]
     },
     "execution_count": 141,
     "metadata": {},
     "output_type": "execute_result"
    }
   ],
   "source": [
    "def predict(input):\n",
    "    result = feed_forward(network, input)[-1]\n",
    "    return [round(n,3) for n in result]\n",
    "predict(inputs[7])"
   ]
  },
  {
   "cell_type": "markdown",
   "metadata": {},
   "source": [
    "The digit 7 output neuron produces 0.967, while all of the other output neurons produce very small numbers.  \n",
    "Let's see how our ANN fares with all `raw_digits` 0-9:"
   ]
  },
  {
   "cell_type": "code",
   "execution_count": 142,
   "metadata": {
    "collapsed": false
   },
   "outputs": [
    {
     "name": "stdout",
     "output_type": "stream",
     "text": [
      "0 [0.959, 0.0, 0.0, 0.0, 0.0, 0.0, 0.001, 0.024, 0.029, 0.0]\n",
      "1 [0.0, 0.961, 0.031, 0.021, 0.003, 0.0, 0.0, 0.0, 0.0, 0.0]\n",
      "2 [0.0, 0.022, 0.96, 0.0, 0.003, 0.027, 0.0, 0.0, 0.0, 0.0]\n",
      "3 [0.0, 0.029, 0.0, 0.971, 0.0, 0.0, 0.0, 0.019, 0.0, 0.03]\n",
      "4 [0.0, 0.016, 0.005, 0.0, 0.985, 0.0, 0.0, 0.007, 0.0, 0.0]\n",
      "5 [0.0, 0.0, 0.023, 0.0, 0.0, 0.962, 0.008, 0.0, 0.015, 0.019]\n",
      "6 [0.0, 0.0, 0.012, 0.0, 0.013, 0.015, 0.991, 0.0, 0.008, 0.0]\n",
      "7 [0.025, 0.0, 0.0, 0.018, 0.001, 0.0, 0.0, 0.967, 0.0, 0.0]\n",
      "8 [0.032, 0.0, 0.0, 0.0, 0.0, 0.012, 0.002, 0.0, 0.96, 0.03]\n",
      "9 [0.0, 0.0, 0.0, 0.012, 0.0, 0.022, 0.0, 0.0, 0.024, 0.955]\n"
     ]
    }
   ],
   "source": [
    "for i, input in enumerate(inputs):\n",
    "    outputs = predict(input)\n",
    "    print i, [round(p,3) for p in outputs]"
   ]
  },
  {
   "cell_type": "markdown",
   "metadata": {},
   "source": [
    "We can also apply our neural network to differently drawn digits, like the author's stylized 3:"
   ]
  },
  {
   "cell_type": "code",
   "execution_count": 143,
   "metadata": {
    "collapsed": false
   },
   "outputs": [
    {
     "data": {
      "text/plain": [
       "[0.0, 0.002, 0.0, 0.934, 0.0, 0.0, 0.0, 0.007, 0.0, 0.1]"
      ]
     },
     "execution_count": 143,
     "metadata": {},
     "output_type": "execute_result"
    }
   ],
   "source": [
    "predict([0,1,1,1,0,  # .@@@.\n",
    "         0,0,0,1,1,  # ...@@\n",
    "         0,0,1,1,0,  # ..@@.\n",
    "         0,0,0,1,1,  # ...@@\n",
    "         0,1,1,1,0]) # .@@@. "
   ]
  },
  {
   "cell_type": "markdown",
   "metadata": {},
   "source": [
    "The network still thinks it looks like a 3, whereas the author's stylized 8 gets votes for being a 5, an 8, and a 9:"
   ]
  },
  {
   "cell_type": "code",
   "execution_count": 144,
   "metadata": {
    "collapsed": false
   },
   "outputs": [
    {
     "data": {
      "text/plain": [
       "[0.0, 0.0, 0.0, 0.0, 0.0, 0.536, 0.0, 0.0, 0.915, 0.996]"
      ]
     },
     "execution_count": 144,
     "metadata": {},
     "output_type": "execute_result"
    }
   ],
   "source": [
    "predict([0,1,1,1,0,  # .@@@.\n",
    "         1,0,0,1,1,  # @..@@\n",
    "         0,1,1,1,0,  # .@@@.\n",
    "         1,0,0,1,1,  # @..@@\n",
    "         0,1,1,1,0]) # .@@@. "
   ]
  },
  {
   "cell_type": "markdown",
   "metadata": {},
   "source": [
    "Having a larger training set would probably help."
   ]
  },
  {
   "cell_type": "markdown",
   "metadata": {},
   "source": [
    "## Visualization Time"
   ]
  },
  {
   "cell_type": "markdown",
   "metadata": {
    "collapsed": true
   },
   "source": [
    "Although the network's operation is not exactly transparent, we can inspect the weights of the hidden layer to get a sense of what they are 'seeing'.  \n",
    "In particular, we can plot the weights of each neuron as a 5x5 grid corresponding to the 5x5 inputs.  \n",
    "In real life we would probably want to plot zero weights as white, with larger positive weights more and more (say) green and larger negative weights more and more (say) red.  \n",
    "Instead, we'll plot zero weights as white, with far-away-from-zero weights darker and darker.  \n",
    "Crosshatching will indicate negative weights.  \n",
    "To do this we'll use `pyplot.imshow`, which we can use to plot images pixel by pixel.  \n",
    "Normally this isn't very useful for data science, but for our learning purposes it's a good choice."
   ]
  },
  {
   "cell_type": "code",
   "execution_count": 145,
   "metadata": {
    "collapsed": false
   },
   "outputs": [
    {
     "data": {
      "image/png": "[encoded data removed]",
      "text/plain": [
       "<matplotlib.figure.Figure at 0x108900450>"
      ]
     },
     "metadata": {},
     "output_type": "display_data"
    }
   ],
   "source": [
    "import matplotlib\n",
    "\n",
    "weights = network[0][0]   # try this with network[0][0], ..., network[0][4], or you can subplot them all\n",
    "abs_weights = map(abs, weights)   # darkness only depends on absolute value\n",
    "\n",
    "# turn the weights into a 5x5 grid with [weights[0:5], ..., [weights[20:25]]]\n",
    "grid = [abs_weights[row:(row+5)] for row in range(0,25,5)]\n",
    "ax = plt.gca()   # to use hatching, we'll need the axis\n",
    "\n",
    "# next is the same as plt.imshow, using a white-black color scale and plotting the blocks as blocks\n",
    "ax.imshow(grid, cmap=matplotlib.cm.binary, interpolation='none')\n",
    "\n",
    "def patch(x, y, hatch, color):\n",
    "    \"\"\"return a matplotlib 'patch' object with the specified\n",
    "    location, crosshatch pattern, and color\"\"\"\n",
    "    return matplotlib.patches.Rectangle((x - 0.5, y - 0.5), 1, 1,\n",
    "                                        hatch=hatch, fill=False, color=color)\n",
    "\n",
    "# cross-hatch the negative weights\n",
    "for i in range(5):                    # row\n",
    "    for j in range(5):                # column\n",
    "        if weights[5*i + j] < 0:      # row i, column j = weights[5*i + j]\n",
    "            # add black and white hatches, so visible whether dark or light\n",
    "            ax.add_patch(patch(j, i, '/',  \"white\"))\n",
    "            ax.add_patch(patch(j, i, '\\\\', \"black\"))\n",
    "\n",
    "plt.show()"
   ]
  },
  {
   "cell_type": "markdown",
   "metadata": {
    "collapsed": true
   },
   "source": [
    "Notice that the first hidden neuron (`network[0][0]`) large positive weights in the left column and on either side of the center in the middle row, while there are large negative weights in the right column.  \n",
    "This neuron has a pretty large negative bias, which means that it won't fire strongly unless it gets precisely the positive inputs it's 'looking for'.  \n",
    "For those inputs, the neuron does what you would expect:"
   ]
  },
  {
   "cell_type": "code",
   "execution_count": 146,
   "metadata": {
    "collapsed": false
   },
   "outputs": [
    {
     "name": "stdout",
     "output_type": "stream",
     "text": [
      "0.999959524615\n"
     ]
    }
   ],
   "source": [
    "left_column_only = [1, 0, 0, 0, 0] * 5\n",
    "print feed_forward(network, left_column_only)[0][0]"
   ]
  },
  {
   "cell_type": "code",
   "execution_count": 147,
   "metadata": {
    "collapsed": false
   },
   "outputs": [
    {
     "name": "stdout",
     "output_type": "stream",
     "text": [
      "0.954107627065\n"
     ]
    }
   ],
   "source": [
    "center_middle_row = [0, 0, 0, 0, 0] * 2 + [0, 1, 1, 1, 0] + [0, 0, 0, 0, 0] * 2\n",
    "print feed_forward(network, center_middle_row)[0][0]"
   ]
  },
  {
   "cell_type": "code",
   "execution_count": 148,
   "metadata": {
    "collapsed": false
   },
   "outputs": [
    {
     "name": "stdout",
     "output_type": "stream",
     "text": [
      "8.71509188498e-09\n"
     ]
    }
   ],
   "source": [
    "right_column_only = [0, 0, 0, 0, 1] * 5\n",
    "print feed_forward(network, right_column_only)[0][0]"
   ]
  },
  {
   "cell_type": "markdown",
   "metadata": {},
   "source": [
    "Notice how the middle hidden neuron (`network[0][2]`) seems to 'like' horizontal lines but not side vertical lines, and the last hidden neuron (`network[0][4]`) seems to 'like' the center row but not the right column.  \n",
    "The other two neurons are a bit more difficult to interpret, but see what they can 'tell' you."
   ]
  },
  {
   "cell_type": "markdown",
   "metadata": {},
   "source": [
    "What happens when we run the author's stylized 3 through the network?"
   ]
  },
  {
   "cell_type": "code",
   "execution_count": 149,
   "metadata": {
    "collapsed": false
   },
   "outputs": [],
   "source": [
    "my_three =  [0,1,1,1,0,  # .@@@.\n",
    "             0,0,0,1,1,  # ...@@\n",
    "             0,0,1,1,0,  # ..@@.\n",
    "             0,0,0,1,1,  # ...@@\n",
    "             0,1,1,1,0]  # .@@@.\n",
    "\n",
    "hidden, output = feed_forward(network, my_three)"
   ]
  },
  {
   "cell_type": "markdown",
   "metadata": {},
   "source": [
    "The hidden outputs are:"
   ]
  },
  {
   "cell_type": "code",
   "execution_count": 150,
   "metadata": {
    "collapsed": false
   },
   "outputs": [
    {
     "data": {
      "text/plain": [
       "[0.10387769329168753,\n",
       " 0.9999785242978947,\n",
       " 0.9999999993558526,\n",
       " 0.9999921711029089,\n",
       " 3.1767927409496455e-07]"
      ]
     },
     "execution_count": 150,
     "metadata": {},
     "output_type": "execute_result"
    }
   ],
   "source": [
    "hidden  # show results from network[0][0], ..., network[0][4]"
   ]
  },
  {
   "cell_type": "raw",
   "metadata": {},
   "source": [
    "0.103878  # from network[0][0], probably dinged by (1, 4)\n",
    "0.999979  # from network[0][1], big contributions from (0, 2) and (2, 2)\n",
    "0.999999  # from network[0][2], positive everywhere except (3, 4)\n",
    "0.999992  # from network[0][3], again big contributions from (0, 2) and (2, 2)\n",
    "~0.00000  # from network[0][4], negative or zero everywhere except center row "
   ]
  },
  {
   "cell_type": "markdown",
   "metadata": {},
   "source": [
    "which enter into the 'three' output neuron with weights `network[-1][3]`:"
   ]
  },
  {
   "cell_type": "code",
   "execution_count": 151,
   "metadata": {
    "collapsed": false
   },
   "outputs": [
    {
     "data": {
      "text/plain": [
       "[-11.527644390098375,\n",
       " -2.178890476966917,\n",
       " 9.362089906951441,\n",
       " -1.3913205450697117,\n",
       " -11.547190694429755,\n",
       " -1.9376884722879057]"
      ]
     },
     "execution_count": 151,
     "metadata": {},
     "output_type": "execute_result"
    }
   ],
   "source": [
    "network[-1][3]"
   ]
  },
  {
   "cell_type": "raw",
   "metadata": {},
   "source": [
    "-11.53  # weight for hidden[0]\n",
    " -2.18  # weight for hidden[1]\n",
    "  9.36  # weight for hidden[2]\n",
    " -1.39  # weight for hidden[3]\n",
    "-11.54  # weight for hidden[4]\n",
    "- 1.94  # weight for bias input "
   ]
  },
  {
   "cell_type": "markdown",
   "metadata": {},
   "source": [
    "Based on the output above, the neuron is going to compute:"
   ]
  },
  {
   "cell_type": "code",
   "execution_count": 152,
   "metadata": {
    "collapsed": false
   },
   "outputs": [
    {
     "data": {
      "text/plain": [
       "0.933446654399999"
      ]
     },
     "execution_count": 152,
     "metadata": {},
     "output_type": "execute_result"
    }
   ],
   "source": [
    "sigmoid(.104 * -11.53 + 1 * -2.18 + 1 * 9.36 + 1 * -1.39 + 0 * -11.54 - 1.95)"
   ]
  },
  {
   "cell_type": "markdown",
   "metadata": {},
   "source": [
    "which is (very close to, anyway) the result for output neuron for the number 3."
   ]
  },
  {
   "cell_type": "code",
   "execution_count": 153,
   "metadata": {
    "collapsed": false
   },
   "outputs": [
    {
     "name": "stdout",
     "output_type": "stream",
     "text": [
      "[1.0101045598243533e-08, 0.001726887935497551, 1.78191113310607e-08, 0.9344276025778887, 5.097944343977291e-07, 3.6294250408123e-06, 2.2726529247374686e-10, 0.007047567870016199, 3.9216678958134186e-08, 0.09973408445781098]\n"
     ]
    }
   ],
   "source": [
    "print output"
   ]
  },
  {
   "cell_type": "code",
   "execution_count": 154,
   "metadata": {
    "collapsed": false
   },
   "outputs": [
    {
     "name": "stdout",
     "output_type": "stream",
     "text": [
      "0.934427602578\n"
     ]
    }
   ],
   "source": [
    "print output[3]"
   ]
  },
  {
   "cell_type": "markdown",
   "metadata": {},
   "source": [
    "In essence, the hidden layer is calculating five different partitions of 25-dimensional space, mapping each 25-dimensional output down to five numbers.  \n",
    "Then each output neuron looks only at the results of those five partitions.  \n",
    "As we saw, `my_three` falls slightly on the 'low' side of partition 0 (meaning that it only slightly activates hidden neuron 0), far on the 'high' side of partitions 1, 2, and 3 (it strongly activates those hidden neurons), and far on the low side of partition 4 (it doesn't activate that neuron at all.  \n",
    "Finally, each of the 10 output neurons uses only those five activations to decide whether `my_three` is their digit or not."
   ]
  },
  {
   "cell_type": "markdown",
   "metadata": {},
   "source": [
    "## For Further Exploration"
   ]
  },
  {
   "cell_type": "markdown",
   "metadata": {},
   "source": [
    "- Coursera has a class on [Neural Networks for Machine Learning](https://www.coursera.org/learn/neural-networks) taught by Geoffrey Hinton. The class was last run in 2012, but the course materials are still available.\n",
    "- Michael Nielsen has written an online book on [Neural Networks and Deep Learning](http://neuralnetworksanddeeplearning.com/).\n",
    "- [PyBrain](http://pybrain.org/) is a fairly simple Python neural network library.\n",
    "- [Keras](https://keras.io/) is a high-level neural networks library written in Python that runs on top of [TensorFlow](https://github.com/tensorflow/tensorflow) or [Theano](https://github.com/Theano/Theano).\n",
    "- [Pylearn2](http://deeplearning.net/software/pylearn2/) is a much more advanced (and harder to use) neural network library."
   ]
  },
  {
   "cell_type": "code",
   "execution_count": null,
   "metadata": {
    "collapsed": true
   },
   "outputs": [],
   "source": []
  }
 ],
 "metadata": {
  "kernelspec": {
   "display_name": "Python 2",
   "language": "python",
   "name": "python2"
  },
  "language_info": {
   "codemirror_mode": {
    "name": "ipython",
    "version": 2
   },
   "file_extension": ".py",
   "mimetype": "text/x-python",
   "name": "python",
   "nbconvert_exporter": "python",
   "pygments_lexer": "ipython2",
   "version": "2.7.12"
  }
 },
 "nbformat": 4,
 "nbformat_minor": 1
}
