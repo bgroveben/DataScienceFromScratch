{
 "cells": [
  {
   "cell_type": "markdown",
   "metadata": {},
   "source": [
    "# Chapter 18. Neural Networks"
   ]
  },
  {
   "cell_type": "code",
   "execution_count": 94,
   "metadata": {
    "collapsed": true
   },
   "outputs": [],
   "source": [
    "from __future__ import division\n",
    "from collections import Counter\n",
    "from functools import partial\n",
    "from linear_algebra import dot\n",
    "import math, random\n",
    "import matplotlib\n",
    "import matplotlib.pyplot as plt\n",
    "import numpy as np"
   ]
  },
  {
   "cell_type": "markdown",
   "metadata": {},
   "source": [
    "An [artificial neural network](https://en.wikipedia.org/wiki/Artificial_neural_network), also known as an [ANN](https://www.doc.ic.ac.uk/~nd/surprise_96/journal/vol4/cs11/report.html) is a predictive model motivated by the way (some scientists and scholars believe) the brain operates (in theory, anyway).  \n",
    "Think of the brain as a collection of neurons wired together.  \n",
    "Each neuron looks at the outputs of the other neurons that feed into it, does a calculation, and then either fires (if the calculation exceeds some threshold) or doesn't fire (if the threshold is not reached).  \n",
    "ANNs consist of artificial neurons which perform similar calculations over their inputs.  \n",
    "Neural networks can be used to solve a wide variety of problems including handwriting recognition and face identification, and are also widely used in [deep learning](https://en.wikipedia.org/wiki/Deep_learning).  \n",
    "Most neural networks are \"black boxes\", meaning that inspecting their details doesn't give you much understanding of *how* they are solving a problem.  \n",
    "Large ANNs can also be (very) difficult to train.  \n",
    "Keeping those caveats in mind, artificial neural networks can be used to do some [amazing stuff](https://gizmodo.com/these-are-the-incredible-day-dreams-of-artificial-neura-1712226908), so let's dive in."
   ]
  },
  {
   "cell_type": "markdown",
   "metadata": {},
   "source": [
    "## Perceptrons"
   ]
  },
  {
   "cell_type": "markdown",
   "metadata": {},
   "source": [
    "Pretty much the simplest neural network is the [perceptron](https://en.wikipedia.org/wiki/Perceptron), which approximates a single neuron with $n$ binary inputs.  \n",
    "It computes a weighted sum of its inputs and \"fires\" if that weighted sum is zero or greater:"
   ]
  },
  {
   "cell_type": "code",
   "execution_count": 95,
   "metadata": {
    "collapsed": true
   },
   "outputs": [],
   "source": [
    "def step_function(x):\n",
    "    return 1 if x >= 0 else 0\n",
    "\n",
    "def perceptron_output(weights, bias, x):\n",
    "    \"\"\" returns 1 if the perceptron 'fires', 0 if not \"\"\"\n",
    "    calculation = dot(weights, x) + bias\n",
    "    return step_function(calculation)"
   ]
  },
  {
   "cell_type": "markdown",
   "metadata": {},
   "source": [
    "The perceptron is simply distinguishing between the half spaces separated by the hyperplane of points x for which:"
   ]
  },
  {
   "cell_type": "raw",
   "metadata": {},
   "source": [
    "dot(weights, x) + bias == 0"
   ]
  },
  {
   "cell_type": "markdown",
   "metadata": {},
   "source": [
    "With properly chosen weights, perceptrons can solve a number of simple problems:"
   ]
  },
  {
   "cell_type": "code",
   "execution_count": 96,
   "metadata": {
    "collapsed": false
   },
   "outputs": [
    {
     "data": {
      "image/png": "[encoded data removed]",
      "text/plain": [
       "<matplotlib.figure.Figure at 0x11481c990>"
      ]
     },
     "metadata": {},
     "output_type": "display_data"
    }
   ],
   "source": [
    "plt.scatter(0,1)\n",
    "plt.annotate('(0,1)', xy=(0.03,0.97))\n",
    "plt.scatter(1,0)\n",
    "plt.annotate('(1,0)', xy=(1.03,-0.03))\n",
    "plt.scatter(0,0)\n",
    "plt.annotate('(0,0)', xy=(0.03,-0.03))\n",
    "plt.scatter(1,1)\n",
    "plt.annotate('(1,1)', xy=(1.03,0.97))\n",
    "x1 = np.linspace(0, 1.5, 100)\n",
    "y1 = np.linspace(1.5, 0, 100)\n",
    "x2 = np.linspace(-1, 1.5, 100)\n",
    "y2 = np.linspace(1.5, -1, 100)\n",
    "plt.plot(x1,y1, label=\"AND boundary\")\n",
    "plt.plot(x2,y2, label=\"OR boundary\")\n",
    "plt.axis([-.5, 1.5, -.5, 1.5])\n",
    "plt.title(\"Decision Space for a Two-Input Perceptron\")\n",
    "plt.xlabel(\"Input 1\")\n",
    "plt.ylabel(\"Input 2\")\n",
    "plt.legend()\n",
    "plt.show()"
   ]
  },
  {
   "cell_type": "markdown",
   "metadata": {},
   "source": [
    "For example, we can create an [AND gate](https://en.wikipedia.org/wiki/AND_gate) (which returns 1 if both of its inputs are 1 but returns 0 if either or both of its inputs are 0) with:"
   ]
  },
  {
   "cell_type": "raw",
   "metadata": {},
   "source": [
    "weights = [2, 2]\n",
    "bias = -3"
   ]
  },
  {
   "cell_type": "code",
   "execution_count": 97,
   "metadata": {
    "collapsed": false
   },
   "outputs": [
    {
     "name": "stdout",
     "output_type": "stream",
     "text": [
      "1\n",
      "0\n",
      "0\n",
      "0\n"
     ]
    }
   ],
   "source": [
    "# If both inputs are 1, the `calculation` equals 2 + 2 - 3 = 1, and the output is 1:\n",
    "print perceptron_output([2,2],-3,[1,1])\n",
    "\n",
    "# If only one of the inputs is 1, the `calculation` equals 2 + 0 - 3 = -1, and the output is 0:\n",
    "print perceptron_output([2,2],-3,[1,0])\n",
    "print perceptron_output([2,2],-3,[0,1])\n",
    "\n",
    "# If both inputs are 0, the `calculation` equals 0 + 0 - 3 = -3, and the output is 0:\n",
    "print perceptron_output([2,2],-3,[0,0])"
   ]
  },
  {
   "cell_type": "markdown",
   "metadata": {},
   "source": [
    "Similarly, we can build an [OR gate](https://en.wikipedia.org/wiki/OR_gate) with:"
   ]
  },
  {
   "cell_type": "raw",
   "metadata": {},
   "source": [
    "weights = [2, 2]\n",
    "bias = -1"
   ]
  },
  {
   "cell_type": "markdown",
   "metadata": {},
   "source": [
    "We could also build a [NOT gate](https://en.wikipedia.org/wiki/Inverter_%28logic_gate%29) (which has one input and converts 1 to 0 and 0 to 1) with:"
   ]
  },
  {
   "cell_type": "raw",
   "metadata": {},
   "source": [
    "weights = [-2]\n",
    "bias = -1"
   ]
  },
  {
   "cell_type": "markdown",
   "metadata": {},
   "source": [
    "However, there are some problems that simply can't be solved by a a single perceptron.  \n",
    "For example, no matter how hard you try, you cannot use a perceptron to build an [XOR gate](https://en.wikipedia.org/wiki/XOR_gate) that outputs 1 if exactly one of its inputs is 1 and 0 otherwise.  \n",
    "This is where we start needing more sophisticated (and complicated) neural networks."
   ]
  },
  {
   "cell_type": "markdown",
   "metadata": {},
   "source": [
    "You don't need to approximate a neuron in order to build a logic gate:"
   ]
  },
  {
   "cell_type": "raw",
   "metadata": {},
   "source": [
    "and_gate = min()\n",
    "or_gate = max()\n",
    "xor_gate = lambda x, y: 0 if x == y else 1"
   ]
  },
  {
   "cell_type": "markdown",
   "metadata": {},
   "source": [
    "Like real neurons, artificial neurons become more interesting when you start connecting them together."
   ]
  },
  {
   "cell_type": "markdown",
   "metadata": {},
   "source": [
    "## Feed-Forward Neural Networks "
   ]
  },
  {
   "cell_type": "markdown",
   "metadata": {
    "collapsed": true
   },
   "source": [
    "The topology of the brain is enormously complicated, so it's common to approximate it with an idealized [feed-forward neural network](https://en.wikipedia.org/wiki/Feedforward_neural_network) that consists of discrete layers of neurons, each connected to the next.  \n",
    "This typically entails:\n",
    "- an input layer which receives inputs and feeds them forward unchanged, \n",
    "- one or more \"hidden layers\", each of which consists of neurons that take the outputs of the previous layer, performs some calculation, and passes the result to the next layer, \n",
    "- and an output layer which produces the final outputs."
   ]
  },
  {
   "cell_type": "markdown",
   "metadata": {},
   "source": [
    "Just like the perceptron, each (non-input) neuron has a weight corresponding to each of its inputs and a bias.  \n",
    "To make our representation simpler, we'll add the bias to the end of our weights vector and give each neuron a [bias input](https://stackoverflow.com/questions/2480650/role-of-bias-in-neural-networks) that always equals 1.  \n",
    "As with the perceptron, for each neuron we'll sum up the products of its inputs as well as its weights.  \n",
    "Here, however, rather than outputting the `step_function` applied to that product, we'll output a smooth approximation of the step function known as the [sigmoid function](https://en.wikipedia.org/wiki/Sigmoid_function):"
   ]
  },
  {
   "cell_type": "code",
   "execution_count": 98,
   "metadata": {
    "collapsed": false
   },
   "outputs": [
    {
     "data": {
      "image/png": "[encoded data removed]",
      "text/plain": [
       "<matplotlib.figure.Figure at 0x1149fe2d0>"
      ]
     },
     "metadata": {},
     "output_type": "display_data"
    }
   ],
   "source": [
    "points = np.linspace(-10., 10., 100)\n",
    "sigmoid = [1 / (1 + math.exp(-point)) for point in points]\n",
    "step = [(1 if point >= 0 else 0) for point in points]\n",
    "plt.axis([-10, 10, -0.1, 1.1])\n",
    "plt.plot(points, sigmoid, lw=2, label=\"Sigmoid\")\n",
    "plt.plot(points, step, lw=2, ls='--', color='red', label=\"Step\")\n",
    "plt.title(\"Sigmoid Function vs Step Function\")\n",
    "plt.legend(loc=2)\n",
    "plt.show()"
   ]
  },
  {
   "cell_type": "code",
   "execution_count": 99,
   "metadata": {
    "collapsed": true
   },
   "outputs": [],
   "source": [
    "def sigmoid(t):\n",
    "    return 1 / (1 + math.exp(-t))"
   ]
  },
  {
   "cell_type": "markdown",
   "metadata": {},
   "source": [
    "Why use `sigmoid` instead of the simpler `step_function`?  \n",
    "In order to train a neural network, we'll need to use calculus, and in order to use calculus, we need *smooth* functions.  \n",
    "The step function isn't even continuous, and `sigmoid` is a good smooth approximation of it.  \n",
    "**Note**  \n",
    "You may remember `sigmoid` from Chapter 16, where it was called `logistic`.  \n",
    "Technically, 'sigmoid' refers to the *shape* of the function, and 'logistic' refers to that particular function, although the terms are often used interchangeably."
   ]
  },
  {
   "cell_type": "markdown",
   "metadata": {},
   "source": [
    "Now we can calculate the output as:"
   ]
  },
  {
   "cell_type": "code",
   "execution_count": 100,
   "metadata": {
    "collapsed": true
   },
   "outputs": [],
   "source": [
    "def neuron_output(weights, inputs):\n",
    "    return sigmoid(dot(weights, inputs))"
   ]
  },
  {
   "cell_type": "markdown",
   "metadata": {},
   "source": [
    "Given this function, we can represent a neuron simply as a list of weights whose length is one more than the number of inputs to that neuron (remember the bias weight).  \n",
    "Then we can represent a neural network as a list of (non-input) [layers](http://pages.cs.wisc.edu/~bolo/shipyard/neural/local.html), where each layer is just a list of neurons in that layer.  \n",
    "In other words, we are oing to represent a neural network as a list (layers) of lists (neurons) of lists (weights).  \n",
    "Given such a representation, using the neural network is quite simple:"
   ]
  },
  {
   "cell_type": "code",
   "execution_count": 101,
   "metadata": {
    "collapsed": true
   },
   "outputs": [],
   "source": [
    "def feed_forward(neural_network, input_vector):\n",
    "    \"\"\" takes in a neural network (represented as a list of lists of lists of weights) \"\"\"\n",
    "    \"\"\" and returns the output from forward-propagating the inputs \"\"\"\n",
    "    outputs = []\n",
    "    # process one layer at a time\n",
    "    for layer in neural_network:\n",
    "        # add a bias input\n",
    "        input_with_bias = input_vector + [1]\n",
    "        # compute the output for each neuron\n",
    "        output = [neuron_output(neuron, input_with_bias) for neuron in layer]\n",
    "        # and remember it\n",
    "        outputs.append(output)\n",
    "        # the input to the next layer is the output of this one\n",
    "        input_vector = output\n",
    "    return outputs"
   ]
  },
  {
   "cell_type": "markdown",
   "metadata": {},
   "source": [
    "Now we can build the XOR gate that we couldn't make with a single perceptron.  \n",
    "We just need to scale the weights up so that the `neuron_outputs` are either really close to 0 or really close to 1:"
   ]
  },
  {
   "cell_type": "code",
   "execution_count": 102,
   "metadata": {
    "collapsed": false
   },
   "outputs": [
    {
     "name": "stdout",
     "output_type": "stream",
     "text": [
      "0 0 [9.38314668300676e-14]\n",
      "0 1 [0.9999999999999059]\n",
      "1 0 [0.9999999999999059]\n",
      "1 1 [9.383146683006828e-14]\n"
     ]
    }
   ],
   "source": [
    "xor_network = [# hidden layer\n",
    "               [[20, 20, -30],    # 'and' neuron\n",
    "                [20, 20, -10]],   # 'or' neuron\n",
    "               # output layer\n",
    "               [[-60, 60, -30]]]  # '2nd input but not 1st input' neuron\n",
    "\n",
    "for x in [0, 1]:\n",
    "    for y in [0, 1]:\n",
    "        # feed_forward produces the outputs of every neuron\n",
    "        # feed_forward[-1] is the outputs of the output-layer neurons\n",
    "        print x, y, feed_forward(xor_network,[x, y])[-1]"
   ]
  },
  {
   "cell_type": "markdown",
   "metadata": {},
   "source": [
    "By using a hidden layer, we are able to feed the output of an 'and' neuron and the output of an 'or' neuron into a 'second input but not first input' neuron.  \n",
    "The result is a network that performs 'or, but *not* and,' which is precisely XOR."
   ]
  },
  {
   "cell_type": "markdown",
   "metadata": {},
   "source": [
    "![XOR_neural_network](img/XOR_neural_network.png)"
   ]
  },
  {
   "cell_type": "markdown",
   "metadata": {},
   "source": [
    "## Backpropagation"
   ]
  },
  {
   "cell_type": "code",
   "execution_count": null,
   "metadata": {
    "collapsed": true
   },
   "outputs": [],
   "source": []
  }
 ],
 "metadata": {
  "kernelspec": {
   "display_name": "Python 2",
   "language": "python",
   "name": "python2"
  },
  "language_info": {
   "codemirror_mode": {
    "name": "ipython",
    "version": 2
   },
   "file_extension": ".py",
   "mimetype": "text/x-python",
   "name": "python",
   "nbconvert_exporter": "python",
   "pygments_lexer": "ipython2",
   "version": "2.7.12"
  }
 },
 "nbformat": 4,
 "nbformat_minor": 1
}
