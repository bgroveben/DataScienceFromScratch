{
 "cells": [
  {
   "cell_type": "markdown",
   "metadata": {},
   "source": [
    "# Chapter 6. Probability"
   ]
  },
  {
   "cell_type": "code",
   "execution_count": 36,
   "metadata": {
    "collapsed": true
   },
   "outputs": [],
   "source": [
    "from __future__ import division\n",
    "from collections import Counter\n",
    "import math, random\n",
    "from matplotlib import pyplot as plt"
   ]
  },
  {
   "cell_type": "markdown",
   "metadata": {},
   "source": [
    "For our purposes you should think of probability as a way of quantifying the uncertainty associated with particular events chosen from some universe of events.  \n",
    "For example, when you roll a die there is a probability associated with rolling a 3 or rolling an even number, and those are particular events.  \n",
    "The universe of events are all possible outcomes (1-6) of rolling that die."
   ]
  },
  {
   "cell_type": "markdown",
   "metadata": {},
   "source": [
    "## Dependence and Independence"
   ]
  },
  {
   "cell_type": "markdown",
   "metadata": {},
   "source": [
    "Roughly speaking, we say that two events E and F are dependent if knowing something about whether E happens gives us information about whether F happens (or vice versa).  \n",
    "Otherwise, E and F are independent.  \n",
    "\n",
    "Mathematically, we say that two events E and F are independent if the probability that they both happen is the product of the probability that each one happens:\n",
    "\n",
    "$P(E,F) = P(E)P(F)$"
   ]
  },
  {
   "cell_type": "markdown",
   "metadata": {},
   "source": [
    "## Conditional Probability"
   ]
  },
  {
   "cell_type": "markdown",
   "metadata": {},
   "source": [
    "If E and F are not necessarily independent (and if the probability of F is not zero), then we define the probability of E \"conditional on F\" as:\n",
    "\n",
    "$P(E|F) = P(E,F)|P(F)$  \n",
    "\n",
    "You should think of this as the probability that E happens, given that we know that F happens.\n",
    "This can be rewritten as:  \n",
    "\n",
    "$P(E,F) = P(E|F)P(F)$  \n",
    "\n",
    "When E and F are independent, you can check that this gives:  \n",
    "\n",
    "$P(E|F) = P(E)$  \n",
    "\n",
    "which is the mathematical way of expressing that knowing F occurred gives us no additional information about whether E occurred.\n"
   ]
  },
  {
   "cell_type": "markdown",
   "metadata": {},
   "source": [
    "One common tricky example involves a family with two (unknown) children.  \n",
    "If we assume that:  \n",
    "- Each child is equally likely to be a boy or a girl\n",
    "- The gender of the second child is independent of the gender of the first child  \n",
    "\n",
    "then the event “no girls” has probability 1/4, the event “one girl, one boy” has probability 1/2, and the event “two girls” has probability 1/4.  \n",
    "Now we can ask what is the probability of the event “both children are girls” (B) conditional on the event “the older child is a girl” (G)?  \n",
    "Using the definition of conditional probability:  \n",
    "\n",
    "$P(B|G) = P(B,G)/P(G) = P(B)/P(G) = 1/2$\n",
    "\n",
    "since the event B and G (“both children are girls and the older child is a girl”) is just the event B.  \n",
    "(Once you know that both children are girls, it’s necessarily true that the older child is a girl.)  \n",
    "Most likely this result accords with your intuition.  \n",
    "We could also ask about the probability of the event “both children are girls” conditional on the event “at least one of the children is a girl” (L).   \n",
    "Surprisingly, the answer is different from before!  \n",
    "As before, the event B and L (“both children are girls and at least one of the children is a girl”) is just the event B.  \n",
    "This means we have:  \n",
    "\n",
    "$P(B|L) = P(B,L)/P(L) = P(B)/P(L) = 1/3$\n",
    "\n",
    "How can this be the case?  \n",
    "Well, if all you know is that at least one of the children is a girl, then it is twice as likely that the family has one boy and one girl than that it has both girls.  \n",
    "We can check this by “generating” a lot of families:\n",
    " "
   ]
  },
  {
   "cell_type": "code",
   "execution_count": 37,
   "metadata": {
    "collapsed": false
   },
   "outputs": [
    {
     "name": "stdout",
     "output_type": "stream",
     "text": [
      "Probability that both children are girls and the older child is a girl -- P(both | older):  0.514228456914\n",
      "Probability that both children are girls and at least one of the children is a girl -- P(both | either):  0.341541328364\n"
     ]
    }
   ],
   "source": [
    "def random_kid():\n",
    "    return random.choice([\"boy\", \"girl\"])\n",
    "\n",
    "both_girls = 0\n",
    "older_girl = 0\n",
    "either_girl = 0\n",
    "\n",
    "random.seed(0)\n",
    "for _ in range(10000):\n",
    "    younger = random_kid()\n",
    "    older = random_kid()\n",
    "    if older == \"girl\":\n",
    "        older_girl += 1\n",
    "    if older == \"girl\" and younger == \"girl\":\n",
    "        both_girls += 1\n",
    "    if older == \"girl\" or younger == \"girl\":\n",
    "        either_girl += 1\n",
    "        \n",
    "print \"Probability that both children are girls and \\\n",
    "the older child is a girl -- P(both | older): \", both_girls / older_girl\n",
    "print \"Probability that both children are girls and \\\n",
    "at least one of the children is a girl -- P(both | either): \", both_girls / either_girl"
   ]
  },
  {
   "cell_type": "markdown",
   "metadata": {},
   "source": [
    "## [Bayes' Theorem](https://en.wikipedia.org/wiki/Bayes'_theorem)"
   ]
  },
  {
   "cell_type": "markdown",
   "metadata": {
    "collapsed": true
   },
   "source": [
    "Bayes’ theorem describes the probability of an event, based on prior knowledge of conditions that might be related to the event.\n",
    "\n",
    "Bayes' theorem is stated mathematically as the following equation:  \n",
    "\n",
    "${\\displaystyle P(A\\mid B)={\\frac {P(B\\mid A)\\,P(A)}{P(B)}}}$  \n",
    "\n",
    "where A and B are events and P(B) ≠ 0."
   ]
  },
  {
   "cell_type": "markdown",
   "metadata": {},
   "source": [
    "## Random Variables"
   ]
  },
  {
   "cell_type": "markdown",
   "metadata": {},
   "source": [
    "A random variable is a variable whose possible values have an associated probability distribution.  \n",
    "The associated distribution gives the probabilities that the variable realizes each of its possible values.  \n",
    "For example, a coin flip variable equals 0 (tails) with probability 0.5 and 1 (heads) with probability 0.5.  \n",
    "\n",
    "The expected value of a random variable is the average of its values weighted by their probabilities.  \n",
    "Random variables can also be conditioned on events, like the previous example with the number of girls conditional on at least one of the children being a girl.  "
   ]
  },
  {
   "cell_type": "markdown",
   "metadata": {},
   "source": [
    "## Continuous Distributions"
   ]
  },
  {
   "cell_type": "markdown",
   "metadata": {},
   "source": [
    "A coin flip corresponds to a discrete distribution; one that associates positive probability with discrete outcomes.  \n",
    "Often we will want to model distributions across a continuum of outcomes.  \n",
    "Here comes the integral calculus:"
   ]
  },
  {
   "cell_type": "markdown",
   "metadata": {},
   "source": [
    "The [uniform distribution](https://en.wikipedia.org/wiki/Uniform_distribution_(continuous%29) puts equal weight on all of the numbers between 0 an 1.  \n",
    "Because there are infinitely many numbers between 0 and 1, this means that the weight it assigns to individual points must necessarily be zero.  \n",
    "For this reason, we represent a continuous distribution with a [probability density function (pdf)](https://en.wikipedia.org/wiki/Probability_density_function) such that the probability of seeing a value in a certain interval equals the integral of the density function over the interval.  \n"
   ]
  },
  {
   "cell_type": "code",
   "execution_count": 38,
   "metadata": {
    "collapsed": false
   },
   "outputs": [
    {
     "data": {
      "text/plain": [
       "1"
      ]
     },
     "execution_count": 38,
     "metadata": {},
     "output_type": "execute_result"
    }
   ],
   "source": [
    "# The density function for the uniform distribution:\n",
    "def uniform_pdf(x):\n",
    "    return 1 if x >= 0 and x < 1 else 0\n",
    "\n",
    "uniform_pdf(0.8)\n",
    "\n",
    "## Python's random.random() is a pseudorandom variable with a uniform distribution."
   ]
  },
  {
   "cell_type": "markdown",
   "metadata": {},
   "source": [
    "We will often be more interested in the [cumulative distribution function (cdf)](https://en.wikipedia.org/wiki/Cumulative_distribution_function), which gives the probability that a random variable is less than or equal to a certain value.  \n",
    "Let's create the cumulative distribution function for the uniform distribution:  "
   ]
  },
  {
   "cell_type": "code",
   "execution_count": 39,
   "metadata": {
    "collapsed": false
   },
   "outputs": [
    {
     "data": {
      "text/plain": [
       "0.4"
      ]
     },
     "execution_count": 39,
     "metadata": {},
     "output_type": "execute_result"
    }
   ],
   "source": [
    "def uniform_cdf(x):\n",
    "    \"\"\" returns the probability that a uniform random variable is <= x \"\"\"\n",
    "    if x < 0:\n",
    "        return 0  # uniform random is never less than 0 \n",
    "    elif x < 1:\n",
    "        return x  # e.g. P(X <= 0.4) = 0.4 \n",
    "    else:\n",
    "        return 1  # uniform random is always less than 1\n",
    "    \n",
    "uniform_cdf(0.4)"
   ]
  },
  {
   "cell_type": "markdown",
   "metadata": {},
   "source": [
    "Now let's plot the cumulative distribution function for the uniform distribution:"
   ]
  },
  {
   "cell_type": "code",
   "execution_count": 40,
   "metadata": {
    "collapsed": false
   },
   "outputs": [],
   "source": [
    "def normal_cdf(x, mu=0, sigma=1):\n",
    "    return (1 + math.erf((x - mu) / math.sqrt(2) / sigma)) / 2"
   ]
  },
  {
   "cell_type": "code",
   "execution_count": 41,
   "metadata": {
    "collapsed": false
   },
   "outputs": [
    {
     "data": {
      "image/png": "[encoded data removed]",
      "text/plain": [
       "<matplotlib.figure.Figure at 0x105351190>"
      ]
     },
     "metadata": {},
     "output_type": "display_data"
    }
   ],
   "source": [
    "def plot_normal_cdfs(plt):\n",
    "    xs = [x / 10.0 for x in range(-50, 50)]\n",
    "    plt.plot(xs,[normal_cdf(x,sigma=1) for x in xs],'-',label='mu=0,sigma=1')\n",
    "    plt.plot(xs,[normal_cdf(x,sigma=2) for x in xs],'--',label='mu=0,sigma=2')\n",
    "    plt.plot(xs,[normal_cdf(x,sigma=0.5) for x in xs],':',label='mu=0,sigma=0.5')\n",
    "    plt.plot(xs,[normal_cdf(x,mu=-1) for x in xs],'-.',label='mu=-1,sigma=1')\n",
    "    plt.legend(loc=4) # bottom right\n",
    "    plt.show()\n",
    "    \n",
    "plot_normal_cdfs(plt)"
   ]
  },
  {
   "cell_type": "code",
   "execution_count": null,
   "metadata": {
    "collapsed": true
   },
   "outputs": [],
   "source": []
  }
 ],
 "metadata": {
  "kernelspec": {
   "display_name": "Python 2",
   "language": "python",
   "name": "python2"
  },
  "language_info": {
   "codemirror_mode": {
    "name": "ipython",
    "version": 2
   },
   "file_extension": ".py",
   "mimetype": "text/x-python",
   "name": "python",
   "nbconvert_exporter": "python",
   "pygments_lexer": "ipython2",
   "version": "2.7.12"
  }
 },
 "nbformat": 4,
 "nbformat_minor": 1
}
