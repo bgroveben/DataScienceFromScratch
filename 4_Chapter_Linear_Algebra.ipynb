{
 "cells": [
  {
   "cell_type": "markdown",
   "metadata": {},
   "source": [
    "# Chapter 4. Linear Algebra"
   ]
  },
  {
   "cell_type": "markdown",
   "metadata": {},
   "source": [
    "Linear algebra is the branch of mathematics that deals with vector spaces.  \n",
    "Intimidated? Go to [Khan Academy](https://www.khanacademy.org/math/linear-algebra) for some lessons."
   ]
  },
  {
   "cell_type": "markdown",
   "metadata": {},
   "source": [
    "## Vectors"
   ]
  },
  {
   "cell_type": "code",
   "execution_count": 97,
   "metadata": {
    "collapsed": false
   },
   "outputs": [
    {
     "data": {
      "text/plain": [
       "[70, 170, 40]"
      ]
     },
     "execution_count": 97,
     "metadata": {},
     "output_type": "execute_result"
    }
   ],
   "source": [
    "# a three-dimensional vector:\n",
    "height_weight_age = [70,   # inches\n",
    "                     170,  # pounds,\n",
    "                     40,]  # years\n",
    "height_weight_age"
   ]
  },
  {
   "cell_type": "code",
   "execution_count": 98,
   "metadata": {
    "collapsed": false
   },
   "outputs": [
    {
     "data": {
      "text/plain": [
       "[95, 80, 75, 62]"
      ]
     },
     "execution_count": 98,
     "metadata": {},
     "output_type": "execute_result"
    }
   ],
   "source": [
    "# a four-dimensional vector:\n",
    "grades = [95,   # exam1\n",
    "          80,   # exam2\n",
    "          75,   # exam3\n",
    "          62,]  # exam4\n",
    "grades"
   ]
  },
  {
   "cell_type": "markdown",
   "metadata": {},
   "source": [
    "Python lists are <em>not</em> vectors!"
   ]
  },
  {
   "cell_type": "code",
   "execution_count": 99,
   "metadata": {
    "collapsed": false
   },
   "outputs": [
    {
     "data": {
      "text/plain": [
       "[1, 2, 2, 1]"
      ]
     },
     "execution_count": 99,
     "metadata": {},
     "output_type": "execute_result"
    }
   ],
   "source": [
    "v = [1, 2]\n",
    "w = [2, 1]\n",
    "v + w  # Python will concatenate these two lists"
   ]
  },
  {
   "cell_type": "markdown",
   "metadata": {},
   "source": [
    "###  Vector Addition and Subtraction"
   ]
  },
  {
   "cell_type": "markdown",
   "metadata": {},
   "source": [
    "Vectors add componentwise.  \n",
    "Assuming that vectors <code>v</code> and <code>w</code> are the same length, their sum is a vector whose first element is v[0] + w[0], second element is v[1] + w[1], and so on."
   ]
  },
  {
   "cell_type": "code",
   "execution_count": 100,
   "metadata": {
    "collapsed": false
   },
   "outputs": [
    {
     "data": {
      "text/plain": [
       "[3, 3]"
      ]
     },
     "execution_count": 100,
     "metadata": {},
     "output_type": "execute_result"
    }
   ],
   "source": [
    "# We can add vectors by zip-ing the vectors together and using a list comprehension to add the elements\n",
    "v = [1, 2]\n",
    "w = [2, 1]\n",
    "def vector_add(v, w):\n",
    "    \"\"\" adds corresponding elements \"\"\"\n",
    "    return [v_i + w_i for v_i, w_i in zip(v, w)]\n",
    "\n",
    "vector_add(v, w)"
   ]
  },
  {
   "cell_type": "code",
   "execution_count": 101,
   "metadata": {
    "collapsed": false
   },
   "outputs": [
    {
     "data": {
      "text/plain": [
       "[-1, 1]"
      ]
     },
     "execution_count": 101,
     "metadata": {},
     "output_type": "execute_result"
    }
   ],
   "source": [
    "# We can subtract two vectors by subtracting the corresponding elements\n",
    "def vector_subtract(v, w):\n",
    "    \"\"\" subtracts corresponding elements \"\"\"\n",
    "    return [v_i - w_i for v_i, w_i in zip(v, w)]\n",
    "\n",
    "vector_subtract(v, w)"
   ]
  },
  {
   "cell_type": "markdown",
   "metadata": {},
   "source": [
    "Neat, huh?  \n",
    "Here let's sum a list of vectors componentwise.  \n",
    "We will create a new vector whose first element is the sum of all first elements, second element is the sum of all second elements, and so on."
   ]
  },
  {
   "cell_type": "code",
   "execution_count": 102,
   "metadata": {
    "collapsed": false
   },
   "outputs": [
    {
     "data": {
      "text/plain": [
       "[12, 15, 18]"
      ]
     },
     "execution_count": 102,
     "metadata": {},
     "output_type": "execute_result"
    }
   ],
   "source": [
    "# The easiest way to do this is by adding one vector at a time\n",
    "vectors = [[1,2,3],\n",
    "           [4,5,6],\n",
    "           [7,8,9]]\n",
    "\n",
    "def vector_sum(vectors):\n",
    "    \"\"\" sums all corresponding elements \"\"\"\n",
    "    result = vectors[0]                      # start with the first vector \n",
    "    for vector in vectors[1:]:               # then loop over the others\n",
    "        result = vector_add(result, vector)  # and add them to the result\n",
    "    return result\n",
    "\n",
    "vector_sum(vectors)"
   ]
  },
  {
   "cell_type": "markdown",
   "metadata": {},
   "source": [
    "If you think about it, we are just <code>reduce</code>-ing the list of vectors using <code>vector-add</code>, which means we can rewrite this more briefly using higher order functions:"
   ]
  },
  {
   "cell_type": "code",
   "execution_count": 103,
   "metadata": {
    "collapsed": false
   },
   "outputs": [
    {
     "data": {
      "text/plain": [
       "[12, 15, 18]"
      ]
     },
     "execution_count": 103,
     "metadata": {},
     "output_type": "execute_result"
    }
   ],
   "source": [
    "def vector_sum(vectors):\n",
    "    return reduce(vector_add, vectors)\n",
    "\n",
    "vector_sum(vectors)"
   ]
  },
  {
   "cell_type": "markdown",
   "metadata": {},
   "source": [
    "or even:"
   ]
  },
  {
   "cell_type": "code",
   "execution_count": 104,
   "metadata": {
    "collapsed": false
   },
   "outputs": [
    {
     "data": {
      "text/plain": [
       "[12, 15, 18]"
      ]
     },
     "execution_count": 104,
     "metadata": {},
     "output_type": "execute_result"
    }
   ],
   "source": [
    "from functools import partial\n",
    "# this is probably more clever than helpful, but for demonstrative purposes...\n",
    "vector_sum = partial(reduce, vector_add)\n",
    "vector_sum(vectors)"
   ]
  },
  {
   "cell_type": "markdown",
   "metadata": {},
   "source": [
    "### Vector Multiplication"
   ]
  },
  {
   "cell_type": "markdown",
   "metadata": {},
   "source": [
    "We can multiply a vector by a scalar by multiplying each element of the vector by that number."
   ]
  },
  {
   "cell_type": "code",
   "execution_count": 105,
   "metadata": {
    "collapsed": false
   },
   "outputs": [
    {
     "data": {
      "text/plain": [
       "[2, 4, 6, 8]"
      ]
     },
     "execution_count": 105,
     "metadata": {},
     "output_type": "execute_result"
    }
   ],
   "source": [
    "c = 2\n",
    "v = [1,2,3,4]\n",
    "\n",
    "def scalar_multiply(c, v):\n",
    "    \"\"\" c is a number, v is a vector \"\"\"\n",
    "    return [c * v_i for v_i in v]\n",
    "\n",
    "scalar_multiply(c,v)"
   ]
  },
  {
   "cell_type": "markdown",
   "metadata": {},
   "source": [
    "Now we can compute the componentwise means of a list of vectors.  \n",
    "Again, the vectors must be the same size(length)."
   ]
  },
  {
   "cell_type": "code",
   "execution_count": 106,
   "metadata": {
    "collapsed": false
   },
   "outputs": [
    {
     "data": {
      "text/plain": [
       "[4.0, 5.0, 6.0]"
      ]
     },
     "execution_count": 106,
     "metadata": {},
     "output_type": "execute_result"
    }
   ],
   "source": [
    "vectors = [[1,2,3],\n",
    "           [4,5,6],\n",
    "           [7,8,9]]\n",
    "\n",
    "def vector_mean(vectors):\n",
    "    \"\"\" compute the vector whose ith element is the mean of the ith element of the input vectors \"\"\"\n",
    "    n = len(vectors)\n",
    "    return scalar_multiply(1/n, vector_sum(vectors))\n",
    "\n",
    "vector_mean(vectors)"
   ]
  },
  {
   "cell_type": "markdown",
   "metadata": {},
   "source": [
    "The dot product of two vectors is the sum of their componentwise products.  \n",
    "In other words, the dot product measures how far the vector <code>v</code> extends in the <code>w</code> direction.  \n",
    "In other words, it's the length of the vector you would get if you <em>projected</em> <code>v</code> onto <code>w</code>."
   ]
  },
  {
   "cell_type": "code",
   "execution_count": 107,
   "metadata": {
    "collapsed": false
   },
   "outputs": [
    {
     "data": {
      "text/plain": [
       "32"
      ]
     },
     "execution_count": 107,
     "metadata": {},
     "output_type": "execute_result"
    }
   ],
   "source": [
    "v = [1,2,3]\n",
    "w = [4,5,6]\n",
    "\n",
    "def dot(v, w):\n",
    "    \"\"\" v_1 * w_1 + ... + v_n * w_n \"\"\"\n",
    "    return sum(v_i * w_i for v_i, w_i in zip(v, w))\n",
    "\n",
    "dot(v, w)"
   ]
  },
  {
   "cell_type": "markdown",
   "metadata": {},
   "source": [
    "You can then use dot product to compute a vector's <em>sum of squares<em>."
   ]
  },
  {
   "cell_type": "code",
   "execution_count": 108,
   "metadata": {
    "collapsed": false
   },
   "outputs": [
    {
     "data": {
      "text/plain": [
       "14"
      ]
     },
     "execution_count": 108,
     "metadata": {},
     "output_type": "execute_result"
    }
   ],
   "source": [
    "def sum_of_squares(v):\n",
    "    \"\"\" v_1 * v_1 + ... + v_n * v_n \"\"\"\n",
    "    return dot(v, v)\n",
    "\n",
    "sum_of_squares(v)"
   ]
  },
  {
   "cell_type": "markdown",
   "metadata": {},
   "source": [
    "Now we can compute a vector's <em>magnitude</em> (aka length from tail to tip).  \n",
    "[Khan Academy](https://www.khanacademy.org/math/precalculus/vectors-precalc/magnitude-vectors/v/finding-vector-magnitude-from-components) has a good explanation."
   ]
  },
  {
   "cell_type": "code",
   "execution_count": 109,
   "metadata": {
    "collapsed": false
   },
   "outputs": [
    {
     "data": {
      "text/plain": [
       "3.7416573867739413"
      ]
     },
     "execution_count": 109,
     "metadata": {},
     "output_type": "execute_result"
    }
   ],
   "source": [
    "import math\n",
    "\n",
    "def magnitude(v):\n",
    "    return math.sqrt(sum_of_squares(v))  # math.sqrt == square root\n",
    "\n",
    "magnitude(v)"
   ]
  },
  {
   "cell_type": "markdown",
   "metadata": {},
   "source": [
    "Now we have all of the pieces we need to compute the distance between two vectors, defined as:  \n",
    "\n",
    "$\\sqrt{(v_1 - w_1)^2 +\\;...\\;+ (v_n - w_n)^2}$"
   ]
  },
  {
   "cell_type": "code",
   "execution_count": 110,
   "metadata": {
    "collapsed": false
   },
   "outputs": [
    {
     "name": "stdout",
     "output_type": "stream",
     "text": [
      "Squared distance is 27\n"
     ]
    },
    {
     "data": {
      "text/plain": [
       "5.196152422706632"
      ]
     },
     "execution_count": 110,
     "metadata": {},
     "output_type": "execute_result"
    }
   ],
   "source": [
    "v = [1,2,3]\n",
    "w = [4,5,6]\n",
    "\n",
    "def squared_distance(v, w):\n",
    "    \"\"\" (v_1 - w_1) ** 2 + ... + (v_n - w_n) ** 2 \"\"\"\n",
    "    return sum_of_squares(vector_subtract(v, w))\n",
    "\n",
    "print(\"Squared distance is \" + str(squared_distance(v, w)))\n",
    "\n",
    "def distance(v, w):\n",
    "    return math.sqrt(squared_distance(v, w))\n",
    "\n",
    "distance(v, w)"
   ]
  },
  {
   "cell_type": "markdown",
   "metadata": {},
   "source": [
    "That might be expressed a bit more succinctly as:"
   ]
  },
  {
   "cell_type": "code",
   "execution_count": 111,
   "metadata": {
    "collapsed": false
   },
   "outputs": [
    {
     "data": {
      "text/plain": [
       "5.196152422706632"
      ]
     },
     "execution_count": 111,
     "metadata": {},
     "output_type": "execute_result"
    }
   ],
   "source": [
    "def distance(v, w):\n",
    "    return magnitude(vector_subtract(v, w))\n",
    "\n",
    "distance(v, w)"
   ]
  },
  {
   "cell_type": "markdown",
   "metadata": {},
   "source": [
    "NOTE:  \n",
    "Using lists as vectors is great for exposition but terrible for performance.  \n",
    "In production code, you would want to use the NumPy library, which includes a high-performance array class with all sorts of arithmetic operations included."
   ]
  },
  {
   "cell_type": "markdown",
   "metadata": {},
   "source": [
    "## Matrices"
   ]
  },
  {
   "cell_type": "code",
   "execution_count": null,
   "metadata": {
    "collapsed": true
   },
   "outputs": [],
   "source": []
  }
 ],
 "metadata": {
  "kernelspec": {
   "display_name": "Python 2",
   "language": "python",
   "name": "python2"
  },
  "language_info": {
   "codemirror_mode": {
    "name": "ipython",
    "version": 2
   },
   "file_extension": ".py",
   "mimetype": "text/x-python",
   "name": "python",
   "nbconvert_exporter": "python",
   "pygments_lexer": "ipython2",
   "version": "2.7.12"
  }
 },
 "nbformat": 4,
 "nbformat_minor": 1
}
