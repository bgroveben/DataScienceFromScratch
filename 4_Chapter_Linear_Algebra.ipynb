{
 "cells": [
  {
   "cell_type": "markdown",
   "metadata": {},
   "source": [
    "# Chapter 4. Linear Algebra"
   ]
  },
  {
   "cell_type": "markdown",
   "metadata": {},
   "source": [
    "Linear algebra is the branch of mathematics that deals with vector spaces.  \n",
    "Intimidated? Go to [Khan Academy](https://www.khanacademy.org/math/linear-algebra) for some lessons."
   ]
  },
  {
   "cell_type": "code",
   "execution_count": 126,
   "metadata": {
    "collapsed": true
   },
   "outputs": [],
   "source": [
    "from __future__ import division # want 3 / 2 == 1.5\n",
    "import re, math, random # regexes, math functions, random numbers\n",
    "import matplotlib.pyplot as plt # pyplot\n",
    "from collections import defaultdict, Counter\n",
    "from functools import partial"
   ]
  },
  {
   "cell_type": "markdown",
   "metadata": {},
   "source": [
    "## Vectors"
   ]
  },
  {
   "cell_type": "code",
   "execution_count": 127,
   "metadata": {
    "collapsed": false
   },
   "outputs": [
    {
     "data": {
      "text/plain": [
       "[70, 170, 40]"
      ]
     },
     "execution_count": 127,
     "metadata": {},
     "output_type": "execute_result"
    }
   ],
   "source": [
    "# a three-dimensional vector:\n",
    "height_weight_age = [70,   # inches\n",
    "                     170,  # pounds,\n",
    "                     40,]  # years\n",
    "height_weight_age"
   ]
  },
  {
   "cell_type": "code",
   "execution_count": 128,
   "metadata": {
    "collapsed": false
   },
   "outputs": [
    {
     "data": {
      "text/plain": [
       "[95, 80, 75, 62]"
      ]
     },
     "execution_count": 128,
     "metadata": {},
     "output_type": "execute_result"
    }
   ],
   "source": [
    "# a four-dimensional vector:\n",
    "grades = [95,   # exam1\n",
    "          80,   # exam2\n",
    "          75,   # exam3\n",
    "          62,]  # exam4\n",
    "grades"
   ]
  },
  {
   "cell_type": "markdown",
   "metadata": {},
   "source": [
    "Python lists are <em>not</em> vectors!"
   ]
  },
  {
   "cell_type": "code",
   "execution_count": 129,
   "metadata": {
    "collapsed": false
   },
   "outputs": [
    {
     "data": {
      "text/plain": [
       "[1, 2, 2, 1]"
      ]
     },
     "execution_count": 129,
     "metadata": {},
     "output_type": "execute_result"
    }
   ],
   "source": [
    "v = [1, 2]\n",
    "w = [2, 1]\n",
    "v + w  # Python will concatenate these two lists"
   ]
  },
  {
   "cell_type": "markdown",
   "metadata": {},
   "source": [
    "###  Vector Addition and Subtraction"
   ]
  },
  {
   "cell_type": "markdown",
   "metadata": {},
   "source": [
    "Vectors add componentwise.  \n",
    "Assuming that vectors <code>v</code> and <code>w</code> are the same length, their sum is a vector whose first element is v[0] + w[0], second element is v[1] + w[1], and so on."
   ]
  },
  {
   "cell_type": "code",
   "execution_count": 130,
   "metadata": {
    "collapsed": false
   },
   "outputs": [
    {
     "data": {
      "text/plain": [
       "[3, 3]"
      ]
     },
     "execution_count": 130,
     "metadata": {},
     "output_type": "execute_result"
    }
   ],
   "source": [
    "# We can add vectors by zip-ing the vectors together and using a list comprehension to add the elements\n",
    "v = [1, 2]\n",
    "w = [2, 1]\n",
    "def vector_add(v, w):\n",
    "    \"\"\" adds corresponding elements \"\"\"\n",
    "    return [v_i + w_i for v_i, w_i in zip(v, w)]\n",
    "\n",
    "vector_add(v, w)"
   ]
  },
  {
   "cell_type": "code",
   "execution_count": 131,
   "metadata": {
    "collapsed": false
   },
   "outputs": [
    {
     "data": {
      "text/plain": [
       "[-1, 1]"
      ]
     },
     "execution_count": 131,
     "metadata": {},
     "output_type": "execute_result"
    }
   ],
   "source": [
    "# We can subtract two vectors by subtracting the corresponding elements\n",
    "def vector_subtract(v, w):\n",
    "    \"\"\" subtracts corresponding elements \"\"\"\n",
    "    return [v_i - w_i for v_i, w_i in zip(v, w)]\n",
    "\n",
    "vector_subtract(v, w)"
   ]
  },
  {
   "cell_type": "markdown",
   "metadata": {},
   "source": [
    "Neat, huh?  \n",
    "Here let's sum a list of vectors componentwise.  \n",
    "We will create a new vector whose first element is the sum of all first elements, second element is the sum of all second elements, and so on."
   ]
  },
  {
   "cell_type": "code",
   "execution_count": 132,
   "metadata": {
    "collapsed": false
   },
   "outputs": [
    {
     "data": {
      "text/plain": [
       "[12, 15, 18]"
      ]
     },
     "execution_count": 132,
     "metadata": {},
     "output_type": "execute_result"
    }
   ],
   "source": [
    "# The easiest way to do this is by adding one vector at a time\n",
    "vectors = [[1,2,3],\n",
    "           [4,5,6],\n",
    "           [7,8,9]]\n",
    "\n",
    "def vector_sum(vectors):\n",
    "    \"\"\" sums all corresponding elements \"\"\"\n",
    "    result = vectors[0]                      # start with the first vector \n",
    "    for vector in vectors[1:]:               # then loop over the others\n",
    "        result = vector_add(result, vector)  # and add them to the result\n",
    "    return result\n",
    "\n",
    "vector_sum(vectors)"
   ]
  },
  {
   "cell_type": "markdown",
   "metadata": {},
   "source": [
    "If you think about it, we are just <code>reduce</code>-ing the list of vectors using <code>vector-add</code>, which means we can rewrite this more briefly using higher order functions:"
   ]
  },
  {
   "cell_type": "code",
   "execution_count": 133,
   "metadata": {
    "collapsed": false
   },
   "outputs": [
    {
     "data": {
      "text/plain": [
       "[12, 15, 18]"
      ]
     },
     "execution_count": 133,
     "metadata": {},
     "output_type": "execute_result"
    }
   ],
   "source": [
    "def vector_sum(vectors):\n",
    "    return reduce(vector_add, vectors)\n",
    "\n",
    "vector_sum(vectors)"
   ]
  },
  {
   "cell_type": "markdown",
   "metadata": {},
   "source": [
    "or even:"
   ]
  },
  {
   "cell_type": "code",
   "execution_count": 134,
   "metadata": {
    "collapsed": false
   },
   "outputs": [
    {
     "data": {
      "text/plain": [
       "[12, 15, 18]"
      ]
     },
     "execution_count": 134,
     "metadata": {},
     "output_type": "execute_result"
    }
   ],
   "source": [
    "# this is probably more clever than helpful, but for demonstrative purposes...\n",
    "vector_sum = partial(reduce, vector_add)\n",
    "vector_sum(vectors)"
   ]
  },
  {
   "cell_type": "markdown",
   "metadata": {},
   "source": [
    "### Vector Multiplication"
   ]
  },
  {
   "cell_type": "markdown",
   "metadata": {},
   "source": [
    "We can multiply a vector by a scalar by multiplying each element of the vector by that number."
   ]
  },
  {
   "cell_type": "code",
   "execution_count": 135,
   "metadata": {
    "collapsed": false
   },
   "outputs": [
    {
     "data": {
      "text/plain": [
       "[2, 4, 6, 8]"
      ]
     },
     "execution_count": 135,
     "metadata": {},
     "output_type": "execute_result"
    }
   ],
   "source": [
    "c = 2\n",
    "v = [1,2,3,4]\n",
    "\n",
    "def scalar_multiply(c, v):\n",
    "    \"\"\" c is a number, v is a vector \"\"\"\n",
    "    return [c * v_i for v_i in v]\n",
    "\n",
    "scalar_multiply(c,v)"
   ]
  },
  {
   "cell_type": "markdown",
   "metadata": {},
   "source": [
    "Now we can compute the componentwise means of a list of vectors.  \n",
    "Again, the vectors must be the same size(length)."
   ]
  },
  {
   "cell_type": "code",
   "execution_count": 136,
   "metadata": {
    "collapsed": false
   },
   "outputs": [
    {
     "data": {
      "text/plain": [
       "[4.0, 5.0, 6.0]"
      ]
     },
     "execution_count": 136,
     "metadata": {},
     "output_type": "execute_result"
    }
   ],
   "source": [
    "vectors = [[1,2,3],\n",
    "           [4,5,6],\n",
    "           [7,8,9]]\n",
    "\n",
    "def vector_mean(vectors):\n",
    "    \"\"\" compute the vector whose ith element is the mean of the ith element of the input vectors \"\"\"\n",
    "    n = len(vectors)\n",
    "    return scalar_multiply(1/n, vector_sum(vectors))\n",
    "\n",
    "vector_mean(vectors)"
   ]
  },
  {
   "cell_type": "markdown",
   "metadata": {},
   "source": [
    "The dot product of two vectors is the sum of their componentwise products.  \n",
    "In other words, the dot product measures how far the vector <code>v</code> extends in the <code>w</code> direction.  \n",
    "In other words, it's the length of the vector you would get if you <em>projected</em> <code>v</code> onto <code>w</code>."
   ]
  },
  {
   "cell_type": "code",
   "execution_count": 137,
   "metadata": {
    "collapsed": false
   },
   "outputs": [
    {
     "data": {
      "text/plain": [
       "32"
      ]
     },
     "execution_count": 137,
     "metadata": {},
     "output_type": "execute_result"
    }
   ],
   "source": [
    "v = [1,2,3]\n",
    "w = [4,5,6]\n",
    "\n",
    "def dot(v, w):\n",
    "    \"\"\" v_1 * w_1 + ... + v_n * w_n \"\"\"\n",
    "    return sum(v_i * w_i for v_i, w_i in zip(v, w))\n",
    "\n",
    "dot(v, w)"
   ]
  },
  {
   "cell_type": "markdown",
   "metadata": {},
   "source": [
    "You can then use dot product to compute a vector's <em>sum of squares<em>."
   ]
  },
  {
   "cell_type": "code",
   "execution_count": 138,
   "metadata": {
    "collapsed": false
   },
   "outputs": [
    {
     "data": {
      "text/plain": [
       "14"
      ]
     },
     "execution_count": 138,
     "metadata": {},
     "output_type": "execute_result"
    }
   ],
   "source": [
    "def sum_of_squares(v):\n",
    "    \"\"\" v_1 * v_1 + ... + v_n * v_n \"\"\"\n",
    "    return dot(v, v)\n",
    "\n",
    "sum_of_squares(v)"
   ]
  },
  {
   "cell_type": "markdown",
   "metadata": {},
   "source": [
    "Now we can compute a vector's <em>magnitude</em> (aka length from tail to tip).  \n",
    "[Khan Academy](https://www.khanacademy.org/math/precalculus/vectors-precalc/magnitude-vectors/v/finding-vector-magnitude-from-components) has a good explanation."
   ]
  },
  {
   "cell_type": "code",
   "execution_count": 139,
   "metadata": {
    "collapsed": false
   },
   "outputs": [
    {
     "data": {
      "text/plain": [
       "3.7416573867739413"
      ]
     },
     "execution_count": 139,
     "metadata": {},
     "output_type": "execute_result"
    }
   ],
   "source": [
    "def magnitude(v):\n",
    "    return math.sqrt(sum_of_squares(v))  # math.sqrt == square root\n",
    "\n",
    "magnitude(v)"
   ]
  },
  {
   "cell_type": "markdown",
   "metadata": {},
   "source": [
    "Now we have all of the pieces we need to compute the distance between two vectors, defined as:  \n",
    "\n",
    "$\\sqrt{(v_1 - w_1)^2 +\\;...\\;+ (v_n - w_n)^2}$"
   ]
  },
  {
   "cell_type": "code",
   "execution_count": 140,
   "metadata": {
    "collapsed": false
   },
   "outputs": [
    {
     "name": "stdout",
     "output_type": "stream",
     "text": [
      "Squared distance is 27\n"
     ]
    },
    {
     "data": {
      "text/plain": [
       "5.196152422706632"
      ]
     },
     "execution_count": 140,
     "metadata": {},
     "output_type": "execute_result"
    }
   ],
   "source": [
    "v = [1,2,3]\n",
    "w = [4,5,6]\n",
    "\n",
    "def squared_distance(v, w):\n",
    "    \"\"\" (v_1 - w_1) ** 2 + ... + (v_n - w_n) ** 2 \"\"\"\n",
    "    return sum_of_squares(vector_subtract(v, w))\n",
    "\n",
    "print(\"Squared distance is \" + str(squared_distance(v, w)))\n",
    "\n",
    "def distance(v, w):\n",
    "    return math.sqrt(squared_distance(v, w))\n",
    "\n",
    "distance(v, w)"
   ]
  },
  {
   "cell_type": "markdown",
   "metadata": {},
   "source": [
    "That might be expressed a bit more succinctly as:"
   ]
  },
  {
   "cell_type": "code",
   "execution_count": 141,
   "metadata": {
    "collapsed": false
   },
   "outputs": [
    {
     "data": {
      "text/plain": [
       "5.196152422706632"
      ]
     },
     "execution_count": 141,
     "metadata": {},
     "output_type": "execute_result"
    }
   ],
   "source": [
    "def distance(v, w):\n",
    "    return magnitude(vector_subtract(v, w))\n",
    "\n",
    "distance(v, w)"
   ]
  },
  {
   "cell_type": "markdown",
   "metadata": {},
   "source": [
    "NOTE:  \n",
    "Using lists as vectors is great for exposition but terrible for performance.  \n",
    "In production code, you would want to use the NumPy library, which includes a high-performance array class with all sorts of arithmetic operations included."
   ]
  },
  {
   "cell_type": "markdown",
   "metadata": {},
   "source": [
    "## Matrices"
   ]
  },
  {
   "cell_type": "markdown",
   "metadata": {
    "collapsed": true
   },
   "source": [
    "A matrix is a two-dimensional collection of numbers.  \n",
    "We will represent matrices as lists of lists, with each inner list having the same size and representing a row of the matrix."
   ]
  },
  {
   "cell_type": "code",
   "execution_count": 142,
   "metadata": {
    "collapsed": true
   },
   "outputs": [],
   "source": [
    "# A has 2 rows and 3 columns\n",
    "A = [[1, 2, 3],\n",
    "     [4, 5, 6]]\n",
    "\n",
    "# B has 3 rows and 2 columns\n",
    "B = [[1, 2],\n",
    "     [3, 4],\n",
    "     [5, 6]]"
   ]
  },
  {
   "cell_type": "markdown",
   "metadata": {},
   "source": [
    "Given this list-of-lists representation, the matrix A has len(A) rows and len(A[0]) columns, which we consider its shape:"
   ]
  },
  {
   "cell_type": "code",
   "execution_count": 143,
   "metadata": {
    "collapsed": false
   },
   "outputs": [
    {
     "data": {
      "text/plain": [
       "(2, 3)"
      ]
     },
     "execution_count": 143,
     "metadata": {},
     "output_type": "execute_result"
    }
   ],
   "source": [
    "def shape(A):\n",
    "    num_rows = len(A)\n",
    "    num_cols = len(A[0]) if A else 0  # number of elements in the first row \n",
    "    return num_rows, num_cols\n",
    "\n",
    "shape(A)"
   ]
  },
  {
   "cell_type": "markdown",
   "metadata": {},
   "source": [
    "If a matrix has n rows and k columns, we will refer to it as a <code>n x k</code> matrix, where each row is a vector of length k and each column is a vector of length n."
   ]
  },
  {
   "cell_type": "code",
   "execution_count": 144,
   "metadata": {
    "collapsed": false
   },
   "outputs": [
    {
     "data": {
      "text/plain": [
       "[1, 2, 3]"
      ]
     },
     "execution_count": 144,
     "metadata": {},
     "output_type": "execute_result"
    }
   ],
   "source": [
    "def get_row(A, i):\n",
    "    return A[i]  # A[i] is already the ith row\n",
    "\n",
    "get_row(A, 0)"
   ]
  },
  {
   "cell_type": "code",
   "execution_count": 145,
   "metadata": {
    "collapsed": false
   },
   "outputs": [
    {
     "data": {
      "text/plain": [
       "[1, 4]"
      ]
     },
     "execution_count": 145,
     "metadata": {},
     "output_type": "execute_result"
    }
   ],
   "source": [
    "def get_column(A, j):\n",
    "    return [A_i[j] for A_i in A]  # jth element of row A_i for each row A_i\n",
    "\n",
    "get_column(A, 0)"
   ]
  },
  {
   "cell_type": "markdown",
   "metadata": {},
   "source": [
    "We also want to be able to create a matrix given its shape and a function for generating it elements.  \n",
    "We can do this using a nested list comprehension:"
   ]
  },
  {
   "cell_type": "code",
   "execution_count": 146,
   "metadata": {
    "collapsed": false
   },
   "outputs": [],
   "source": [
    "def make_matrix(num_rows, num_cols, entry_fn):\n",
    "    \"\"\" returns a num_rows by num_cols matrix whose (i, j)th entry is entry_fn(i, j) \"\"\"\n",
    "    return [[entry_fn(i, j)  # given i, create a list \n",
    "            for j in range(num_cols)]  # [entry_fn(i, 0), ... ]\n",
    "            for i in range(num_rows)]  # create one list for each i"
   ]
  },
  {
   "cell_type": "markdown",
   "metadata": {},
   "source": [
    "Given this function, you can make a 5 by 5 identity matrix with:"
   ]
  },
  {
   "cell_type": "code",
   "execution_count": 147,
   "metadata": {
    "collapsed": false
   },
   "outputs": [
    {
     "data": {
      "text/plain": [
       "[[1, 0, 0, 0, 0],\n",
       " [0, 1, 0, 0, 0],\n",
       " [0, 0, 1, 0, 0],\n",
       " [0, 0, 0, 1, 0],\n",
       " [0, 0, 0, 0, 1]]"
      ]
     },
     "execution_count": 147,
     "metadata": {},
     "output_type": "execute_result"
    }
   ],
   "source": [
    "def is_diagonal(i, j):\n",
    "    \"\"\" ones on the diagonal, zeros everywhere else \"\"\"\n",
    "    return 1 if i == j else 0\n",
    "\n",
    "identity_matrix = make_matrix(5, 5, is_diagonal)\n",
    "identity_matrix"
   ]
  },
  {
   "cell_type": "markdown",
   "metadata": {},
   "source": [
    "Matrices will be important to us for several reasons:  \n",
    "1. We can use a matrix to represent a data set consisting of several multiple vectors, simply by considering each vector as a row of the matrix.  \n",
    "2. We can use an n by k matrix to represent a linear function that maps k-dimensional vectors to n-dimensional vectors.  \n",
    "3. Matrices can be used to represent binary relationships.  "
   ]
  },
  {
   "cell_type": "markdown",
   "metadata": {},
   "source": [
    "In Chapter 1, we represented the edges os a network as a collection of pairs (i, j).  \n",
    "An alternative representation would be to create a matrix A such that <code>A[i][j]</code> is 1 if nodes i and j are connected and 0 otherwise."
   ]
  },
  {
   "cell_type": "code",
   "execution_count": 148,
   "metadata": {
    "collapsed": true
   },
   "outputs": [],
   "source": [
    "# Recall that before we had:\n",
    "friendships = [(0, 1), (0, 2), (1, 2), (1, 3), (2, 3), (3, 4),\n",
    "               (4, 5), (5, 6), (5, 7), (6, 8), (7, 8), (8, 9)]\n",
    "\n",
    "# We could also represent this as:\n",
    "     #     user 0  1  2  3  4  5  6  7  8  9\n",
    "     #\n",
    "friendships = [[0, 1, 1, 0, 0, 0, 0, 0, 0, 0], # user 0\n",
    "               [1, 0, 1, 1, 0, 0, 0, 0, 0, 0], # user 1\n",
    "               [1, 1, 0, 1, 0, 0, 0, 0, 0, 0], # user 2\n",
    "               [0, 1, 1, 0, 1, 0, 0, 0, 0, 0], # user 3\n",
    "               [0, 0, 0, 1, 0, 1, 0, 0, 0, 0], # user 4\n",
    "               [0, 0, 0, 0, 1, 0, 1, 1, 0, 0], # user 5\n",
    "               [0, 0, 0, 0, 0, 1, 0, 0, 1, 0], # user 6\n",
    "               [0, 0, 0, 0, 0, 1, 0, 0, 1, 0], # user 7\n",
    "               [0, 0, 0, 0, 0, 0, 1, 1, 0, 1], # user 8\n",
    "               [0, 0, 0, 0, 0, 0, 0, 0, 1, 0]] # user 9"
   ]
  },
  {
   "cell_type": "markdown",
   "metadata": {},
   "source": [
    "If there are very few connections, this is a much more inefficient representation, since you end up having to store a lot of zeroes.  \n",
    "However, with the matrix representation it is much quicker to check whether two nodes are connected.  \n",
    "Instead of inspecting every edge, you just do a matrix lookup."
   ]
  },
  {
   "cell_type": "code",
   "execution_count": 149,
   "metadata": {
    "collapsed": false
   },
   "outputs": [
    {
     "name": "stdout",
     "output_type": "stream",
     "text": [
      "True\n",
      "False\n"
     ]
    }
   ],
   "source": [
    "print(friendships[0][2] == 1)  # True, 0 and 2 are friends \n",
    "print(friendships[0][8] == 1)  # False, 0 and 8 are not friends"
   ]
  },
  {
   "cell_type": "markdown",
   "metadata": {},
   "source": [
    "Similarly, to find the connections a node has, you only need to inspect the column (or row) corresponding to that node:"
   ]
  },
  {
   "cell_type": "code",
   "execution_count": 150,
   "metadata": {
    "collapsed": false
   },
   "outputs": [
    {
     "data": {
      "text/plain": [
       "[4, 6, 7]"
      ]
     },
     "execution_count": 150,
     "metadata": {},
     "output_type": "execute_result"
    }
   ],
   "source": [
    "# we only need to look at one row to find five's friends\n",
    "friends_of_five = [i for i, is_friend in enumerate(friendships[5]) if is_friend]\n",
    "friends_of_five"
   ]
  },
  {
   "cell_type": "markdown",
   "metadata": {},
   "source": [
    "NOTE:  \n",
    "All of the machinery we built here you get for free if you use [NumPy](http://www.numpy.org/). (You get a lot more too.) "
   ]
  }
 ],
 "metadata": {
  "kernelspec": {
   "display_name": "Python 2",
   "language": "python",
   "name": "python2"
  },
  "language_info": {
   "codemirror_mode": {
    "name": "ipython",
    "version": 2
   },
   "file_extension": ".py",
   "mimetype": "text/x-python",
   "name": "python",
   "nbconvert_exporter": "python",
   "pygments_lexer": "ipython2",
   "version": "2.7.12"
  }
 },
 "nbformat": 4,
 "nbformat_minor": 1
}
